{
 "cells": [
  {
   "cell_type": "code",
   "execution_count": 26,
   "metadata": {},
   "outputs": [],
   "source": [
    "import pandas as pd  \n",
    "import matplotlib.pyplot as plt\n",
    "import numpy as np\n",
    "import matplotlib.dates as mdates\n",
    "\n",
    "import sys\n",
    "sys.path.append('..')  # Add parent directory to Python path\n",
    "from utils.Preprocessing import *"
   ]
  },
  {
   "cell_type": "code",
   "execution_count": 28,
   "metadata": {},
   "outputs": [],
   "source": [
    "# Load the ESP1 Data\n",
    "# df_one= pd.read_csv('../data/handlebar/Accelerometer_data_merged_ESP1.csv')  \n",
    "# missing_info = handle_missing_values_length_index(df_one)\n",
    "# print(missing_info)\n",
    "# output = '../data/handlebar/Accelerometer_data_merged_ESP1_filled_missing_values.csv'\n",
    "# fill_missing_values(df_one, output)\n",
    "# missing_info = handle_missing_values_length_index(df_one)\n",
    "# print(missing_info)\n",
    "# #random check\n",
    "# df_one.iloc[21966 -5:21966 +5]\n",
    "# df_one.iloc[432424 -5:432424 +5]\n",
    "# df_one.iloc[523137 -5:523137 +5]\n",
    "\n"
   ]
  },
  {
   "cell_type": "code",
   "execution_count": 29,
   "metadata": {},
   "outputs": [],
   "source": [
    "# Load the ESP2 Data\n",
    "# df_two= pd.read_csv('../data/handlebar/Accelerometer_data_merged_ESP2.csv')  \n",
    "# missing_info = handle_missing_values_length_index(df_two)\n",
    "# print(missing_info)\n",
    "# #handle missing value for each file, and delete if too long\n",
    "# # df_one['NTP'] = pd.to_datetime(df_one['NTP'])\n",
    "# # # Set 'NTP' as the DataFrame index\n",
    "# # df_one.set_index('NTP', inplace=True, drop=True)\n",
    "# output = '../data/handlebar/Accelerometer_data_merged_ESP2_filled_missing_values.csv'\n",
    "# fill_missing_values(df_two,output)\n",
    "# missing_info = handle_missing_values_length_index(df_two)\n",
    "# print(missing_info)\n"
   ]
  },
  {
   "cell_type": "code",
   "execution_count": null,
   "metadata": {},
   "outputs": [
    {
     "data": {
      "text/html": [
       "<div>\n",
       "<style scoped>\n",
       "    .dataframe tbody tr th:only-of-type {\n",
       "        vertical-align: middle;\n",
       "    }\n",
       "\n",
       "    .dataframe tbody tr th {\n",
       "        vertical-align: top;\n",
       "    }\n",
       "\n",
       "    .dataframe thead th {\n",
       "        text-align: right;\n",
       "    }\n",
       "</style>\n",
       "<table border=\"1\" class=\"dataframe\">\n",
       "  <thead>\n",
       "    <tr style=\"text-align: right;\">\n",
       "      <th></th>\n",
       "      <th>Unnamed: 0</th>\n",
       "      <th>NTP</th>\n",
       "      <th>Acc-X</th>\n",
       "      <th>Acc-Y</th>\n",
       "      <th>Acc-Z</th>\n",
       "      <th>Timestamp_unix</th>\n",
       "      <th>curb_activity</th>\n",
       "      <th>curb_scene</th>\n",
       "      <th>curb_height_down</th>\n",
       "      <th>curb_height_up</th>\n",
       "      <th>curb_type_down</th>\n",
       "      <th>curb_type_up</th>\n",
       "      <th>roughness</th>\n",
       "    </tr>\n",
       "  </thead>\n",
       "  <tbody>\n",
       "    <tr>\n",
       "      <th>0</th>\n",
       "      <td>0</td>\n",
       "      <td>2024-07-24 10:26:01.863</td>\n",
       "      <td>1.417374</td>\n",
       "      <td>4.161118</td>\n",
       "      <td>8.762772</td>\n",
       "      <td>1.721817e+12</td>\n",
       "      <td>1.0</td>\n",
       "      <td>0.0</td>\n",
       "      <td>1.0</td>\n",
       "      <td>3.0</td>\n",
       "      <td>1.0</td>\n",
       "      <td>2.0</td>\n",
       "      <td>-1.0</td>\n",
       "    </tr>\n",
       "    <tr>\n",
       "      <th>1</th>\n",
       "      <td>1</td>\n",
       "      <td>2024-07-24 10:26:01.867</td>\n",
       "      <td>1.393433</td>\n",
       "      <td>4.161118</td>\n",
       "      <td>8.753204</td>\n",
       "      <td>1.721817e+12</td>\n",
       "      <td>1.0</td>\n",
       "      <td>0.0</td>\n",
       "      <td>1.0</td>\n",
       "      <td>3.0</td>\n",
       "      <td>1.0</td>\n",
       "      <td>2.0</td>\n",
       "      <td>-1.0</td>\n",
       "    </tr>\n",
       "    <tr>\n",
       "      <th>2</th>\n",
       "      <td>2</td>\n",
       "      <td>2024-07-24 10:26:01.872</td>\n",
       "      <td>1.407791</td>\n",
       "      <td>4.165909</td>\n",
       "      <td>8.762772</td>\n",
       "      <td>1.721817e+12</td>\n",
       "      <td>1.0</td>\n",
       "      <td>0.0</td>\n",
       "      <td>1.0</td>\n",
       "      <td>3.0</td>\n",
       "      <td>1.0</td>\n",
       "      <td>2.0</td>\n",
       "      <td>-1.0</td>\n",
       "    </tr>\n",
       "    <tr>\n",
       "      <th>3</th>\n",
       "      <td>3</td>\n",
       "      <td>2024-07-24 10:26:01.877</td>\n",
       "      <td>1.446091</td>\n",
       "      <td>4.170700</td>\n",
       "      <td>8.781937</td>\n",
       "      <td>1.721817e+12</td>\n",
       "      <td>1.0</td>\n",
       "      <td>0.0</td>\n",
       "      <td>1.0</td>\n",
       "      <td>3.0</td>\n",
       "      <td>1.0</td>\n",
       "      <td>2.0</td>\n",
       "      <td>-1.0</td>\n",
       "    </tr>\n",
       "    <tr>\n",
       "      <th>4</th>\n",
       "      <td>4</td>\n",
       "      <td>2024-07-24 10:26:01.884</td>\n",
       "      <td>1.417374</td>\n",
       "      <td>4.175491</td>\n",
       "      <td>8.753204</td>\n",
       "      <td>1.721817e+12</td>\n",
       "      <td>1.0</td>\n",
       "      <td>0.0</td>\n",
       "      <td>1.0</td>\n",
       "      <td>3.0</td>\n",
       "      <td>1.0</td>\n",
       "      <td>2.0</td>\n",
       "      <td>-1.0</td>\n",
       "    </tr>\n",
       "  </tbody>\n",
       "</table>\n",
       "</div>"
      ],
      "text/plain": [
       "   Unnamed: 0                      NTP     Acc-X     Acc-Y     Acc-Z  \\\n",
       "0           0  2024-07-24 10:26:01.863  1.417374  4.161118  8.762772   \n",
       "1           1  2024-07-24 10:26:01.867  1.393433  4.161118  8.753204   \n",
       "2           2  2024-07-24 10:26:01.872  1.407791  4.165909  8.762772   \n",
       "3           3  2024-07-24 10:26:01.877  1.446091  4.170700  8.781937   \n",
       "4           4  2024-07-24 10:26:01.884  1.417374  4.175491  8.753204   \n",
       "\n",
       "   Timestamp_unix  curb_activity  curb_scene  curb_height_down  \\\n",
       "0    1.721817e+12            1.0         0.0               1.0   \n",
       "1    1.721817e+12            1.0         0.0               1.0   \n",
       "2    1.721817e+12            1.0         0.0               1.0   \n",
       "3    1.721817e+12            1.0         0.0               1.0   \n",
       "4    1.721817e+12            1.0         0.0               1.0   \n",
       "\n",
       "   curb_height_up  curb_type_down  curb_type_up  roughness  \n",
       "0             3.0             1.0           2.0       -1.0  \n",
       "1             3.0             1.0           2.0       -1.0  \n",
       "2             3.0             1.0           2.0       -1.0  \n",
       "3             3.0             1.0           2.0       -1.0  \n",
       "4             3.0             1.0           2.0       -1.0  "
      ]
     },
     "execution_count": 52,
     "metadata": {},
     "output_type": "execute_result"
    }
   ],
   "source": [
    "\n"
   ]
  },
  {
   "cell_type": "code",
   "execution_count": null,
   "metadata": {},
   "outputs": [
    {
     "ename": "AttributeError",
     "evalue": "'NoneType' object has no attribute 'shape'",
     "output_type": "error",
     "traceback": [
      "\u001b[1;31m---------------------------------------------------------------------------\u001b[0m",
      "\u001b[1;31mAttributeError\u001b[0m                            Traceback (most recent call last)",
      "Cell \u001b[1;32mIn[66], line 6\u001b[0m\n\u001b[0;32m      4\u001b[0m df_two\u001b[38;5;241m=\u001b[39m pd\u001b[38;5;241m.\u001b[39mread_csv(\u001b[38;5;124m'\u001b[39m\u001b[38;5;124m../data/handlebar/Accelerometer_data_merged_ESP2_filled_missing_values.csv\u001b[39m\u001b[38;5;124m'\u001b[39m)\n\u001b[0;32m      5\u001b[0m df_combined \u001b[38;5;241m=\u001b[39m combine_activities(df_one,df_two,output)\n\u001b[1;32m----> 6\u001b[0m \u001b[43mdf_combined\u001b[49m\u001b[38;5;241;43m.\u001b[39;49m\u001b[43mshape\u001b[49m\n",
      "\u001b[1;31mAttributeError\u001b[0m: 'NoneType' object has no attribute 'shape'"
     ]
    }
   ],
   "source": [
    "# Use the function\n",
    "output = '../data/handlebar/Accelerometer_data_combined.csv'\n",
    "df_one= pd.read_csv('../data/handlebar/Accelerometer_data_merged_ESP1_filled_missing_values.csv')\n",
    "df_two= pd.read_csv('../data/handlebar/Accelerometer_data_merged_ESP2_filled_missing_values.csv')\n",
    "df_combined = combine_activities(df_one,df_two,output)"
   ]
  },
  {
   "cell_type": "code",
   "execution_count": null,
   "metadata": {},
   "outputs": [
    {
     "ename": "AttributeError",
     "evalue": "'NoneType' object has no attribute 'shape'",
     "output_type": "error",
     "traceback": [
      "\u001b[1;31m---------------------------------------------------------------------------\u001b[0m",
      "\u001b[1;31mAttributeError\u001b[0m                            Traceback (most recent call last)",
      "Cell \u001b[1;32mIn[65], line 1\u001b[0m\n\u001b[1;32m----> 1\u001b[0m \u001b[43mdf_combined\u001b[49m\u001b[38;5;241;43m.\u001b[39;49m\u001b[43mshape\u001b[49m\n",
      "\u001b[1;31mAttributeError\u001b[0m: 'NoneType' object has no attribute 'shape'"
     ]
    }
   ],
   "source": []
  },
  {
   "cell_type": "markdown",
   "metadata": {},
   "source": []
  },
  {
   "cell_type": "code",
   "execution_count": null,
   "metadata": {},
   "outputs": [],
   "source": []
  }
 ],
 "metadata": {
  "kernelspec": {
   "display_name": "Python 3",
   "language": "python",
   "name": "python3"
  },
  "language_info": {
   "codemirror_mode": {
    "name": "ipython",
    "version": 3
   },
   "file_extension": ".py",
   "mimetype": "text/x-python",
   "name": "python",
   "nbconvert_exporter": "python",
   "pygments_lexer": "ipython3",
   "version": "3.12.3"
  }
 },
 "nbformat": 4,
 "nbformat_minor": 2
}
