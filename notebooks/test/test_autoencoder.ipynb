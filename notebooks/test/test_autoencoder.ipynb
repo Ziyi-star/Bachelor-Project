{
 "cells": [
  {
   "cell_type": "markdown",
   "id": "a7457253",
   "metadata": {},
   "source": [
    "# Field Validation"
   ]
  },
  {
   "cell_type": "code",
   "execution_count": 10,
   "id": "ddb65534",
   "metadata": {},
   "outputs": [],
   "source": [
    "import pandas as pd #reading dataset\n",
    "import matplotlib as mpl    #plotting, visualization\n",
    "import matplotlib.pyplot as plt\n",
    "import tensorflow as tf #building model\n",
    "from tensorflow.keras.models import Model\n",
    "import numpy as np  #playing output with model\n",
    "from sklearn.preprocessing import StandardScaler\n",
    "from sklearn.metrics import confusion_matrix, classification_report\n",
    "import joblib  \n",
    "import json\n",
    "\n",
    "import sys\n",
    "sys.path.append('../../')   # Add parent directory to Python path\n",
    "from utils.Preprocessing import *\n",
    "from utils.Segmentation import *\n"
   ]
  },
  {
   "cell_type": "code",
   "execution_count": 11,
   "id": "66913129",
   "metadata": {},
   "outputs": [
    {
     "data": {
      "text/html": [
       "<div>\n",
       "<style scoped>\n",
       "    .dataframe tbody tr th:only-of-type {\n",
       "        vertical-align: middle;\n",
       "    }\n",
       "\n",
       "    .dataframe tbody tr th {\n",
       "        vertical-align: top;\n",
       "    }\n",
       "\n",
       "    .dataframe thead th {\n",
       "        text-align: right;\n",
       "    }\n",
       "</style>\n",
       "<table border=\"1\" class=\"dataframe\">\n",
       "  <thead>\n",
       "    <tr style=\"text-align: right;\">\n",
       "      <th></th>\n",
       "      <th>curb_scene</th>\n",
       "      <th>start_time</th>\n",
       "      <th>end_time</th>\n",
       "      <th>Acc-Z_1</th>\n",
       "      <th>Acc-Z_2</th>\n",
       "      <th>Acc-Z_3</th>\n",
       "      <th>Acc-Z_4</th>\n",
       "      <th>Acc-Z_5</th>\n",
       "      <th>Acc-Z_6</th>\n",
       "      <th>Acc-Z_7</th>\n",
       "      <th>...</th>\n",
       "      <th>Acc-Z_91</th>\n",
       "      <th>Acc-Z_92</th>\n",
       "      <th>Acc-Z_93</th>\n",
       "      <th>Acc-Z_94</th>\n",
       "      <th>Acc-Z_95</th>\n",
       "      <th>Acc-Z_96</th>\n",
       "      <th>Acc-Z_97</th>\n",
       "      <th>Acc-Z_98</th>\n",
       "      <th>Acc-Z_99</th>\n",
       "      <th>Acc-Z_100</th>\n",
       "    </tr>\n",
       "  </thead>\n",
       "  <tbody>\n",
       "    <tr>\n",
       "      <th>0</th>\n",
       "      <td>0</td>\n",
       "      <td>2025-03-28 16:00:48.289</td>\n",
       "      <td>2025-03-28 16:00:48.780</td>\n",
       "      <td>8.374924</td>\n",
       "      <td>8.274368</td>\n",
       "      <td>7.814682</td>\n",
       "      <td>8.034943</td>\n",
       "      <td>7.891296</td>\n",
       "      <td>8.073242</td>\n",
       "      <td>8.173798</td>\n",
       "      <td>...</td>\n",
       "      <td>8.078033</td>\n",
       "      <td>8.020569</td>\n",
       "      <td>8.011002</td>\n",
       "      <td>8.078033</td>\n",
       "      <td>8.020569</td>\n",
       "      <td>8.020569</td>\n",
       "      <td>7.953537</td>\n",
       "      <td>7.991852</td>\n",
       "      <td>8.087616</td>\n",
       "      <td>8.039734</td>\n",
       "    </tr>\n",
       "    <tr>\n",
       "      <th>1</th>\n",
       "      <td>0</td>\n",
       "      <td>2025-03-28 16:00:48.785</td>\n",
       "      <td>2025-03-28 16:00:49.277</td>\n",
       "      <td>8.030151</td>\n",
       "      <td>7.977478</td>\n",
       "      <td>8.020569</td>\n",
       "      <td>8.054092</td>\n",
       "      <td>8.020569</td>\n",
       "      <td>8.020569</td>\n",
       "      <td>7.987061</td>\n",
       "      <td>...</td>\n",
       "      <td>7.441177</td>\n",
       "      <td>7.259216</td>\n",
       "      <td>7.584824</td>\n",
       "      <td>7.536942</td>\n",
       "      <td>7.278366</td>\n",
       "      <td>7.254425</td>\n",
       "      <td>7.503433</td>\n",
       "      <td>7.704544</td>\n",
       "      <td>7.781158</td>\n",
       "      <td>7.742844</td>\n",
       "    </tr>\n",
       "    <tr>\n",
       "      <th>2</th>\n",
       "      <td>0</td>\n",
       "      <td>2025-03-28 16:00:49.284</td>\n",
       "      <td>2025-03-28 16:00:49.773</td>\n",
       "      <td>7.517792</td>\n",
       "      <td>7.723694</td>\n",
       "      <td>7.939178</td>\n",
       "      <td>7.718903</td>\n",
       "      <td>7.733276</td>\n",
       "      <td>7.508209</td>\n",
       "      <td>7.498642</td>\n",
       "      <td>...</td>\n",
       "      <td>6.689407</td>\n",
       "      <td>6.689407</td>\n",
       "      <td>6.459549</td>\n",
       "      <td>6.234497</td>\n",
       "      <td>5.750870</td>\n",
       "      <td>5.477936</td>\n",
       "      <td>5.722137</td>\n",
       "      <td>6.766022</td>\n",
       "      <td>7.991852</td>\n",
       "      <td>8.384491</td>\n",
       "    </tr>\n",
       "    <tr>\n",
       "      <th>3</th>\n",
       "      <td>0</td>\n",
       "      <td>2025-03-28 16:00:49.778</td>\n",
       "      <td>2025-03-28 16:00:50.270</td>\n",
       "      <td>8.633499</td>\n",
       "      <td>9.428360</td>\n",
       "      <td>10.046066</td>\n",
       "      <td>8.925583</td>\n",
       "      <td>7.010223</td>\n",
       "      <td>7.082046</td>\n",
       "      <td>6.885727</td>\n",
       "      <td>...</td>\n",
       "      <td>6.689407</td>\n",
       "      <td>8.609543</td>\n",
       "      <td>9.916779</td>\n",
       "      <td>8.930374</td>\n",
       "      <td>8.427597</td>\n",
       "      <td>8.173798</td>\n",
       "      <td>8.384491</td>\n",
       "      <td>7.412445</td>\n",
       "      <td>7.776367</td>\n",
       "      <td>8.011002</td>\n",
       "    </tr>\n",
       "    <tr>\n",
       "      <th>4</th>\n",
       "      <td>0</td>\n",
       "      <td>2025-03-28 16:00:50.275</td>\n",
       "      <td>2025-03-28 16:00:50.766</td>\n",
       "      <td>10.960663</td>\n",
       "      <td>10.577591</td>\n",
       "      <td>9.801865</td>\n",
       "      <td>7.599197</td>\n",
       "      <td>6.493073</td>\n",
       "      <td>8.561661</td>\n",
       "      <td>8.892059</td>\n",
       "      <td>...</td>\n",
       "      <td>9.284714</td>\n",
       "      <td>9.232040</td>\n",
       "      <td>8.437164</td>\n",
       "      <td>8.576035</td>\n",
       "      <td>9.030930</td>\n",
       "      <td>9.514557</td>\n",
       "      <td>9.265564</td>\n",
       "      <td>9.686935</td>\n",
       "      <td>10.113113</td>\n",
       "      <td>9.428360</td>\n",
       "    </tr>\n",
       "  </tbody>\n",
       "</table>\n",
       "<p>5 rows × 103 columns</p>\n",
       "</div>"
      ],
      "text/plain": [
       "   curb_scene               start_time                 end_time    Acc-Z_1  \\\n",
       "0           0  2025-03-28 16:00:48.289  2025-03-28 16:00:48.780   8.374924   \n",
       "1           0  2025-03-28 16:00:48.785  2025-03-28 16:00:49.277   8.030151   \n",
       "2           0  2025-03-28 16:00:49.284  2025-03-28 16:00:49.773   7.517792   \n",
       "3           0  2025-03-28 16:00:49.778  2025-03-28 16:00:50.270   8.633499   \n",
       "4           0  2025-03-28 16:00:50.275  2025-03-28 16:00:50.766  10.960663   \n",
       "\n",
       "     Acc-Z_2    Acc-Z_3   Acc-Z_4   Acc-Z_5   Acc-Z_6   Acc-Z_7  ...  \\\n",
       "0   8.274368   7.814682  8.034943  7.891296  8.073242  8.173798  ...   \n",
       "1   7.977478   8.020569  8.054092  8.020569  8.020569  7.987061  ...   \n",
       "2   7.723694   7.939178  7.718903  7.733276  7.508209  7.498642  ...   \n",
       "3   9.428360  10.046066  8.925583  7.010223  7.082046  6.885727  ...   \n",
       "4  10.577591   9.801865  7.599197  6.493073  8.561661  8.892059  ...   \n",
       "\n",
       "   Acc-Z_91  Acc-Z_92  Acc-Z_93  Acc-Z_94  Acc-Z_95  Acc-Z_96  Acc-Z_97  \\\n",
       "0  8.078033  8.020569  8.011002  8.078033  8.020569  8.020569  7.953537   \n",
       "1  7.441177  7.259216  7.584824  7.536942  7.278366  7.254425  7.503433   \n",
       "2  6.689407  6.689407  6.459549  6.234497  5.750870  5.477936  5.722137   \n",
       "3  6.689407  8.609543  9.916779  8.930374  8.427597  8.173798  8.384491   \n",
       "4  9.284714  9.232040  8.437164  8.576035  9.030930  9.514557  9.265564   \n",
       "\n",
       "   Acc-Z_98   Acc-Z_99  Acc-Z_100  \n",
       "0  7.991852   8.087616   8.039734  \n",
       "1  7.704544   7.781158   7.742844  \n",
       "2  6.766022   7.991852   8.384491  \n",
       "3  7.412445   7.776367   8.011002  \n",
       "4  9.686935  10.113113   9.428360  \n",
       "\n",
       "[5 rows x 103 columns]"
      ]
     },
     "execution_count": 11,
     "metadata": {},
     "output_type": "execute_result"
    }
   ],
   "source": [
    "#load processed data\n",
    "df = pd.read_csv('../../data/test/Accelerometer_ziyi_with_curb_segmented_abnormal_gereinigt.csv')\n",
    "#df = df.drop(columns=['Unnamed: 0']) \n",
    "df.head(5)"
   ]
  },
  {
   "cell_type": "code",
   "execution_count": 12,
   "id": "f31cc29c",
   "metadata": {},
   "outputs": [
    {
     "data": {
      "text/plain": [
       "((2427, 100), (259, 100))"
      ]
     },
     "execution_count": 12,
     "metadata": {},
     "output_type": "execute_result"
    }
   ],
   "source": [
    "# prepare data for model\n",
    "# standardize data\n",
    "scaler = StandardScaler()\n",
    "test_data_scaled = scaler.fit_transform(df.iloc[:, 3:])\n",
    "# Convert the scaled data back to DataFrames for further processing\n",
    "test_data_scaled = pd.DataFrame(test_data_scaled, columns=df.columns[3:])\n",
    "# Add the 'curb_scene', 'start_time', and 'end_time' columns back to the scaled DataFrames\n",
    "test_data_scaled['curb_scene'] = df['curb_scene']\n",
    "test_data_scaled['start_time'] = df['start_time']\n",
    "test_data_scaled['end_time'] = df['end_time']\n",
    "# Filter and slice the data\n",
    "test_data_scaled_normal = test_data_scaled[test_data_scaled['curb_scene'] == 0].iloc[:, :-3]\n",
    "test_data_scaled_abnormal = test_data_scaled[test_data_scaled['curb_scene'] == 1].iloc[:, :-3]\n",
    "# Cast to float32\n",
    "test_data_scaled_normal = test_data_scaled_normal.astype(np.float32)\n",
    "test_data_scaled_abnormal = test_data_scaled_abnormal.astype(np.float32)\n",
    "test_data_scaled_normal.shape, test_data_scaled_abnormal.shape\n",
    "\n"
   ]
  },
  {
   "cell_type": "code",
   "execution_count": 13,
   "id": "da67a321",
   "metadata": {},
   "outputs": [],
   "source": [
    "# Make predictions using autoencoder\n",
    "autoencoder = tf.keras.models.load_model('../../models/autoencoder_best.keras')\n",
    "with open('../../models/autoencoder_thresholds.json', 'r') as f:\n",
    "    loaded_thresholds = json.load(f)"
   ]
  },
  {
   "cell_type": "code",
   "execution_count": 14,
   "id": "116103d7",
   "metadata": {},
   "outputs": [
    {
     "name": "stdout",
     "output_type": "stream",
     "text": [
      "\u001b[1m76/76\u001b[0m \u001b[32m━━━━━━━━━━━━━━━━━━━━\u001b[0m\u001b[37m\u001b[0m \u001b[1m0s\u001b[0m 2ms/step\n"
     ]
    },
    {
     "name": "stderr",
     "output_type": "stream",
     "text": [
      "C:\\Users\\liuzi\\AppData\\Local\\Temp\\ipykernel_19440\\2162391532.py:13: UserWarning: No artists with labels found to put in legend.  Note that artists whose label start with an underscore are ignored when legend() is called with no argument.\n",
      "  plt.legend()\n"
     ]
    },
    {
     "data": {
      "text/plain": [
       "<matplotlib.legend.Legend at 0x2811168fce0>"
      ]
     },
     "execution_count": 14,
     "metadata": {},
     "output_type": "execute_result"
    },
    {
     "data": {
      "image/png": "[encoded data removed]",
      "text/plain": [
       "<Figure size 1000x600 with 1 Axes>"
      ]
     },
     "metadata": {},
     "output_type": "display_data"
    }
   ],
   "source": [
    "# Plot reconstruction error distribution for normal training data\n",
    "reconstructions_normal = autoencoder.predict(test_data_scaled_normal)\n",
    "train_loss_normal = tf.keras.losses.mae(reconstructions_normal, test_data_scaled_normal)\n",
    "\n",
    "plt.figure(figsize=(10, 6))\n",
    "plt.hist(train_loss_normal, bins=50, color='blue', alpha=0.7)\n",
    "\n",
    "plt.title('Distribution of Reconstruction Errors for Normal Data', fontsize=12)\n",
    "plt.xlabel('Reconstruction Error (MAE)', fontsize=10)\n",
    "plt.ylabel('Number of Examples', fontsize=10)\n",
    "plt.ylim(0, 100)\n",
    "plt.grid(True, alpha=0.3)\n",
    "plt.legend()"
   ]
  },
  {
   "cell_type": "code",
   "execution_count": 15,
   "id": "33965bde",
   "metadata": {},
   "outputs": [
    {
     "name": "stdout",
     "output_type": "stream",
     "text": [
      "\u001b[1m9/9\u001b[0m \u001b[32m━━━━━━━━━━━━━━━━━━━━\u001b[0m\u001b[37m\u001b[0m \u001b[1m0s\u001b[0m 4ms/step \n"
     ]
    },
    {
     "data": {
      "image/png": "[encoded data removed]",
      "text/plain": [
       "<Figure size 640x480 with 1 Axes>"
      ]
     },
     "metadata": {},
     "output_type": "display_data"
    }
   ],
   "source": [
    "#Plot the reconstruction error on abnormal data from the training set\n",
    "reconstructions_abnormal = autoencoder.predict(test_data_scaled_abnormal)\n",
    "train_loss_abnormal = tf.keras.losses.mae(reconstructions_abnormal, test_data_scaled_abnormal)\n",
    "\n",
    "plt.hist(train_loss_abnormal[None,:], bins=50)\n",
    "plt.xlabel(\"Train loss of abnormal data\")\n",
    "plt.ylabel(\"No of examples\")\n",
    "plt.show()"
   ]
  },
  {
   "cell_type": "markdown",
   "id": "91bb9643",
   "metadata": {},
   "source": []
  },
  {
   "cell_type": "code",
   "execution_count": 18,
   "id": "770adb26",
   "metadata": {},
   "outputs": [
    {
     "name": "stdout",
     "output_type": "stream",
     "text": [
      "\n",
      "--- Using Low Threshold: 0.390000 ---\n"
     ]
    },
    {
     "data": {
      "image/png": "[encoded data removed]",
      "text/plain": [
       "<Figure size 640x480 with 2 Axes>"
      ]
     },
     "metadata": {},
     "output_type": "display_data"
    },
    {
     "name": "stdout",
     "output_type": "stream",
     "text": [
      "\n",
      "Classification Report:\n",
      "              precision    recall  f1-score   support\n",
      "\n",
      "           0       0.98      0.93      0.95      2427\n",
      "           1       0.56      0.83      0.67       259\n",
      "\n",
      "    accuracy                           0.92      2686\n",
      "   macro avg       0.77      0.88      0.81      2686\n",
      "weighted avg       0.94      0.92      0.93      2686\n",
      "\n",
      "Accuracy: 0.9203\n",
      "Precision: 0.5587\n",
      "Recall: 0.8263\n",
      "F1 Score: 0.6667\n"
     ]
    }
   ],
   "source": [
    "def create_confusion_matrix(threshold, threshold_name):\n",
    "    print(f\"\\n--- Using {threshold_name}: {threshold:.6f} ---\")\n",
    "    \n",
    "    # Prepare the true labels and predictions\n",
    "    true_labels = []\n",
    "    predictions = []\n",
    "    \n",
    "    # Normal data (label 0)\n",
    "    normal_predictions = (train_loss_normal.numpy() > threshold).astype(int)\n",
    "    true_labels.extend([0] * len(normal_predictions))\n",
    "    predictions.extend(normal_predictions)\n",
    "    \n",
    "    # Abnormal data (label 1)\n",
    "    abnormal_predictions = (train_loss_abnormal.numpy() > threshold).astype(int)\n",
    "    true_labels.extend([1] * len(abnormal_predictions))\n",
    "    predictions.extend(abnormal_predictions)\n",
    "    \n",
    "    # Create confusion matrix\n",
    "    conf_matrix = confusion_matrix(true_labels, predictions)\n",
    "    \n",
    "    # Plot the confusion matrix\n",
    "    plt.imshow(conf_matrix, interpolation='nearest', cmap=plt.cm.Blues)\n",
    "    plt.colorbar()\n",
    "    \n",
    "    classes = ['0', '1']\n",
    "    tick_marks = np.arange(len(classes))\n",
    "    plt.xticks(tick_marks, classes)\n",
    "    plt.yticks(tick_marks, classes)\n",
    "    \n",
    "    # Label the plot\n",
    "    thresh = conf_matrix.max() / 2\n",
    "    for i in range(conf_matrix.shape[0]):\n",
    "        for j in range(conf_matrix.shape[1]):\n",
    "            plt.text(j, i, format(conf_matrix[i, j], 'd'),\n",
    "                     horizontalalignment=\"center\",\n",
    "                     color=\"white\" if conf_matrix[i, j] > thresh else \"black\")\n",
    "    \n",
    "    plt.tight_layout()\n",
    "    plt.ylabel('True label')\n",
    "    plt.xlabel('Predicted label')\n",
    "    plt.show()\n",
    "    \n",
    "    # Print classification report\n",
    "    print(\"\\nClassification Report:\")\n",
    "    print(classification_report(true_labels, predictions, target_names=classes))\n",
    "    \n",
    "    # Calculate metrics\n",
    "    tn, fp, fn, tp = conf_matrix.ravel()\n",
    "    accuracy = (tp + tn) / (tp + tn + fp + fn)\n",
    "    precision = tp / (tp + fp) if (tp + fp) > 0 else 0\n",
    "    recall = tp / (tp + fn) if (tp + fn) > 0 else 0\n",
    "    f1 = 2 * precision * recall / (precision + recall) if (precision + recall) > 0 else 0\n",
    "    \n",
    "    print(f\"Accuracy: {accuracy:.4f}\")\n",
    "    print(f\"Precision: {precision:.4f}\")\n",
    "    print(f\"Recall: {recall:.4f}\")\n",
    "    print(f\"F1 Score: {f1:.4f}\")\n",
    "    \n",
    "    return {\n",
    "        'threshold': threshold,\n",
    "        'accuracy': accuracy,\n",
    "        'precision': precision,\n",
    "        'recall': recall,\n",
    "        'f1': f1,\n",
    "        'confusion_matrix': conf_matrix\n",
    "    }\n",
    "\n",
    "# Evaluate all thresholds\n",
    "results = {}\n",
    "\n",
    "if 'low_threshold' in loaded_thresholds:\n",
    "    results['low'] = create_confusion_matrix(loaded_thresholds['low_threshold'], 'Low Threshold')"
   ]
  },
  {
   "cell_type": "code",
   "execution_count": null,
   "id": "eb31fc40",
   "metadata": {},
   "outputs": [],
   "source": []
  }
 ],
 "metadata": {
  "kernelspec": {
   "display_name": "Python 3",
   "language": "python",
   "name": "python3"
  },
  "language_info": {
   "codemirror_mode": {
    "name": "ipython",
    "version": 3
   },
   "file_extension": ".py",
   "mimetype": "text/x-python",
   "name": "python",
   "nbconvert_exporter": "python",
   "pygments_lexer": "ipython3",
   "version": "3.12.3"
  }
 },
 "nbformat": 4,
 "nbformat_minor": 5
}
