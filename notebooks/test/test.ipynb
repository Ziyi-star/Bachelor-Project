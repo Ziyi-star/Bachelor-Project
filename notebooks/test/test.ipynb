{
 "cells": [
  {
   "cell_type": "code",
   "execution_count": null,
   "id": "ddb65534",
   "metadata": {},
   "outputs": [],
   "source": [
    "#imports"
   ]
  },
  {
   "cell_type": "code",
   "execution_count": null,
   "id": "c6cb7b98",
   "metadata": {},
   "outputs": [],
   "source": [
    "#load data"
   ]
  },
  {
   "cell_type": "code",
   "execution_count": null,
   "id": "e5e50b47",
   "metadata": {},
   "outputs": [],
   "source": [
    "# label curb, before and after 0.5s"
   ]
  },
  {
   "cell_type": "code",
   "execution_count": null,
   "id": "ac3dc018",
   "metadata": {},
   "outputs": [],
   "source": [
    "#missing value"
   ]
  },
  {
   "cell_type": "code",
   "execution_count": null,
   "id": "a55476fc",
   "metadata": {},
   "outputs": [],
   "source": [
    "#segmentation"
   ]
  },
  {
   "cell_type": "code",
   "execution_count": null,
   "id": "22713331",
   "metadata": {},
   "outputs": [],
   "source": [
    "#predit with 3 models\n",
    "#plot the result with 3 models\n",
    "#analyse"
   ]
  },
  {
   "cell_type": "code",
   "execution_count": null,
   "id": "80790d30",
   "metadata": {},
   "outputs": [],
   "source": []
  }
 ],
 "metadata": {
  "language_info": {
   "name": "python"
  }
 },
 "nbformat": 4,
 "nbformat_minor": 5
}
