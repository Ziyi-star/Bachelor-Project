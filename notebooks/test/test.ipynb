{
 "cells": [
  {
   "cell_type": "markdown",
   "id": "a7457253",
   "metadata": {},
   "source": [
    "# Field Validation"
   ]
  },
  {
   "cell_type": "code",
   "execution_count": 2,
   "id": "ddb65534",
   "metadata": {},
   "outputs": [],
   "source": [
    "\n",
    "import pandas as pd #reading dataset\n",
    "import matplotlib as mpl    #plotting, visualization\n",
    "import matplotlib.pyplot as plt\n",
    "import tensorflow as tf #building model\n",
    "from tensorflow.keras.models import Model\n",
    "import numpy as np  #playing output with model\n",
    "from sklearn.preprocessing import StandardScaler\n",
    "from sklearn.metrics import confusion_matrix, classification_report\n",
    "\n",
    "import sys\n",
    "sys.path.append('../../')   # Add parent directory to Python path\n",
    "from utils.Preprocessing import *\n",
    "from utils.Segmentation import *\n"
   ]
  },
  {
   "cell_type": "code",
   "execution_count": 2,
   "id": "c6cb7b98",
   "metadata": {},
   "outputs": [
    {
     "data": {
      "text/html": [
       "<div>\n",
       "<style scoped>\n",
       "    .dataframe tbody tr th:only-of-type {\n",
       "        vertical-align: middle;\n",
       "    }\n",
       "\n",
       "    .dataframe tbody tr th {\n",
       "        vertical-align: top;\n",
       "    }\n",
       "\n",
       "    .dataframe thead th {\n",
       "        text-align: right;\n",
       "    }\n",
       "</style>\n",
       "<table border=\"1\" class=\"dataframe\">\n",
       "  <thead>\n",
       "    <tr style=\"text-align: right;\">\n",
       "      <th></th>\n",
       "      <th>Date</th>\n",
       "      <th>NTP</th>\n",
       "      <th>GNSS-Time</th>\n",
       "      <th>Acc-X</th>\n",
       "      <th>Acc-Y</th>\n",
       "      <th>Acc-Z</th>\n",
       "    </tr>\n",
       "  </thead>\n",
       "  <tbody>\n",
       "    <tr>\n",
       "      <th>0</th>\n",
       "      <td>2025-03-28T16:00:44.931</td>\n",
       "      <td>2025-03-28 16:00:48.289</td>\n",
       "      <td>1743174048272</td>\n",
       "      <td>1.781281</td>\n",
       "      <td>4.735733</td>\n",
       "      <td>8.374924</td>\n",
       "    </tr>\n",
       "    <tr>\n",
       "      <th>1</th>\n",
       "      <td>2025-03-28T16:00:44.935</td>\n",
       "      <td>2025-03-28 16:00:48.293</td>\n",
       "      <td>1743174048276</td>\n",
       "      <td>2.643204</td>\n",
       "      <td>5.118805</td>\n",
       "      <td>8.274368</td>\n",
       "    </tr>\n",
       "    <tr>\n",
       "      <th>2</th>\n",
       "      <td>2025-03-28T16:00:44.942</td>\n",
       "      <td>2025-03-28 16:00:48.300</td>\n",
       "      <td>1743174048285</td>\n",
       "      <td>2.097321</td>\n",
       "      <td>5.037399</td>\n",
       "      <td>7.814682</td>\n",
       "    </tr>\n",
       "    <tr>\n",
       "      <th>3</th>\n",
       "      <td>2025-03-28T16:00:44.945</td>\n",
       "      <td>2025-03-28 16:00:48.303</td>\n",
       "      <td>1743174048286</td>\n",
       "      <td>1.891418</td>\n",
       "      <td>5.061340</td>\n",
       "      <td>8.034943</td>\n",
       "    </tr>\n",
       "    <tr>\n",
       "      <th>4</th>\n",
       "      <td>2025-03-28T16:00:44.951</td>\n",
       "      <td>2025-03-28 16:00:48.308</td>\n",
       "      <td>1743174048292</td>\n",
       "      <td>2.892197</td>\n",
       "      <td>5.272034</td>\n",
       "      <td>7.891296</td>\n",
       "    </tr>\n",
       "    <tr>\n",
       "      <th>...</th>\n",
       "      <td>...</td>\n",
       "      <td>...</td>\n",
       "      <td>...</td>\n",
       "      <td>...</td>\n",
       "      <td>...</td>\n",
       "      <td>...</td>\n",
       "    </tr>\n",
       "    <tr>\n",
       "      <th>268724</th>\n",
       "      <td>2025-03-28T16:22:59.273</td>\n",
       "      <td>2025-03-28 16:23:02.631</td>\n",
       "      <td>1743175382614</td>\n",
       "      <td>2.863464</td>\n",
       "      <td>5.655106</td>\n",
       "      <td>7.546524</td>\n",
       "    </tr>\n",
       "    <tr>\n",
       "      <th>268725</th>\n",
       "      <td>2025-03-28T16:22:59.277</td>\n",
       "      <td>2025-03-28 16:23:02.636</td>\n",
       "      <td>1743175382619</td>\n",
       "      <td>2.145203</td>\n",
       "      <td>5.549759</td>\n",
       "      <td>7.067688</td>\n",
       "    </tr>\n",
       "    <tr>\n",
       "      <th>268726</th>\n",
       "      <td>2025-03-28T16:22:59.284</td>\n",
       "      <td>2025-03-28 16:23:02.642</td>\n",
       "      <td>1743175382625</td>\n",
       "      <td>2.815582</td>\n",
       "      <td>5.281616</td>\n",
       "      <td>8.034943</td>\n",
       "    </tr>\n",
       "    <tr>\n",
       "      <th>268727</th>\n",
       "      <td>2025-03-28T16:22:59.288</td>\n",
       "      <td>2025-03-28 16:23:02.646</td>\n",
       "      <td>1743175382629</td>\n",
       "      <td>2.987961</td>\n",
       "      <td>5.559341</td>\n",
       "      <td>8.226471</td>\n",
       "    </tr>\n",
       "    <tr>\n",
       "      <th>268728</th>\n",
       "      <td>2025-03-28T16:22:59.293</td>\n",
       "      <td>2025-03-28 16:23:02.650</td>\n",
       "      <td>1743175382634</td>\n",
       "      <td>1.642426</td>\n",
       "      <td>5.343857</td>\n",
       "      <td>6.909668</td>\n",
       "    </tr>\n",
       "  </tbody>\n",
       "</table>\n",
       "<p>268729 rows × 6 columns</p>\n",
       "</div>"
      ],
      "text/plain": [
       "                           Date                      NTP      GNSS-Time  \\\n",
       "0       2025-03-28T16:00:44.931  2025-03-28 16:00:48.289  1743174048272   \n",
       "1       2025-03-28T16:00:44.935  2025-03-28 16:00:48.293  1743174048276   \n",
       "2       2025-03-28T16:00:44.942  2025-03-28 16:00:48.300  1743174048285   \n",
       "3       2025-03-28T16:00:44.945  2025-03-28 16:00:48.303  1743174048286   \n",
       "4       2025-03-28T16:00:44.951  2025-03-28 16:00:48.308  1743174048292   \n",
       "...                         ...                      ...            ...   \n",
       "268724  2025-03-28T16:22:59.273  2025-03-28 16:23:02.631  1743175382614   \n",
       "268725  2025-03-28T16:22:59.277  2025-03-28 16:23:02.636  1743175382619   \n",
       "268726  2025-03-28T16:22:59.284  2025-03-28 16:23:02.642  1743175382625   \n",
       "268727  2025-03-28T16:22:59.288  2025-03-28 16:23:02.646  1743175382629   \n",
       "268728  2025-03-28T16:22:59.293  2025-03-28 16:23:02.650  1743175382634   \n",
       "\n",
       "           Acc-X     Acc-Y     Acc-Z  \n",
       "0       1.781281  4.735733  8.374924  \n",
       "1       2.643204  5.118805  8.274368  \n",
       "2       2.097321  5.037399  7.814682  \n",
       "3       1.891418  5.061340  8.034943  \n",
       "4       2.892197  5.272034  7.891296  \n",
       "...          ...       ...       ...  \n",
       "268724  2.863464  5.655106  7.546524  \n",
       "268725  2.145203  5.549759  7.067688  \n",
       "268726  2.815582  5.281616  8.034943  \n",
       "268727  2.987961  5.559341  8.226471  \n",
       "268728  1.642426  5.343857  6.909668  \n",
       "\n",
       "[268729 rows x 6 columns]"
      ]
     },
     "execution_count": 2,
     "metadata": {},
     "output_type": "execute_result"
    }
   ],
   "source": [
    "#load data\n",
    "df_data = pd.read_csv('../../data/test/Accelerometer_ziyi.csv') \n",
    "df_data"
   ]
  },
  {
   "cell_type": "code",
   "execution_count": 3,
   "id": "a96ea3d3",
   "metadata": {},
   "outputs": [
    {
     "data": {
      "text/html": [
       "<div>\n",
       "<style scoped>\n",
       "    .dataframe tbody tr th:only-of-type {\n",
       "        vertical-align: middle;\n",
       "    }\n",
       "\n",
       "    .dataframe tbody tr th {\n",
       "        vertical-align: top;\n",
       "    }\n",
       "\n",
       "    .dataframe thead th {\n",
       "        text-align: right;\n",
       "    }\n",
       "</style>\n",
       "<table border=\"1\" class=\"dataframe\">\n",
       "  <thead>\n",
       "    <tr style=\"text-align: right;\">\n",
       "      <th></th>\n",
       "      <th>Date</th>\n",
       "      <th>NTP</th>\n",
       "      <th>GNSS-Time</th>\n",
       "      <th>Value</th>\n",
       "    </tr>\n",
       "  </thead>\n",
       "  <tbody>\n",
       "    <tr>\n",
       "      <th>0</th>\n",
       "      <td>2025-03-28T16:00:59.302</td>\n",
       "      <td>2025-03-28 16:01:02.660</td>\n",
       "      <td>1743174062643</td>\n",
       "      <td>Curb Up</td>\n",
       "    </tr>\n",
       "    <tr>\n",
       "      <th>1</th>\n",
       "      <td>2025-03-28T16:01:38.562</td>\n",
       "      <td>2025-03-28 16:01:41.920</td>\n",
       "      <td>1743174101903</td>\n",
       "      <td>Curb Up</td>\n",
       "    </tr>\n",
       "    <tr>\n",
       "      <th>2</th>\n",
       "      <td>2025-03-28T16:01:49.559</td>\n",
       "      <td>2025-03-28 16:01:52.917</td>\n",
       "      <td>1743174112903</td>\n",
       "      <td>Curb Up</td>\n",
       "    </tr>\n",
       "    <tr>\n",
       "      <th>3</th>\n",
       "      <td>2025-03-28T16:01:56.627</td>\n",
       "      <td>2025-03-28 16:01:59.985</td>\n",
       "      <td>1743174119969</td>\n",
       "      <td>Curb Up</td>\n",
       "    </tr>\n",
       "    <tr>\n",
       "      <th>4</th>\n",
       "      <td>2025-03-28T16:02:06.915</td>\n",
       "      <td>2025-03-28 16:02:10.274</td>\n",
       "      <td>1743174130257</td>\n",
       "      <td>Curb Up</td>\n",
       "    </tr>\n",
       "    <tr>\n",
       "      <th>...</th>\n",
       "      <td>...</td>\n",
       "      <td>...</td>\n",
       "      <td>...</td>\n",
       "      <td>...</td>\n",
       "    </tr>\n",
       "    <tr>\n",
       "      <th>135</th>\n",
       "      <td>2025-03-28T16:22:22.830</td>\n",
       "      <td>2025-03-28 16:22:26.188</td>\n",
       "      <td>1743175346171</td>\n",
       "      <td>Curb Up</td>\n",
       "    </tr>\n",
       "    <tr>\n",
       "      <th>136</th>\n",
       "      <td>2025-03-28T16:22:28.231</td>\n",
       "      <td>2025-03-28 16:22:31.589</td>\n",
       "      <td>1743175351572</td>\n",
       "      <td>Curb Up</td>\n",
       "    </tr>\n",
       "    <tr>\n",
       "      <th>137</th>\n",
       "      <td>2025-03-28T16:22:30.179</td>\n",
       "      <td>2025-03-28 16:22:33.537</td>\n",
       "      <td>1743175353520</td>\n",
       "      <td>Curb Up</td>\n",
       "    </tr>\n",
       "    <tr>\n",
       "      <th>138</th>\n",
       "      <td>2025-03-28T16:22:42.238</td>\n",
       "      <td>2025-03-28 16:22:45.596</td>\n",
       "      <td>1743175365579</td>\n",
       "      <td>Curb Up</td>\n",
       "    </tr>\n",
       "    <tr>\n",
       "      <th>139</th>\n",
       "      <td>2025-03-28T16:22:48.286</td>\n",
       "      <td>2025-03-28 16:22:51.643</td>\n",
       "      <td>1743175371627</td>\n",
       "      <td>Curb Up</td>\n",
       "    </tr>\n",
       "  </tbody>\n",
       "</table>\n",
       "<p>140 rows × 4 columns</p>\n",
       "</div>"
      ],
      "text/plain": [
       "                        Date                      NTP      GNSS-Time    Value\n",
       "0    2025-03-28T16:00:59.302  2025-03-28 16:01:02.660  1743174062643  Curb Up\n",
       "1    2025-03-28T16:01:38.562  2025-03-28 16:01:41.920  1743174101903  Curb Up\n",
       "2    2025-03-28T16:01:49.559  2025-03-28 16:01:52.917  1743174112903  Curb Up\n",
       "3    2025-03-28T16:01:56.627  2025-03-28 16:01:59.985  1743174119969  Curb Up\n",
       "4    2025-03-28T16:02:06.915  2025-03-28 16:02:10.274  1743174130257  Curb Up\n",
       "..                       ...                      ...            ...      ...\n",
       "135  2025-03-28T16:22:22.830  2025-03-28 16:22:26.188  1743175346171  Curb Up\n",
       "136  2025-03-28T16:22:28.231  2025-03-28 16:22:31.589  1743175351572  Curb Up\n",
       "137  2025-03-28T16:22:30.179  2025-03-28 16:22:33.537  1743175353520  Curb Up\n",
       "138  2025-03-28T16:22:42.238  2025-03-28 16:22:45.596  1743175365579  Curb Up\n",
       "139  2025-03-28T16:22:48.286  2025-03-28 16:22:51.643  1743175371627  Curb Up\n",
       "\n",
       "[140 rows x 4 columns]"
      ]
     },
     "execution_count": 3,
     "metadata": {},
     "output_type": "execute_result"
    }
   ],
   "source": [
    "df_curb = pd.read_csv('../../data/test/ESP_curb.csv')\n",
    "df_curb"
   ]
  },
  {
   "cell_type": "code",
   "execution_count": 4,
   "id": "cc33699d",
   "metadata": {},
   "outputs": [
    {
     "name": "stdout",
     "output_type": "stream",
     "text": [
      "No missing values longer than 100\n",
      "{}\n"
     ]
    },
    {
     "data": {
      "text/plain": [
       "Date         0\n",
       "NTP          0\n",
       "GNSS-Time    0\n",
       "Acc-X        0\n",
       "Acc-Y        0\n",
       "Acc-Z        0\n",
       "dtype: int64"
      ]
     },
     "execution_count": 4,
     "metadata": {},
     "output_type": "execute_result"
    }
   ],
   "source": [
    "#missing value\n",
    "missing_info = handle_missing_values_length_index(df_data)\n",
    "print(missing_info)\n",
    "output = '../../data/test/Accelerometer_ziyi_filled_missing_values.csv'\n",
    "fill_missing_values(df_data,output)\n",
    "# check missing value\n",
    "df_data.isnull().sum() "
   ]
  },
  {
   "cell_type": "code",
   "execution_count": 5,
   "id": "e5e50b47",
   "metadata": {},
   "outputs": [],
   "source": [
    "def label_curb_scenes(df_data, df_curb, window_size=100):\n",
    "    \"\"\"\n",
    "    Labels curb scenes in the data and extends labels to surrounding data points.\n",
    "    \n",
    "    Args:\n",
    "        df_data (pd.DataFrame): Original dataframe containing NTP and Acc-Z data\n",
    "        df_curb (pd.DataFrame): Dataframe containing curb timestamps\n",
    "        window_size (int): Number of data points to label before and after each curb scene\n",
    "        \n",
    "    Returns:\n",
    "        pd.DataFrame: DataFrame with labeled curb scenes\n",
    "    \"\"\"\n",
    "    # Create copy with selected columns\n",
    "    df_selected = df_data[['NTP', 'Acc-Z']].copy()\n",
    "    df_selected['curb_scene'] = 0\n",
    "    \n",
    "    # Convert NTP columns to datetime\n",
    "    df_selected['NTP'] = pd.to_datetime(df_selected['NTP'])\n",
    "    df_curb['NTP'] = pd.to_datetime(df_curb['NTP'])\n",
    "    \n",
    "    # Find matching timestamps and label curb scenes\n",
    "    df_selected.loc[df_selected['NTP'].isin(df_curb['NTP']), 'curb_scene'] = 1\n",
    "    \n",
    "    # Get indices where curb_scene is 1\n",
    "    curb_indices = df_selected.index[df_selected['curb_scene'] == 1].tolist()\n",
    "    \n",
    "    # Extend labels to surrounding data points\n",
    "    for idx in curb_indices:\n",
    "        start_idx = max(0, idx - window_size)\n",
    "        end_idx = min(len(df_selected) - 1, idx + window_size)\n",
    "        df_selected.loc[start_idx:end_idx, 'curb_scene'] = 1\n",
    "    \n",
    "    return df_selected"
   ]
  },
  {
   "cell_type": "code",
   "execution_count": null,
   "id": "9f32af48",
   "metadata": {},
   "outputs": [
    {
     "name": "stdout",
     "output_type": "stream",
     "text": [
      "(268729, 3)\n",
      "5628\n"
     ]
    }
   ],
   "source": [
    "\n",
    "df_selected = label_curb_scenes(df_data, df_curb)\n",
    "print(df_selected.shape)\n",
    "curb_indices = df_selected.index[df_selected['curb_scene'] == 1].tolist()\n",
    "print(len(curb_indices))"
   ]
  },
  {
   "cell_type": "code",
   "execution_count": 5,
   "id": "ed69efd5",
   "metadata": {},
   "outputs": [
    {
     "ename": "NameError",
     "evalue": "name 'df_selected' is not defined",
     "output_type": "error",
     "traceback": [
      "\u001b[1;31m---------------------------------------------------------------------------\u001b[0m",
      "\u001b[1;31mNameError\u001b[0m                                 Traceback (most recent call last)",
      "Cell \u001b[1;32mIn[5], line 2\u001b[0m\n\u001b[0;32m      1\u001b[0m \u001b[38;5;66;03m#segmentation with index and time\u001b[39;00m\n\u001b[1;32m----> 2\u001b[0m segmented_test_data_with_time_index \u001b[38;5;241m=\u001b[39m segment_acceleration_data_overlapping_count_index(\u001b[43mdf_selected\u001b[49m,\u001b[38;5;241m0\u001b[39m)\n\u001b[0;32m      3\u001b[0m segmented_test_data_with_time_index\n",
      "\u001b[1;31mNameError\u001b[0m: name 'df_selected' is not defined"
     ]
    }
   ],
   "source": [
    "#segmentation with index and time\n",
    "segmented_test_data_with_time_index = segment_acceleration_data_overlapping_count_index(df_selected,0)\n",
    "segmented_test_data_with_time_index"
   ]
  },
  {
   "cell_type": "code",
   "execution_count": 12,
   "id": "8180f27a",
   "metadata": {},
   "outputs": [
    {
     "name": "stdout",
     "output_type": "stream",
     "text": [
      "(2687, 103)\n",
      "56\n"
     ]
    }
   ],
   "source": [
    "print(segmented_test_data_with_time_index.shape)\n",
    "curb_indices = segmented_test_data_with_time_index.index[segmented_test_data_with_time_index['curb_scene'] == 1].tolist()\n",
    "print(len(curb_indices))"
   ]
  },
  {
   "cell_type": "code",
   "execution_count": 13,
   "id": "f31cc29c",
   "metadata": {},
   "outputs": [],
   "source": [
    "# standardize data\n",
    "scaler = StandardScaler()\n",
    "segmented_test_data_scaled = scaler.fit_transform(segmented_test_data_with_time_index.iloc[:, 3:])"
   ]
  },
  {
   "cell_type": "code",
   "execution_count": 15,
   "id": "561ee1d0",
   "metadata": {},
   "outputs": [
    {
     "name": "stderr",
     "output_type": "stream",
     "text": [
      "c:\\Users\\liuzi\\miniconda3\\Lib\\site-packages\\keras\\src\\saving\\saving_lib.py:757: UserWarning: Skipping variable loading for optimizer 'rmsprop', because it has 16 variables whereas the saved optimizer has 30 variables. \n",
      "  saveable.load_own_variables(weights_store.get(inner_path))\n"
     ]
    }
   ],
   "source": [
    "# Load the three pre-trained models\n",
    "import joblib  \n",
    "autoencoder = tf.keras.models.load_model('../../models/autoencoder_handlebar_best.keras')\n",
    "lstm_autoencoder = tf.keras.models.load_model('../../models/lstm_autoencoder_handlebar_best.keras')\n",
    "one_class_svm = joblib.load('../../models/ocsvm_handlebar_best.joblib')"
   ]
  },
  {
   "cell_type": "code",
   "execution_count": 45,
   "id": "4e6b9023",
   "metadata": {},
   "outputs": [
    {
     "name": "stdout",
     "output_type": "stream",
     "text": [
      "(2632, 100)\n",
      "(2632, 1, 100)\n"
     ]
    }
   ],
   "source": [
    "print(segmented_test_data_scaled.shape)\n",
    "# Reshape data for LSTM (add time step dimension)\n",
    "segmented_test_data_scaled_lstm = np.reshape(segmented_test_data_scaled, \n",
    "                       (segmented_test_data_scaled.shape[0], 1, segmented_test_data_scaled.shape[1]))\n",
    "print(segmented_test_data_scaled_lstm.shape)"
   ]
  },
  {
   "cell_type": "code",
   "execution_count": 46,
   "id": "591a3f6a",
   "metadata": {},
   "outputs": [
    {
     "name": "stdout",
     "output_type": "stream",
     "text": [
      "\u001b[1m83/83\u001b[0m \u001b[32m━━━━━━━━━━━━━━━━━━━━\u001b[0m\u001b[37m\u001b[0m \u001b[1m0s\u001b[0m 1ms/step  \n",
      "\u001b[1m83/83\u001b[0m \u001b[32m━━━━━━━━━━━━━━━━━━━━\u001b[0m\u001b[37m\u001b[0m \u001b[1m1s\u001b[0m 8ms/step\n"
     ]
    },
    {
     "name": "stderr",
     "output_type": "stream",
     "text": [
      "c:\\Users\\liuzi\\miniconda3\\Lib\\site-packages\\sklearn\\utils\\validation.py:2739: UserWarning: X does not have valid feature names, but OneClassSVM was fitted with feature names\n",
      "  warnings.warn(\n"
     ]
    }
   ],
   "source": [
    "# Make predictions\n",
    "autoencoder_pred = autoencoder.predict(segmented_test_data_scaled)\n",
    "lstm_pred = lstm_autoencoder.predict(segmented_test_data_scaled_lstm)\n",
    "svm_pred = one_class_svm.predict(segmented_test_data_scaled)"
   ]
  },
  {
   "cell_type": "code",
   "execution_count": null,
   "id": "67d07644",
   "metadata": {},
   "outputs": [
    {
     "data": {
      "text/plain": [
       "array(0.6661867, dtype=float32)"
      ]
     },
     "execution_count": 4,
     "metadata": {},
     "output_type": "execute_result"
    }
   ],
   "source": [
    "# Load thresholds\n",
    "autoencoder_threshold = np.load('../../models/autoencoder_threshold.npy')\n"
   ]
  },
  {
   "cell_type": "code",
   "execution_count": null,
   "id": "da67a321",
   "metadata": {},
   "outputs": [],
   "source": []
  },
  {
   "cell_type": "code",
   "execution_count": null,
   "id": "b2ddfbb4",
   "metadata": {},
   "outputs": [],
   "source": []
  },
  {
   "cell_type": "code",
   "execution_count": null,
   "id": "e0146666",
   "metadata": {},
   "outputs": [],
   "source": []
  },
  {
   "cell_type": "code",
   "execution_count": null,
   "id": "80790d30",
   "metadata": {},
   "outputs": [],
   "source": []
  }
 ],
 "metadata": {
  "kernelspec": {
   "display_name": "Python 3",
   "language": "python",
   "name": "python3"
  },
  "language_info": {
   "codemirror_mode": {
    "name": "ipython",
    "version": 3
   },
   "file_extension": ".py",
   "mimetype": "text/x-python",
   "name": "python",
   "nbconvert_exporter": "python",
   "pygments_lexer": "ipython3",
   "version": "3.12.3"
  }
 },
 "nbformat": 4,
 "nbformat_minor": 5
}
