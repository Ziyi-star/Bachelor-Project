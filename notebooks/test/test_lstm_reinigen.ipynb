{
 "cells": [
  {
   "cell_type": "markdown",
   "id": "a7457253",
   "metadata": {},
   "source": [
    "# Field Validation"
   ]
  },
  {
   "cell_type": "code",
   "execution_count": 1,
   "id": "ddb65534",
   "metadata": {},
   "outputs": [],
   "source": [
    "import pandas as pd #reading dataset\n",
    "import matplotlib as mpl    #plotting, visualization\n",
    "import matplotlib.pyplot as plt\n",
    "import tensorflow as tf #building model\n",
    "from tensorflow.keras.models import Model\n",
    "import numpy as np  #playing output with model\n",
    "from sklearn.preprocessing import StandardScaler\n",
    "from sklearn.metrics import confusion_matrix, classification_report\n",
    "import joblib  \n",
    "import json\n",
    "\n",
    "import sys\n",
    "sys.path.append('../../')   # Add parent directory to Python path\n",
    "from utils.Preprocessing import *\n",
    "from utils.Segmentation import *\n"
   ]
  },
  {
   "cell_type": "code",
   "execution_count": 4,
   "id": "66913129",
   "metadata": {},
   "outputs": [
    {
     "data": {
      "text/html": [
       "<div>\n",
       "<style scoped>\n",
       "    .dataframe tbody tr th:only-of-type {\n",
       "        vertical-align: middle;\n",
       "    }\n",
       "\n",
       "    .dataframe tbody tr th {\n",
       "        vertical-align: top;\n",
       "    }\n",
       "\n",
       "    .dataframe thead th {\n",
       "        text-align: right;\n",
       "    }\n",
       "</style>\n",
       "<table border=\"1\" class=\"dataframe\">\n",
       "  <thead>\n",
       "    <tr style=\"text-align: right;\">\n",
       "      <th></th>\n",
       "      <th>curb_scene</th>\n",
       "      <th>start_time</th>\n",
       "      <th>end_time</th>\n",
       "      <th>Acc-Z_1</th>\n",
       "      <th>Acc-Z_2</th>\n",
       "      <th>Acc-Z_3</th>\n",
       "      <th>Acc-Z_4</th>\n",
       "      <th>Acc-Z_5</th>\n",
       "      <th>Acc-Z_6</th>\n",
       "      <th>Acc-Z_7</th>\n",
       "      <th>...</th>\n",
       "      <th>Acc-Z_91</th>\n",
       "      <th>Acc-Z_92</th>\n",
       "      <th>Acc-Z_93</th>\n",
       "      <th>Acc-Z_94</th>\n",
       "      <th>Acc-Z_95</th>\n",
       "      <th>Acc-Z_96</th>\n",
       "      <th>Acc-Z_97</th>\n",
       "      <th>Acc-Z_98</th>\n",
       "      <th>Acc-Z_99</th>\n",
       "      <th>Acc-Z_100</th>\n",
       "    </tr>\n",
       "  </thead>\n",
       "  <tbody>\n",
       "    <tr>\n",
       "      <th>0</th>\n",
       "      <td>0</td>\n",
       "      <td>2025-03-28 16:00:48.289</td>\n",
       "      <td>2025-03-28 16:00:48.780</td>\n",
       "      <td>8.374924</td>\n",
       "      <td>8.274368</td>\n",
       "      <td>7.814682</td>\n",
       "      <td>8.034943</td>\n",
       "      <td>7.891296</td>\n",
       "      <td>8.073242</td>\n",
       "      <td>8.173798</td>\n",
       "      <td>...</td>\n",
       "      <td>8.078033</td>\n",
       "      <td>8.020569</td>\n",
       "      <td>8.011002</td>\n",
       "      <td>8.078033</td>\n",
       "      <td>8.020569</td>\n",
       "      <td>8.020569</td>\n",
       "      <td>7.953537</td>\n",
       "      <td>7.991852</td>\n",
       "      <td>8.087616</td>\n",
       "      <td>8.039734</td>\n",
       "    </tr>\n",
       "    <tr>\n",
       "      <th>1</th>\n",
       "      <td>0</td>\n",
       "      <td>2025-03-28 16:00:48.785</td>\n",
       "      <td>2025-03-28 16:00:49.277</td>\n",
       "      <td>8.030151</td>\n",
       "      <td>7.977478</td>\n",
       "      <td>8.020569</td>\n",
       "      <td>8.054092</td>\n",
       "      <td>8.020569</td>\n",
       "      <td>8.020569</td>\n",
       "      <td>7.987061</td>\n",
       "      <td>...</td>\n",
       "      <td>7.441177</td>\n",
       "      <td>7.259216</td>\n",
       "      <td>7.584824</td>\n",
       "      <td>7.536942</td>\n",
       "      <td>7.278366</td>\n",
       "      <td>7.254425</td>\n",
       "      <td>7.503433</td>\n",
       "      <td>7.704544</td>\n",
       "      <td>7.781158</td>\n",
       "      <td>7.742844</td>\n",
       "    </tr>\n",
       "    <tr>\n",
       "      <th>2</th>\n",
       "      <td>0</td>\n",
       "      <td>2025-03-28 16:00:49.284</td>\n",
       "      <td>2025-03-28 16:00:49.773</td>\n",
       "      <td>7.517792</td>\n",
       "      <td>7.723694</td>\n",
       "      <td>7.939178</td>\n",
       "      <td>7.718903</td>\n",
       "      <td>7.733276</td>\n",
       "      <td>7.508209</td>\n",
       "      <td>7.498642</td>\n",
       "      <td>...</td>\n",
       "      <td>6.689407</td>\n",
       "      <td>6.689407</td>\n",
       "      <td>6.459549</td>\n",
       "      <td>6.234497</td>\n",
       "      <td>5.750870</td>\n",
       "      <td>5.477936</td>\n",
       "      <td>5.722137</td>\n",
       "      <td>6.766022</td>\n",
       "      <td>7.991852</td>\n",
       "      <td>8.384491</td>\n",
       "    </tr>\n",
       "    <tr>\n",
       "      <th>3</th>\n",
       "      <td>0</td>\n",
       "      <td>2025-03-28 16:00:49.778</td>\n",
       "      <td>2025-03-28 16:00:50.270</td>\n",
       "      <td>8.633499</td>\n",
       "      <td>9.428360</td>\n",
       "      <td>10.046066</td>\n",
       "      <td>8.925583</td>\n",
       "      <td>7.010223</td>\n",
       "      <td>7.082046</td>\n",
       "      <td>6.885727</td>\n",
       "      <td>...</td>\n",
       "      <td>6.689407</td>\n",
       "      <td>8.609543</td>\n",
       "      <td>9.916779</td>\n",
       "      <td>8.930374</td>\n",
       "      <td>8.427597</td>\n",
       "      <td>8.173798</td>\n",
       "      <td>8.384491</td>\n",
       "      <td>7.412445</td>\n",
       "      <td>7.776367</td>\n",
       "      <td>8.011002</td>\n",
       "    </tr>\n",
       "    <tr>\n",
       "      <th>4</th>\n",
       "      <td>0</td>\n",
       "      <td>2025-03-28 16:00:50.275</td>\n",
       "      <td>2025-03-28 16:00:50.766</td>\n",
       "      <td>10.960663</td>\n",
       "      <td>10.577591</td>\n",
       "      <td>9.801865</td>\n",
       "      <td>7.599197</td>\n",
       "      <td>6.493073</td>\n",
       "      <td>8.561661</td>\n",
       "      <td>8.892059</td>\n",
       "      <td>...</td>\n",
       "      <td>9.284714</td>\n",
       "      <td>9.232040</td>\n",
       "      <td>8.437164</td>\n",
       "      <td>8.576035</td>\n",
       "      <td>9.030930</td>\n",
       "      <td>9.514557</td>\n",
       "      <td>9.265564</td>\n",
       "      <td>9.686935</td>\n",
       "      <td>10.113113</td>\n",
       "      <td>9.428360</td>\n",
       "    </tr>\n",
       "  </tbody>\n",
       "</table>\n",
       "<p>5 rows × 103 columns</p>\n",
       "</div>"
      ],
      "text/plain": [
       "   curb_scene               start_time                 end_time    Acc-Z_1  \\\n",
       "0           0  2025-03-28 16:00:48.289  2025-03-28 16:00:48.780   8.374924   \n",
       "1           0  2025-03-28 16:00:48.785  2025-03-28 16:00:49.277   8.030151   \n",
       "2           0  2025-03-28 16:00:49.284  2025-03-28 16:00:49.773   7.517792   \n",
       "3           0  2025-03-28 16:00:49.778  2025-03-28 16:00:50.270   8.633499   \n",
       "4           0  2025-03-28 16:00:50.275  2025-03-28 16:00:50.766  10.960663   \n",
       "\n",
       "     Acc-Z_2    Acc-Z_3   Acc-Z_4   Acc-Z_5   Acc-Z_6   Acc-Z_7  ...  \\\n",
       "0   8.274368   7.814682  8.034943  7.891296  8.073242  8.173798  ...   \n",
       "1   7.977478   8.020569  8.054092  8.020569  8.020569  7.987061  ...   \n",
       "2   7.723694   7.939178  7.718903  7.733276  7.508209  7.498642  ...   \n",
       "3   9.428360  10.046066  8.925583  7.010223  7.082046  6.885727  ...   \n",
       "4  10.577591   9.801865  7.599197  6.493073  8.561661  8.892059  ...   \n",
       "\n",
       "   Acc-Z_91  Acc-Z_92  Acc-Z_93  Acc-Z_94  Acc-Z_95  Acc-Z_96  Acc-Z_97  \\\n",
       "0  8.078033  8.020569  8.011002  8.078033  8.020569  8.020569  7.953537   \n",
       "1  7.441177  7.259216  7.584824  7.536942  7.278366  7.254425  7.503433   \n",
       "2  6.689407  6.689407  6.459549  6.234497  5.750870  5.477936  5.722137   \n",
       "3  6.689407  8.609543  9.916779  8.930374  8.427597  8.173798  8.384491   \n",
       "4  9.284714  9.232040  8.437164  8.576035  9.030930  9.514557  9.265564   \n",
       "\n",
       "   Acc-Z_98   Acc-Z_99  Acc-Z_100  \n",
       "0  7.991852   8.087616   8.039734  \n",
       "1  7.704544   7.781158   7.742844  \n",
       "2  6.766022   7.991852   8.384491  \n",
       "3  7.412445   7.776367   8.011002  \n",
       "4  9.686935  10.113113   9.428360  \n",
       "\n",
       "[5 rows x 103 columns]"
      ]
     },
     "execution_count": 4,
     "metadata": {},
     "output_type": "execute_result"
    }
   ],
   "source": [
    "#load processed data\n",
    "df = pd.read_csv('../../data/test/Accelerometer_ziyi_with_curb_segmented_abnormal_gereinigt.csv')\n",
    "df = df.drop(columns=['Unnamed: 0']) \n",
    "df.head()\n"
   ]
  },
  {
   "cell_type": "code",
   "execution_count": 10,
   "id": "f31cc29c",
   "metadata": {},
   "outputs": [
    {
     "data": {
      "text/plain": [
       "((2443, 1, 100), (243, 1, 100))"
      ]
     },
     "execution_count": 10,
     "metadata": {},
     "output_type": "execute_result"
    }
   ],
   "source": [
    "# prepare data for model\n",
    "# standardize data\n",
    "scaler = StandardScaler()\n",
    "test_data_scaled = scaler.fit_transform(df.iloc[:, 3:])\n",
    "# Convert the scaled data back to DataFrames for further processing\n",
    "test_data_scaled = pd.DataFrame(test_data_scaled, columns=df.columns[3:])\n",
    "# Add the 'curb_scene', 'start_time', and 'end_time' columns back to the scaled DataFrames\n",
    "test_data_scaled['curb_scene'] = df['curb_scene']\n",
    "test_data_scaled['start_time'] = df['start_time']\n",
    "test_data_scaled['end_time'] = df['end_time']\n",
    "# Filter and slice the data\n",
    "test_data_scaled_normal = test_data_scaled[test_data_scaled['curb_scene'] == 0].iloc[:, :-3]\n",
    "test_data_scaled_abnormal = test_data_scaled[test_data_scaled['curb_scene'] == 1].iloc[:, :-3]\n",
    "# Cast to float32\n",
    "test_data_scaled_normal = test_data_scaled_normal.astype(np.float32)\n",
    "test_data_scaled_abnormal = test_data_scaled_abnormal.astype(np.float32)\n",
    "test_data_scaled_normal.shape, test_data_scaled_abnormal.shape\n",
    "#Reshape data for LSTM (add time step dimension)\n",
    "test_data_scaled_normal = test_data_scaled_normal.values.reshape(test_data_scaled_normal.shape[0], 1, test_data_scaled_normal.shape[1])\n",
    "test_data_scaled_abnormal = test_data_scaled_abnormal.values.reshape(test_data_scaled_abnormal.shape[0], 1, test_data_scaled_abnormal.shape[1])\n",
    "test_data_scaled_normal.shape, test_data_scaled_abnormal.shape\n"
   ]
  },
  {
   "cell_type": "code",
   "execution_count": 11,
   "id": "da67a321",
   "metadata": {},
   "outputs": [],
   "source": [
    "# Make predictions using lstm utoencoder\n",
    "lstm = tf.keras.models.load_model('../../models/lstm_autoencoder_best.keras')\n",
    "with open('../../models/lstm_thresholds.json', 'r') as f:\n",
    "    loaded_thresholds = json.load(f)"
   ]
  },
  {
   "cell_type": "code",
   "execution_count": 12,
   "id": "116103d7",
   "metadata": {},
   "outputs": [
    {
     "name": "stdout",
     "output_type": "stream",
     "text": [
      "\u001b[1m77/77\u001b[0m \u001b[32m━━━━━━━━━━━━━━━━━━━━\u001b[0m\u001b[37m\u001b[0m \u001b[1m1s\u001b[0m 7ms/step\n"
     ]
    },
    {
     "data": {
      "image/png": "[encoded data removed]",
      "text/plain": [
       "<Figure size 640x480 with 1 Axes>"
      ]
     },
     "metadata": {},
     "output_type": "display_data"
    }
   ],
   "source": [
    "# Plot reconstruction error distribution for normal training data\n",
    "reconstructions_normal = lstm.predict(test_data_scaled_normal)\n",
    "train_loss_normal = tf.keras.losses.mae(reconstructions_normal, test_data_scaled_normal)\n",
    "\n",
    "plt.hist(train_loss_normal.numpy().flatten(), bins=50, color='blue', alpha=0.7, label='Normal Data')\n",
    "\n",
    "plt.title('LSTM Reconstruction Error Distribution for Normal Data', fontsize=12)\n",
    "plt.xlabel('Reconstruction Error (MAE)', fontsize=10)\n",
    "plt.ylabel('Number of Examples', fontsize=10)\n",
    "plt.ylim(0,20)\n",
    "plt.grid(True, alpha=0.3)\n",
    "plt.legend()\n",
    "plt.tight_layout()\n",
    "plt.show()"
   ]
  },
  {
   "cell_type": "code",
   "execution_count": 13,
   "id": "33965bde",
   "metadata": {},
   "outputs": [
    {
     "name": "stdout",
     "output_type": "stream",
     "text": [
      "\u001b[1m8/8\u001b[0m \u001b[32m━━━━━━━━━━━━━━━━━━━━\u001b[0m\u001b[37m\u001b[0m \u001b[1m0s\u001b[0m 5ms/step \n"
     ]
    },
    {
     "data": {
      "image/png": "[encoded data removed]",
      "text/plain": [
       "<Figure size 640x480 with 1 Axes>"
      ]
     },
     "metadata": {},
     "output_type": "display_data"
    },
    {
     "name": "stdout",
     "output_type": "stream",
     "text": [
      "Mean reconstruction error: 0.0332\n",
      "Median reconstruction error: 0.4170\n",
      "Standard deviation: 0.5245\n"
     ]
    }
   ],
   "source": [
    "#Plot the reconstruction error on abnormal data from the training set\n",
    "reconstructions_abnormal = lstm.predict(test_data_scaled_abnormal)\n",
    "train_loss_abnormal = tf.keras.losses.mae(reconstructions_abnormal, test_data_scaled_abnormal)\n",
    "\n",
    "plt.hist(train_loss_abnormal.numpy().flatten(), bins=50, color='blue', alpha=0.7, label='Abnormal Data')\n",
    "\n",
    "plt.title('LSTM Reconstruction Error Distribution for Abnormal Data', fontsize=12)\n",
    "plt.xlabel('Reconstruction Error (MAE)', fontsize=10)\n",
    "plt.ylabel('Number of Examples', fontsize=10)\n",
    "plt.grid(True, alpha=0.3)\n",
    "plt.legend()\n",
    "plt.tight_layout()\n",
    "plt.show()\n",
    "\n",
    "# Print some statistics\n",
    "print(f\"Mean reconstruction error: {np.min(train_loss_abnormal):.4f}\")\n",
    "print(f\"Median reconstruction error: {np.median(train_loss_abnormal):.4f}\")\n",
    "print(f\"Standard deviation: {np.std(train_loss_abnormal):.4f}\")"
   ]
  },
  {
   "cell_type": "code",
   "execution_count": 14,
   "id": "1ea8eb1a",
   "metadata": {},
   "outputs": [
    {
     "name": "stdout",
     "output_type": "stream",
     "text": [
      "\n",
      "Corresponding indices in original dataframe:\n",
      "Index([ 131,  132,  133,  240,  280,  520,  521,  687,  887,  888,  889,  891,\n",
      "        993, 1066, 1164, 1172, 1270, 1271, 1272, 1273, 1348, 1350, 1356, 1415,\n",
      "       1416, 1492, 1493, 1494, 1495, 1635, 1748, 1916, 1931, 2214, 2224, 2301,\n",
      "       2382, 2391, 2392, 2397, 2399, 2410, 2417, 2419, 2420, 2422, 2427, 2429,\n",
      "       2461, 2464, 2466, 2473, 2481, 2491, 2494, 2496, 2506],\n",
      "      dtype='int64')\n"
     ]
    }
   ],
   "source": [
    "# # Find indices where reconstruction error of abnormal is less than 0.2\n",
    "low_reconstruction_indices = np.where(train_loss_abnormal < 0.2)[0]\n",
    "\n",
    "# Get the indices of abnormal samples in the original dataframe\n",
    "abnormal_mask = df['curb_scene'] == 1\n",
    "abnormal_indices = df[abnormal_mask].index\n",
    "\n",
    "# Map the indices from abnormal subset to original dataframe indices\n",
    "original_indices = abnormal_indices[low_reconstruction_indices]\n",
    "\n",
    "print(\"\\nCorresponding indices in original dataframe:\")\n",
    "print(original_indices)\n"
   ]
  },
  {
   "cell_type": "code",
   "execution_count": 15,
   "id": "3d043093",
   "metadata": {},
   "outputs": [
    {
     "name": "stdout",
     "output_type": "stream",
     "text": [
      "\n",
      "Corresponding indices in original dataframe:\n",
      "Index([1241, 1242, 1389, 1390, 1391, 1392, 1393, 1394, 1395, 1397, 1398, 1399,\n",
      "       1400, 1501, 2010, 2608],\n",
      "      dtype='int64')\n"
     ]
    }
   ],
   "source": [
    "# # Find indices where reconstruction error of normal is greater than 0.3\n",
    "big_reconstruction_indices = np.where(train_loss_normal > 0.3)[0]\n",
    "# Get the indices of normal samples in the original dataframe\n",
    "normal_mask = df['curb_scene'] == 0\n",
    "normal_indices = df[normal_mask].index\n",
    "# Map the indices from normal subset to original dataframe indices\n",
    "original_indices = normal_indices[big_reconstruction_indices]\n",
    "print(\"\\nCorresponding indices in original dataframe:\")\n",
    "print(original_indices)"
   ]
  },
  {
   "cell_type": "code",
   "execution_count": 18,
   "id": "634b33bb",
   "metadata": {},
   "outputs": [],
   "source": [
    "# Add the loss values back to the original DataFrame\n",
    "df.loc[df['curb_scene'] == 0, 'loss'] = train_loss_normal.numpy()\n",
    "df.loc[df['curb_scene'] == 1, 'loss'] = train_loss_abnormal.numpy()"
   ]
  },
  {
   "cell_type": "code",
   "execution_count": 17,
   "id": "6c02b4c5",
   "metadata": {},
   "outputs": [],
   "source": [
    "# indices = [1711,1712]\n",
    "# df.iloc[indices, df.columns.get_loc('curb_scene')] = 1"
   ]
  },
  {
   "cell_type": "code",
   "execution_count": null,
   "id": "045c8e3c",
   "metadata": {},
   "outputs": [],
   "source": [
    "# df.iloc[2527, df.columns.get_loc('curb_scene')] = 1"
   ]
  },
  {
   "cell_type": "code",
   "execution_count": 19,
   "id": "8d7efecf",
   "metadata": {},
   "outputs": [
    {
     "data": {
      "text/html": [
       "<div>\n",
       "<style scoped>\n",
       "    .dataframe tbody tr th:only-of-type {\n",
       "        vertical-align: middle;\n",
       "    }\n",
       "\n",
       "    .dataframe tbody tr th {\n",
       "        vertical-align: top;\n",
       "    }\n",
       "\n",
       "    .dataframe thead th {\n",
       "        text-align: right;\n",
       "    }\n",
       "</style>\n",
       "<table border=\"1\" class=\"dataframe\">\n",
       "  <thead>\n",
       "    <tr style=\"text-align: right;\">\n",
       "      <th></th>\n",
       "      <th>curb_scene</th>\n",
       "      <th>start_time</th>\n",
       "      <th>loss</th>\n",
       "    </tr>\n",
       "  </thead>\n",
       "  <tbody>\n",
       "    <tr>\n",
       "      <th>126</th>\n",
       "      <td>0</td>\n",
       "      <td>2025-03-28 16:01:50.376</td>\n",
       "      <td>0.050746</td>\n",
       "    </tr>\n",
       "    <tr>\n",
       "      <th>127</th>\n",
       "      <td>0</td>\n",
       "      <td>2025-03-28 16:01:50.873</td>\n",
       "      <td>0.063492</td>\n",
       "    </tr>\n",
       "    <tr>\n",
       "      <th>128</th>\n",
       "      <td>0</td>\n",
       "      <td>2025-03-28 16:01:51.369</td>\n",
       "      <td>0.045758</td>\n",
       "    </tr>\n",
       "    <tr>\n",
       "      <th>129</th>\n",
       "      <td>0</td>\n",
       "      <td>2025-03-28 16:01:51.867</td>\n",
       "      <td>0.103903</td>\n",
       "    </tr>\n",
       "    <tr>\n",
       "      <th>130</th>\n",
       "      <td>1</td>\n",
       "      <td>2025-03-28 16:01:52.402</td>\n",
       "      <td>0.212489</td>\n",
       "    </tr>\n",
       "    <tr>\n",
       "      <th>131</th>\n",
       "      <td>1</td>\n",
       "      <td>2025-03-28 16:01:52.898</td>\n",
       "      <td>0.166054</td>\n",
       "    </tr>\n",
       "    <tr>\n",
       "      <th>132</th>\n",
       "      <td>1</td>\n",
       "      <td>2025-03-28 16:01:53.395</td>\n",
       "      <td>0.176395</td>\n",
       "    </tr>\n",
       "    <tr>\n",
       "      <th>133</th>\n",
       "      <td>1</td>\n",
       "      <td>2025-03-28 16:01:53.891</td>\n",
       "      <td>0.189102</td>\n",
       "    </tr>\n",
       "    <tr>\n",
       "      <th>134</th>\n",
       "      <td>0</td>\n",
       "      <td>2025-03-28 16:01:54.363</td>\n",
       "      <td>0.151472</td>\n",
       "    </tr>\n",
       "    <tr>\n",
       "      <th>135</th>\n",
       "      <td>0</td>\n",
       "      <td>2025-03-28 16:01:54.860</td>\n",
       "      <td>0.098500</td>\n",
       "    </tr>\n",
       "  </tbody>\n",
       "</table>\n",
       "</div>"
      ],
      "text/plain": [
       "     curb_scene               start_time      loss\n",
       "126           0  2025-03-28 16:01:50.376  0.050746\n",
       "127           0  2025-03-28 16:01:50.873  0.063492\n",
       "128           0  2025-03-28 16:01:51.369  0.045758\n",
       "129           0  2025-03-28 16:01:51.867  0.103903\n",
       "130           1  2025-03-28 16:01:52.402  0.212489\n",
       "131           1  2025-03-28 16:01:52.898  0.166054\n",
       "132           1  2025-03-28 16:01:53.395  0.176395\n",
       "133           1  2025-03-28 16:01:53.891  0.189102\n",
       "134           0  2025-03-28 16:01:54.363  0.151472\n",
       "135           0  2025-03-28 16:01:54.860  0.098500"
      ]
     },
     "execution_count": 19,
     "metadata": {},
     "output_type": "execute_result"
    }
   ],
   "source": [
    "# # Alternatively, for better notebook display:\n",
    "df_selected = df[['curb_scene', 'start_time', 'loss']]\n",
    "df_selected.iloc[131-5:131+5]"
   ]
  },
  {
   "cell_type": "code",
   "execution_count": 108,
   "id": "bc700834",
   "metadata": {},
   "outputs": [],
   "source": [
    "df.to_csv('../../data/test/Accelerometer_ziyi_with_curb_segmented_abnormal_changed.csv', index=False)"
   ]
  },
  {
   "cell_type": "code",
   "execution_count": null,
   "id": "dd3fcc33",
   "metadata": {},
   "outputs": [],
   "source": []
  }
 ],
 "metadata": {
  "kernelspec": {
   "display_name": "Python 3",
   "language": "python",
   "name": "python3"
  },
  "language_info": {
   "codemirror_mode": {
    "name": "ipython",
    "version": 3
   },
   "file_extension": ".py",
   "mimetype": "text/x-python",
   "name": "python",
   "nbconvert_exporter": "python",
   "pygments_lexer": "ipython3",
   "version": "3.12.3"
  }
 },
 "nbformat": 4,
 "nbformat_minor": 5
}
