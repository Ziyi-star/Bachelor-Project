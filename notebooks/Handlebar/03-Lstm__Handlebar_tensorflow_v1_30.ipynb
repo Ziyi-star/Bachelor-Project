{
  "cells": [
    {
      "cell_type": "markdown",
      "metadata": {
        "id": "view-in-github",
        "colab_type": "text"
      },
      "source": [
        "<a href=\"https://colab.research.google.com/github/Ziyi-star/Bachelor-Project/blob/main/notebooks/Handlebar/03-Lstm__Handlebar_tensorflow_v1_30.ipynb\" target=\"_parent\"><img src=\"https://colab.research.google.com/assets/colab-badge.svg\" alt=\"Open In Colab\"/></a>"
      ]
    },
    {
      "cell_type": "code",
      "execution_count": null,
      "metadata": {
        "colab": {
          "base_uri": "https://localhost:8080/",
          "height": 383
        },
        "id": "cGwyEUT7ZuSH",
        "outputId": "1e741b23-e15f-4fc5-ea69-8843b555366e"
      },
      "outputs": [
        {
          "data": {
            "text/html": [
              "<div>\n",
              "<style scoped>\n",
              "    .dataframe tbody tr th:only-of-type {\n",
              "        vertical-align: middle;\n",
              "    }\n",
              "\n",
              "    .dataframe tbody tr th {\n",
              "        vertical-align: top;\n",
              "    }\n",
              "\n",
              "    .dataframe thead th {\n",
              "        text-align: right;\n",
              "    }\n",
              "</style>\n",
              "<table border=\"1\" class=\"dataframe\">\n",
              "  <thead>\n",
              "    <tr style=\"text-align: right;\">\n",
              "      <th></th>\n",
              "      <th>curb_scene</th>\n",
              "      <th>Acc-Z_1</th>\n",
              "      <th>Acc-Z_2</th>\n",
              "      <th>Acc-Z_3</th>\n",
              "      <th>Acc-Z_4</th>\n",
              "      <th>Acc-Z_5</th>\n",
              "      <th>Acc-Z_6</th>\n",
              "      <th>Acc-Z_7</th>\n",
              "      <th>Acc-Z_8</th>\n",
              "      <th>Acc-Z_9</th>\n",
              "      <th>...</th>\n",
              "      <th>Acc-Z_91</th>\n",
              "      <th>Acc-Z_92</th>\n",
              "      <th>Acc-Z_93</th>\n",
              "      <th>Acc-Z_94</th>\n",
              "      <th>Acc-Z_95</th>\n",
              "      <th>Acc-Z_96</th>\n",
              "      <th>Acc-Z_97</th>\n",
              "      <th>Acc-Z_98</th>\n",
              "      <th>Acc-Z_99</th>\n",
              "      <th>Acc-Z_100</th>\n",
              "    </tr>\n",
              "  </thead>\n",
              "  <tbody>\n",
              "    <tr>\n",
              "      <th>0</th>\n",
              "      <td>0.0</td>\n",
              "      <td>8.762772</td>\n",
              "      <td>8.753204</td>\n",
              "      <td>8.762772</td>\n",
              "      <td>8.781937</td>\n",
              "      <td>8.753204</td>\n",
              "      <td>8.748413</td>\n",
              "      <td>8.738831</td>\n",
              "      <td>8.748413</td>\n",
              "      <td>8.743622</td>\n",
              "      <td>...</td>\n",
              "      <td>8.786728</td>\n",
              "      <td>8.801086</td>\n",
              "      <td>8.820236</td>\n",
              "      <td>8.786728</td>\n",
              "      <td>8.777145</td>\n",
              "      <td>8.772354</td>\n",
              "      <td>8.781937</td>\n",
              "      <td>8.801086</td>\n",
              "      <td>8.781937</td>\n",
              "      <td>8.753204</td>\n",
              "    </tr>\n",
              "    <tr>\n",
              "      <th>1</th>\n",
              "      <td>0.0</td>\n",
              "      <td>8.748413</td>\n",
              "      <td>8.753204</td>\n",
              "      <td>8.777145</td>\n",
              "      <td>8.786728</td>\n",
              "      <td>8.762772</td>\n",
              "      <td>8.743622</td>\n",
              "      <td>8.772354</td>\n",
              "      <td>8.810669</td>\n",
              "      <td>8.791504</td>\n",
              "      <td>...</td>\n",
              "      <td>8.762772</td>\n",
              "      <td>8.767563</td>\n",
              "      <td>8.777145</td>\n",
              "      <td>8.777145</td>\n",
              "      <td>8.748413</td>\n",
              "      <td>8.762772</td>\n",
              "      <td>8.805878</td>\n",
              "      <td>8.781937</td>\n",
              "      <td>8.777145</td>\n",
              "      <td>8.757996</td>\n",
              "    </tr>\n",
              "    <tr>\n",
              "      <th>2</th>\n",
              "      <td>0.0</td>\n",
              "      <td>8.753204</td>\n",
              "      <td>8.772354</td>\n",
              "      <td>8.786728</td>\n",
              "      <td>8.781937</td>\n",
              "      <td>8.786728</td>\n",
              "      <td>8.777145</td>\n",
              "      <td>8.738831</td>\n",
              "      <td>8.820236</td>\n",
              "      <td>8.738831</td>\n",
              "      <td>...</td>\n",
              "      <td>8.767563</td>\n",
              "      <td>8.772354</td>\n",
              "      <td>8.757996</td>\n",
              "      <td>8.786728</td>\n",
              "      <td>8.777145</td>\n",
              "      <td>8.781937</td>\n",
              "      <td>8.786728</td>\n",
              "      <td>8.767563</td>\n",
              "      <td>8.781937</td>\n",
              "      <td>8.796295</td>\n",
              "    </tr>\n",
              "    <tr>\n",
              "      <th>3</th>\n",
              "      <td>0.0</td>\n",
              "      <td>8.767563</td>\n",
              "      <td>8.781937</td>\n",
              "      <td>8.781937</td>\n",
              "      <td>8.757996</td>\n",
              "      <td>8.753204</td>\n",
              "      <td>8.753204</td>\n",
              "      <td>8.719681</td>\n",
              "      <td>8.781937</td>\n",
              "      <td>8.767563</td>\n",
              "      <td>...</td>\n",
              "      <td>8.757996</td>\n",
              "      <td>8.786728</td>\n",
              "      <td>8.791504</td>\n",
              "      <td>8.781937</td>\n",
              "      <td>8.772354</td>\n",
              "      <td>8.762772</td>\n",
              "      <td>8.781937</td>\n",
              "      <td>8.762772</td>\n",
              "      <td>8.767563</td>\n",
              "      <td>8.791504</td>\n",
              "    </tr>\n",
              "    <tr>\n",
              "      <th>4</th>\n",
              "      <td>0.0</td>\n",
              "      <td>8.777145</td>\n",
              "      <td>8.748413</td>\n",
              "      <td>8.748413</td>\n",
              "      <td>8.748413</td>\n",
              "      <td>8.748413</td>\n",
              "      <td>8.738831</td>\n",
              "      <td>8.748413</td>\n",
              "      <td>8.748413</td>\n",
              "      <td>8.762772</td>\n",
              "      <td>...</td>\n",
              "      <td>8.781937</td>\n",
              "      <td>8.772354</td>\n",
              "      <td>8.762772</td>\n",
              "      <td>8.743622</td>\n",
              "      <td>8.738831</td>\n",
              "      <td>8.772354</td>\n",
              "      <td>8.762772</td>\n",
              "      <td>8.762772</td>\n",
              "      <td>8.777145</td>\n",
              "      <td>8.772354</td>\n",
              "    </tr>\n",
              "  </tbody>\n",
              "</table>\n",
              "<p>5 rows × 101 columns</p>\n",
              "</div>"
            ],
            "text/plain": [
              "   curb_scene   Acc-Z_1   Acc-Z_2   Acc-Z_3   Acc-Z_4   Acc-Z_5   Acc-Z_6  \\\n",
              "0         0.0  8.762772  8.753204  8.762772  8.781937  8.753204  8.748413   \n",
              "1         0.0  8.748413  8.753204  8.777145  8.786728  8.762772  8.743622   \n",
              "2         0.0  8.753204  8.772354  8.786728  8.781937  8.786728  8.777145   \n",
              "3         0.0  8.767563  8.781937  8.781937  8.757996  8.753204  8.753204   \n",
              "4         0.0  8.777145  8.748413  8.748413  8.748413  8.748413  8.738831   \n",
              "\n",
              "    Acc-Z_7   Acc-Z_8   Acc-Z_9  ...  Acc-Z_91  Acc-Z_92  Acc-Z_93  Acc-Z_94  \\\n",
              "0  8.738831  8.748413  8.743622  ...  8.786728  8.801086  8.820236  8.786728   \n",
              "1  8.772354  8.810669  8.791504  ...  8.762772  8.767563  8.777145  8.777145   \n",
              "2  8.738831  8.820236  8.738831  ...  8.767563  8.772354  8.757996  8.786728   \n",
              "3  8.719681  8.781937  8.767563  ...  8.757996  8.786728  8.791504  8.781937   \n",
              "4  8.748413  8.748413  8.762772  ...  8.781937  8.772354  8.762772  8.743622   \n",
              "\n",
              "   Acc-Z_95  Acc-Z_96  Acc-Z_97  Acc-Z_98  Acc-Z_99  Acc-Z_100  \n",
              "0  8.777145  8.772354  8.781937  8.801086  8.781937   8.753204  \n",
              "1  8.748413  8.762772  8.805878  8.781937  8.777145   8.757996  \n",
              "2  8.777145  8.781937  8.786728  8.767563  8.781937   8.796295  \n",
              "3  8.772354  8.762772  8.781937  8.762772  8.767563   8.791504  \n",
              "4  8.738831  8.772354  8.762772  8.762772  8.777145   8.772354  \n",
              "\n",
              "[5 rows x 101 columns]"
            ]
          },
          "execution_count": 2,
          "metadata": {},
          "output_type": "execute_result"
        }
      ],
      "source": [
        "# For Vscode\n",
        "import numpy as np\n",
        "import pandas as pd\n",
        "from tensorflow import keras\n",
        "from tensorflow.keras import layers\n",
        "from datetime import datetime\n",
        "from matplotlib import pyplot as plt\n",
        "from matplotlib import dates as md\n",
        "from sklearn.model_selection import train_test_split    #model selection and scaling data\n",
        "from sklearn.preprocessing import StandardScaler\n",
        "RANDOM_SEED = 42\n",
        "\n",
        "import sys\n",
        "sys.path.append('../../')   # Add parent directory to Python path\n",
        "from utils.Plots import *\n",
        "\n",
        "df = pd.read_csv('../../data/handlebar/processed_segments_overlap_30.csv')\n",
        "# 0 for normal, 1 for abnormal\n",
        "df['curb_scene'].value_counts()\n",
        "df.drop('Unnamed: 0', axis=1, inplace=True)\n",
        "df.head()"
      ]
    },
    {
      "cell_type": "code",
      "execution_count": 3,
      "metadata": {
        "colab": {
          "base_uri": "https://localhost:8080/",
          "height": 253
        },
        "id": "i3NZMq4eZ1xZ",
        "outputId": "46221bb0-b673-49e8-861a-b08286155245"
      },
      "outputs": [
        {
          "output_type": "stream",
          "name": "stdout",
          "text": [
            "Drive already mounted at /content/drive; to attempt to forcibly remount, call drive.mount(\"/content/drive\", force_remount=True).\n"
          ]
        },
        {
          "output_type": "execute_result",
          "data": {
            "text/plain": [
              "   Unnamed: 0  curb_scene   Acc-Z_1   Acc-Z_2   Acc-Z_3   Acc-Z_4   Acc-Z_5  \\\n",
              "0           0         0.0  8.762772  8.753204  8.762772  8.781937  8.753204   \n",
              "1           0         0.0  8.748413  8.753204  8.777145  8.786728  8.762772   \n",
              "2           0         0.0  8.753204  8.772354  8.786728  8.781937  8.786728   \n",
              "3           0         0.0  8.767563  8.781937  8.781937  8.757996  8.753204   \n",
              "4           0         0.0  8.777145  8.748413  8.748413  8.748413  8.748413   \n",
              "\n",
              "    Acc-Z_6   Acc-Z_7   Acc-Z_8  ...  Acc-Z_91  Acc-Z_92  Acc-Z_93  Acc-Z_94  \\\n",
              "0  8.748413  8.738831  8.748413  ...  8.786728  8.801086  8.820236  8.786728   \n",
              "1  8.743622  8.772354  8.810669  ...  8.762772  8.767563  8.777145  8.777145   \n",
              "2  8.777145  8.738831  8.820236  ...  8.767563  8.772354  8.757996  8.786728   \n",
              "3  8.753204  8.719681  8.781937  ...  8.757996  8.786728  8.791504  8.781937   \n",
              "4  8.738831  8.748413  8.748413  ...  8.781937  8.772354  8.762772  8.743622   \n",
              "\n",
              "   Acc-Z_95  Acc-Z_96  Acc-Z_97  Acc-Z_98  Acc-Z_99  Acc-Z_100  \n",
              "0  8.777145  8.772354  8.781937  8.801086  8.781937   8.753204  \n",
              "1  8.748413  8.762772  8.805878  8.781937  8.777145   8.757996  \n",
              "2  8.777145  8.781937  8.786728  8.767563  8.781937   8.796295  \n",
              "3  8.772354  8.762772  8.781937  8.762772  8.767563   8.791504  \n",
              "4  8.738831  8.772354  8.762772  8.762772  8.777145   8.772354  \n",
              "\n",
              "[5 rows x 102 columns]"
            ],
            "text/html": [
              "\n",
              "  <div id=\"df-b9a496dc-f07d-4165-a559-de5f709df144\" class=\"colab-df-container\">\n",
              "    <div>\n",
              "<style scoped>\n",
              "    .dataframe tbody tr th:only-of-type {\n",
              "        vertical-align: middle;\n",
              "    }\n",
              "\n",
              "    .dataframe tbody tr th {\n",
              "        vertical-align: top;\n",
              "    }\n",
              "\n",
              "    .dataframe thead th {\n",
              "        text-align: right;\n",
              "    }\n",
              "</style>\n",
              "<table border=\"1\" class=\"dataframe\">\n",
              "  <thead>\n",
              "    <tr style=\"text-align: right;\">\n",
              "      <th></th>\n",
              "      <th>Unnamed: 0</th>\n",
              "      <th>curb_scene</th>\n",
              "      <th>Acc-Z_1</th>\n",
              "      <th>Acc-Z_2</th>\n",
              "      <th>Acc-Z_3</th>\n",
              "      <th>Acc-Z_4</th>\n",
              "      <th>Acc-Z_5</th>\n",
              "      <th>Acc-Z_6</th>\n",
              "      <th>Acc-Z_7</th>\n",
              "      <th>Acc-Z_8</th>\n",
              "      <th>...</th>\n",
              "      <th>Acc-Z_91</th>\n",
              "      <th>Acc-Z_92</th>\n",
              "      <th>Acc-Z_93</th>\n",
              "      <th>Acc-Z_94</th>\n",
              "      <th>Acc-Z_95</th>\n",
              "      <th>Acc-Z_96</th>\n",
              "      <th>Acc-Z_97</th>\n",
              "      <th>Acc-Z_98</th>\n",
              "      <th>Acc-Z_99</th>\n",
              "      <th>Acc-Z_100</th>\n",
              "    </tr>\n",
              "  </thead>\n",
              "  <tbody>\n",
              "    <tr>\n",
              "      <th>0</th>\n",
              "      <td>0</td>\n",
              "      <td>0.0</td>\n",
              "      <td>8.762772</td>\n",
              "      <td>8.753204</td>\n",
              "      <td>8.762772</td>\n",
              "      <td>8.781937</td>\n",
              "      <td>8.753204</td>\n",
              "      <td>8.748413</td>\n",
              "      <td>8.738831</td>\n",
              "      <td>8.748413</td>\n",
              "      <td>...</td>\n",
              "      <td>8.786728</td>\n",
              "      <td>8.801086</td>\n",
              "      <td>8.820236</td>\n",
              "      <td>8.786728</td>\n",
              "      <td>8.777145</td>\n",
              "      <td>8.772354</td>\n",
              "      <td>8.781937</td>\n",
              "      <td>8.801086</td>\n",
              "      <td>8.781937</td>\n",
              "      <td>8.753204</td>\n",
              "    </tr>\n",
              "    <tr>\n",
              "      <th>1</th>\n",
              "      <td>0</td>\n",
              "      <td>0.0</td>\n",
              "      <td>8.748413</td>\n",
              "      <td>8.753204</td>\n",
              "      <td>8.777145</td>\n",
              "      <td>8.786728</td>\n",
              "      <td>8.762772</td>\n",
              "      <td>8.743622</td>\n",
              "      <td>8.772354</td>\n",
              "      <td>8.810669</td>\n",
              "      <td>...</td>\n",
              "      <td>8.762772</td>\n",
              "      <td>8.767563</td>\n",
              "      <td>8.777145</td>\n",
              "      <td>8.777145</td>\n",
              "      <td>8.748413</td>\n",
              "      <td>8.762772</td>\n",
              "      <td>8.805878</td>\n",
              "      <td>8.781937</td>\n",
              "      <td>8.777145</td>\n",
              "      <td>8.757996</td>\n",
              "    </tr>\n",
              "    <tr>\n",
              "      <th>2</th>\n",
              "      <td>0</td>\n",
              "      <td>0.0</td>\n",
              "      <td>8.753204</td>\n",
              "      <td>8.772354</td>\n",
              "      <td>8.786728</td>\n",
              "      <td>8.781937</td>\n",
              "      <td>8.786728</td>\n",
              "      <td>8.777145</td>\n",
              "      <td>8.738831</td>\n",
              "      <td>8.820236</td>\n",
              "      <td>...</td>\n",
              "      <td>8.767563</td>\n",
              "      <td>8.772354</td>\n",
              "      <td>8.757996</td>\n",
              "      <td>8.786728</td>\n",
              "      <td>8.777145</td>\n",
              "      <td>8.781937</td>\n",
              "      <td>8.786728</td>\n",
              "      <td>8.767563</td>\n",
              "      <td>8.781937</td>\n",
              "      <td>8.796295</td>\n",
              "    </tr>\n",
              "    <tr>\n",
              "      <th>3</th>\n",
              "      <td>0</td>\n",
              "      <td>0.0</td>\n",
              "      <td>8.767563</td>\n",
              "      <td>8.781937</td>\n",
              "      <td>8.781937</td>\n",
              "      <td>8.757996</td>\n",
              "      <td>8.753204</td>\n",
              "      <td>8.753204</td>\n",
              "      <td>8.719681</td>\n",
              "      <td>8.781937</td>\n",
              "      <td>...</td>\n",
              "      <td>8.757996</td>\n",
              "      <td>8.786728</td>\n",
              "      <td>8.791504</td>\n",
              "      <td>8.781937</td>\n",
              "      <td>8.772354</td>\n",
              "      <td>8.762772</td>\n",
              "      <td>8.781937</td>\n",
              "      <td>8.762772</td>\n",
              "      <td>8.767563</td>\n",
              "      <td>8.791504</td>\n",
              "    </tr>\n",
              "    <tr>\n",
              "      <th>4</th>\n",
              "      <td>0</td>\n",
              "      <td>0.0</td>\n",
              "      <td>8.777145</td>\n",
              "      <td>8.748413</td>\n",
              "      <td>8.748413</td>\n",
              "      <td>8.748413</td>\n",
              "      <td>8.748413</td>\n",
              "      <td>8.738831</td>\n",
              "      <td>8.748413</td>\n",
              "      <td>8.748413</td>\n",
              "      <td>...</td>\n",
              "      <td>8.781937</td>\n",
              "      <td>8.772354</td>\n",
              "      <td>8.762772</td>\n",
              "      <td>8.743622</td>\n",
              "      <td>8.738831</td>\n",
              "      <td>8.772354</td>\n",
              "      <td>8.762772</td>\n",
              "      <td>8.762772</td>\n",
              "      <td>8.777145</td>\n",
              "      <td>8.772354</td>\n",
              "    </tr>\n",
              "  </tbody>\n",
              "</table>\n",
              "<p>5 rows × 102 columns</p>\n",
              "</div>\n",
              "    <div class=\"colab-df-buttons\">\n",
              "\n",
              "  <div class=\"colab-df-container\">\n",
              "    <button class=\"colab-df-convert\" onclick=\"convertToInteractive('df-b9a496dc-f07d-4165-a559-de5f709df144')\"\n",
              "            title=\"Convert this dataframe to an interactive table.\"\n",
              "            style=\"display:none;\">\n",
              "\n",
              "  <svg xmlns=\"http://www.w3.org/2000/svg\" height=\"24px\" viewBox=\"0 -960 960 960\">\n",
              "    <path d=\"M120-120v-720h720v720H120Zm60-500h600v-160H180v160Zm220 220h160v-160H400v160Zm0 220h160v-160H400v160ZM180-400h160v-160H180v160Zm440 0h160v-160H620v160ZM180-180h160v-160H180v160Zm440 0h160v-160H620v160Z\"/>\n",
              "  </svg>\n",
              "    </button>\n",
              "\n",
              "  <style>\n",
              "    .colab-df-container {\n",
              "      display:flex;\n",
              "      gap: 12px;\n",
              "    }\n",
              "\n",
              "    .colab-df-convert {\n",
              "      background-color: #E8F0FE;\n",
              "      border: none;\n",
              "      border-radius: 50%;\n",
              "      cursor: pointer;\n",
              "      display: none;\n",
              "      fill: #1967D2;\n",
              "      height: 32px;\n",
              "      padding: 0 0 0 0;\n",
              "      width: 32px;\n",
              "    }\n",
              "\n",
              "    .colab-df-convert:hover {\n",
              "      background-color: #E2EBFA;\n",
              "      box-shadow: 0px 1px 2px rgba(60, 64, 67, 0.3), 0px 1px 3px 1px rgba(60, 64, 67, 0.15);\n",
              "      fill: #174EA6;\n",
              "    }\n",
              "\n",
              "    .colab-df-buttons div {\n",
              "      margin-bottom: 4px;\n",
              "    }\n",
              "\n",
              "    [theme=dark] .colab-df-convert {\n",
              "      background-color: #3B4455;\n",
              "      fill: #D2E3FC;\n",
              "    }\n",
              "\n",
              "    [theme=dark] .colab-df-convert:hover {\n",
              "      background-color: #434B5C;\n",
              "      box-shadow: 0px 1px 3px 1px rgba(0, 0, 0, 0.15);\n",
              "      filter: drop-shadow(0px 1px 2px rgba(0, 0, 0, 0.3));\n",
              "      fill: #FFFFFF;\n",
              "    }\n",
              "  </style>\n",
              "\n",
              "    <script>\n",
              "      const buttonEl =\n",
              "        document.querySelector('#df-b9a496dc-f07d-4165-a559-de5f709df144 button.colab-df-convert');\n",
              "      buttonEl.style.display =\n",
              "        google.colab.kernel.accessAllowed ? 'block' : 'none';\n",
              "\n",
              "      async function convertToInteractive(key) {\n",
              "        const element = document.querySelector('#df-b9a496dc-f07d-4165-a559-de5f709df144');\n",
              "        const dataTable =\n",
              "          await google.colab.kernel.invokeFunction('convertToInteractive',\n",
              "                                                    [key], {});\n",
              "        if (!dataTable) return;\n",
              "\n",
              "        const docLinkHtml = 'Like what you see? Visit the ' +\n",
              "          '<a target=\"_blank\" href=https://colab.research.google.com/notebooks/data_table.ipynb>data table notebook</a>'\n",
              "          + ' to learn more about interactive tables.';\n",
              "        element.innerHTML = '';\n",
              "        dataTable['output_type'] = 'display_data';\n",
              "        await google.colab.output.renderOutput(dataTable, element);\n",
              "        const docLink = document.createElement('div');\n",
              "        docLink.innerHTML = docLinkHtml;\n",
              "        element.appendChild(docLink);\n",
              "      }\n",
              "    </script>\n",
              "  </div>\n",
              "\n",
              "\n",
              "<div id=\"df-41f7ca84-bf34-4567-bd32-fa348aa43609\">\n",
              "  <button class=\"colab-df-quickchart\" onclick=\"quickchart('df-41f7ca84-bf34-4567-bd32-fa348aa43609')\"\n",
              "            title=\"Suggest charts\"\n",
              "            style=\"display:none;\">\n",
              "\n",
              "<svg xmlns=\"http://www.w3.org/2000/svg\" height=\"24px\"viewBox=\"0 0 24 24\"\n",
              "     width=\"24px\">\n",
              "    <g>\n",
              "        <path d=\"M19 3H5c-1.1 0-2 .9-2 2v14c0 1.1.9 2 2 2h14c1.1 0 2-.9 2-2V5c0-1.1-.9-2-2-2zM9 17H7v-7h2v7zm4 0h-2V7h2v10zm4 0h-2v-4h2v4z\"/>\n",
              "    </g>\n",
              "</svg>\n",
              "  </button>\n",
              "\n",
              "<style>\n",
              "  .colab-df-quickchart {\n",
              "      --bg-color: #E8F0FE;\n",
              "      --fill-color: #1967D2;\n",
              "      --hover-bg-color: #E2EBFA;\n",
              "      --hover-fill-color: #174EA6;\n",
              "      --disabled-fill-color: #AAA;\n",
              "      --disabled-bg-color: #DDD;\n",
              "  }\n",
              "\n",
              "  [theme=dark] .colab-df-quickchart {\n",
              "      --bg-color: #3B4455;\n",
              "      --fill-color: #D2E3FC;\n",
              "      --hover-bg-color: #434B5C;\n",
              "      --hover-fill-color: #FFFFFF;\n",
              "      --disabled-bg-color: #3B4455;\n",
              "      --disabled-fill-color: #666;\n",
              "  }\n",
              "\n",
              "  .colab-df-quickchart {\n",
              "    background-color: var(--bg-color);\n",
              "    border: none;\n",
              "    border-radius: 50%;\n",
              "    cursor: pointer;\n",
              "    display: none;\n",
              "    fill: var(--fill-color);\n",
              "    height: 32px;\n",
              "    padding: 0;\n",
              "    width: 32px;\n",
              "  }\n",
              "\n",
              "  .colab-df-quickchart:hover {\n",
              "    background-color: var(--hover-bg-color);\n",
              "    box-shadow: 0 1px 2px rgba(60, 64, 67, 0.3), 0 1px 3px 1px rgba(60, 64, 67, 0.15);\n",
              "    fill: var(--button-hover-fill-color);\n",
              "  }\n",
              "\n",
              "  .colab-df-quickchart-complete:disabled,\n",
              "  .colab-df-quickchart-complete:disabled:hover {\n",
              "    background-color: var(--disabled-bg-color);\n",
              "    fill: var(--disabled-fill-color);\n",
              "    box-shadow: none;\n",
              "  }\n",
              "\n",
              "  .colab-df-spinner {\n",
              "    border: 2px solid var(--fill-color);\n",
              "    border-color: transparent;\n",
              "    border-bottom-color: var(--fill-color);\n",
              "    animation:\n",
              "      spin 1s steps(1) infinite;\n",
              "  }\n",
              "\n",
              "  @keyframes spin {\n",
              "    0% {\n",
              "      border-color: transparent;\n",
              "      border-bottom-color: var(--fill-color);\n",
              "      border-left-color: var(--fill-color);\n",
              "    }\n",
              "    20% {\n",
              "      border-color: transparent;\n",
              "      border-left-color: var(--fill-color);\n",
              "      border-top-color: var(--fill-color);\n",
              "    }\n",
              "    30% {\n",
              "      border-color: transparent;\n",
              "      border-left-color: var(--fill-color);\n",
              "      border-top-color: var(--fill-color);\n",
              "      border-right-color: var(--fill-color);\n",
              "    }\n",
              "    40% {\n",
              "      border-color: transparent;\n",
              "      border-right-color: var(--fill-color);\n",
              "      border-top-color: var(--fill-color);\n",
              "    }\n",
              "    60% {\n",
              "      border-color: transparent;\n",
              "      border-right-color: var(--fill-color);\n",
              "    }\n",
              "    80% {\n",
              "      border-color: transparent;\n",
              "      border-right-color: var(--fill-color);\n",
              "      border-bottom-color: var(--fill-color);\n",
              "    }\n",
              "    90% {\n",
              "      border-color: transparent;\n",
              "      border-bottom-color: var(--fill-color);\n",
              "    }\n",
              "  }\n",
              "</style>\n",
              "\n",
              "  <script>\n",
              "    async function quickchart(key) {\n",
              "      const quickchartButtonEl =\n",
              "        document.querySelector('#' + key + ' button');\n",
              "      quickchartButtonEl.disabled = true;  // To prevent multiple clicks.\n",
              "      quickchartButtonEl.classList.add('colab-df-spinner');\n",
              "      try {\n",
              "        const charts = await google.colab.kernel.invokeFunction(\n",
              "            'suggestCharts', [key], {});\n",
              "      } catch (error) {\n",
              "        console.error('Error during call to suggestCharts:', error);\n",
              "      }\n",
              "      quickchartButtonEl.classList.remove('colab-df-spinner');\n",
              "      quickchartButtonEl.classList.add('colab-df-quickchart-complete');\n",
              "    }\n",
              "    (() => {\n",
              "      let quickchartButtonEl =\n",
              "        document.querySelector('#df-41f7ca84-bf34-4567-bd32-fa348aa43609 button');\n",
              "      quickchartButtonEl.style.display =\n",
              "        google.colab.kernel.accessAllowed ? 'block' : 'none';\n",
              "    })();\n",
              "  </script>\n",
              "</div>\n",
              "\n",
              "    </div>\n",
              "  </div>\n"
            ],
            "application/vnd.google.colaboratory.intrinsic+json": {
              "type": "dataframe",
              "variable_name": "df"
            }
          },
          "metadata": {},
          "execution_count": 3
        }
      ],
      "source": [
        "# For Colab\n",
        "import numpy as np\n",
        "import pandas as pd\n",
        "from tensorflow import keras\n",
        "from tensorflow.keras import layers\n",
        "from datetime import datetime\n",
        "from matplotlib import pyplot as plt\n",
        "from matplotlib import dates as md\n",
        "from sklearn.model_selection import train_test_split    #model selection and scaling data\n",
        "from sklearn.preprocessing import StandardScaler\n",
        "RANDOM_SEED = 42\n",
        "\n",
        "\n",
        "import os\n",
        "from google.colab import drive\n",
        "drive.mount('/content/drive')\n",
        "df = pd.read_csv('/content/drive/MyDrive/Project/data/processed_segments_overlap_30.csv')\n",
        "# # 0 for normal, 1 for abnormal\n",
        "df['curb_scene'].value_counts()\n",
        "df.head()"
      ]
    },
    {
      "cell_type": "code",
      "execution_count": 4,
      "metadata": {
        "id": "x1yKiG-4KLZ0"
      },
      "outputs": [],
      "source": [
        "# Suppose df is your DataFrame, and df['curb_scene'] is your label column\n",
        "train_data, test_data, train_labels, test_labels = train_test_split(df, df['curb_scene'],\n",
        "                                                                    test_size=0.2,\n",
        "                                                                    random_state=RANDOM_SEED)"
      ]
    },
    {
      "cell_type": "code",
      "execution_count": 5,
      "metadata": {
        "id": "65NJYMCIKLZ0"
      },
      "outputs": [],
      "source": [
        "#scaling data, because neural network works better with scaled data\n",
        "scaler = StandardScaler()\n",
        "data_scaled = scaler.fit(train_data.iloc[:, 3:])\n",
        "#transform data\n",
        "train_data_scaled = scaler.transform(train_data.iloc[:, 3:])\n",
        "test_data_scaled = scaler.transform(test_data.iloc[:, 3:])"
      ]
    },
    {
      "cell_type": "code",
      "execution_count": 6,
      "metadata": {
        "id": "jPeLMJUXKLZ0"
      },
      "outputs": [],
      "source": [
        "# Convert the scaled data back to DataFrames for further processing\n",
        "train_data_scaled_df = pd.DataFrame(train_data_scaled, columns=train_data.columns[3:])\n",
        "test_data_scaled_df = pd.DataFrame(test_data_scaled, columns=test_data.columns[3:])\n",
        "# Add the 'curb_scene', 'start_time', and 'end_time' columns back to the scaled DataFrames\n",
        "train_data_scaled_df['curb_scene'] = train_data['curb_scene'].values\n",
        "# train_data_scaled_df['start_time'] = train_data['start_time'].values\n",
        "# train_data_scaled_df['end_time'] = train_data['end_time'].values\n",
        "test_data_scaled_df['curb_scene'] = test_data['curb_scene'].values\n",
        "# test_data_scaled_df['start_time'] = test_data['start_time'].values\n",
        "# test_data_scaled_df['end_time'] = test_data['end_time'].values"
      ]
    },
    {
      "cell_type": "code",
      "execution_count": 7,
      "metadata": {
        "colab": {
          "base_uri": "https://localhost:8080/"
        },
        "id": "GkXODwMqKLZ0",
        "outputId": "6bd6f5d8-540d-46e4-e533-5797ee7d61f1"
      },
      "outputs": [
        {
          "output_type": "stream",
          "name": "stdout",
          "text": [
            "Index([   1,    2,    3,    4,    5,    6,    7,    8,    9,   10,\n",
            "       ...\n",
            "       1321, 1322, 1323, 1324, 1325, 1326, 1327, 1328, 1329, 1330],\n",
            "      dtype='int64', length=1286)\n",
            "Index([   0,   18,   19,   27,   56,   68,   89,  118,  220,  374,  410,  508,\n",
            "        511,  522,  535,  570,  589,  598,  613,  619,  628,  632,  636,  658,\n",
            "        683,  689,  714,  806,  830,  848,  855,  870,  879,  897,  920,  936,\n",
            "        962,  967, 1042, 1113, 1221, 1237, 1246, 1253, 1264],\n",
            "      dtype='int64')\n"
          ]
        }
      ],
      "source": [
        "# Filter and slice the data\n",
        "normal_train_data_scaled = train_data_scaled_df[train_data_scaled_df['curb_scene'] == 0.0].iloc[:, :-3]\n",
        "abnormal_train_data_scaled = train_data_scaled_df[train_data_scaled_df['curb_scene'] == 1.0].iloc[:, :-3]\n",
        "normal_test_data_scaled = test_data_scaled_df[test_data_scaled_df['curb_scene'] == 0.0].iloc[:, :-3]\n",
        "abnormal_test_data_scaled = test_data_scaled_df[test_data_scaled_df['curb_scene'] == 1.0].iloc[:, :-3]\n",
        "# Example usage: Accessing the original index\n",
        "print(normal_test_data_scaled.index)\n",
        "print(abnormal_test_data_scaled.index)"
      ]
    },
    {
      "cell_type": "code",
      "execution_count": 8,
      "metadata": {
        "id": "MDG05LdPKLZ0"
      },
      "outputs": [],
      "source": [
        "# Cast to float32\n",
        "normal_train_data_scaled = normal_train_data_scaled.astype(\"float32\")\n",
        "abnormal_train_data_scaled = abnormal_train_data_scaled.astype(\"float32\")\n",
        "normal_test_data_scaled = normal_test_data_scaled.astype(\"float32\")\n",
        "abnormal_test_data_scaled = abnormal_test_data_scaled.astype(\"float32\")"
      ]
    },
    {
      "cell_type": "code",
      "execution_count": 9,
      "metadata": {
        "colab": {
          "base_uri": "https://localhost:8080/"
        },
        "id": "O0bt0btyZuSK",
        "outputId": "e0f39f93-789d-4c95-ec4d-b99dc3275258"
      },
      "outputs": [
        {
          "output_type": "execute_result",
          "data": {
            "text/plain": [
              "((5124, 97, 1), (1286, 97, 1), (45, 97, 1))"
            ]
          },
          "metadata": {},
          "execution_count": 9
        }
      ],
      "source": [
        "normal_train_data_scaled_lstm = np.expand_dims(normal_train_data_scaled, axis=2)\n",
        "normal_test_data_scaled_lstm = np.expand_dims(normal_test_data_scaled, axis=2)\n",
        "abnormal_test_data_scaled_lstm = np.expand_dims(abnormal_test_data_scaled, axis=2)\n",
        "normal_train_data_scaled_lstm.shape, normal_test_data_scaled_lstm.shape, abnormal_test_data_scaled_lstm.shape"
      ]
    },
    {
      "cell_type": "code",
      "execution_count": 10,
      "metadata": {
        "colab": {
          "base_uri": "https://localhost:8080/",
          "height": 340
        },
        "id": "jAws3-IRZuSK",
        "outputId": "9fd3d09b-779f-42dc-fac5-6984b627d554"
      },
      "outputs": [
        {
          "output_type": "display_data",
          "data": {
            "text/plain": [
              "\u001b[1mModel: \"sequential\"\u001b[0m\n"
            ],
            "text/html": [
              "<pre style=\"white-space:pre;overflow-x:auto;line-height:normal;font-family:Menlo,'DejaVu Sans Mono',consolas,'Courier New',monospace\"><span style=\"font-weight: bold\">Model: \"sequential\"</span>\n",
              "</pre>\n"
            ]
          },
          "metadata": {}
        },
        {
          "output_type": "display_data",
          "data": {
            "text/plain": [
              "┏━━━━━━━━━━━━━━━━━━━━━━━━━━━━━━━━━━━━━━┳━━━━━━━━━━━━━━━━━━━━━━━━━━━━━┳━━━━━━━━━━━━━━━━━┓\n",
              "┃\u001b[1m \u001b[0m\u001b[1mLayer (type)                        \u001b[0m\u001b[1m \u001b[0m┃\u001b[1m \u001b[0m\u001b[1mOutput Shape               \u001b[0m\u001b[1m \u001b[0m┃\u001b[1m \u001b[0m\u001b[1m        Param #\u001b[0m\u001b[1m \u001b[0m┃\n",
              "┡━━━━━━━━━━━━━━━━━━━━━━━━━━━━━━━━━━━━━━╇━━━━━━━━━━━━━━━━━━━━━━━━━━━━━╇━━━━━━━━━━━━━━━━━┩\n",
              "│ lstm (\u001b[38;5;33mLSTM\u001b[0m)                          │ (\u001b[38;5;45mNone\u001b[0m, \u001b[38;5;34m64\u001b[0m)                  │          \u001b[38;5;34m16,896\u001b[0m │\n",
              "├──────────────────────────────────────┼─────────────────────────────┼─────────────────┤\n",
              "│ dropout (\u001b[38;5;33mDropout\u001b[0m)                    │ (\u001b[38;5;45mNone\u001b[0m, \u001b[38;5;34m64\u001b[0m)                  │               \u001b[38;5;34m0\u001b[0m │\n",
              "├──────────────────────────────────────┼─────────────────────────────┼─────────────────┤\n",
              "│ repeat_vector (\u001b[38;5;33mRepeatVector\u001b[0m)         │ (\u001b[38;5;45mNone\u001b[0m, \u001b[38;5;34m97\u001b[0m, \u001b[38;5;34m64\u001b[0m)              │               \u001b[38;5;34m0\u001b[0m │\n",
              "├──────────────────────────────────────┼─────────────────────────────┼─────────────────┤\n",
              "│ lstm_1 (\u001b[38;5;33mLSTM\u001b[0m)                        │ (\u001b[38;5;45mNone\u001b[0m, \u001b[38;5;34m97\u001b[0m, \u001b[38;5;34m64\u001b[0m)              │          \u001b[38;5;34m33,024\u001b[0m │\n",
              "├──────────────────────────────────────┼─────────────────────────────┼─────────────────┤\n",
              "│ dropout_1 (\u001b[38;5;33mDropout\u001b[0m)                  │ (\u001b[38;5;45mNone\u001b[0m, \u001b[38;5;34m97\u001b[0m, \u001b[38;5;34m64\u001b[0m)              │               \u001b[38;5;34m0\u001b[0m │\n",
              "├──────────────────────────────────────┼─────────────────────────────┼─────────────────┤\n",
              "│ time_distributed (\u001b[38;5;33mTimeDistributed\u001b[0m)   │ (\u001b[38;5;45mNone\u001b[0m, \u001b[38;5;34m97\u001b[0m, \u001b[38;5;34m1\u001b[0m)               │              \u001b[38;5;34m65\u001b[0m │\n",
              "└──────────────────────────────────────┴─────────────────────────────┴─────────────────┘\n"
            ],
            "text/html": [
              "<pre style=\"white-space:pre;overflow-x:auto;line-height:normal;font-family:Menlo,'DejaVu Sans Mono',consolas,'Courier New',monospace\">┏━━━━━━━━━━━━━━━━━━━━━━━━━━━━━━━━━━━━━━┳━━━━━━━━━━━━━━━━━━━━━━━━━━━━━┳━━━━━━━━━━━━━━━━━┓\n",
              "┃<span style=\"font-weight: bold\"> Layer (type)                         </span>┃<span style=\"font-weight: bold\"> Output Shape                </span>┃<span style=\"font-weight: bold\">         Param # </span>┃\n",
              "┡━━━━━━━━━━━━━━━━━━━━━━━━━━━━━━━━━━━━━━╇━━━━━━━━━━━━━━━━━━━━━━━━━━━━━╇━━━━━━━━━━━━━━━━━┩\n",
              "│ lstm (<span style=\"color: #0087ff; text-decoration-color: #0087ff\">LSTM</span>)                          │ (<span style=\"color: #00d7ff; text-decoration-color: #00d7ff\">None</span>, <span style=\"color: #00af00; text-decoration-color: #00af00\">64</span>)                  │          <span style=\"color: #00af00; text-decoration-color: #00af00\">16,896</span> │\n",
              "├──────────────────────────────────────┼─────────────────────────────┼─────────────────┤\n",
              "│ dropout (<span style=\"color: #0087ff; text-decoration-color: #0087ff\">Dropout</span>)                    │ (<span style=\"color: #00d7ff; text-decoration-color: #00d7ff\">None</span>, <span style=\"color: #00af00; text-decoration-color: #00af00\">64</span>)                  │               <span style=\"color: #00af00; text-decoration-color: #00af00\">0</span> │\n",
              "├──────────────────────────────────────┼─────────────────────────────┼─────────────────┤\n",
              "│ repeat_vector (<span style=\"color: #0087ff; text-decoration-color: #0087ff\">RepeatVector</span>)         │ (<span style=\"color: #00d7ff; text-decoration-color: #00d7ff\">None</span>, <span style=\"color: #00af00; text-decoration-color: #00af00\">97</span>, <span style=\"color: #00af00; text-decoration-color: #00af00\">64</span>)              │               <span style=\"color: #00af00; text-decoration-color: #00af00\">0</span> │\n",
              "├──────────────────────────────────────┼─────────────────────────────┼─────────────────┤\n",
              "│ lstm_1 (<span style=\"color: #0087ff; text-decoration-color: #0087ff\">LSTM</span>)                        │ (<span style=\"color: #00d7ff; text-decoration-color: #00d7ff\">None</span>, <span style=\"color: #00af00; text-decoration-color: #00af00\">97</span>, <span style=\"color: #00af00; text-decoration-color: #00af00\">64</span>)              │          <span style=\"color: #00af00; text-decoration-color: #00af00\">33,024</span> │\n",
              "├──────────────────────────────────────┼─────────────────────────────┼─────────────────┤\n",
              "│ dropout_1 (<span style=\"color: #0087ff; text-decoration-color: #0087ff\">Dropout</span>)                  │ (<span style=\"color: #00d7ff; text-decoration-color: #00d7ff\">None</span>, <span style=\"color: #00af00; text-decoration-color: #00af00\">97</span>, <span style=\"color: #00af00; text-decoration-color: #00af00\">64</span>)              │               <span style=\"color: #00af00; text-decoration-color: #00af00\">0</span> │\n",
              "├──────────────────────────────────────┼─────────────────────────────┼─────────────────┤\n",
              "│ time_distributed (<span style=\"color: #0087ff; text-decoration-color: #0087ff\">TimeDistributed</span>)   │ (<span style=\"color: #00d7ff; text-decoration-color: #00d7ff\">None</span>, <span style=\"color: #00af00; text-decoration-color: #00af00\">97</span>, <span style=\"color: #00af00; text-decoration-color: #00af00\">1</span>)               │              <span style=\"color: #00af00; text-decoration-color: #00af00\">65</span> │\n",
              "└──────────────────────────────────────┴─────────────────────────────┴─────────────────┘\n",
              "</pre>\n"
            ]
          },
          "metadata": {}
        },
        {
          "output_type": "display_data",
          "data": {
            "text/plain": [
              "\u001b[1m Total params: \u001b[0m\u001b[38;5;34m49,985\u001b[0m (195.25 KB)\n"
            ],
            "text/html": [
              "<pre style=\"white-space:pre;overflow-x:auto;line-height:normal;font-family:Menlo,'DejaVu Sans Mono',consolas,'Courier New',monospace\"><span style=\"font-weight: bold\"> Total params: </span><span style=\"color: #00af00; text-decoration-color: #00af00\">49,985</span> (195.25 KB)\n",
              "</pre>\n"
            ]
          },
          "metadata": {}
        },
        {
          "output_type": "display_data",
          "data": {
            "text/plain": [
              "\u001b[1m Trainable params: \u001b[0m\u001b[38;5;34m49,985\u001b[0m (195.25 KB)\n"
            ],
            "text/html": [
              "<pre style=\"white-space:pre;overflow-x:auto;line-height:normal;font-family:Menlo,'DejaVu Sans Mono',consolas,'Courier New',monospace\"><span style=\"font-weight: bold\"> Trainable params: </span><span style=\"color: #00af00; text-decoration-color: #00af00\">49,985</span> (195.25 KB)\n",
              "</pre>\n"
            ]
          },
          "metadata": {}
        },
        {
          "output_type": "display_data",
          "data": {
            "text/plain": [
              "\u001b[1m Non-trainable params: \u001b[0m\u001b[38;5;34m0\u001b[0m (0.00 B)\n"
            ],
            "text/html": [
              "<pre style=\"white-space:pre;overflow-x:auto;line-height:normal;font-family:Menlo,'DejaVu Sans Mono',consolas,'Courier New',monospace\"><span style=\"font-weight: bold\"> Non-trainable params: </span><span style=\"color: #00af00; text-decoration-color: #00af00\">0</span> (0.00 B)\n",
              "</pre>\n"
            ]
          },
          "metadata": {}
        }
      ],
      "source": [
        "from keras.models import Sequential\n",
        "from keras.layers import LSTM, Input, Dropout\n",
        "from keras.layers import Dense\n",
        "from keras.layers import RepeatVector\n",
        "from keras.layers import TimeDistributed\n",
        "from keras.models import Model\n",
        "\n",
        "model = Sequential()\n",
        "# Encoder\n",
        "model.add(Input(shape=(normal_train_data_scaled_lstm.shape[1], normal_train_data_scaled_lstm.shape[2])))\n",
        "model.add(LSTM(64, activation='tanh', return_sequences=False))\n",
        "#not Overfitting\n",
        "model.add(Dropout(rate=0.1))\n",
        "\n",
        "model.add(RepeatVector(normal_train_data_scaled_lstm.shape[1]))\n",
        "\n",
        "model.add(LSTM(64, activation='tanh', return_sequences=True))\n",
        "model.add(Dropout(rate=0.1))\n",
        "model.add(TimeDistributed(Dense(normal_train_data_scaled_lstm.shape[2])))\n",
        "model.compile(optimizer='adam', loss='mae')\n",
        "model.summary()\n"
      ]
    },
    {
      "cell_type": "code",
      "execution_count": 11,
      "metadata": {
        "id": "InlfUN7XL_7-"
      },
      "outputs": [],
      "source": [
        "# define early stopping to prevent overfit\n",
        "early_stopping = keras.callbacks.EarlyStopping(monitor=\"val_loss\",\n",
        "                                               patience=10,\n",
        "                                               mode=\"min\",\n",
        "                                               verbose=1,\n",
        "                                               restore_best_weights=True)"
      ]
    },
    {
      "cell_type": "markdown",
      "metadata": {
        "id": "YmTo9WKUMIKy"
      },
      "source": []
    },
    {
      "cell_type": "code",
      "execution_count": 12,
      "metadata": {
        "colab": {
          "base_uri": "https://localhost:8080/"
        },
        "id": "Rms63bU1ZuSK",
        "outputId": "3d8d945a-540c-410e-c827-c95c23697d20"
      },
      "outputs": [
        {
          "output_type": "stream",
          "name": "stdout",
          "text": [
            "Epoch 1/100\n",
            "\u001b[1m29/29\u001b[0m \u001b[32m━━━━━━━━━━━━━━━━━━━━\u001b[0m\u001b[37m\u001b[0m \u001b[1m9s\u001b[0m 69ms/step - loss: 0.4476 - val_loss: 0.4535\n",
            "Epoch 2/100\n",
            "\u001b[1m29/29\u001b[0m \u001b[32m━━━━━━━━━━━━━━━━━━━━\u001b[0m\u001b[37m\u001b[0m \u001b[1m1s\u001b[0m 22ms/step - loss: 0.4429 - val_loss: 0.4528\n",
            "Epoch 3/100\n",
            "\u001b[1m29/29\u001b[0m \u001b[32m━━━━━━━━━━━━━━━━━━━━\u001b[0m\u001b[37m\u001b[0m \u001b[1m1s\u001b[0m 22ms/step - loss: 0.4427 - val_loss: 0.4523\n",
            "Epoch 4/100\n",
            "\u001b[1m29/29\u001b[0m \u001b[32m━━━━━━━━━━━━━━━━━━━━\u001b[0m\u001b[37m\u001b[0m \u001b[1m1s\u001b[0m 21ms/step - loss: 0.4424 - val_loss: 0.4519\n",
            "Epoch 5/100\n",
            "\u001b[1m29/29\u001b[0m \u001b[32m━━━━━━━━━━━━━━━━━━━━\u001b[0m\u001b[37m\u001b[0m \u001b[1m1s\u001b[0m 21ms/step - loss: 0.4421 - val_loss: 0.4517\n",
            "Epoch 6/100\n",
            "\u001b[1m29/29\u001b[0m \u001b[32m━━━━━━━━━━━━━━━━━━━━\u001b[0m\u001b[37m\u001b[0m \u001b[1m1s\u001b[0m 21ms/step - loss: 0.4419 - val_loss: 0.4518\n",
            "Epoch 7/100\n",
            "\u001b[1m29/29\u001b[0m \u001b[32m━━━━━━━━━━━━━━━━━━━━\u001b[0m\u001b[37m\u001b[0m \u001b[1m1s\u001b[0m 21ms/step - loss: 0.4420 - val_loss: 0.4517\n",
            "Epoch 8/100\n",
            "\u001b[1m29/29\u001b[0m \u001b[32m━━━━━━━━━━━━━━━━━━━━\u001b[0m\u001b[37m\u001b[0m \u001b[1m1s\u001b[0m 21ms/step - loss: 0.4420 - val_loss: 0.4517\n",
            "Epoch 9/100\n",
            "\u001b[1m29/29\u001b[0m \u001b[32m━━━━━━━━━━━━━━━━━━━━\u001b[0m\u001b[37m\u001b[0m \u001b[1m1s\u001b[0m 21ms/step - loss: 0.4419 - val_loss: 0.4516\n",
            "Epoch 10/100\n",
            "\u001b[1m29/29\u001b[0m \u001b[32m━━━━━━━━━━━━━━━━━━━━\u001b[0m\u001b[37m\u001b[0m \u001b[1m1s\u001b[0m 21ms/step - loss: 0.4419 - val_loss: 0.4516\n",
            "Epoch 11/100\n",
            "\u001b[1m29/29\u001b[0m \u001b[32m━━━━━━━━━━━━━━━━━━━━\u001b[0m\u001b[37m\u001b[0m \u001b[1m1s\u001b[0m 21ms/step - loss: 0.4420 - val_loss: 0.4518\n",
            "Epoch 12/100\n",
            "\u001b[1m29/29\u001b[0m \u001b[32m━━━━━━━━━━━━━━━━━━━━\u001b[0m\u001b[37m\u001b[0m \u001b[1m1s\u001b[0m 21ms/step - loss: 0.4419 - val_loss: 0.4515\n",
            "Epoch 13/100\n",
            "\u001b[1m29/29\u001b[0m \u001b[32m━━━━━━━━━━━━━━━━━━━━\u001b[0m\u001b[37m\u001b[0m \u001b[1m1s\u001b[0m 21ms/step - loss: 0.4418 - val_loss: 0.4515\n",
            "Epoch 14/100\n",
            "\u001b[1m29/29\u001b[0m \u001b[32m━━━━━━━━━━━━━━━━━━━━\u001b[0m\u001b[37m\u001b[0m \u001b[1m1s\u001b[0m 21ms/step - loss: 0.4419 - val_loss: 0.4516\n",
            "Epoch 15/100\n",
            "\u001b[1m29/29\u001b[0m \u001b[32m━━━━━━━━━━━━━━━━━━━━\u001b[0m\u001b[37m\u001b[0m \u001b[1m1s\u001b[0m 21ms/step - loss: 0.4418 - val_loss: 0.4514\n",
            "Epoch 16/100\n",
            "\u001b[1m29/29\u001b[0m \u001b[32m━━━━━━━━━━━━━━━━━━━━\u001b[0m\u001b[37m\u001b[0m \u001b[1m1s\u001b[0m 21ms/step - loss: 0.4416 - val_loss: 0.4515\n",
            "Epoch 17/100\n",
            "\u001b[1m29/29\u001b[0m \u001b[32m━━━━━━━━━━━━━━━━━━━━\u001b[0m\u001b[37m\u001b[0m \u001b[1m1s\u001b[0m 21ms/step - loss: 0.4418 - val_loss: 0.4515\n",
            "Epoch 18/100\n",
            "\u001b[1m29/29\u001b[0m \u001b[32m━━━━━━━━━━━━━━━━━━━━\u001b[0m\u001b[37m\u001b[0m \u001b[1m1s\u001b[0m 21ms/step - loss: 0.4417 - val_loss: 0.4513\n",
            "Epoch 19/100\n",
            "\u001b[1m29/29\u001b[0m \u001b[32m━━━━━━━━━━━━━━━━━━━━\u001b[0m\u001b[37m\u001b[0m \u001b[1m1s\u001b[0m 21ms/step - loss: 0.4416 - val_loss: 0.4524\n",
            "Epoch 20/100\n",
            "\u001b[1m29/29\u001b[0m \u001b[32m━━━━━━━━━━━━━━━━━━━━\u001b[0m\u001b[37m\u001b[0m \u001b[1m1s\u001b[0m 22ms/step - loss: 0.4422 - val_loss: 0.4514\n",
            "Epoch 21/100\n",
            "\u001b[1m29/29\u001b[0m \u001b[32m━━━━━━━━━━━━━━━━━━━━\u001b[0m\u001b[37m\u001b[0m \u001b[1m1s\u001b[0m 21ms/step - loss: 0.4417 - val_loss: 0.4515\n",
            "Epoch 22/100\n",
            "\u001b[1m29/29\u001b[0m \u001b[32m━━━━━━━━━━━━━━━━━━━━\u001b[0m\u001b[37m\u001b[0m \u001b[1m1s\u001b[0m 22ms/step - loss: 0.4417 - val_loss: 0.4512\n",
            "Epoch 23/100\n",
            "\u001b[1m29/29\u001b[0m \u001b[32m━━━━━━━━━━━━━━━━━━━━\u001b[0m\u001b[37m\u001b[0m \u001b[1m1s\u001b[0m 21ms/step - loss: 0.4416 - val_loss: 0.4513\n",
            "Epoch 24/100\n",
            "\u001b[1m29/29\u001b[0m \u001b[32m━━━━━━━━━━━━━━━━━━━━\u001b[0m\u001b[37m\u001b[0m \u001b[1m1s\u001b[0m 21ms/step - loss: 0.4414 - val_loss: 0.4520\n",
            "Epoch 25/100\n",
            "\u001b[1m29/29\u001b[0m \u001b[32m━━━━━━━━━━━━━━━━━━━━\u001b[0m\u001b[37m\u001b[0m \u001b[1m1s\u001b[0m 21ms/step - loss: 0.4417 - val_loss: 0.4510\n",
            "Epoch 26/100\n",
            "\u001b[1m29/29\u001b[0m \u001b[32m━━━━━━━━━━━━━━━━━━━━\u001b[0m\u001b[37m\u001b[0m \u001b[1m1s\u001b[0m 21ms/step - loss: 0.4419 - val_loss: 0.4515\n",
            "Epoch 27/100\n",
            "\u001b[1m29/29\u001b[0m \u001b[32m━━━━━━━━━━━━━━━━━━━━\u001b[0m\u001b[37m\u001b[0m \u001b[1m1s\u001b[0m 21ms/step - loss: 0.4417 - val_loss: 0.4511\n",
            "Epoch 28/100\n",
            "\u001b[1m29/29\u001b[0m \u001b[32m━━━━━━━━━━━━━━━━━━━━\u001b[0m\u001b[37m\u001b[0m \u001b[1m1s\u001b[0m 21ms/step - loss: 0.4414 - val_loss: 0.4512\n",
            "Epoch 29/100\n",
            "\u001b[1m29/29\u001b[0m \u001b[32m━━━━━━━━━━━━━━━━━━━━\u001b[0m\u001b[37m\u001b[0m \u001b[1m1s\u001b[0m 21ms/step - loss: 0.4414 - val_loss: 0.4513\n",
            "Epoch 30/100\n",
            "\u001b[1m29/29\u001b[0m \u001b[32m━━━━━━━━━━━━━━━━━━━━\u001b[0m\u001b[37m\u001b[0m \u001b[1m1s\u001b[0m 21ms/step - loss: 0.4415 - val_loss: 0.4510\n",
            "Epoch 31/100\n",
            "\u001b[1m29/29\u001b[0m \u001b[32m━━━━━━━━━━━━━━━━━━━━\u001b[0m\u001b[37m\u001b[0m \u001b[1m1s\u001b[0m 21ms/step - loss: 0.4414 - val_loss: 0.4524\n",
            "Epoch 32/100\n",
            "\u001b[1m29/29\u001b[0m \u001b[32m━━━━━━━━━━━━━━━━━━━━\u001b[0m\u001b[37m\u001b[0m \u001b[1m1s\u001b[0m 21ms/step - loss: 0.4422 - val_loss: 0.4516\n",
            "Epoch 33/100\n",
            "\u001b[1m29/29\u001b[0m \u001b[32m━━━━━━━━━━━━━━━━━━━━\u001b[0m\u001b[37m\u001b[0m \u001b[1m1s\u001b[0m 21ms/step - loss: 0.4418 - val_loss: 0.4516\n",
            "Epoch 34/100\n",
            "\u001b[1m29/29\u001b[0m \u001b[32m━━━━━━━━━━━━━━━━━━━━\u001b[0m\u001b[37m\u001b[0m \u001b[1m1s\u001b[0m 21ms/step - loss: 0.4418 - val_loss: 0.4515\n",
            "Epoch 35/100\n",
            "\u001b[1m29/29\u001b[0m \u001b[32m━━━━━━━━━━━━━━━━━━━━\u001b[0m\u001b[37m\u001b[0m \u001b[1m1s\u001b[0m 21ms/step - loss: 0.4417 - val_loss: 0.4514\n",
            "Epoch 36/100\n",
            "\u001b[1m29/29\u001b[0m \u001b[32m━━━━━━━━━━━━━━━━━━━━\u001b[0m\u001b[37m\u001b[0m \u001b[1m1s\u001b[0m 21ms/step - loss: 0.4417 - val_loss: 0.4515\n",
            "Epoch 37/100\n",
            "\u001b[1m29/29\u001b[0m \u001b[32m━━━━━━━━━━━━━━━━━━━━\u001b[0m\u001b[37m\u001b[0m \u001b[1m1s\u001b[0m 21ms/step - loss: 0.4417 - val_loss: 0.4513\n",
            "Epoch 38/100\n",
            "\u001b[1m29/29\u001b[0m \u001b[32m━━━━━━━━━━━━━━━━━━━━\u001b[0m\u001b[37m\u001b[0m \u001b[1m1s\u001b[0m 21ms/step - loss: 0.4416 - val_loss: 0.4513\n",
            "Epoch 39/100\n",
            "\u001b[1m29/29\u001b[0m \u001b[32m━━━━━━━━━━━━━━━━━━━━\u001b[0m\u001b[37m\u001b[0m \u001b[1m1s\u001b[0m 21ms/step - loss: 0.4416 - val_loss: 0.4513\n",
            "Epoch 40/100\n",
            "\u001b[1m29/29\u001b[0m \u001b[32m━━━━━━━━━━━━━━━━━━━━\u001b[0m\u001b[37m\u001b[0m \u001b[1m1s\u001b[0m 21ms/step - loss: 0.4415 - val_loss: 0.4513\n",
            "Epoch 40: early stopping\n",
            "Restoring model weights from the end of the best epoch: 30.\n"
          ]
        }
      ],
      "source": [
        "# fit model\n",
        "history = model.fit(\n",
        "    normal_train_data_scaled_lstm, normal_train_data_scaled_lstm,\n",
        "    epochs=100,\n",
        "    batch_size=128,\n",
        "    validation_split=0.3,\n",
        "    callbacks=[early_stopping],\n",
        "    shuffle=False,\n",
        "    verbose=1)\n"
      ]
    },
    {
      "cell_type": "code",
      "execution_count": 13,
      "metadata": {
        "colab": {
          "base_uri": "https://localhost:8080/",
          "height": 447
        },
        "id": "IxPRm7cLZuSL",
        "outputId": "fd1a8378-6266-44ca-b0a7-36f8c117e6bc"
      },
      "outputs": [
        {
          "output_type": "execute_result",
          "data": {
            "text/plain": [
              "<matplotlib.legend.Legend at 0x7ac8d4175a50>"
            ]
          },
          "metadata": {},
          "execution_count": 13
        },
        {
          "output_type": "display_data",
          "data": {
            "text/plain": [
              "<Figure size 640x480 with 1 Axes>"
            ],
            "image/png": "[encoded data removed]"
          },
          "metadata": {}
        }
      ],
      "source": [
        "plt.plot(history.history['loss'], label='Training loss')\n",
        "plt.plot(history.history['val_loss'], label='Validation loss')\n",
        "plt.legend()"
      ]
    },
    {
      "cell_type": "code",
      "execution_count": 14,
      "metadata": {
        "colab": {
          "base_uri": "https://localhost:8080/",
          "height": 742
        },
        "id": "bMzuzOQgbrm6",
        "outputId": "4ffb593c-e539-4d36-e5d0-1cf3e9ce242b"
      },
      "outputs": [
        {
          "output_type": "stream",
          "name": "stdout",
          "text": [
            "\u001b[1m41/41\u001b[0m \u001b[32m━━━━━━━━━━━━━━━━━━━━\u001b[0m\u001b[37m\u001b[0m \u001b[1m2s\u001b[0m 28ms/step\n"
          ]
        },
        {
          "output_type": "execute_result",
          "data": {
            "text/plain": [
              "(array([341.,  21.,  12.,   6.,   2.,   0.,   1.,   1.,  10.,  12.,  26.,\n",
              "         39.,  50.,  57.,  60.,  77.,  71.,  69.,  64.,  57.,  48.,  41.,\n",
              "         61.,  31.,  34.,  23.,  18.,  13.,  10.,   7.,   9.,   5.,   3.,\n",
              "          3.,   0.,   0.,   1.,   1.,   0.,   0.,   0.,   0.,   0.,   0.,\n",
              "          1.,   0.,   0.,   0.,   0.,   1.]),\n",
              " array([0.00867723, 0.04255722, 0.07643721, 0.11031719, 0.14419718,\n",
              "        0.17807718, 0.21195716, 0.24583714, 0.27971712, 0.31359711,\n",
              "        0.34747711, 0.38135707, 0.41523707, 0.44911706, 0.48299703,\n",
              "        0.51687706, 0.55075705, 0.58463705, 0.61851704, 0.65239704,\n",
              "        0.68627703, 0.72015697, 0.75403696, 0.78791696, 0.82179695,\n",
              "        0.85567695, 0.88955694, 0.92343694, 0.95731688, 0.99119687,\n",
              "        1.02507687, 1.05895686, 1.09283686, 1.12671685, 1.16059685,\n",
              "        1.19447684, 1.22835684, 1.26223683, 1.29611683, 1.32999682,\n",
              "        1.36387682, 1.3977567 , 1.43163669, 1.46551669, 1.49939668,\n",
              "        1.53327668, 1.56715667, 1.60103667, 1.63491666, 1.66879666,\n",
              "        1.70267665]),\n",
              " <BarContainer object of 50 artists>)"
            ]
          },
          "metadata": {},
          "execution_count": 14
        },
        {
          "output_type": "display_data",
          "data": {
            "text/plain": [
              "<Figure size 640x480 with 1 Axes>"
            ],
            "image/png": "[encoded data removed]"
          },
          "metadata": {}
        }
      ],
      "source": [
        "import tensorflow as tf #building model\n",
        "reconstruction_normal = model.predict(normal_test_data_scaled)    #output error between input and output\n",
        "train_loss = tf.keras.losses.mae(reconstruction_normal, normal_test_data_scaled)\n",
        "plt.hist(train_loss, bins=50)"
      ]
    },
    {
      "cell_type": "code",
      "execution_count": 15,
      "metadata": {
        "colab": {
          "base_uri": "https://localhost:8080/",
          "height": 708
        },
        "id": "zaL_sHmRKLZ1",
        "outputId": "1d426649-899f-434a-fb9c-9de372abf2a7"
      },
      "outputs": [
        {
          "output_type": "stream",
          "name": "stdout",
          "text": [
            "\u001b[1m2/2\u001b[0m \u001b[32m━━━━━━━━━━━━━━━━━━━━\u001b[0m\u001b[37m\u001b[0m \u001b[1m0s\u001b[0m 23ms/step\n"
          ]
        },
        {
          "output_type": "execute_result",
          "data": {
            "text/plain": [
              "(array([2., 0., 1., 1., 0., 1., 1., 1., 0., 2., 3., 0., 4., 1., 0., 0., 2.,\n",
              "        1., 0., 1., 2., 1., 0., 1., 1., 0., 1., 1., 1., 1., 1., 1., 0., 1.,\n",
              "        1., 1., 3., 0., 2., 0., 0., 1., 1., 1., 1., 0., 0., 0., 0., 1.]),\n",
              " array([0.88921756, 0.94602084, 1.00282407, 1.05962741, 1.11643064,\n",
              "        1.17323399, 1.23003721, 1.28684056, 1.34364378, 1.40044713,\n",
              "        1.45725036, 1.51405358, 1.57085693, 1.62766027, 1.6844635 ,\n",
              "        1.74126673, 1.79807007, 1.85487342, 1.91167665, 1.96847987,\n",
              "        2.0252831 , 2.08208656, 2.13888979, 2.19569302, 2.25249624,\n",
              "        2.30929971, 2.36610293, 2.42290616, 2.47970939, 2.53651285,\n",
              "        2.59331608, 2.6501193 , 2.70692253, 2.76372576, 2.82052922,\n",
              "        2.87733245, 2.93413568, 2.99093914, 3.04774237, 3.10454559,\n",
              "        3.16134882, 3.21815228, 3.27495551, 3.33175874, 3.38856196,\n",
              "        3.44536543, 3.50216866, 3.55897188, 3.61577511, 3.67257833,\n",
              "        3.7293818 ]),\n",
              " <BarContainer object of 50 artists>)"
            ]
          },
          "metadata": {},
          "execution_count": 15
        },
        {
          "output_type": "display_data",
          "data": {
            "text/plain": [
              "<Figure size 640x480 with 1 Axes>"
            ],
            "image/png": "[encoded data removed]"
          },
          "metadata": {}
        }
      ],
      "source": [
        "reconstruction_abnormal = model.predict(abnormal_test_data_scaled)\n",
        "train_loss_abnormal = tf.keras.losses.mae(reconstruction_abnormal, abnormal_test_data_scaled)\n",
        "plt.hist(train_loss_abnormal, bins=50)"
      ]
    },
    {
      "cell_type": "code",
      "execution_count": 16,
      "metadata": {
        "colab": {
          "base_uri": "https://localhost:8080/"
        },
        "id": "KeJ0Ndl1QH_o",
        "outputId": "2e5fb8ee-e2b2-4b71-865f-3fecb0e88718"
      },
      "outputs": [
        {
          "output_type": "execute_result",
          "data": {
            "text/plain": [
              "np.float32(1.0818813)"
            ]
          },
          "metadata": {},
          "execution_count": 16
        }
      ],
      "source": [
        "# threshold auswählen nach business logic\n",
        "threshold = np.mean(train_loss) + 2*np.std(train_loss)\n",
        "threshold"
      ]
    },
    {
      "cell_type": "code",
      "execution_count": 17,
      "metadata": {
        "colab": {
          "base_uri": "https://localhost:8080/",
          "height": 435
        },
        "id": "u5zFWE9uQJ_4",
        "outputId": "66c0269d-2a2a-4e37-d389-4cb1622e61e0"
      },
      "outputs": [
        {
          "output_type": "display_data",
          "data": {
            "text/plain": [
              "<Figure size 640x480 with 1 Axes>"
            ],
            "image/png": "[encoded data removed]"
          },
          "metadata": {}
        }
      ],
      "source": [
        "plt.hist(train_loss, bins=50, label='normal')\n",
        "plt.hist(train_loss_abnormal, bins=50, label='abnormal')\n",
        "plt.ylim(0, 60)\n",
        "plt.legend()\n",
        "plt.axvline(threshold, color='r', linestyle='dashed', linewidth=2,label = '{:0.3f}'.format(threshold))\n",
        "plt.show()"
      ]
    },
    {
      "cell_type": "code",
      "execution_count": 18,
      "metadata": {
        "colab": {
          "base_uri": "https://localhost:8080/"
        },
        "id": "Qd9lW1peQMbn",
        "outputId": "c93bd0f1-5245-4340-e62e-39d7ae425c03"
      },
      "outputs": [
        {
          "output_type": "stream",
          "name": "stdout",
          "text": [
            "Correct Predictions:  1275\n",
            "Accuracy:  0.9914463452566097\n",
            "False Predictions index:  [33, 197, 383, 602, 653, 758, 907, 939, 1150, 1203, 1207]\n"
          ]
        }
      ],
      "source": [
        "preds_normal=tf.math.less(train_loss, threshold)\n",
        "correct = tf.math.count_nonzero(preds_normal)\n",
        "false_predictions_normal = [i for i, x in enumerate(preds_normal) if not x]\n",
        "print(\"Correct Predictions: \", correct.numpy())\n",
        "print(\"Accuracy: \", correct.numpy()/len(preds_normal))\n",
        "print(\"False Predictions index: \", false_predictions_normal)"
      ]
    },
    {
      "cell_type": "code",
      "execution_count": 19,
      "metadata": {
        "colab": {
          "base_uri": "https://localhost:8080/"
        },
        "id": "C-hd2PN_QY3P",
        "outputId": "ade36fc8-d716-42cf-ce17-2329ce3d33e0"
      },
      "outputs": [
        {
          "output_type": "stream",
          "name": "stdout",
          "text": [
            "Correct Predictions:  42\n",
            "Accuracy:  0.9333333333333333\n"
          ]
        }
      ],
      "source": [
        "preds_abnormal=tf.math.greater(train_loss_abnormal, threshold)\n",
        "correct = tf.math.count_nonzero(preds_abnormal)\n",
        "false_predictions_abnormal = [i for i, x in enumerate(preds_abnormal) if not x]\n",
        "print(\"Correct Predictions: \", correct.numpy())\n",
        "print(\"Accuracy: \", correct.numpy()/len(preds_abnormal))"
      ]
    },
    {
      "cell_type": "code",
      "execution_count": null,
      "metadata": {
        "id": "npkMg8dXQdUX"
      },
      "outputs": [],
      "source": []
    }
  ],
  "metadata": {
    "accelerator": "GPU",
    "colab": {
      "gpuType": "L4",
      "machine_shape": "hm",
      "provenance": [],
      "include_colab_link": true
    },
    "kernelspec": {
      "display_name": "Python 3",
      "name": "python3"
    },
    "language_info": {
      "codemirror_mode": {
        "name": "ipython",
        "version": 3
      },
      "file_extension": ".py",
      "mimetype": "text/x-python",
      "name": "python",
      "nbconvert_exporter": "python",
      "pygments_lexer": "ipython3",
      "version": "3.12.3"
    }
  },
  "nbformat": 4,
  "nbformat_minor": 0
}