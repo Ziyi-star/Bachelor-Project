{
  "cells": [
    {
      "cell_type": "markdown",
      "metadata": {
        "id": "view-in-github",
        "colab_type": "text"
      },
      "source": [
        "<a href=\"https://colab.research.google.com/github/Ziyi-star/Bachelor-Project/blob/main/notebooks/Handlebar/03-Lstm__Handlebar_tensorflow_v1_50.ipynb\" target=\"_parent\"><img src=\"https://colab.research.google.com/assets/colab-badge.svg\" alt=\"Open In Colab\"/></a>"
      ]
    },
    {
      "cell_type": "code",
      "execution_count": null,
      "metadata": {
        "colab": {
          "base_uri": "https://localhost:8080/",
          "height": 383
        },
        "id": "cGwyEUT7ZuSH",
        "outputId": "1e741b23-e15f-4fc5-ea69-8843b555366e"
      },
      "outputs": [
        {
          "data": {
            "text/html": [
              "<div>\n",
              "<style scoped>\n",
              "    .dataframe tbody tr th:only-of-type {\n",
              "        vertical-align: middle;\n",
              "    }\n",
              "\n",
              "    .dataframe tbody tr th {\n",
              "        vertical-align: top;\n",
              "    }\n",
              "\n",
              "    .dataframe thead th {\n",
              "        text-align: right;\n",
              "    }\n",
              "</style>\n",
              "<table border=\"1\" class=\"dataframe\">\n",
              "  <thead>\n",
              "    <tr style=\"text-align: right;\">\n",
              "      <th></th>\n",
              "      <th>curb_scene</th>\n",
              "      <th>Acc-Z_1</th>\n",
              "      <th>Acc-Z_2</th>\n",
              "      <th>Acc-Z_3</th>\n",
              "      <th>Acc-Z_4</th>\n",
              "      <th>Acc-Z_5</th>\n",
              "      <th>Acc-Z_6</th>\n",
              "      <th>Acc-Z_7</th>\n",
              "      <th>Acc-Z_8</th>\n",
              "      <th>Acc-Z_9</th>\n",
              "      <th>...</th>\n",
              "      <th>Acc-Z_91</th>\n",
              "      <th>Acc-Z_92</th>\n",
              "      <th>Acc-Z_93</th>\n",
              "      <th>Acc-Z_94</th>\n",
              "      <th>Acc-Z_95</th>\n",
              "      <th>Acc-Z_96</th>\n",
              "      <th>Acc-Z_97</th>\n",
              "      <th>Acc-Z_98</th>\n",
              "      <th>Acc-Z_99</th>\n",
              "      <th>Acc-Z_100</th>\n",
              "    </tr>\n",
              "  </thead>\n",
              "  <tbody>\n",
              "    <tr>\n",
              "      <th>0</th>\n",
              "      <td>0.0</td>\n",
              "      <td>8.762772</td>\n",
              "      <td>8.753204</td>\n",
              "      <td>8.762772</td>\n",
              "      <td>8.781937</td>\n",
              "      <td>8.753204</td>\n",
              "      <td>8.748413</td>\n",
              "      <td>8.738831</td>\n",
              "      <td>8.748413</td>\n",
              "      <td>8.743622</td>\n",
              "      <td>...</td>\n",
              "      <td>8.786728</td>\n",
              "      <td>8.801086</td>\n",
              "      <td>8.820236</td>\n",
              "      <td>8.786728</td>\n",
              "      <td>8.777145</td>\n",
              "      <td>8.772354</td>\n",
              "      <td>8.781937</td>\n",
              "      <td>8.801086</td>\n",
              "      <td>8.781937</td>\n",
              "      <td>8.753204</td>\n",
              "    </tr>\n",
              "    <tr>\n",
              "      <th>1</th>\n",
              "      <td>0.0</td>\n",
              "      <td>8.762772</td>\n",
              "      <td>8.762772</td>\n",
              "      <td>8.748413</td>\n",
              "      <td>8.767563</td>\n",
              "      <td>8.729263</td>\n",
              "      <td>8.695740</td>\n",
              "      <td>8.724472</td>\n",
              "      <td>8.767563</td>\n",
              "      <td>8.767563</td>\n",
              "      <td>...</td>\n",
              "      <td>8.753204</td>\n",
              "      <td>8.772354</td>\n",
              "      <td>8.786728</td>\n",
              "      <td>8.781937</td>\n",
              "      <td>8.786728</td>\n",
              "      <td>8.777145</td>\n",
              "      <td>8.738831</td>\n",
              "      <td>8.820236</td>\n",
              "      <td>8.738831</td>\n",
              "      <td>8.757996</td>\n",
              "    </tr>\n",
              "    <tr>\n",
              "      <th>2</th>\n",
              "      <td>0.0</td>\n",
              "      <td>8.781937</td>\n",
              "      <td>8.796295</td>\n",
              "      <td>8.772354</td>\n",
              "      <td>8.772354</td>\n",
              "      <td>8.772354</td>\n",
              "      <td>8.786728</td>\n",
              "      <td>8.781937</td>\n",
              "      <td>8.801086</td>\n",
              "      <td>8.767563</td>\n",
              "      <td>...</td>\n",
              "      <td>8.777145</td>\n",
              "      <td>8.753204</td>\n",
              "      <td>8.767563</td>\n",
              "      <td>8.762772</td>\n",
              "      <td>8.762772</td>\n",
              "      <td>8.753204</td>\n",
              "      <td>8.748413</td>\n",
              "      <td>8.762772</td>\n",
              "      <td>8.772354</td>\n",
              "      <td>8.767563</td>\n",
              "    </tr>\n",
              "    <tr>\n",
              "      <th>3</th>\n",
              "      <td>0.0</td>\n",
              "      <td>8.781937</td>\n",
              "      <td>8.753204</td>\n",
              "      <td>8.801086</td>\n",
              "      <td>8.753204</td>\n",
              "      <td>8.829819</td>\n",
              "      <td>8.753204</td>\n",
              "      <td>8.786728</td>\n",
              "      <td>8.815445</td>\n",
              "      <td>8.762772</td>\n",
              "      <td>...</td>\n",
              "      <td>8.805878</td>\n",
              "      <td>8.796295</td>\n",
              "      <td>8.781937</td>\n",
              "      <td>8.801086</td>\n",
              "      <td>8.810669</td>\n",
              "      <td>8.796295</td>\n",
              "      <td>8.805878</td>\n",
              "      <td>8.791504</td>\n",
              "      <td>8.791504</td>\n",
              "      <td>8.772354</td>\n",
              "    </tr>\n",
              "    <tr>\n",
              "      <th>4</th>\n",
              "      <td>0.0</td>\n",
              "      <td>8.757996</td>\n",
              "      <td>8.762772</td>\n",
              "      <td>8.777145</td>\n",
              "      <td>8.767563</td>\n",
              "      <td>8.786728</td>\n",
              "      <td>8.777145</td>\n",
              "      <td>8.753204</td>\n",
              "      <td>8.757996</td>\n",
              "      <td>8.777145</td>\n",
              "      <td>...</td>\n",
              "      <td>8.757996</td>\n",
              "      <td>8.757996</td>\n",
              "      <td>8.772354</td>\n",
              "      <td>8.767563</td>\n",
              "      <td>8.757996</td>\n",
              "      <td>8.743622</td>\n",
              "      <td>8.777145</td>\n",
              "      <td>8.743622</td>\n",
              "      <td>8.786728</td>\n",
              "      <td>8.796295</td>\n",
              "    </tr>\n",
              "  </tbody>\n",
              "</table>\n",
              "<p>5 rows × 101 columns</p>\n",
              "</div>"
            ],
            "text/plain": [
              "   curb_scene   Acc-Z_1   Acc-Z_2   Acc-Z_3   Acc-Z_4   Acc-Z_5   Acc-Z_6  \\\n",
              "0         0.0  8.762772  8.753204  8.762772  8.781937  8.753204  8.748413   \n",
              "1         0.0  8.762772  8.762772  8.748413  8.767563  8.729263  8.695740   \n",
              "2         0.0  8.781937  8.796295  8.772354  8.772354  8.772354  8.786728   \n",
              "3         0.0  8.781937  8.753204  8.801086  8.753204  8.829819  8.753204   \n",
              "4         0.0  8.757996  8.762772  8.777145  8.767563  8.786728  8.777145   \n",
              "\n",
              "    Acc-Z_7   Acc-Z_8   Acc-Z_9  ...  Acc-Z_91  Acc-Z_92  Acc-Z_93  Acc-Z_94  \\\n",
              "0  8.738831  8.748413  8.743622  ...  8.786728  8.801086  8.820236  8.786728   \n",
              "1  8.724472  8.767563  8.767563  ...  8.753204  8.772354  8.786728  8.781937   \n",
              "2  8.781937  8.801086  8.767563  ...  8.777145  8.753204  8.767563  8.762772   \n",
              "3  8.786728  8.815445  8.762772  ...  8.805878  8.796295  8.781937  8.801086   \n",
              "4  8.753204  8.757996  8.777145  ...  8.757996  8.757996  8.772354  8.767563   \n",
              "\n",
              "   Acc-Z_95  Acc-Z_96  Acc-Z_97  Acc-Z_98  Acc-Z_99  Acc-Z_100  \n",
              "0  8.777145  8.772354  8.781937  8.801086  8.781937   8.753204  \n",
              "1  8.786728  8.777145  8.738831  8.820236  8.738831   8.757996  \n",
              "2  8.762772  8.753204  8.748413  8.762772  8.772354   8.767563  \n",
              "3  8.810669  8.796295  8.805878  8.791504  8.791504   8.772354  \n",
              "4  8.757996  8.743622  8.777145  8.743622  8.786728   8.796295  \n",
              "\n",
              "[5 rows x 101 columns]"
            ]
          },
          "execution_count": 2,
          "metadata": {},
          "output_type": "execute_result"
        }
      ],
      "source": [
        "# For Vscode\n",
        "import numpy as np\n",
        "import pandas as pd\n",
        "from tensorflow import keras\n",
        "from tensorflow.keras import layers\n",
        "from datetime import datetime\n",
        "from matplotlib import pyplot as plt\n",
        "from matplotlib import dates as md\n",
        "from sklearn.model_selection import train_test_split    #model selection and scaling data\n",
        "from sklearn.preprocessing import StandardScaler\n",
        "RANDOM_SEED = 42\n",
        "\n",
        "import sys\n",
        "sys.path.append('../../')   # Add parent directory to Python path\n",
        "from utils.Plots import *\n",
        "\n",
        "df = pd.read_csv('../../data/handlebar/processed_segments_overlap_50.csv')\n",
        "# 0 for normal, 1 for abnormal\n",
        "df['curb_scene'].value_counts()\n",
        "df.drop('Unnamed: 0', axis=1, inplace=True)\n",
        "df.head()"
      ]
    },
    {
      "cell_type": "code",
      "execution_count": 1,
      "metadata": {
        "colab": {
          "base_uri": "https://localhost:8080/",
          "height": 253
        },
        "id": "i3NZMq4eZ1xZ",
        "outputId": "c654d233-2d3e-42c8-e0d2-61993cdcd237"
      },
      "outputs": [
        {
          "output_type": "stream",
          "name": "stdout",
          "text": [
            "Mounted at /content/drive\n"
          ]
        },
        {
          "output_type": "execute_result",
          "data": {
            "text/plain": [
              "   Unnamed: 0  curb_scene   Acc-Z_1   Acc-Z_2   Acc-Z_3   Acc-Z_4   Acc-Z_5  \\\n",
              "0           0         0.0  8.762772  8.753204  8.762772  8.781937  8.753204   \n",
              "1           0         0.0  8.762772  8.762772  8.748413  8.767563  8.729263   \n",
              "2           0         0.0  8.781937  8.796295  8.772354  8.772354  8.772354   \n",
              "3           0         0.0  8.781937  8.753204  8.801086  8.753204  8.829819   \n",
              "4           0         0.0  8.757996  8.762772  8.777145  8.767563  8.786728   \n",
              "\n",
              "    Acc-Z_6   Acc-Z_7   Acc-Z_8  ...  Acc-Z_91  Acc-Z_92  Acc-Z_93  Acc-Z_94  \\\n",
              "0  8.748413  8.738831  8.748413  ...  8.786728  8.801086  8.820236  8.786728   \n",
              "1  8.695740  8.724472  8.767563  ...  8.753204  8.772354  8.786728  8.781937   \n",
              "2  8.786728  8.781937  8.801086  ...  8.777145  8.753204  8.767563  8.762772   \n",
              "3  8.753204  8.786728  8.815445  ...  8.805878  8.796295  8.781937  8.801086   \n",
              "4  8.777145  8.753204  8.757996  ...  8.757996  8.757996  8.772354  8.767563   \n",
              "\n",
              "   Acc-Z_95  Acc-Z_96  Acc-Z_97  Acc-Z_98  Acc-Z_99  Acc-Z_100  \n",
              "0  8.777145  8.772354  8.781937  8.801086  8.781937   8.753204  \n",
              "1  8.786728  8.777145  8.738831  8.820236  8.738831   8.757996  \n",
              "2  8.762772  8.753204  8.748413  8.762772  8.772354   8.767563  \n",
              "3  8.810669  8.796295  8.805878  8.791504  8.791504   8.772354  \n",
              "4  8.757996  8.743622  8.777145  8.743622  8.786728   8.796295  \n",
              "\n",
              "[5 rows x 102 columns]"
            ],
            "text/html": [
              "\n",
              "  <div id=\"df-173c7a27-296e-439d-ae8c-157e88a14009\" class=\"colab-df-container\">\n",
              "    <div>\n",
              "<style scoped>\n",
              "    .dataframe tbody tr th:only-of-type {\n",
              "        vertical-align: middle;\n",
              "    }\n",
              "\n",
              "    .dataframe tbody tr th {\n",
              "        vertical-align: top;\n",
              "    }\n",
              "\n",
              "    .dataframe thead th {\n",
              "        text-align: right;\n",
              "    }\n",
              "</style>\n",
              "<table border=\"1\" class=\"dataframe\">\n",
              "  <thead>\n",
              "    <tr style=\"text-align: right;\">\n",
              "      <th></th>\n",
              "      <th>Unnamed: 0</th>\n",
              "      <th>curb_scene</th>\n",
              "      <th>Acc-Z_1</th>\n",
              "      <th>Acc-Z_2</th>\n",
              "      <th>Acc-Z_3</th>\n",
              "      <th>Acc-Z_4</th>\n",
              "      <th>Acc-Z_5</th>\n",
              "      <th>Acc-Z_6</th>\n",
              "      <th>Acc-Z_7</th>\n",
              "      <th>Acc-Z_8</th>\n",
              "      <th>...</th>\n",
              "      <th>Acc-Z_91</th>\n",
              "      <th>Acc-Z_92</th>\n",
              "      <th>Acc-Z_93</th>\n",
              "      <th>Acc-Z_94</th>\n",
              "      <th>Acc-Z_95</th>\n",
              "      <th>Acc-Z_96</th>\n",
              "      <th>Acc-Z_97</th>\n",
              "      <th>Acc-Z_98</th>\n",
              "      <th>Acc-Z_99</th>\n",
              "      <th>Acc-Z_100</th>\n",
              "    </tr>\n",
              "  </thead>\n",
              "  <tbody>\n",
              "    <tr>\n",
              "      <th>0</th>\n",
              "      <td>0</td>\n",
              "      <td>0.0</td>\n",
              "      <td>8.762772</td>\n",
              "      <td>8.753204</td>\n",
              "      <td>8.762772</td>\n",
              "      <td>8.781937</td>\n",
              "      <td>8.753204</td>\n",
              "      <td>8.748413</td>\n",
              "      <td>8.738831</td>\n",
              "      <td>8.748413</td>\n",
              "      <td>...</td>\n",
              "      <td>8.786728</td>\n",
              "      <td>8.801086</td>\n",
              "      <td>8.820236</td>\n",
              "      <td>8.786728</td>\n",
              "      <td>8.777145</td>\n",
              "      <td>8.772354</td>\n",
              "      <td>8.781937</td>\n",
              "      <td>8.801086</td>\n",
              "      <td>8.781937</td>\n",
              "      <td>8.753204</td>\n",
              "    </tr>\n",
              "    <tr>\n",
              "      <th>1</th>\n",
              "      <td>0</td>\n",
              "      <td>0.0</td>\n",
              "      <td>8.762772</td>\n",
              "      <td>8.762772</td>\n",
              "      <td>8.748413</td>\n",
              "      <td>8.767563</td>\n",
              "      <td>8.729263</td>\n",
              "      <td>8.695740</td>\n",
              "      <td>8.724472</td>\n",
              "      <td>8.767563</td>\n",
              "      <td>...</td>\n",
              "      <td>8.753204</td>\n",
              "      <td>8.772354</td>\n",
              "      <td>8.786728</td>\n",
              "      <td>8.781937</td>\n",
              "      <td>8.786728</td>\n",
              "      <td>8.777145</td>\n",
              "      <td>8.738831</td>\n",
              "      <td>8.820236</td>\n",
              "      <td>8.738831</td>\n",
              "      <td>8.757996</td>\n",
              "    </tr>\n",
              "    <tr>\n",
              "      <th>2</th>\n",
              "      <td>0</td>\n",
              "      <td>0.0</td>\n",
              "      <td>8.781937</td>\n",
              "      <td>8.796295</td>\n",
              "      <td>8.772354</td>\n",
              "      <td>8.772354</td>\n",
              "      <td>8.772354</td>\n",
              "      <td>8.786728</td>\n",
              "      <td>8.781937</td>\n",
              "      <td>8.801086</td>\n",
              "      <td>...</td>\n",
              "      <td>8.777145</td>\n",
              "      <td>8.753204</td>\n",
              "      <td>8.767563</td>\n",
              "      <td>8.762772</td>\n",
              "      <td>8.762772</td>\n",
              "      <td>8.753204</td>\n",
              "      <td>8.748413</td>\n",
              "      <td>8.762772</td>\n",
              "      <td>8.772354</td>\n",
              "      <td>8.767563</td>\n",
              "    </tr>\n",
              "    <tr>\n",
              "      <th>3</th>\n",
              "      <td>0</td>\n",
              "      <td>0.0</td>\n",
              "      <td>8.781937</td>\n",
              "      <td>8.753204</td>\n",
              "      <td>8.801086</td>\n",
              "      <td>8.753204</td>\n",
              "      <td>8.829819</td>\n",
              "      <td>8.753204</td>\n",
              "      <td>8.786728</td>\n",
              "      <td>8.815445</td>\n",
              "      <td>...</td>\n",
              "      <td>8.805878</td>\n",
              "      <td>8.796295</td>\n",
              "      <td>8.781937</td>\n",
              "      <td>8.801086</td>\n",
              "      <td>8.810669</td>\n",
              "      <td>8.796295</td>\n",
              "      <td>8.805878</td>\n",
              "      <td>8.791504</td>\n",
              "      <td>8.791504</td>\n",
              "      <td>8.772354</td>\n",
              "    </tr>\n",
              "    <tr>\n",
              "      <th>4</th>\n",
              "      <td>0</td>\n",
              "      <td>0.0</td>\n",
              "      <td>8.757996</td>\n",
              "      <td>8.762772</td>\n",
              "      <td>8.777145</td>\n",
              "      <td>8.767563</td>\n",
              "      <td>8.786728</td>\n",
              "      <td>8.777145</td>\n",
              "      <td>8.753204</td>\n",
              "      <td>8.757996</td>\n",
              "      <td>...</td>\n",
              "      <td>8.757996</td>\n",
              "      <td>8.757996</td>\n",
              "      <td>8.772354</td>\n",
              "      <td>8.767563</td>\n",
              "      <td>8.757996</td>\n",
              "      <td>8.743622</td>\n",
              "      <td>8.777145</td>\n",
              "      <td>8.743622</td>\n",
              "      <td>8.786728</td>\n",
              "      <td>8.796295</td>\n",
              "    </tr>\n",
              "  </tbody>\n",
              "</table>\n",
              "<p>5 rows × 102 columns</p>\n",
              "</div>\n",
              "    <div class=\"colab-df-buttons\">\n",
              "\n",
              "  <div class=\"colab-df-container\">\n",
              "    <button class=\"colab-df-convert\" onclick=\"convertToInteractive('df-173c7a27-296e-439d-ae8c-157e88a14009')\"\n",
              "            title=\"Convert this dataframe to an interactive table.\"\n",
              "            style=\"display:none;\">\n",
              "\n",
              "  <svg xmlns=\"http://www.w3.org/2000/svg\" height=\"24px\" viewBox=\"0 -960 960 960\">\n",
              "    <path d=\"M120-120v-720h720v720H120Zm60-500h600v-160H180v160Zm220 220h160v-160H400v160Zm0 220h160v-160H400v160ZM180-400h160v-160H180v160Zm440 0h160v-160H620v160ZM180-180h160v-160H180v160Zm440 0h160v-160H620v160Z\"/>\n",
              "  </svg>\n",
              "    </button>\n",
              "\n",
              "  <style>\n",
              "    .colab-df-container {\n",
              "      display:flex;\n",
              "      gap: 12px;\n",
              "    }\n",
              "\n",
              "    .colab-df-convert {\n",
              "      background-color: #E8F0FE;\n",
              "      border: none;\n",
              "      border-radius: 50%;\n",
              "      cursor: pointer;\n",
              "      display: none;\n",
              "      fill: #1967D2;\n",
              "      height: 32px;\n",
              "      padding: 0 0 0 0;\n",
              "      width: 32px;\n",
              "    }\n",
              "\n",
              "    .colab-df-convert:hover {\n",
              "      background-color: #E2EBFA;\n",
              "      box-shadow: 0px 1px 2px rgba(60, 64, 67, 0.3), 0px 1px 3px 1px rgba(60, 64, 67, 0.15);\n",
              "      fill: #174EA6;\n",
              "    }\n",
              "\n",
              "    .colab-df-buttons div {\n",
              "      margin-bottom: 4px;\n",
              "    }\n",
              "\n",
              "    [theme=dark] .colab-df-convert {\n",
              "      background-color: #3B4455;\n",
              "      fill: #D2E3FC;\n",
              "    }\n",
              "\n",
              "    [theme=dark] .colab-df-convert:hover {\n",
              "      background-color: #434B5C;\n",
              "      box-shadow: 0px 1px 3px 1px rgba(0, 0, 0, 0.15);\n",
              "      filter: drop-shadow(0px 1px 2px rgba(0, 0, 0, 0.3));\n",
              "      fill: #FFFFFF;\n",
              "    }\n",
              "  </style>\n",
              "\n",
              "    <script>\n",
              "      const buttonEl =\n",
              "        document.querySelector('#df-173c7a27-296e-439d-ae8c-157e88a14009 button.colab-df-convert');\n",
              "      buttonEl.style.display =\n",
              "        google.colab.kernel.accessAllowed ? 'block' : 'none';\n",
              "\n",
              "      async function convertToInteractive(key) {\n",
              "        const element = document.querySelector('#df-173c7a27-296e-439d-ae8c-157e88a14009');\n",
              "        const dataTable =\n",
              "          await google.colab.kernel.invokeFunction('convertToInteractive',\n",
              "                                                    [key], {});\n",
              "        if (!dataTable) return;\n",
              "\n",
              "        const docLinkHtml = 'Like what you see? Visit the ' +\n",
              "          '<a target=\"_blank\" href=https://colab.research.google.com/notebooks/data_table.ipynb>data table notebook</a>'\n",
              "          + ' to learn more about interactive tables.';\n",
              "        element.innerHTML = '';\n",
              "        dataTable['output_type'] = 'display_data';\n",
              "        await google.colab.output.renderOutput(dataTable, element);\n",
              "        const docLink = document.createElement('div');\n",
              "        docLink.innerHTML = docLinkHtml;\n",
              "        element.appendChild(docLink);\n",
              "      }\n",
              "    </script>\n",
              "  </div>\n",
              "\n",
              "\n",
              "<div id=\"df-b299b793-e1b5-4eef-8ea7-cdc2f5671fce\">\n",
              "  <button class=\"colab-df-quickchart\" onclick=\"quickchart('df-b299b793-e1b5-4eef-8ea7-cdc2f5671fce')\"\n",
              "            title=\"Suggest charts\"\n",
              "            style=\"display:none;\">\n",
              "\n",
              "<svg xmlns=\"http://www.w3.org/2000/svg\" height=\"24px\"viewBox=\"0 0 24 24\"\n",
              "     width=\"24px\">\n",
              "    <g>\n",
              "        <path d=\"M19 3H5c-1.1 0-2 .9-2 2v14c0 1.1.9 2 2 2h14c1.1 0 2-.9 2-2V5c0-1.1-.9-2-2-2zM9 17H7v-7h2v7zm4 0h-2V7h2v10zm4 0h-2v-4h2v4z\"/>\n",
              "    </g>\n",
              "</svg>\n",
              "  </button>\n",
              "\n",
              "<style>\n",
              "  .colab-df-quickchart {\n",
              "      --bg-color: #E8F0FE;\n",
              "      --fill-color: #1967D2;\n",
              "      --hover-bg-color: #E2EBFA;\n",
              "      --hover-fill-color: #174EA6;\n",
              "      --disabled-fill-color: #AAA;\n",
              "      --disabled-bg-color: #DDD;\n",
              "  }\n",
              "\n",
              "  [theme=dark] .colab-df-quickchart {\n",
              "      --bg-color: #3B4455;\n",
              "      --fill-color: #D2E3FC;\n",
              "      --hover-bg-color: #434B5C;\n",
              "      --hover-fill-color: #FFFFFF;\n",
              "      --disabled-bg-color: #3B4455;\n",
              "      --disabled-fill-color: #666;\n",
              "  }\n",
              "\n",
              "  .colab-df-quickchart {\n",
              "    background-color: var(--bg-color);\n",
              "    border: none;\n",
              "    border-radius: 50%;\n",
              "    cursor: pointer;\n",
              "    display: none;\n",
              "    fill: var(--fill-color);\n",
              "    height: 32px;\n",
              "    padding: 0;\n",
              "    width: 32px;\n",
              "  }\n",
              "\n",
              "  .colab-df-quickchart:hover {\n",
              "    background-color: var(--hover-bg-color);\n",
              "    box-shadow: 0 1px 2px rgba(60, 64, 67, 0.3), 0 1px 3px 1px rgba(60, 64, 67, 0.15);\n",
              "    fill: var(--button-hover-fill-color);\n",
              "  }\n",
              "\n",
              "  .colab-df-quickchart-complete:disabled,\n",
              "  .colab-df-quickchart-complete:disabled:hover {\n",
              "    background-color: var(--disabled-bg-color);\n",
              "    fill: var(--disabled-fill-color);\n",
              "    box-shadow: none;\n",
              "  }\n",
              "\n",
              "  .colab-df-spinner {\n",
              "    border: 2px solid var(--fill-color);\n",
              "    border-color: transparent;\n",
              "    border-bottom-color: var(--fill-color);\n",
              "    animation:\n",
              "      spin 1s steps(1) infinite;\n",
              "  }\n",
              "\n",
              "  @keyframes spin {\n",
              "    0% {\n",
              "      border-color: transparent;\n",
              "      border-bottom-color: var(--fill-color);\n",
              "      border-left-color: var(--fill-color);\n",
              "    }\n",
              "    20% {\n",
              "      border-color: transparent;\n",
              "      border-left-color: var(--fill-color);\n",
              "      border-top-color: var(--fill-color);\n",
              "    }\n",
              "    30% {\n",
              "      border-color: transparent;\n",
              "      border-left-color: var(--fill-color);\n",
              "      border-top-color: var(--fill-color);\n",
              "      border-right-color: var(--fill-color);\n",
              "    }\n",
              "    40% {\n",
              "      border-color: transparent;\n",
              "      border-right-color: var(--fill-color);\n",
              "      border-top-color: var(--fill-color);\n",
              "    }\n",
              "    60% {\n",
              "      border-color: transparent;\n",
              "      border-right-color: var(--fill-color);\n",
              "    }\n",
              "    80% {\n",
              "      border-color: transparent;\n",
              "      border-right-color: var(--fill-color);\n",
              "      border-bottom-color: var(--fill-color);\n",
              "    }\n",
              "    90% {\n",
              "      border-color: transparent;\n",
              "      border-bottom-color: var(--fill-color);\n",
              "    }\n",
              "  }\n",
              "</style>\n",
              "\n",
              "  <script>\n",
              "    async function quickchart(key) {\n",
              "      const quickchartButtonEl =\n",
              "        document.querySelector('#' + key + ' button');\n",
              "      quickchartButtonEl.disabled = true;  // To prevent multiple clicks.\n",
              "      quickchartButtonEl.classList.add('colab-df-spinner');\n",
              "      try {\n",
              "        const charts = await google.colab.kernel.invokeFunction(\n",
              "            'suggestCharts', [key], {});\n",
              "      } catch (error) {\n",
              "        console.error('Error during call to suggestCharts:', error);\n",
              "      }\n",
              "      quickchartButtonEl.classList.remove('colab-df-spinner');\n",
              "      quickchartButtonEl.classList.add('colab-df-quickchart-complete');\n",
              "    }\n",
              "    (() => {\n",
              "      let quickchartButtonEl =\n",
              "        document.querySelector('#df-b299b793-e1b5-4eef-8ea7-cdc2f5671fce button');\n",
              "      quickchartButtonEl.style.display =\n",
              "        google.colab.kernel.accessAllowed ? 'block' : 'none';\n",
              "    })();\n",
              "  </script>\n",
              "</div>\n",
              "\n",
              "    </div>\n",
              "  </div>\n"
            ],
            "application/vnd.google.colaboratory.intrinsic+json": {
              "type": "dataframe",
              "variable_name": "df"
            }
          },
          "metadata": {},
          "execution_count": 1
        }
      ],
      "source": [
        "# For Colab\n",
        "import numpy as np\n",
        "import pandas as pd\n",
        "from tensorflow import keras\n",
        "from tensorflow.keras import layers\n",
        "from datetime import datetime\n",
        "from matplotlib import pyplot as plt\n",
        "from matplotlib import dates as md\n",
        "from sklearn.model_selection import train_test_split    #model selection and scaling data\n",
        "from sklearn.preprocessing import StandardScaler\n",
        "RANDOM_SEED = 42\n",
        "\n",
        "\n",
        "import os\n",
        "from google.colab import drive\n",
        "drive.mount('/content/drive')\n",
        "df = pd.read_csv('/content/drive/MyDrive/Project/data/processed_segments_overlap_50.csv')\n",
        "# # 0 for normal, 1 for abnormal\n",
        "df['curb_scene'].value_counts()\n",
        "df.head()"
      ]
    },
    {
      "cell_type": "code",
      "execution_count": 2,
      "metadata": {
        "id": "x1yKiG-4KLZ0"
      },
      "outputs": [],
      "source": [
        "# Suppose df is your DataFrame, and df['curb_scene'] is your label column\n",
        "train_data, test_data, train_labels, test_labels = train_test_split(df, df['curb_scene'],\n",
        "                                                                    test_size=0.2,\n",
        "                                                                    random_state=RANDOM_SEED)"
      ]
    },
    {
      "cell_type": "code",
      "execution_count": 3,
      "metadata": {
        "id": "65NJYMCIKLZ0"
      },
      "outputs": [],
      "source": [
        "#scaling data, because neural network works better with scaled data\n",
        "scaler = StandardScaler()\n",
        "data_scaled = scaler.fit(train_data.iloc[:, 3:])\n",
        "#transform data\n",
        "train_data_scaled = scaler.transform(train_data.iloc[:, 3:])\n",
        "test_data_scaled = scaler.transform(test_data.iloc[:, 3:])"
      ]
    },
    {
      "cell_type": "code",
      "execution_count": 4,
      "metadata": {
        "id": "jPeLMJUXKLZ0"
      },
      "outputs": [],
      "source": [
        "# Convert the scaled data back to DataFrames for further processing\n",
        "train_data_scaled_df = pd.DataFrame(train_data_scaled, columns=train_data.columns[3:])\n",
        "test_data_scaled_df = pd.DataFrame(test_data_scaled, columns=test_data.columns[3:])\n",
        "# Add the 'curb_scene', 'start_time', and 'end_time' columns back to the scaled DataFrames\n",
        "train_data_scaled_df['curb_scene'] = train_data['curb_scene'].values\n",
        "# train_data_scaled_df['start_time'] = train_data['start_time'].values\n",
        "# train_data_scaled_df['end_time'] = train_data['end_time'].values\n",
        "test_data_scaled_df['curb_scene'] = test_data['curb_scene'].values\n",
        "# test_data_scaled_df['start_time'] = test_data['start_time'].values\n",
        "# test_data_scaled_df['end_time'] = test_data['end_time'].values"
      ]
    },
    {
      "cell_type": "code",
      "execution_count": 5,
      "metadata": {
        "colab": {
          "base_uri": "https://localhost:8080/"
        },
        "id": "GkXODwMqKLZ0",
        "outputId": "51a69ae6-a0b6-4a0d-8015-2b3961cdec25"
      },
      "outputs": [
        {
          "output_type": "stream",
          "name": "stdout",
          "text": [
            "Index([   0,    1,    2,    3,    4,    5,    6,    8,    9,   10,\n",
            "       ...\n",
            "       1854, 1855, 1856, 1857, 1858, 1859, 1860, 1861, 1862, 1863],\n",
            "      dtype='int64', length=1796)\n",
            "Index([   7,   54,   63,   73,   92,   94,  119,  188,  204,  209,  218,  330,\n",
            "        358,  363,  402,  412,  421,  456,  530,  553,  567,  584,  590,  597,\n",
            "        757,  784,  796,  840,  891,  894,  949,  950,  955,  962,  978,  979,\n",
            "        990, 1006, 1033, 1038, 1071, 1126, 1135, 1143, 1168, 1195, 1266, 1272,\n",
            "       1274, 1275, 1279, 1359, 1384, 1399, 1409, 1442, 1462, 1472, 1520, 1521,\n",
            "       1562, 1581, 1598, 1624, 1628, 1655, 1673, 1763],\n",
            "      dtype='int64')\n"
          ]
        }
      ],
      "source": [
        "# Filter and slice the data\n",
        "normal_train_data_scaled = train_data_scaled_df[train_data_scaled_df['curb_scene'] == 0.0].iloc[:, :-3]\n",
        "abnormal_train_data_scaled = train_data_scaled_df[train_data_scaled_df['curb_scene'] == 1.0].iloc[:, :-3]\n",
        "normal_test_data_scaled = test_data_scaled_df[test_data_scaled_df['curb_scene'] == 0.0].iloc[:, :-3]\n",
        "abnormal_test_data_scaled = test_data_scaled_df[test_data_scaled_df['curb_scene'] == 1.0].iloc[:, :-3]\n",
        "# Example usage: Accessing the original index\n",
        "print(normal_test_data_scaled.index)\n",
        "print(abnormal_test_data_scaled.index)"
      ]
    },
    {
      "cell_type": "code",
      "execution_count": 6,
      "metadata": {
        "id": "MDG05LdPKLZ0"
      },
      "outputs": [],
      "source": [
        "# Cast to float32\n",
        "normal_train_data_scaled = normal_train_data_scaled.astype(\"float32\")\n",
        "abnormal_train_data_scaled = abnormal_train_data_scaled.astype(\"float32\")\n",
        "normal_test_data_scaled = normal_test_data_scaled.astype(\"float32\")\n",
        "abnormal_test_data_scaled = abnormal_test_data_scaled.astype(\"float32\")"
      ]
    },
    {
      "cell_type": "code",
      "execution_count": 7,
      "metadata": {
        "colab": {
          "base_uri": "https://localhost:8080/"
        },
        "id": "O0bt0btyZuSK",
        "outputId": "959c1e88-6ec9-41ab-aabd-28b77e696069"
      },
      "outputs": [
        {
          "output_type": "execute_result",
          "data": {
            "text/plain": [
              "((7178, 97, 1), (1796, 97, 1), (68, 97, 1))"
            ]
          },
          "metadata": {},
          "execution_count": 7
        }
      ],
      "source": [
        "normal_train_data_scaled_lstm = np.expand_dims(normal_train_data_scaled, axis=2)\n",
        "normal_test_data_scaled_lstm = np.expand_dims(normal_test_data_scaled, axis=2)\n",
        "abnormal_test_data_scaled_lstm = np.expand_dims(abnormal_test_data_scaled, axis=2)\n",
        "normal_train_data_scaled_lstm.shape, normal_test_data_scaled_lstm.shape, abnormal_test_data_scaled_lstm.shape"
      ]
    },
    {
      "cell_type": "code",
      "execution_count": 8,
      "metadata": {
        "colab": {
          "base_uri": "https://localhost:8080/",
          "height": 340
        },
        "id": "jAws3-IRZuSK",
        "outputId": "6cb602bd-fc81-4ac0-f577-3d9a555a16f8"
      },
      "outputs": [
        {
          "output_type": "display_data",
          "data": {
            "text/plain": [
              "\u001b[1mModel: \"sequential\"\u001b[0m\n"
            ],
            "text/html": [
              "<pre style=\"white-space:pre;overflow-x:auto;line-height:normal;font-family:Menlo,'DejaVu Sans Mono',consolas,'Courier New',monospace\"><span style=\"font-weight: bold\">Model: \"sequential\"</span>\n",
              "</pre>\n"
            ]
          },
          "metadata": {}
        },
        {
          "output_type": "display_data",
          "data": {
            "text/plain": [
              "┏━━━━━━━━━━━━━━━━━━━━━━━━━━━━━━━━━━━━━━┳━━━━━━━━━━━━━━━━━━━━━━━━━━━━━┳━━━━━━━━━━━━━━━━━┓\n",
              "┃\u001b[1m \u001b[0m\u001b[1mLayer (type)                        \u001b[0m\u001b[1m \u001b[0m┃\u001b[1m \u001b[0m\u001b[1mOutput Shape               \u001b[0m\u001b[1m \u001b[0m┃\u001b[1m \u001b[0m\u001b[1m        Param #\u001b[0m\u001b[1m \u001b[0m┃\n",
              "┡━━━━━━━━━━━━━━━━━━━━━━━━━━━━━━━━━━━━━━╇━━━━━━━━━━━━━━━━━━━━━━━━━━━━━╇━━━━━━━━━━━━━━━━━┩\n",
              "│ lstm (\u001b[38;5;33mLSTM\u001b[0m)                          │ (\u001b[38;5;45mNone\u001b[0m, \u001b[38;5;34m64\u001b[0m)                  │          \u001b[38;5;34m16,896\u001b[0m │\n",
              "├──────────────────────────────────────┼─────────────────────────────┼─────────────────┤\n",
              "│ dropout (\u001b[38;5;33mDropout\u001b[0m)                    │ (\u001b[38;5;45mNone\u001b[0m, \u001b[38;5;34m64\u001b[0m)                  │               \u001b[38;5;34m0\u001b[0m │\n",
              "├──────────────────────────────────────┼─────────────────────────────┼─────────────────┤\n",
              "│ repeat_vector (\u001b[38;5;33mRepeatVector\u001b[0m)         │ (\u001b[38;5;45mNone\u001b[0m, \u001b[38;5;34m97\u001b[0m, \u001b[38;5;34m64\u001b[0m)              │               \u001b[38;5;34m0\u001b[0m │\n",
              "├──────────────────────────────────────┼─────────────────────────────┼─────────────────┤\n",
              "│ lstm_1 (\u001b[38;5;33mLSTM\u001b[0m)                        │ (\u001b[38;5;45mNone\u001b[0m, \u001b[38;5;34m97\u001b[0m, \u001b[38;5;34m64\u001b[0m)              │          \u001b[38;5;34m33,024\u001b[0m │\n",
              "├──────────────────────────────────────┼─────────────────────────────┼─────────────────┤\n",
              "│ dropout_1 (\u001b[38;5;33mDropout\u001b[0m)                  │ (\u001b[38;5;45mNone\u001b[0m, \u001b[38;5;34m97\u001b[0m, \u001b[38;5;34m64\u001b[0m)              │               \u001b[38;5;34m0\u001b[0m │\n",
              "├──────────────────────────────────────┼─────────────────────────────┼─────────────────┤\n",
              "│ time_distributed (\u001b[38;5;33mTimeDistributed\u001b[0m)   │ (\u001b[38;5;45mNone\u001b[0m, \u001b[38;5;34m97\u001b[0m, \u001b[38;5;34m1\u001b[0m)               │              \u001b[38;5;34m65\u001b[0m │\n",
              "└──────────────────────────────────────┴─────────────────────────────┴─────────────────┘\n"
            ],
            "text/html": [
              "<pre style=\"white-space:pre;overflow-x:auto;line-height:normal;font-family:Menlo,'DejaVu Sans Mono',consolas,'Courier New',monospace\">┏━━━━━━━━━━━━━━━━━━━━━━━━━━━━━━━━━━━━━━┳━━━━━━━━━━━━━━━━━━━━━━━━━━━━━┳━━━━━━━━━━━━━━━━━┓\n",
              "┃<span style=\"font-weight: bold\"> Layer (type)                         </span>┃<span style=\"font-weight: bold\"> Output Shape                </span>┃<span style=\"font-weight: bold\">         Param # </span>┃\n",
              "┡━━━━━━━━━━━━━━━━━━━━━━━━━━━━━━━━━━━━━━╇━━━━━━━━━━━━━━━━━━━━━━━━━━━━━╇━━━━━━━━━━━━━━━━━┩\n",
              "│ lstm (<span style=\"color: #0087ff; text-decoration-color: #0087ff\">LSTM</span>)                          │ (<span style=\"color: #00d7ff; text-decoration-color: #00d7ff\">None</span>, <span style=\"color: #00af00; text-decoration-color: #00af00\">64</span>)                  │          <span style=\"color: #00af00; text-decoration-color: #00af00\">16,896</span> │\n",
              "├──────────────────────────────────────┼─────────────────────────────┼─────────────────┤\n",
              "│ dropout (<span style=\"color: #0087ff; text-decoration-color: #0087ff\">Dropout</span>)                    │ (<span style=\"color: #00d7ff; text-decoration-color: #00d7ff\">None</span>, <span style=\"color: #00af00; text-decoration-color: #00af00\">64</span>)                  │               <span style=\"color: #00af00; text-decoration-color: #00af00\">0</span> │\n",
              "├──────────────────────────────────────┼─────────────────────────────┼─────────────────┤\n",
              "│ repeat_vector (<span style=\"color: #0087ff; text-decoration-color: #0087ff\">RepeatVector</span>)         │ (<span style=\"color: #00d7ff; text-decoration-color: #00d7ff\">None</span>, <span style=\"color: #00af00; text-decoration-color: #00af00\">97</span>, <span style=\"color: #00af00; text-decoration-color: #00af00\">64</span>)              │               <span style=\"color: #00af00; text-decoration-color: #00af00\">0</span> │\n",
              "├──────────────────────────────────────┼─────────────────────────────┼─────────────────┤\n",
              "│ lstm_1 (<span style=\"color: #0087ff; text-decoration-color: #0087ff\">LSTM</span>)                        │ (<span style=\"color: #00d7ff; text-decoration-color: #00d7ff\">None</span>, <span style=\"color: #00af00; text-decoration-color: #00af00\">97</span>, <span style=\"color: #00af00; text-decoration-color: #00af00\">64</span>)              │          <span style=\"color: #00af00; text-decoration-color: #00af00\">33,024</span> │\n",
              "├──────────────────────────────────────┼─────────────────────────────┼─────────────────┤\n",
              "│ dropout_1 (<span style=\"color: #0087ff; text-decoration-color: #0087ff\">Dropout</span>)                  │ (<span style=\"color: #00d7ff; text-decoration-color: #00d7ff\">None</span>, <span style=\"color: #00af00; text-decoration-color: #00af00\">97</span>, <span style=\"color: #00af00; text-decoration-color: #00af00\">64</span>)              │               <span style=\"color: #00af00; text-decoration-color: #00af00\">0</span> │\n",
              "├──────────────────────────────────────┼─────────────────────────────┼─────────────────┤\n",
              "│ time_distributed (<span style=\"color: #0087ff; text-decoration-color: #0087ff\">TimeDistributed</span>)   │ (<span style=\"color: #00d7ff; text-decoration-color: #00d7ff\">None</span>, <span style=\"color: #00af00; text-decoration-color: #00af00\">97</span>, <span style=\"color: #00af00; text-decoration-color: #00af00\">1</span>)               │              <span style=\"color: #00af00; text-decoration-color: #00af00\">65</span> │\n",
              "└──────────────────────────────────────┴─────────────────────────────┴─────────────────┘\n",
              "</pre>\n"
            ]
          },
          "metadata": {}
        },
        {
          "output_type": "display_data",
          "data": {
            "text/plain": [
              "\u001b[1m Total params: \u001b[0m\u001b[38;5;34m49,985\u001b[0m (195.25 KB)\n"
            ],
            "text/html": [
              "<pre style=\"white-space:pre;overflow-x:auto;line-height:normal;font-family:Menlo,'DejaVu Sans Mono',consolas,'Courier New',monospace\"><span style=\"font-weight: bold\"> Total params: </span><span style=\"color: #00af00; text-decoration-color: #00af00\">49,985</span> (195.25 KB)\n",
              "</pre>\n"
            ]
          },
          "metadata": {}
        },
        {
          "output_type": "display_data",
          "data": {
            "text/plain": [
              "\u001b[1m Trainable params: \u001b[0m\u001b[38;5;34m49,985\u001b[0m (195.25 KB)\n"
            ],
            "text/html": [
              "<pre style=\"white-space:pre;overflow-x:auto;line-height:normal;font-family:Menlo,'DejaVu Sans Mono',consolas,'Courier New',monospace\"><span style=\"font-weight: bold\"> Trainable params: </span><span style=\"color: #00af00; text-decoration-color: #00af00\">49,985</span> (195.25 KB)\n",
              "</pre>\n"
            ]
          },
          "metadata": {}
        },
        {
          "output_type": "display_data",
          "data": {
            "text/plain": [
              "\u001b[1m Non-trainable params: \u001b[0m\u001b[38;5;34m0\u001b[0m (0.00 B)\n"
            ],
            "text/html": [
              "<pre style=\"white-space:pre;overflow-x:auto;line-height:normal;font-family:Menlo,'DejaVu Sans Mono',consolas,'Courier New',monospace\"><span style=\"font-weight: bold\"> Non-trainable params: </span><span style=\"color: #00af00; text-decoration-color: #00af00\">0</span> (0.00 B)\n",
              "</pre>\n"
            ]
          },
          "metadata": {}
        }
      ],
      "source": [
        "from keras.models import Sequential\n",
        "from keras.layers import LSTM, Input, Dropout\n",
        "from keras.layers import Dense\n",
        "from keras.layers import RepeatVector\n",
        "from keras.layers import TimeDistributed\n",
        "from keras.models import Model\n",
        "\n",
        "model = Sequential()\n",
        "# Encoder\n",
        "model.add(Input(shape=(normal_train_data_scaled_lstm.shape[1], normal_train_data_scaled_lstm.shape[2])))\n",
        "model.add(LSTM(64, activation='tanh', return_sequences=False))\n",
        "#not Overfitting\n",
        "model.add(Dropout(rate=0.1))\n",
        "\n",
        "model.add(RepeatVector(normal_train_data_scaled_lstm.shape[1]))\n",
        "\n",
        "model.add(LSTM(64, activation='tanh', return_sequences=True))\n",
        "model.add(Dropout(rate=0.1))\n",
        "model.add(TimeDistributed(Dense(normal_train_data_scaled_lstm.shape[2])))\n",
        "model.compile(optimizer='adam', loss='mae')\n",
        "model.summary()\n"
      ]
    },
    {
      "cell_type": "code",
      "execution_count": 9,
      "metadata": {
        "id": "InlfUN7XL_7-"
      },
      "outputs": [],
      "source": [
        "# define early stopping to prevent overfit\n",
        "early_stopping = keras.callbacks.EarlyStopping(monitor=\"val_loss\",\n",
        "                                               patience=10,\n",
        "                                               mode=\"min\",\n",
        "                                               verbose=1,\n",
        "                                               restore_best_weights=True)"
      ]
    },
    {
      "cell_type": "markdown",
      "metadata": {
        "id": "YmTo9WKUMIKy"
      },
      "source": []
    },
    {
      "cell_type": "code",
      "execution_count": 10,
      "metadata": {
        "colab": {
          "base_uri": "https://localhost:8080/"
        },
        "id": "Rms63bU1ZuSK",
        "outputId": "ec9ee614-ce8f-4643-f8be-145341af80dd"
      },
      "outputs": [
        {
          "output_type": "stream",
          "name": "stdout",
          "text": [
            "Epoch 1/100\n",
            "\u001b[1m40/40\u001b[0m \u001b[32m━━━━━━━━━━━━━━━━━━━━\u001b[0m\u001b[37m\u001b[0m \u001b[1m10s\u001b[0m 58ms/step - loss: 0.4543 - val_loss: 0.4471\n",
            "Epoch 2/100\n",
            "\u001b[1m40/40\u001b[0m \u001b[32m━━━━━━━━━━━━━━━━━━━━\u001b[0m\u001b[37m\u001b[0m \u001b[1m1s\u001b[0m 23ms/step - loss: 0.4495 - val_loss: 0.4465\n",
            "Epoch 3/100\n",
            "\u001b[1m40/40\u001b[0m \u001b[32m━━━━━━━━━━━━━━━━━━━━\u001b[0m\u001b[37m\u001b[0m \u001b[1m1s\u001b[0m 23ms/step - loss: 0.4490 - val_loss: 0.4463\n",
            "Epoch 4/100\n",
            "\u001b[1m40/40\u001b[0m \u001b[32m━━━━━━━━━━━━━━━━━━━━\u001b[0m\u001b[37m\u001b[0m \u001b[1m1s\u001b[0m 22ms/step - loss: 0.4490 - val_loss: 0.4464\n",
            "Epoch 5/100\n",
            "\u001b[1m40/40\u001b[0m \u001b[32m━━━━━━━━━━━━━━━━━━━━\u001b[0m\u001b[37m\u001b[0m \u001b[1m1s\u001b[0m 23ms/step - loss: 0.4490 - val_loss: 0.4464\n",
            "Epoch 6/100\n",
            "\u001b[1m40/40\u001b[0m \u001b[32m━━━━━━━━━━━━━━━━━━━━\u001b[0m\u001b[37m\u001b[0m \u001b[1m1s\u001b[0m 23ms/step - loss: 0.4489 - val_loss: 0.4463\n",
            "Epoch 7/100\n",
            "\u001b[1m40/40\u001b[0m \u001b[32m━━━━━━━━━━━━━━━━━━━━\u001b[0m\u001b[37m\u001b[0m \u001b[1m1s\u001b[0m 22ms/step - loss: 0.4488 - val_loss: 0.4462\n",
            "Epoch 8/100\n",
            "\u001b[1m40/40\u001b[0m \u001b[32m━━━━━━━━━━━━━━━━━━━━\u001b[0m\u001b[37m\u001b[0m \u001b[1m1s\u001b[0m 24ms/step - loss: 0.4488 - val_loss: 0.4462\n",
            "Epoch 9/100\n",
            "\u001b[1m40/40\u001b[0m \u001b[32m━━━━━━━━━━━━━━━━━━━━\u001b[0m\u001b[37m\u001b[0m \u001b[1m1s\u001b[0m 23ms/step - loss: 0.4488 - val_loss: 0.4462\n",
            "Epoch 10/100\n",
            "\u001b[1m40/40\u001b[0m \u001b[32m━━━━━━━━━━━━━━━━━━━━\u001b[0m\u001b[37m\u001b[0m \u001b[1m1s\u001b[0m 23ms/step - loss: 0.4487 - val_loss: 0.4461\n",
            "Epoch 11/100\n",
            "\u001b[1m40/40\u001b[0m \u001b[32m━━━━━━━━━━━━━━━━━━━━\u001b[0m\u001b[37m\u001b[0m \u001b[1m1s\u001b[0m 23ms/step - loss: 0.4487 - val_loss: 0.4462\n",
            "Epoch 12/100\n",
            "\u001b[1m40/40\u001b[0m \u001b[32m━━━━━━━━━━━━━━━━━━━━\u001b[0m\u001b[37m\u001b[0m \u001b[1m1s\u001b[0m 23ms/step - loss: 0.4487 - val_loss: 0.4462\n",
            "Epoch 13/100\n",
            "\u001b[1m40/40\u001b[0m \u001b[32m━━━━━━━━━━━━━━━━━━━━\u001b[0m\u001b[37m\u001b[0m \u001b[1m1s\u001b[0m 23ms/step - loss: 0.4488 - val_loss: 0.4461\n",
            "Epoch 14/100\n",
            "\u001b[1m40/40\u001b[0m \u001b[32m━━━━━━━━━━━━━━━━━━━━\u001b[0m\u001b[37m\u001b[0m \u001b[1m1s\u001b[0m 23ms/step - loss: 0.4487 - val_loss: 0.4462\n",
            "Epoch 15/100\n",
            "\u001b[1m40/40\u001b[0m \u001b[32m━━━━━━━━━━━━━━━━━━━━\u001b[0m\u001b[37m\u001b[0m \u001b[1m1s\u001b[0m 22ms/step - loss: 0.4487 - val_loss: 0.4461\n",
            "Epoch 16/100\n",
            "\u001b[1m40/40\u001b[0m \u001b[32m━━━━━━━━━━━━━━━━━━━━\u001b[0m\u001b[37m\u001b[0m \u001b[1m1s\u001b[0m 22ms/step - loss: 0.4487 - val_loss: 0.4460\n",
            "Epoch 17/100\n",
            "\u001b[1m40/40\u001b[0m \u001b[32m━━━━━━━━━━━━━━━━━━━━\u001b[0m\u001b[37m\u001b[0m \u001b[1m1s\u001b[0m 22ms/step - loss: 0.4486 - val_loss: 0.4463\n",
            "Epoch 18/100\n",
            "\u001b[1m40/40\u001b[0m \u001b[32m━━━━━━━━━━━━━━━━━━━━\u001b[0m\u001b[37m\u001b[0m \u001b[1m1s\u001b[0m 22ms/step - loss: 0.4488 - val_loss: 0.4460\n",
            "Epoch 19/100\n",
            "\u001b[1m40/40\u001b[0m \u001b[32m━━━━━━━━━━━━━━━━━━━━\u001b[0m\u001b[37m\u001b[0m \u001b[1m1s\u001b[0m 22ms/step - loss: 0.4486 - val_loss: 0.4461\n",
            "Epoch 20/100\n",
            "\u001b[1m40/40\u001b[0m \u001b[32m━━━━━━━━━━━━━━━━━━━━\u001b[0m\u001b[37m\u001b[0m \u001b[1m1s\u001b[0m 22ms/step - loss: 0.4487 - val_loss: 0.4460\n",
            "Epoch 21/100\n",
            "\u001b[1m40/40\u001b[0m \u001b[32m━━━━━━━━━━━━━━━━━━━━\u001b[0m\u001b[37m\u001b[0m \u001b[1m1s\u001b[0m 23ms/step - loss: 0.4486 - val_loss: 0.4460\n",
            "Epoch 22/100\n",
            "\u001b[1m40/40\u001b[0m \u001b[32m━━━━━━━━━━━━━━━━━━━━\u001b[0m\u001b[37m\u001b[0m \u001b[1m1s\u001b[0m 23ms/step - loss: 0.4486 - val_loss: 0.4460\n",
            "Epoch 23/100\n",
            "\u001b[1m40/40\u001b[0m \u001b[32m━━━━━━━━━━━━━━━━━━━━\u001b[0m\u001b[37m\u001b[0m \u001b[1m1s\u001b[0m 22ms/step - loss: 0.4486 - val_loss: 0.4460\n",
            "Epoch 24/100\n",
            "\u001b[1m40/40\u001b[0m \u001b[32m━━━━━━━━━━━━━━━━━━━━\u001b[0m\u001b[37m\u001b[0m \u001b[1m1s\u001b[0m 22ms/step - loss: 0.4486 - val_loss: 0.4460\n",
            "Epoch 25/100\n",
            "\u001b[1m40/40\u001b[0m \u001b[32m━━━━━━━━━━━━━━━━━━━━\u001b[0m\u001b[37m\u001b[0m \u001b[1m1s\u001b[0m 22ms/step - loss: 0.4485 - val_loss: 0.4468\n",
            "Epoch 26/100\n",
            "\u001b[1m40/40\u001b[0m \u001b[32m━━━━━━━━━━━━━━━━━━━━\u001b[0m\u001b[37m\u001b[0m \u001b[1m1s\u001b[0m 22ms/step - loss: 0.4491 - val_loss: 0.4460\n",
            "Epoch 27/100\n",
            "\u001b[1m40/40\u001b[0m \u001b[32m━━━━━━━━━━━━━━━━━━━━\u001b[0m\u001b[37m\u001b[0m \u001b[1m1s\u001b[0m 22ms/step - loss: 0.4485 - val_loss: 0.4459\n",
            "Epoch 28/100\n",
            "\u001b[1m40/40\u001b[0m \u001b[32m━━━━━━━━━━━━━━━━━━━━\u001b[0m\u001b[37m\u001b[0m \u001b[1m1s\u001b[0m 22ms/step - loss: 0.4485 - val_loss: 0.4457\n",
            "Epoch 29/100\n",
            "\u001b[1m40/40\u001b[0m \u001b[32m━━━━━━━━━━━━━━━━━━━━\u001b[0m\u001b[37m\u001b[0m \u001b[1m1s\u001b[0m 22ms/step - loss: 0.4483 - val_loss: 0.4460\n",
            "Epoch 30/100\n",
            "\u001b[1m40/40\u001b[0m \u001b[32m━━━━━━━━━━━━━━━━━━━━\u001b[0m\u001b[37m\u001b[0m \u001b[1m1s\u001b[0m 22ms/step - loss: 0.4484 - val_loss: 0.4464\n",
            "Epoch 31/100\n",
            "\u001b[1m40/40\u001b[0m \u001b[32m━━━━━━━━━━━━━━━━━━━━\u001b[0m\u001b[37m\u001b[0m \u001b[1m1s\u001b[0m 22ms/step - loss: 0.4486 - val_loss: 0.4459\n",
            "Epoch 32/100\n",
            "\u001b[1m40/40\u001b[0m \u001b[32m━━━━━━━━━━━━━━━━━━━━\u001b[0m\u001b[37m\u001b[0m \u001b[1m1s\u001b[0m 22ms/step - loss: 0.4484 - val_loss: 0.4457\n",
            "Epoch 33/100\n",
            "\u001b[1m40/40\u001b[0m \u001b[32m━━━━━━━━━━━━━━━━━━━━\u001b[0m\u001b[37m\u001b[0m \u001b[1m1s\u001b[0m 22ms/step - loss: 0.4482 - val_loss: 0.4460\n",
            "Epoch 34/100\n",
            "\u001b[1m40/40\u001b[0m \u001b[32m━━━━━━━━━━━━━━━━━━━━\u001b[0m\u001b[37m\u001b[0m \u001b[1m1s\u001b[0m 22ms/step - loss: 0.4483 - val_loss: 0.4457\n",
            "Epoch 35/100\n",
            "\u001b[1m40/40\u001b[0m \u001b[32m━━━━━━━━━━━━━━━━━━━━\u001b[0m\u001b[37m\u001b[0m \u001b[1m1s\u001b[0m 23ms/step - loss: 0.4481 - val_loss: 0.4454\n",
            "Epoch 36/100\n",
            "\u001b[1m40/40\u001b[0m \u001b[32m━━━━━━━━━━━━━━━━━━━━\u001b[0m\u001b[37m\u001b[0m \u001b[1m1s\u001b[0m 23ms/step - loss: 0.4480 - val_loss: 0.4453\n",
            "Epoch 37/100\n",
            "\u001b[1m40/40\u001b[0m \u001b[32m━━━━━━━━━━━━━━━━━━━━\u001b[0m\u001b[37m\u001b[0m \u001b[1m1s\u001b[0m 22ms/step - loss: 0.4478 - val_loss: 0.4455\n",
            "Epoch 38/100\n",
            "\u001b[1m40/40\u001b[0m \u001b[32m━━━━━━━━━━━━━━━━━━━━\u001b[0m\u001b[37m\u001b[0m \u001b[1m1s\u001b[0m 22ms/step - loss: 0.4479 - val_loss: 0.4453\n",
            "Epoch 39/100\n",
            "\u001b[1m40/40\u001b[0m \u001b[32m━━━━━━━━━━━━━━━━━━━━\u001b[0m\u001b[37m\u001b[0m \u001b[1m1s\u001b[0m 22ms/step - loss: 0.4478 - val_loss: 0.4452\n",
            "Epoch 40/100\n",
            "\u001b[1m40/40\u001b[0m \u001b[32m━━━━━━━━━━━━━━━━━━━━\u001b[0m\u001b[37m\u001b[0m \u001b[1m1s\u001b[0m 22ms/step - loss: 0.4478 - val_loss: 0.4454\n",
            "Epoch 41/100\n",
            "\u001b[1m40/40\u001b[0m \u001b[32m━━━━━━━━━━━━━━━━━━━━\u001b[0m\u001b[37m\u001b[0m \u001b[1m1s\u001b[0m 22ms/step - loss: 0.4478 - val_loss: 0.4452\n",
            "Epoch 42/100\n",
            "\u001b[1m40/40\u001b[0m \u001b[32m━━━━━━━━━━━━━━━━━━━━\u001b[0m\u001b[37m\u001b[0m \u001b[1m1s\u001b[0m 22ms/step - loss: 0.4477 - val_loss: 0.4449\n",
            "Epoch 43/100\n",
            "\u001b[1m40/40\u001b[0m \u001b[32m━━━━━━━━━━━━━━━━━━━━\u001b[0m\u001b[37m\u001b[0m \u001b[1m1s\u001b[0m 22ms/step - loss: 0.4476 - val_loss: 0.4449\n",
            "Epoch 44/100\n",
            "\u001b[1m40/40\u001b[0m \u001b[32m━━━━━━━━━━━━━━━━━━━━\u001b[0m\u001b[37m\u001b[0m \u001b[1m1s\u001b[0m 22ms/step - loss: 0.4475 - val_loss: 0.4449\n",
            "Epoch 45/100\n",
            "\u001b[1m40/40\u001b[0m \u001b[32m━━━━━━━━━━━━━━━━━━━━\u001b[0m\u001b[37m\u001b[0m \u001b[1m1s\u001b[0m 22ms/step - loss: 0.4474 - val_loss: 0.4446\n",
            "Epoch 46/100\n",
            "\u001b[1m40/40\u001b[0m \u001b[32m━━━━━━━━━━━━━━━━━━━━\u001b[0m\u001b[37m\u001b[0m \u001b[1m1s\u001b[0m 22ms/step - loss: 0.4472 - val_loss: 0.4446\n",
            "Epoch 47/100\n",
            "\u001b[1m40/40\u001b[0m \u001b[32m━━━━━━━━━━━━━━━━━━━━\u001b[0m\u001b[37m\u001b[0m \u001b[1m1s\u001b[0m 22ms/step - loss: 0.4472 - val_loss: 0.4445\n",
            "Epoch 48/100\n",
            "\u001b[1m40/40\u001b[0m \u001b[32m━━━━━━━━━━━━━━━━━━━━\u001b[0m\u001b[37m\u001b[0m \u001b[1m1s\u001b[0m 22ms/step - loss: 0.4471 - val_loss: 0.4445\n",
            "Epoch 49/100\n",
            "\u001b[1m40/40\u001b[0m \u001b[32m━━━━━━━━━━━━━━━━━━━━\u001b[0m\u001b[37m\u001b[0m \u001b[1m1s\u001b[0m 23ms/step - loss: 0.4469 - val_loss: 0.4444\n",
            "Epoch 50/100\n",
            "\u001b[1m40/40\u001b[0m \u001b[32m━━━━━━━━━━━━━━━━━━━━\u001b[0m\u001b[37m\u001b[0m \u001b[1m1s\u001b[0m 22ms/step - loss: 0.4468 - val_loss: 0.4441\n",
            "Epoch 51/100\n",
            "\u001b[1m40/40\u001b[0m \u001b[32m━━━━━━━━━━━━━━━━━━━━\u001b[0m\u001b[37m\u001b[0m \u001b[1m1s\u001b[0m 22ms/step - loss: 0.4465 - val_loss: 0.4437\n",
            "Epoch 52/100\n",
            "\u001b[1m40/40\u001b[0m \u001b[32m━━━━━━━━━━━━━━━━━━━━\u001b[0m\u001b[37m\u001b[0m \u001b[1m1s\u001b[0m 22ms/step - loss: 0.4462 - val_loss: 0.4438\n",
            "Epoch 53/100\n",
            "\u001b[1m40/40\u001b[0m \u001b[32m━━━━━━━━━━━━━━━━━━━━\u001b[0m\u001b[37m\u001b[0m \u001b[1m1s\u001b[0m 22ms/step - loss: 0.4460 - val_loss: 0.4436\n",
            "Epoch 54/100\n",
            "\u001b[1m40/40\u001b[0m \u001b[32m━━━━━━━━━━━━━━━━━━━━\u001b[0m\u001b[37m\u001b[0m \u001b[1m1s\u001b[0m 22ms/step - loss: 0.4459 - val_loss: 0.4437\n",
            "Epoch 55/100\n",
            "\u001b[1m40/40\u001b[0m \u001b[32m━━━━━━━━━━━━━━━━━━━━\u001b[0m\u001b[37m\u001b[0m \u001b[1m1s\u001b[0m 22ms/step - loss: 0.4458 - val_loss: 0.4432\n",
            "Epoch 56/100\n",
            "\u001b[1m40/40\u001b[0m \u001b[32m━━━━━━━━━━━━━━━━━━━━\u001b[0m\u001b[37m\u001b[0m \u001b[1m1s\u001b[0m 22ms/step - loss: 0.4455 - val_loss: 0.4432\n",
            "Epoch 57/100\n",
            "\u001b[1m40/40\u001b[0m \u001b[32m━━━━━━━━━━━━━━━━━━━━\u001b[0m\u001b[37m\u001b[0m \u001b[1m1s\u001b[0m 22ms/step - loss: 0.4453 - val_loss: 0.4429\n",
            "Epoch 58/100\n",
            "\u001b[1m40/40\u001b[0m \u001b[32m━━━━━━━━━━━━━━━━━━━━\u001b[0m\u001b[37m\u001b[0m \u001b[1m1s\u001b[0m 22ms/step - loss: 0.4452 - val_loss: 0.4426\n",
            "Epoch 59/100\n",
            "\u001b[1m40/40\u001b[0m \u001b[32m━━━━━━━━━━━━━━━━━━━━\u001b[0m\u001b[37m\u001b[0m \u001b[1m1s\u001b[0m 22ms/step - loss: 0.4448 - val_loss: 0.4422\n",
            "Epoch 60/100\n",
            "\u001b[1m40/40\u001b[0m \u001b[32m━━━━━━━━━━━━━━━━━━━━\u001b[0m\u001b[37m\u001b[0m \u001b[1m1s\u001b[0m 22ms/step - loss: 0.4442 - val_loss: 0.4415\n",
            "Epoch 61/100\n",
            "\u001b[1m40/40\u001b[0m \u001b[32m━━━━━━━━━━━━━━━━━━━━\u001b[0m\u001b[37m\u001b[0m \u001b[1m1s\u001b[0m 22ms/step - loss: 0.4436 - val_loss: 0.4410\n",
            "Epoch 62/100\n",
            "\u001b[1m40/40\u001b[0m \u001b[32m━━━━━━━━━━━━━━━━━━━━\u001b[0m\u001b[37m\u001b[0m \u001b[1m1s\u001b[0m 22ms/step - loss: 0.4431 - val_loss: 0.4402\n",
            "Epoch 63/100\n",
            "\u001b[1m40/40\u001b[0m \u001b[32m━━━━━━━━━━━━━━━━━━━━\u001b[0m\u001b[37m\u001b[0m \u001b[1m1s\u001b[0m 22ms/step - loss: 0.4423 - val_loss: 0.4398\n",
            "Epoch 64/100\n",
            "\u001b[1m40/40\u001b[0m \u001b[32m━━━━━━━━━━━━━━━━━━━━\u001b[0m\u001b[37m\u001b[0m \u001b[1m1s\u001b[0m 22ms/step - loss: 0.4418 - val_loss: 0.4395\n",
            "Epoch 65/100\n",
            "\u001b[1m40/40\u001b[0m \u001b[32m━━━━━━━━━━━━━━━━━━━━\u001b[0m\u001b[37m\u001b[0m \u001b[1m1s\u001b[0m 22ms/step - loss: 0.4415 - val_loss: 0.4384\n",
            "Epoch 66/100\n",
            "\u001b[1m40/40\u001b[0m \u001b[32m━━━━━━━━━━━━━━━━━━━━\u001b[0m\u001b[37m\u001b[0m \u001b[1m1s\u001b[0m 22ms/step - loss: 0.4404 - val_loss: 0.4371\n",
            "Epoch 67/100\n",
            "\u001b[1m40/40\u001b[0m \u001b[32m━━━━━━━━━━━━━━━━━━━━\u001b[0m\u001b[37m\u001b[0m \u001b[1m1s\u001b[0m 22ms/step - loss: 0.4399 - val_loss: 0.4377\n",
            "Epoch 68/100\n",
            "\u001b[1m40/40\u001b[0m \u001b[32m━━━━━━━━━━━━━━━━━━━━\u001b[0m\u001b[37m\u001b[0m \u001b[1m1s\u001b[0m 22ms/step - loss: 0.4399 - val_loss: 0.4368\n",
            "Epoch 69/100\n",
            "\u001b[1m40/40\u001b[0m \u001b[32m━━━━━━━━━━━━━━━━━━━━\u001b[0m\u001b[37m\u001b[0m \u001b[1m1s\u001b[0m 22ms/step - loss: 0.4393 - val_loss: 0.4366\n",
            "Epoch 70/100\n",
            "\u001b[1m40/40\u001b[0m \u001b[32m━━━━━━━━━━━━━━━━━━━━\u001b[0m\u001b[37m\u001b[0m \u001b[1m1s\u001b[0m 22ms/step - loss: 0.4392 - val_loss: 0.4366\n",
            "Epoch 71/100\n",
            "\u001b[1m40/40\u001b[0m \u001b[32m━━━━━━━━━━━━━━━━━━━━\u001b[0m\u001b[37m\u001b[0m \u001b[1m1s\u001b[0m 22ms/step - loss: 0.4393 - val_loss: 0.4371\n",
            "Epoch 72/100\n",
            "\u001b[1m40/40\u001b[0m \u001b[32m━━━━━━━━━━━━━━━━━━━━\u001b[0m\u001b[37m\u001b[0m \u001b[1m1s\u001b[0m 23ms/step - loss: 0.4400 - val_loss: 0.4365\n",
            "Epoch 73/100\n",
            "\u001b[1m40/40\u001b[0m \u001b[32m━━━━━━━━━━━━━━━━━━━━\u001b[0m\u001b[37m\u001b[0m \u001b[1m1s\u001b[0m 22ms/step - loss: 0.4389 - val_loss: 0.4369\n",
            "Epoch 74/100\n",
            "\u001b[1m40/40\u001b[0m \u001b[32m━━━━━━━━━━━━━━━━━━━━\u001b[0m\u001b[37m\u001b[0m \u001b[1m1s\u001b[0m 22ms/step - loss: 0.4393 - val_loss: 0.4359\n",
            "Epoch 75/100\n",
            "\u001b[1m40/40\u001b[0m \u001b[32m━━━━━━━━━━━━━━━━━━━━\u001b[0m\u001b[37m\u001b[0m \u001b[1m1s\u001b[0m 22ms/step - loss: 0.4384 - val_loss: 0.4362\n",
            "Epoch 76/100\n",
            "\u001b[1m40/40\u001b[0m \u001b[32m━━━━━━━━━━━━━━━━━━━━\u001b[0m\u001b[37m\u001b[0m \u001b[1m1s\u001b[0m 23ms/step - loss: 0.4393 - val_loss: 0.4358\n",
            "Epoch 77/100\n",
            "\u001b[1m40/40\u001b[0m \u001b[32m━━━━━━━━━━━━━━━━━━━━\u001b[0m\u001b[37m\u001b[0m \u001b[1m1s\u001b[0m 22ms/step - loss: 0.4384 - val_loss: 0.4358\n",
            "Epoch 78/100\n",
            "\u001b[1m40/40\u001b[0m \u001b[32m━━━━━━━━━━━━━━━━━━━━\u001b[0m\u001b[37m\u001b[0m \u001b[1m1s\u001b[0m 22ms/step - loss: 0.4381 - val_loss: 0.4349\n",
            "Epoch 79/100\n",
            "\u001b[1m40/40\u001b[0m \u001b[32m━━━━━━━━━━━━━━━━━━━━\u001b[0m\u001b[37m\u001b[0m \u001b[1m1s\u001b[0m 22ms/step - loss: 0.4375 - val_loss: 0.4352\n",
            "Epoch 80/100\n",
            "\u001b[1m40/40\u001b[0m \u001b[32m━━━━━━━━━━━━━━━━━━━━\u001b[0m\u001b[37m\u001b[0m \u001b[1m1s\u001b[0m 22ms/step - loss: 0.4377 - val_loss: 0.4346\n",
            "Epoch 81/100\n",
            "\u001b[1m40/40\u001b[0m \u001b[32m━━━━━━━━━━━━━━━━━━━━\u001b[0m\u001b[37m\u001b[0m \u001b[1m1s\u001b[0m 22ms/step - loss: 0.4374 - val_loss: 0.4351\n",
            "Epoch 82/100\n",
            "\u001b[1m40/40\u001b[0m \u001b[32m━━━━━━━━━━━━━━━━━━━━\u001b[0m\u001b[37m\u001b[0m \u001b[1m1s\u001b[0m 22ms/step - loss: 0.4373 - val_loss: 0.4343\n",
            "Epoch 83/100\n",
            "\u001b[1m40/40\u001b[0m \u001b[32m━━━━━━━━━━━━━━━━━━━━\u001b[0m\u001b[37m\u001b[0m \u001b[1m1s\u001b[0m 22ms/step - loss: 0.4373 - val_loss: 0.4354\n",
            "Epoch 84/100\n",
            "\u001b[1m40/40\u001b[0m \u001b[32m━━━━━━━━━━━━━━━━━━━━\u001b[0m\u001b[37m\u001b[0m \u001b[1m1s\u001b[0m 22ms/step - loss: 0.4376 - val_loss: 0.4346\n",
            "Epoch 85/100\n",
            "\u001b[1m40/40\u001b[0m \u001b[32m━━━━━━━━━━━━━━━━━━━━\u001b[0m\u001b[37m\u001b[0m \u001b[1m1s\u001b[0m 22ms/step - loss: 0.4369 - val_loss: 0.4338\n",
            "Epoch 86/100\n",
            "\u001b[1m40/40\u001b[0m \u001b[32m━━━━━━━━━━━━━━━━━━━━\u001b[0m\u001b[37m\u001b[0m \u001b[1m1s\u001b[0m 22ms/step - loss: 0.4368 - val_loss: 0.4344\n",
            "Epoch 87/100\n",
            "\u001b[1m40/40\u001b[0m \u001b[32m━━━━━━━━━━━━━━━━━━━━\u001b[0m\u001b[37m\u001b[0m \u001b[1m1s\u001b[0m 22ms/step - loss: 0.4368 - val_loss: 0.4337\n",
            "Epoch 88/100\n",
            "\u001b[1m40/40\u001b[0m \u001b[32m━━━━━━━━━━━━━━━━━━━━\u001b[0m\u001b[37m\u001b[0m \u001b[1m1s\u001b[0m 23ms/step - loss: 0.4366 - val_loss: 0.4341\n",
            "Epoch 89/100\n",
            "\u001b[1m40/40\u001b[0m \u001b[32m━━━━━━━━━━━━━━━━━━━━\u001b[0m\u001b[37m\u001b[0m \u001b[1m1s\u001b[0m 22ms/step - loss: 0.4365 - val_loss: 0.4333\n",
            "Epoch 90/100\n",
            "\u001b[1m40/40\u001b[0m \u001b[32m━━━━━━━━━━━━━━━━━━━━\u001b[0m\u001b[37m\u001b[0m \u001b[1m1s\u001b[0m 23ms/step - loss: 0.4363 - val_loss: 0.4340\n",
            "Epoch 91/100\n",
            "\u001b[1m40/40\u001b[0m \u001b[32m━━━━━━━━━━━━━━━━━━━━\u001b[0m\u001b[37m\u001b[0m \u001b[1m1s\u001b[0m 22ms/step - loss: 0.4367 - val_loss: 0.4337\n",
            "Epoch 92/100\n",
            "\u001b[1m40/40\u001b[0m \u001b[32m━━━━━━━━━━━━━━━━━━━━\u001b[0m\u001b[37m\u001b[0m \u001b[1m1s\u001b[0m 23ms/step - loss: 0.4366 - val_loss: 0.4331\n",
            "Epoch 93/100\n",
            "\u001b[1m40/40\u001b[0m \u001b[32m━━━━━━━━━━━━━━━━━━━━\u001b[0m\u001b[37m\u001b[0m \u001b[1m1s\u001b[0m 22ms/step - loss: 0.4361 - val_loss: 0.4338\n",
            "Epoch 94/100\n",
            "\u001b[1m40/40\u001b[0m \u001b[32m━━━━━━━━━━━━━━━━━━━━\u001b[0m\u001b[37m\u001b[0m \u001b[1m1s\u001b[0m 22ms/step - loss: 0.4366 - val_loss: 0.4337\n",
            "Epoch 95/100\n",
            "\u001b[1m40/40\u001b[0m \u001b[32m━━━━━━━━━━━━━━━━━━━━\u001b[0m\u001b[37m\u001b[0m \u001b[1m1s\u001b[0m 22ms/step - loss: 0.4362 - val_loss: 0.4334\n",
            "Epoch 96/100\n",
            "\u001b[1m40/40\u001b[0m \u001b[32m━━━━━━━━━━━━━━━━━━━━\u001b[0m\u001b[37m\u001b[0m \u001b[1m1s\u001b[0m 22ms/step - loss: 0.4362 - val_loss: 0.4331\n",
            "Epoch 97/100\n",
            "\u001b[1m40/40\u001b[0m \u001b[32m━━━━━━━━━━━━━━━━━━━━\u001b[0m\u001b[37m\u001b[0m \u001b[1m1s\u001b[0m 22ms/step - loss: 0.4357 - val_loss: 0.4334\n",
            "Epoch 98/100\n",
            "\u001b[1m40/40\u001b[0m \u001b[32m━━━━━━━━━━━━━━━━━━━━\u001b[0m\u001b[37m\u001b[0m \u001b[1m1s\u001b[0m 22ms/step - loss: 0.4358 - val_loss: 0.4330\n",
            "Epoch 99/100\n",
            "\u001b[1m40/40\u001b[0m \u001b[32m━━━━━━━━━━━━━━━━━━━━\u001b[0m\u001b[37m\u001b[0m \u001b[1m1s\u001b[0m 22ms/step - loss: 0.4359 - val_loss: 0.4331\n",
            "Epoch 100/100\n",
            "\u001b[1m40/40\u001b[0m \u001b[32m━━━━━━━━━━━━━━━━━━━━\u001b[0m\u001b[37m\u001b[0m \u001b[1m1s\u001b[0m 22ms/step - loss: 0.4357 - val_loss: 0.4328\n",
            "Restoring model weights from the end of the best epoch: 100.\n"
          ]
        }
      ],
      "source": [
        "# fit model\n",
        "history = model.fit(\n",
        "    normal_train_data_scaled_lstm, normal_train_data_scaled_lstm,\n",
        "    epochs=100,\n",
        "    batch_size=128,\n",
        "    validation_split=0.3,\n",
        "    callbacks=[early_stopping],\n",
        "    shuffle=False,\n",
        "    verbose=1)\n"
      ]
    },
    {
      "cell_type": "code",
      "execution_count": 11,
      "metadata": {
        "colab": {
          "base_uri": "https://localhost:8080/",
          "height": 447
        },
        "id": "IxPRm7cLZuSL",
        "outputId": "252b5a87-19bf-4dd7-aa31-2d124373414a"
      },
      "outputs": [
        {
          "output_type": "execute_result",
          "data": {
            "text/plain": [
              "<matplotlib.legend.Legend at 0x7ddae0991b90>"
            ]
          },
          "metadata": {},
          "execution_count": 11
        },
        {
          "output_type": "display_data",
          "data": {
            "text/plain": [
              "<Figure size 640x480 with 1 Axes>"
            ],
            "image/png": "[encoded data removed]"
          },
          "metadata": {}
        }
      ],
      "source": [
        "plt.plot(history.history['loss'], label='Training loss')\n",
        "plt.plot(history.history['val_loss'], label='Validation loss')\n",
        "plt.legend()"
      ]
    },
    {
      "cell_type": "code",
      "execution_count": 12,
      "metadata": {
        "colab": {
          "base_uri": "https://localhost:8080/",
          "height": 744
        },
        "id": "bMzuzOQgbrm6",
        "outputId": "c74741e1-e4f2-49d3-f34c-3c3f8ea3d4c3"
      },
      "outputs": [
        {
          "output_type": "stream",
          "name": "stdout",
          "text": [
            "\u001b[1m57/57\u001b[0m \u001b[32m━━━━━━━━━━━━━━━━━━━━\u001b[0m\u001b[37m\u001b[0m \u001b[1m2s\u001b[0m 23ms/step\n"
          ]
        },
        {
          "output_type": "execute_result",
          "data": {
            "text/plain": [
              "(array([480.,  34.,  21.,   8.,   9.,   3.,   1.,   0.,   1.,  12.,  15.,\n",
              "         20.,  40.,  62.,  53.,  74.,  97.,  74.,  99.,  85.,  71.,  85.,\n",
              "         79.,  64.,  55.,  48.,  39.,  38.,  21.,  12.,  26.,  13.,  13.,\n",
              "          7.,   6.,   6.,   9.,   5.,   0.,   3.,   3.,   0.,   0.,   1.,\n",
              "          1.,   1.,   0.,   0.,   1.,   1.]),\n",
              " array([0.00613538, 0.03623795, 0.06634052, 0.09644309, 0.12654567,\n",
              "        0.15664825, 0.18675081, 0.21685338, 0.24695596, 0.27705854,\n",
              "        0.30716112, 0.33726367, 0.36736625, 0.39746884, 0.42757139,\n",
              "        0.45767397, 0.48777655, 0.51787913, 0.54798174, 0.57808429,\n",
              "        0.6081869 , 0.63828945, 0.668392  , 0.69849461, 0.72859716,\n",
              "        0.75869972, 0.78880233, 0.81890488, 0.84900743, 0.87911004,\n",
              "        0.90921259, 0.9393152 , 0.96941775, 0.9995203 , 1.02962279,\n",
              "        1.0597254 , 1.08982801, 1.11993051, 1.15003312, 1.18013573,\n",
              "        1.21023834, 1.24034083, 1.27044344, 1.30054605, 1.33064854,\n",
              "        1.36075115, 1.39085376, 1.42095625, 1.45105886, 1.48116148,\n",
              "        1.51126397]),\n",
              " <BarContainer object of 50 artists>)"
            ]
          },
          "metadata": {},
          "execution_count": 12
        },
        {
          "output_type": "display_data",
          "data": {
            "text/plain": [
              "<Figure size 640x480 with 1 Axes>"
            ],
            "image/png": "[encoded data removed]"
          },
          "metadata": {}
        }
      ],
      "source": [
        "import tensorflow as tf #building model\n",
        "reconstruction_normal = model.predict(normal_test_data_scaled)    #output error between input and output\n",
        "train_loss = tf.keras.losses.mae(reconstruction_normal, normal_test_data_scaled)\n",
        "plt.hist(train_loss, bins=50)"
      ]
    },
    {
      "cell_type": "code",
      "execution_count": 13,
      "metadata": {
        "colab": {
          "base_uri": "https://localhost:8080/",
          "height": 708
        },
        "id": "zaL_sHmRKLZ1",
        "outputId": "561ef4fa-2e9c-47c7-e650-28af6ae0ed65"
      },
      "outputs": [
        {
          "output_type": "stream",
          "name": "stdout",
          "text": [
            "\u001b[1m3/3\u001b[0m \u001b[32m━━━━━━━━━━━━━━━━━━━━\u001b[0m\u001b[37m\u001b[0m \u001b[1m0s\u001b[0m 16ms/step\n"
          ]
        },
        {
          "output_type": "execute_result",
          "data": {
            "text/plain": [
              "(array([1., 1., 0., 0., 1., 0., 1., 0., 0., 4., 1., 1., 1., 2., 1., 0., 5.,\n",
              "        4., 3., 4., 2., 3., 0., 1., 1., 2., 3., 0., 4., 6., 0., 3., 0., 2.,\n",
              "        2., 0., 0., 1., 0., 2., 1., 0., 0., 2., 0., 0., 1., 1., 0., 1.]),\n",
              " array([0.84642452, 0.90908742, 0.97175026, 1.0344131 , 1.09707594,\n",
              "        1.1597389 , 1.22240174, 1.28506458, 1.34772754, 1.41039038,\n",
              "        1.47305322, 1.53571606, 1.5983789 , 1.66104174, 1.7237047 ,\n",
              "        1.78636765, 1.84903049, 1.91169333, 1.97435617, 2.03701901,\n",
              "        2.09968185, 2.16234469, 2.22500777, 2.28767061, 2.35033345,\n",
              "        2.41299629, 2.47565913, 2.53832197, 2.60098481, 2.66364765,\n",
              "        2.72631073, 2.78897357, 2.85163641, 2.91429925, 2.97696209,\n",
              "        3.03962493, 3.10228777, 3.16495085, 3.22761369, 3.29027653,\n",
              "        3.35293937, 3.41560221, 3.47826505, 3.54092789, 3.60359097,\n",
              "        3.66625381, 3.72891665, 3.79157948, 3.85424232, 3.91690516,\n",
              "        3.97956824]),\n",
              " <BarContainer object of 50 artists>)"
            ]
          },
          "metadata": {},
          "execution_count": 13
        },
        {
          "output_type": "display_data",
          "data": {
            "text/plain": [
              "<Figure size 640x480 with 1 Axes>"
            ],
            "image/png": "[encoded data removed]"
          },
          "metadata": {}
        }
      ],
      "source": [
        "reconstruction_abnormal = model.predict(abnormal_test_data_scaled)\n",
        "train_loss_abnormal = tf.keras.losses.mae(reconstruction_abnormal, abnormal_test_data_scaled)\n",
        "plt.hist(train_loss_abnormal, bins=50)"
      ]
    },
    {
      "cell_type": "code",
      "execution_count": 14,
      "metadata": {
        "colab": {
          "base_uri": "https://localhost:8080/"
        },
        "id": "KeJ0Ndl1QH_o",
        "outputId": "e6745f3e-036c-460a-eff9-486c0b064ede"
      },
      "outputs": [
        {
          "output_type": "execute_result",
          "data": {
            "text/plain": [
              "np.float32(1.0772052)"
            ]
          },
          "metadata": {},
          "execution_count": 14
        }
      ],
      "source": [
        "# threshold auswählen nach business logic\n",
        "threshold = np.mean(train_loss) + 2*np.std(train_loss)\n",
        "threshold"
      ]
    },
    {
      "cell_type": "code",
      "execution_count": 15,
      "metadata": {
        "colab": {
          "base_uri": "https://localhost:8080/",
          "height": 435
        },
        "id": "u5zFWE9uQJ_4",
        "outputId": "c766388e-43e7-448c-a334-90f6a752911e"
      },
      "outputs": [
        {
          "output_type": "display_data",
          "data": {
            "text/plain": [
              "<Figure size 640x480 with 1 Axes>"
            ],
            "image/png": "[encoded data removed]"
          },
          "metadata": {}
        }
      ],
      "source": [
        "plt.hist(train_loss, bins=50, label='normal')\n",
        "plt.hist(train_loss_abnormal, bins=50, label='abnormal')\n",
        "plt.ylim(0, 60)\n",
        "plt.legend()\n",
        "plt.axvline(threshold, color='r', linestyle='dashed', linewidth=2,label = '{:0.3f}'.format(threshold))\n",
        "plt.show()"
      ]
    },
    {
      "cell_type": "code",
      "execution_count": 16,
      "metadata": {
        "colab": {
          "base_uri": "https://localhost:8080/"
        },
        "id": "Qd9lW1peQMbn",
        "outputId": "593e5f57-ade6-4070-c9af-f9ce5dbfc431"
      },
      "outputs": [
        {
          "output_type": "stream",
          "name": "stdout",
          "text": [
            "Correct Predictions:  1769\n",
            "Accuracy:  0.984966592427617\n",
            "False Predictions index:  [73, 143, 372, 379, 432, 660, 669, 766, 781, 790, 984, 1086, 1175, 1349, 1397, 1408, 1423, 1431, 1441, 1447, 1498, 1540, 1619, 1688, 1693, 1705, 1759]\n"
          ]
        }
      ],
      "source": [
        "preds_normal=tf.math.less(train_loss, threshold)\n",
        "correct = tf.math.count_nonzero(preds_normal)\n",
        "false_predictions_normal = [i for i, x in enumerate(preds_normal) if not x]\n",
        "print(\"Correct Predictions: \", correct.numpy())\n",
        "print(\"Accuracy: \", correct.numpy()/len(preds_normal))\n",
        "print(\"False Predictions index: \", false_predictions_normal)"
      ]
    },
    {
      "cell_type": "code",
      "execution_count": 17,
      "metadata": {
        "colab": {
          "base_uri": "https://localhost:8080/"
        },
        "id": "C-hd2PN_QY3P",
        "outputId": "8e69da3c-aa22-43df-c23b-83a4053636a8"
      },
      "outputs": [
        {
          "output_type": "stream",
          "name": "stdout",
          "text": [
            "Correct Predictions:  66\n",
            "Accuracy:  0.9705882352941176\n"
          ]
        }
      ],
      "source": [
        "preds_abnormal=tf.math.greater(train_loss_abnormal, threshold)\n",
        "correct = tf.math.count_nonzero(preds_abnormal)\n",
        "false_predictions_abnormal = [i for i, x in enumerate(preds_abnormal) if not x]\n",
        "print(\"Correct Predictions: \", correct.numpy())\n",
        "print(\"Accuracy: \", correct.numpy()/len(preds_abnormal))"
      ]
    },
    {
      "cell_type": "code",
      "execution_count": 17,
      "metadata": {
        "id": "npkMg8dXQdUX"
      },
      "outputs": [],
      "source": []
    }
  ],
  "metadata": {
    "accelerator": "GPU",
    "colab": {
      "gpuType": "L4",
      "machine_shape": "hm",
      "provenance": [],
      "include_colab_link": true
    },
    "kernelspec": {
      "display_name": "Python 3",
      "name": "python3"
    },
    "language_info": {
      "codemirror_mode": {
        "name": "ipython",
        "version": 3
      },
      "file_extension": ".py",
      "mimetype": "text/x-python",
      "name": "python",
      "nbconvert_exporter": "python",
      "pygments_lexer": "ipython3",
      "version": "3.12.3"
    }
  },
  "nbformat": 4,
  "nbformat_minor": 0
}