{
  "cells": [
    {
      "cell_type": "markdown",
      "metadata": {
        "colab_type": "text",
        "id": "view-in-github"
      },
      "source": [
        "<a href=\"https://colab.research.google.com/github/Ziyi-star/Bachelor-Project/blob/main/notebooks/Handlebar/03-Lstm__Handlebar_tensorflow_v1_20.ipynb\" target=\"_parent\"><img src=\"https://colab.research.google.com/assets/colab-badge.svg\" alt=\"Open In Colab\"/></a>"
      ]
    },
    {
      "cell_type": "code",
      "execution_count": 2,
      "metadata": {
        "colab": {
          "base_uri": "https://localhost:8080/",
          "height": 383
        },
        "id": "cGwyEUT7ZuSH",
        "outputId": "1e741b23-e15f-4fc5-ea69-8843b555366e"
      },
      "outputs": [
        {
          "data": {
            "text/html": [
              "<div>\n",
              "<style scoped>\n",
              "    .dataframe tbody tr th:only-of-type {\n",
              "        vertical-align: middle;\n",
              "    }\n",
              "\n",
              "    .dataframe tbody tr th {\n",
              "        vertical-align: top;\n",
              "    }\n",
              "\n",
              "    .dataframe thead th {\n",
              "        text-align: right;\n",
              "    }\n",
              "</style>\n",
              "<table border=\"1\" class=\"dataframe\">\n",
              "  <thead>\n",
              "    <tr style=\"text-align: right;\">\n",
              "      <th></th>\n",
              "      <th>curb_scene</th>\n",
              "      <th>Acc-Z_1</th>\n",
              "      <th>Acc-Z_2</th>\n",
              "      <th>Acc-Z_3</th>\n",
              "      <th>Acc-Z_4</th>\n",
              "      <th>Acc-Z_5</th>\n",
              "      <th>Acc-Z_6</th>\n",
              "      <th>Acc-Z_7</th>\n",
              "      <th>Acc-Z_8</th>\n",
              "      <th>Acc-Z_9</th>\n",
              "      <th>...</th>\n",
              "      <th>Acc-Z_91</th>\n",
              "      <th>Acc-Z_92</th>\n",
              "      <th>Acc-Z_93</th>\n",
              "      <th>Acc-Z_94</th>\n",
              "      <th>Acc-Z_95</th>\n",
              "      <th>Acc-Z_96</th>\n",
              "      <th>Acc-Z_97</th>\n",
              "      <th>Acc-Z_98</th>\n",
              "      <th>Acc-Z_99</th>\n",
              "      <th>Acc-Z_100</th>\n",
              "    </tr>\n",
              "  </thead>\n",
              "  <tbody>\n",
              "    <tr>\n",
              "      <th>0</th>\n",
              "      <td>0.0</td>\n",
              "      <td>8.762772</td>\n",
              "      <td>8.753204</td>\n",
              "      <td>8.762772</td>\n",
              "      <td>8.781937</td>\n",
              "      <td>8.753204</td>\n",
              "      <td>8.748413</td>\n",
              "      <td>8.738831</td>\n",
              "      <td>8.748413</td>\n",
              "      <td>8.743622</td>\n",
              "      <td>...</td>\n",
              "      <td>8.786728</td>\n",
              "      <td>8.801086</td>\n",
              "      <td>8.820236</td>\n",
              "      <td>8.786728</td>\n",
              "      <td>8.777145</td>\n",
              "      <td>8.772354</td>\n",
              "      <td>8.781937</td>\n",
              "      <td>8.801086</td>\n",
              "      <td>8.781937</td>\n",
              "      <td>8.753204</td>\n",
              "    </tr>\n",
              "    <tr>\n",
              "      <th>1</th>\n",
              "      <td>0.0</td>\n",
              "      <td>8.762772</td>\n",
              "      <td>8.762772</td>\n",
              "      <td>8.748413</td>\n",
              "      <td>8.767563</td>\n",
              "      <td>8.729263</td>\n",
              "      <td>8.695740</td>\n",
              "      <td>8.724472</td>\n",
              "      <td>8.767563</td>\n",
              "      <td>8.767563</td>\n",
              "      <td>...</td>\n",
              "      <td>8.753204</td>\n",
              "      <td>8.772354</td>\n",
              "      <td>8.786728</td>\n",
              "      <td>8.781937</td>\n",
              "      <td>8.786728</td>\n",
              "      <td>8.777145</td>\n",
              "      <td>8.738831</td>\n",
              "      <td>8.820236</td>\n",
              "      <td>8.738831</td>\n",
              "      <td>8.757996</td>\n",
              "    </tr>\n",
              "    <tr>\n",
              "      <th>2</th>\n",
              "      <td>0.0</td>\n",
              "      <td>8.781937</td>\n",
              "      <td>8.796295</td>\n",
              "      <td>8.772354</td>\n",
              "      <td>8.772354</td>\n",
              "      <td>8.772354</td>\n",
              "      <td>8.786728</td>\n",
              "      <td>8.781937</td>\n",
              "      <td>8.801086</td>\n",
              "      <td>8.767563</td>\n",
              "      <td>...</td>\n",
              "      <td>8.777145</td>\n",
              "      <td>8.753204</td>\n",
              "      <td>8.767563</td>\n",
              "      <td>8.762772</td>\n",
              "      <td>8.762772</td>\n",
              "      <td>8.753204</td>\n",
              "      <td>8.748413</td>\n",
              "      <td>8.762772</td>\n",
              "      <td>8.772354</td>\n",
              "      <td>8.767563</td>\n",
              "    </tr>\n",
              "    <tr>\n",
              "      <th>3</th>\n",
              "      <td>0.0</td>\n",
              "      <td>8.781937</td>\n",
              "      <td>8.753204</td>\n",
              "      <td>8.801086</td>\n",
              "      <td>8.753204</td>\n",
              "      <td>8.829819</td>\n",
              "      <td>8.753204</td>\n",
              "      <td>8.786728</td>\n",
              "      <td>8.815445</td>\n",
              "      <td>8.762772</td>\n",
              "      <td>...</td>\n",
              "      <td>8.805878</td>\n",
              "      <td>8.796295</td>\n",
              "      <td>8.781937</td>\n",
              "      <td>8.801086</td>\n",
              "      <td>8.810669</td>\n",
              "      <td>8.796295</td>\n",
              "      <td>8.805878</td>\n",
              "      <td>8.791504</td>\n",
              "      <td>8.791504</td>\n",
              "      <td>8.772354</td>\n",
              "    </tr>\n",
              "    <tr>\n",
              "      <th>4</th>\n",
              "      <td>0.0</td>\n",
              "      <td>8.757996</td>\n",
              "      <td>8.762772</td>\n",
              "      <td>8.777145</td>\n",
              "      <td>8.767563</td>\n",
              "      <td>8.786728</td>\n",
              "      <td>8.777145</td>\n",
              "      <td>8.753204</td>\n",
              "      <td>8.757996</td>\n",
              "      <td>8.777145</td>\n",
              "      <td>...</td>\n",
              "      <td>8.757996</td>\n",
              "      <td>8.757996</td>\n",
              "      <td>8.772354</td>\n",
              "      <td>8.767563</td>\n",
              "      <td>8.757996</td>\n",
              "      <td>8.743622</td>\n",
              "      <td>8.777145</td>\n",
              "      <td>8.743622</td>\n",
              "      <td>8.786728</td>\n",
              "      <td>8.796295</td>\n",
              "    </tr>\n",
              "  </tbody>\n",
              "</table>\n",
              "<p>5 rows × 101 columns</p>\n",
              "</div>"
            ],
            "text/plain": [
              "   curb_scene   Acc-Z_1   Acc-Z_2   Acc-Z_3   Acc-Z_4   Acc-Z_5   Acc-Z_6  \\\n",
              "0         0.0  8.762772  8.753204  8.762772  8.781937  8.753204  8.748413   \n",
              "1         0.0  8.762772  8.762772  8.748413  8.767563  8.729263  8.695740   \n",
              "2         0.0  8.781937  8.796295  8.772354  8.772354  8.772354  8.786728   \n",
              "3         0.0  8.781937  8.753204  8.801086  8.753204  8.829819  8.753204   \n",
              "4         0.0  8.757996  8.762772  8.777145  8.767563  8.786728  8.777145   \n",
              "\n",
              "    Acc-Z_7   Acc-Z_8   Acc-Z_9  ...  Acc-Z_91  Acc-Z_92  Acc-Z_93  Acc-Z_94  \\\n",
              "0  8.738831  8.748413  8.743622  ...  8.786728  8.801086  8.820236  8.786728   \n",
              "1  8.724472  8.767563  8.767563  ...  8.753204  8.772354  8.786728  8.781937   \n",
              "2  8.781937  8.801086  8.767563  ...  8.777145  8.753204  8.767563  8.762772   \n",
              "3  8.786728  8.815445  8.762772  ...  8.805878  8.796295  8.781937  8.801086   \n",
              "4  8.753204  8.757996  8.777145  ...  8.757996  8.757996  8.772354  8.767563   \n",
              "\n",
              "   Acc-Z_95  Acc-Z_96  Acc-Z_97  Acc-Z_98  Acc-Z_99  Acc-Z_100  \n",
              "0  8.777145  8.772354  8.781937  8.801086  8.781937   8.753204  \n",
              "1  8.786728  8.777145  8.738831  8.820236  8.738831   8.757996  \n",
              "2  8.762772  8.753204  8.748413  8.762772  8.772354   8.767563  \n",
              "3  8.810669  8.796295  8.805878  8.791504  8.791504   8.772354  \n",
              "4  8.757996  8.743622  8.777145  8.743622  8.786728   8.796295  \n",
              "\n",
              "[5 rows x 101 columns]"
            ]
          },
          "execution_count": 2,
          "metadata": {},
          "output_type": "execute_result"
        }
      ],
      "source": [
        "# For Vscode\n",
        "import numpy as np\n",
        "import pandas as pd\n",
        "from tensorflow import keras\n",
        "from tensorflow.keras import layers\n",
        "from datetime import datetime\n",
        "from matplotlib import pyplot as plt\n",
        "from matplotlib import dates as md\n",
        "from sklearn.model_selection import train_test_split    #model selection and scaling data\n",
        "from sklearn.preprocessing import StandardScaler\n",
        "RANDOM_SEED = 42\n",
        "\n",
        "import sys\n",
        "sys.path.append('../../')   # Add parent directory to Python path\n",
        "from utils.Plots import *\n",
        "\n",
        "df = pd.read_csv('../../data/handlebar/processed_segments_overlap_50.csv')\n",
        "# 0 for normal, 1 for abnormal\n",
        "df['curb_scene'].value_counts()\n",
        "df.drop('Unnamed: 0', axis=1, inplace=True)\n",
        "df.head()"
      ]
    },
    {
      "cell_type": "code",
      "execution_count": 3,
      "metadata": {
        "colab": {
          "base_uri": "https://localhost:8080/",
          "height": 290
        },
        "id": "i3NZMq4eZ1xZ",
        "outputId": "69101ac1-25d7-435b-e8a7-ed511e3edb92"
      },
      "outputs": [
        {
          "ename": "ModuleNotFoundError",
          "evalue": "No module named 'google.colab'",
          "output_type": "error",
          "traceback": [
            "\u001b[1;31m---------------------------------------------------------------------------\u001b[0m",
            "\u001b[1;31mModuleNotFoundError\u001b[0m                       Traceback (most recent call last)",
            "Cell \u001b[1;32mIn[3], line 15\u001b[0m\n\u001b[0;32m     11\u001b[0m RANDOM_SEED \u001b[38;5;241m=\u001b[39m \u001b[38;5;241m42\u001b[39m\n\u001b[0;32m     14\u001b[0m \u001b[38;5;28;01mimport\u001b[39;00m\u001b[38;5;250m \u001b[39m\u001b[38;5;21;01mos\u001b[39;00m\n\u001b[1;32m---> 15\u001b[0m \u001b[38;5;28;01mfrom\u001b[39;00m\u001b[38;5;250m \u001b[39m\u001b[38;5;21;01mgoogle\u001b[39;00m\u001b[38;5;21;01m.\u001b[39;00m\u001b[38;5;21;01mcolab\u001b[39;00m\u001b[38;5;250m \u001b[39m\u001b[38;5;28;01mimport\u001b[39;00m drive\n\u001b[0;32m     16\u001b[0m drive\u001b[38;5;241m.\u001b[39mmount(\u001b[38;5;124m'\u001b[39m\u001b[38;5;124m/content/drive\u001b[39m\u001b[38;5;124m'\u001b[39m)\n\u001b[0;32m     17\u001b[0m df \u001b[38;5;241m=\u001b[39m pd\u001b[38;5;241m.\u001b[39mread_csv(\u001b[38;5;124m'\u001b[39m\u001b[38;5;124m/content/drive/MyDrive/Project/data/processed_segments_overlap_50.csv\u001b[39m\u001b[38;5;124m'\u001b[39m)\n",
            "\u001b[1;31mModuleNotFoundError\u001b[0m: No module named 'google.colab'"
          ]
        }
      ],
      "source": [
        "# For Colab\n",
        "import numpy as np\n",
        "import pandas as pd\n",
        "from tensorflow import keras\n",
        "from tensorflow.keras import layers\n",
        "from datetime import datetime\n",
        "from matplotlib import pyplot as plt\n",
        "from matplotlib import dates as md\n",
        "from sklearn.model_selection import train_test_split    #model selection and scaling data\n",
        "from sklearn.preprocessing import StandardScaler\n",
        "RANDOM_SEED = 42\n",
        "\n",
        "\n",
        "import os\n",
        "from google.colab import drive\n",
        "drive.mount('/content/drive')\n",
        "df = pd.read_csv('/content/drive/MyDrive/Project/data/processed_segments_overlap_50.csv')\n",
        "# # 0 for normal, 1 for abnormal\n",
        "df['curb_scene'].value_counts()\n",
        "df.head()"
      ]
    },
    {
      "cell_type": "code",
      "execution_count": 4,
      "metadata": {
        "id": "x1yKiG-4KLZ0"
      },
      "outputs": [],
      "source": [
        "# Suppose df is your DataFrame, and df['curb_scene'] is your label column\n",
        "train_data, test_data, train_labels, test_labels = train_test_split(df, df['curb_scene'],\n",
        "                                                                    test_size=0.2,\n",
        "                                                                    random_state=RANDOM_SEED)"
      ]
    },
    {
      "cell_type": "code",
      "execution_count": 5,
      "metadata": {
        "id": "65NJYMCIKLZ0"
      },
      "outputs": [],
      "source": [
        "#scaling data, because neural network works better with scaled data\n",
        "scaler = StandardScaler()\n",
        "data_scaled = scaler.fit(train_data.iloc[:, 3:])\n",
        "#transform data\n",
        "train_data_scaled = scaler.transform(train_data.iloc[:, 3:])\n",
        "test_data_scaled = scaler.transform(test_data.iloc[:, 3:])"
      ]
    },
    {
      "cell_type": "code",
      "execution_count": 6,
      "metadata": {
        "id": "jPeLMJUXKLZ0"
      },
      "outputs": [],
      "source": [
        "# Convert the scaled data back to DataFrames for further processing\n",
        "train_data_scaled_df = pd.DataFrame(train_data_scaled, columns=train_data.columns[3:])\n",
        "test_data_scaled_df = pd.DataFrame(test_data_scaled, columns=test_data.columns[3:])\n",
        "# Add the 'curb_scene', 'start_time', and 'end_time' columns back to the scaled DataFrames\n",
        "train_data_scaled_df['curb_scene'] = train_data['curb_scene'].values\n",
        "# train_data_scaled_df['start_time'] = train_data['start_time'].values\n",
        "# train_data_scaled_df['end_time'] = train_data['end_time'].values\n",
        "test_data_scaled_df['curb_scene'] = test_data['curb_scene'].values\n",
        "# test_data_scaled_df['start_time'] = test_data['start_time'].values\n",
        "# test_data_scaled_df['end_time'] = test_data['end_time'].values"
      ]
    },
    {
      "cell_type": "code",
      "execution_count": 7,
      "metadata": {
        "colab": {
          "base_uri": "https://localhost:8080/"
        },
        "id": "GkXODwMqKLZ0",
        "outputId": "df821e47-baa6-4841-e426-0a0ed7d3a872"
      },
      "outputs": [
        {
          "name": "stdout",
          "output_type": "stream",
          "text": [
            "Index([   0,    1,    2,    3,    4,    5,    6,    8,    9,   10,\n",
            "       ...\n",
            "       1854, 1855, 1856, 1857, 1858, 1859, 1860, 1861, 1862, 1863],\n",
            "      dtype='int64', length=1796)\n",
            "Index([   7,   54,   63,   73,   92,   94,  119,  188,  204,  209,  218,  330,\n",
            "        358,  363,  402,  412,  421,  456,  530,  553,  567,  584,  590,  597,\n",
            "        757,  784,  796,  840,  891,  894,  949,  950,  955,  962,  978,  979,\n",
            "        990, 1006, 1033, 1038, 1071, 1126, 1135, 1143, 1168, 1195, 1266, 1272,\n",
            "       1274, 1275, 1279, 1359, 1384, 1399, 1409, 1442, 1462, 1472, 1520, 1521,\n",
            "       1562, 1581, 1598, 1624, 1628, 1655, 1673, 1763],\n",
            "      dtype='int64')\n"
          ]
        }
      ],
      "source": [
        "# Filter and slice the data\n",
        "normal_train_data_scaled = train_data_scaled_df[train_data_scaled_df['curb_scene'] == 0.0].iloc[:, :-3]\n",
        "abnormal_train_data_scaled = train_data_scaled_df[train_data_scaled_df['curb_scene'] == 1.0].iloc[:, :-3]\n",
        "normal_test_data_scaled = test_data_scaled_df[test_data_scaled_df['curb_scene'] == 0.0].iloc[:, :-3]\n",
        "abnormal_test_data_scaled = test_data_scaled_df[test_data_scaled_df['curb_scene'] == 1.0].iloc[:, :-3]\n",
        "# Example usage: Accessing the original index\n",
        "print(normal_test_data_scaled.index)\n",
        "print(abnormal_test_data_scaled.index)"
      ]
    },
    {
      "cell_type": "code",
      "execution_count": 9,
      "metadata": {
        "id": "MDG05LdPKLZ0"
      },
      "outputs": [],
      "source": [
        "# Cast to float32\n",
        "normal_train_data_scaled = normal_train_data_scaled.astype(\"float32\")\n",
        "abnormal_train_data_scaled = abnormal_train_data_scaled.astype(\"float32\")\n",
        "normal_test_data_scaled = normal_test_data_scaled.astype(\"float32\")\n",
        "abnormal_test_data_scaled = abnormal_test_data_scaled.astype(\"float32\")"
      ]
    },
    {
      "cell_type": "code",
      "execution_count": 10,
      "metadata": {
        "colab": {
          "base_uri": "https://localhost:8080/"
        },
        "id": "O0bt0btyZuSK",
        "outputId": "b60e26da-536a-45e4-9b7d-db6c32ec1d98"
      },
      "outputs": [
        {
          "data": {
            "text/plain": [
              "((7178, 96, 1), (1796, 96, 1), (68, 96, 1))"
            ]
          },
          "execution_count": 10,
          "metadata": {},
          "output_type": "execute_result"
        }
      ],
      "source": [
        "normal_train_data_scaled_lstm = np.expand_dims(normal_train_data_scaled, axis=2)\n",
        "normal_test_data_scaled_lstm = np.expand_dims(normal_test_data_scaled, axis=2)\n",
        "abnormal_test_data_scaled_lstm = np.expand_dims(abnormal_test_data_scaled, axis=2)\n",
        "normal_train_data_scaled_lstm.shape, normal_test_data_scaled_lstm.shape, abnormal_test_data_scaled_lstm.shape"
      ]
    },
    {
      "cell_type": "code",
      "execution_count": 11,
      "metadata": {
        "colab": {
          "base_uri": "https://localhost:8080/",
          "height": 340
        },
        "id": "jAws3-IRZuSK",
        "outputId": "c869ceec-ced8-4c26-db36-cd599ed400e2"
      },
      "outputs": [
        {
          "data": {
            "text/html": [
              "<pre style=\"white-space:pre;overflow-x:auto;line-height:normal;font-family:Menlo,'DejaVu Sans Mono',consolas,'Courier New',monospace\"><span style=\"font-weight: bold\">Model: \"sequential\"</span>\n",
              "</pre>\n"
            ],
            "text/plain": [
              "\u001b[1mModel: \"sequential\"\u001b[0m\n"
            ]
          },
          "metadata": {},
          "output_type": "display_data"
        },
        {
          "data": {
            "text/html": [
              "<pre style=\"white-space:pre;overflow-x:auto;line-height:normal;font-family:Menlo,'DejaVu Sans Mono',consolas,'Courier New',monospace\">┏━━━━━━━━━━━━━━━━━━━━━━━━━━━━━━━━━┳━━━━━━━━━━━━━━━━━━━━━━━━┳━━━━━━━━━━━━━━━┓\n",
              "┃<span style=\"font-weight: bold\"> Layer (type)                    </span>┃<span style=\"font-weight: bold\"> Output Shape           </span>┃<span style=\"font-weight: bold\">       Param # </span>┃\n",
              "┡━━━━━━━━━━━━━━━━━━━━━━━━━━━━━━━━━╇━━━━━━━━━━━━━━━━━━━━━━━━╇━━━━━━━━━━━━━━━┩\n",
              "│ lstm (<span style=\"color: #0087ff; text-decoration-color: #0087ff\">LSTM</span>)                     │ (<span style=\"color: #00d7ff; text-decoration-color: #00d7ff\">None</span>, <span style=\"color: #00af00; text-decoration-color: #00af00\">64</span>)             │        <span style=\"color: #00af00; text-decoration-color: #00af00\">16,896</span> │\n",
              "├─────────────────────────────────┼────────────────────────┼───────────────┤\n",
              "│ dropout (<span style=\"color: #0087ff; text-decoration-color: #0087ff\">Dropout</span>)               │ (<span style=\"color: #00d7ff; text-decoration-color: #00d7ff\">None</span>, <span style=\"color: #00af00; text-decoration-color: #00af00\">64</span>)             │             <span style=\"color: #00af00; text-decoration-color: #00af00\">0</span> │\n",
              "├─────────────────────────────────┼────────────────────────┼───────────────┤\n",
              "│ repeat_vector (<span style=\"color: #0087ff; text-decoration-color: #0087ff\">RepeatVector</span>)    │ (<span style=\"color: #00d7ff; text-decoration-color: #00d7ff\">None</span>, <span style=\"color: #00af00; text-decoration-color: #00af00\">96</span>, <span style=\"color: #00af00; text-decoration-color: #00af00\">64</span>)         │             <span style=\"color: #00af00; text-decoration-color: #00af00\">0</span> │\n",
              "├─────────────────────────────────┼────────────────────────┼───────────────┤\n",
              "│ lstm_1 (<span style=\"color: #0087ff; text-decoration-color: #0087ff\">LSTM</span>)                   │ (<span style=\"color: #00d7ff; text-decoration-color: #00d7ff\">None</span>, <span style=\"color: #00af00; text-decoration-color: #00af00\">96</span>, <span style=\"color: #00af00; text-decoration-color: #00af00\">64</span>)         │        <span style=\"color: #00af00; text-decoration-color: #00af00\">33,024</span> │\n",
              "├─────────────────────────────────┼────────────────────────┼───────────────┤\n",
              "│ dropout_1 (<span style=\"color: #0087ff; text-decoration-color: #0087ff\">Dropout</span>)             │ (<span style=\"color: #00d7ff; text-decoration-color: #00d7ff\">None</span>, <span style=\"color: #00af00; text-decoration-color: #00af00\">96</span>, <span style=\"color: #00af00; text-decoration-color: #00af00\">64</span>)         │             <span style=\"color: #00af00; text-decoration-color: #00af00\">0</span> │\n",
              "├─────────────────────────────────┼────────────────────────┼───────────────┤\n",
              "│ time_distributed                │ (<span style=\"color: #00d7ff; text-decoration-color: #00d7ff\">None</span>, <span style=\"color: #00af00; text-decoration-color: #00af00\">96</span>, <span style=\"color: #00af00; text-decoration-color: #00af00\">1</span>)          │            <span style=\"color: #00af00; text-decoration-color: #00af00\">65</span> │\n",
              "│ (<span style=\"color: #0087ff; text-decoration-color: #0087ff\">TimeDistributed</span>)               │                        │               │\n",
              "└─────────────────────────────────┴────────────────────────┴───────────────┘\n",
              "</pre>\n"
            ],
            "text/plain": [
              "┏━━━━━━━━━━━━━━━━━━━━━━━━━━━━━━━━━┳━━━━━━━━━━━━━━━━━━━━━━━━┳━━━━━━━━━━━━━━━┓\n",
              "┃\u001b[1m \u001b[0m\u001b[1mLayer (type)                   \u001b[0m\u001b[1m \u001b[0m┃\u001b[1m \u001b[0m\u001b[1mOutput Shape          \u001b[0m\u001b[1m \u001b[0m┃\u001b[1m \u001b[0m\u001b[1m      Param #\u001b[0m\u001b[1m \u001b[0m┃\n",
              "┡━━━━━━━━━━━━━━━━━━━━━━━━━━━━━━━━━╇━━━━━━━━━━━━━━━━━━━━━━━━╇━━━━━━━━━━━━━━━┩\n",
              "│ lstm (\u001b[38;5;33mLSTM\u001b[0m)                     │ (\u001b[38;5;45mNone\u001b[0m, \u001b[38;5;34m64\u001b[0m)             │        \u001b[38;5;34m16,896\u001b[0m │\n",
              "├─────────────────────────────────┼────────────────────────┼───────────────┤\n",
              "│ dropout (\u001b[38;5;33mDropout\u001b[0m)               │ (\u001b[38;5;45mNone\u001b[0m, \u001b[38;5;34m64\u001b[0m)             │             \u001b[38;5;34m0\u001b[0m │\n",
              "├─────────────────────────────────┼────────────────────────┼───────────────┤\n",
              "│ repeat_vector (\u001b[38;5;33mRepeatVector\u001b[0m)    │ (\u001b[38;5;45mNone\u001b[0m, \u001b[38;5;34m96\u001b[0m, \u001b[38;5;34m64\u001b[0m)         │             \u001b[38;5;34m0\u001b[0m │\n",
              "├─────────────────────────────────┼────────────────────────┼───────────────┤\n",
              "│ lstm_1 (\u001b[38;5;33mLSTM\u001b[0m)                   │ (\u001b[38;5;45mNone\u001b[0m, \u001b[38;5;34m96\u001b[0m, \u001b[38;5;34m64\u001b[0m)         │        \u001b[38;5;34m33,024\u001b[0m │\n",
              "├─────────────────────────────────┼────────────────────────┼───────────────┤\n",
              "│ dropout_1 (\u001b[38;5;33mDropout\u001b[0m)             │ (\u001b[38;5;45mNone\u001b[0m, \u001b[38;5;34m96\u001b[0m, \u001b[38;5;34m64\u001b[0m)         │             \u001b[38;5;34m0\u001b[0m │\n",
              "├─────────────────────────────────┼────────────────────────┼───────────────┤\n",
              "│ time_distributed                │ (\u001b[38;5;45mNone\u001b[0m, \u001b[38;5;34m96\u001b[0m, \u001b[38;5;34m1\u001b[0m)          │            \u001b[38;5;34m65\u001b[0m │\n",
              "│ (\u001b[38;5;33mTimeDistributed\u001b[0m)               │                        │               │\n",
              "└─────────────────────────────────┴────────────────────────┴───────────────┘\n"
            ]
          },
          "metadata": {},
          "output_type": "display_data"
        },
        {
          "data": {
            "text/html": [
              "<pre style=\"white-space:pre;overflow-x:auto;line-height:normal;font-family:Menlo,'DejaVu Sans Mono',consolas,'Courier New',monospace\"><span style=\"font-weight: bold\"> Total params: </span><span style=\"color: #00af00; text-decoration-color: #00af00\">49,985</span> (195.25 KB)\n",
              "</pre>\n"
            ],
            "text/plain": [
              "\u001b[1m Total params: \u001b[0m\u001b[38;5;34m49,985\u001b[0m (195.25 KB)\n"
            ]
          },
          "metadata": {},
          "output_type": "display_data"
        },
        {
          "data": {
            "text/html": [
              "<pre style=\"white-space:pre;overflow-x:auto;line-height:normal;font-family:Menlo,'DejaVu Sans Mono',consolas,'Courier New',monospace\"><span style=\"font-weight: bold\"> Trainable params: </span><span style=\"color: #00af00; text-decoration-color: #00af00\">49,985</span> (195.25 KB)\n",
              "</pre>\n"
            ],
            "text/plain": [
              "\u001b[1m Trainable params: \u001b[0m\u001b[38;5;34m49,985\u001b[0m (195.25 KB)\n"
            ]
          },
          "metadata": {},
          "output_type": "display_data"
        },
        {
          "data": {
            "text/html": [
              "<pre style=\"white-space:pre;overflow-x:auto;line-height:normal;font-family:Menlo,'DejaVu Sans Mono',consolas,'Courier New',monospace\"><span style=\"font-weight: bold\"> Non-trainable params: </span><span style=\"color: #00af00; text-decoration-color: #00af00\">0</span> (0.00 B)\n",
              "</pre>\n"
            ],
            "text/plain": [
              "\u001b[1m Non-trainable params: \u001b[0m\u001b[38;5;34m0\u001b[0m (0.00 B)\n"
            ]
          },
          "metadata": {},
          "output_type": "display_data"
        }
      ],
      "source": [
        "from keras.models import Sequential\n",
        "from keras.layers import LSTM, Input, Dropout\n",
        "from keras.layers import Dense\n",
        "from keras.layers import RepeatVector\n",
        "from keras.layers import TimeDistributed\n",
        "from keras.models import Model\n",
        "\n",
        "model = Sequential()\n",
        "# Encoder\n",
        "model.add(Input(shape=(normal_train_data_scaled_lstm.shape[1], normal_train_data_scaled_lstm.shape[2])))\n",
        "model.add(LSTM(64, activation='tanh', return_sequences=False))\n",
        "#not Overfitting\n",
        "model.add(Dropout(rate=0.1))\n",
        "\n",
        "model.add(RepeatVector(normal_train_data_scaled_lstm.shape[1]))\n",
        "\n",
        "model.add(LSTM(64, activation='tanh', return_sequences=True))\n",
        "model.add(Dropout(rate=0.1))\n",
        "model.add(TimeDistributed(Dense(normal_train_data_scaled_lstm.shape[2])))\n",
        "model.compile(optimizer='adam', loss='mae')\n",
        "model.summary()\n"
      ]
    },
    {
      "cell_type": "code",
      "execution_count": 9,
      "metadata": {
        "id": "InlfUN7XL_7-"
      },
      "outputs": [],
      "source": [
        "# define early stopping to prevent overfit\n",
        "early_stopping = keras.callbacks.EarlyStopping(monitor=\"val_loss\",\n",
        "                                               patience=10,\n",
        "                                               mode=\"min\",\n",
        "                                               verbose=1,\n",
        "                                               restore_best_weights=True)"
      ]
    },
    {
      "cell_type": "markdown",
      "metadata": {
        "id": "YmTo9WKUMIKy"
      },
      "source": []
    },
    {
      "cell_type": "code",
      "execution_count": 10,
      "metadata": {
        "colab": {
          "base_uri": "https://localhost:8080/"
        },
        "id": "Rms63bU1ZuSK",
        "outputId": "565a4acb-c44b-4000-a84c-149a6114f105"
      },
      "outputs": [
        {
          "name": "stdout",
          "output_type": "stream",
          "text": [
            "Epoch 1/100\n",
            "\u001b[1m25/25\u001b[0m \u001b[32m━━━━━━━━━━━━━━━━━━━━\u001b[0m\u001b[37m\u001b[0m \u001b[1m10s\u001b[0m 77ms/step - loss: 0.4586 - val_loss: 0.4522\n",
            "Epoch 2/100\n",
            "\u001b[1m25/25\u001b[0m \u001b[32m━━━━━━━━━━━━━━━━━━━━\u001b[0m\u001b[37m\u001b[0m \u001b[1m1s\u001b[0m 22ms/step - loss: 0.4536 - val_loss: 0.4499\n",
            "Epoch 3/100\n",
            "\u001b[1m25/25\u001b[0m \u001b[32m━━━━━━━━━━━━━━━━━━━━\u001b[0m\u001b[37m\u001b[0m \u001b[1m1s\u001b[0m 22ms/step - loss: 0.4524 - val_loss: 0.4495\n",
            "Epoch 4/100\n",
            "\u001b[1m25/25\u001b[0m \u001b[32m━━━━━━━━━━━━━━━━━━━━\u001b[0m\u001b[37m\u001b[0m \u001b[1m1s\u001b[0m 22ms/step - loss: 0.4521 - val_loss: 0.4496\n",
            "Epoch 5/100\n",
            "\u001b[1m25/25\u001b[0m \u001b[32m━━━━━━━━━━━━━━━━━━━━\u001b[0m\u001b[37m\u001b[0m \u001b[1m1s\u001b[0m 22ms/step - loss: 0.4520 - val_loss: 0.4496\n",
            "Epoch 6/100\n",
            "\u001b[1m25/25\u001b[0m \u001b[32m━━━━━━━━━━━━━━━━━━━━\u001b[0m\u001b[37m\u001b[0m \u001b[1m1s\u001b[0m 22ms/step - loss: 0.4519 - val_loss: 0.4496\n",
            "Epoch 7/100\n",
            "\u001b[1m25/25\u001b[0m \u001b[32m━━━━━━━━━━━━━━━━━━━━\u001b[0m\u001b[37m\u001b[0m \u001b[1m1s\u001b[0m 22ms/step - loss: 0.4519 - val_loss: 0.4495\n",
            "Epoch 8/100\n",
            "\u001b[1m25/25\u001b[0m \u001b[32m━━━━━━━━━━━━━━━━━━━━\u001b[0m\u001b[37m\u001b[0m \u001b[1m1s\u001b[0m 22ms/step - loss: 0.4520 - val_loss: 0.4494\n",
            "Epoch 9/100\n",
            "\u001b[1m25/25\u001b[0m \u001b[32m━━━━━━━━━━━━━━━━━━━━\u001b[0m\u001b[37m\u001b[0m \u001b[1m1s\u001b[0m 22ms/step - loss: 0.4519 - val_loss: 0.4495\n",
            "Epoch 10/100\n",
            "\u001b[1m25/25\u001b[0m \u001b[32m━━━━━━━━━━━━━━━━━━━━\u001b[0m\u001b[37m\u001b[0m \u001b[1m1s\u001b[0m 22ms/step - loss: 0.4518 - val_loss: 0.4498\n",
            "Epoch 11/100\n",
            "\u001b[1m25/25\u001b[0m \u001b[32m━━━━━━━━━━━━━━━━━━━━\u001b[0m\u001b[37m\u001b[0m \u001b[1m1s\u001b[0m 22ms/step - loss: 0.4520 - val_loss: 0.4496\n",
            "Epoch 12/100\n",
            "\u001b[1m25/25\u001b[0m \u001b[32m━━━━━━━━━━━━━━━━━━━━\u001b[0m\u001b[37m\u001b[0m \u001b[1m1s\u001b[0m 23ms/step - loss: 0.4519 - val_loss: 0.4494\n",
            "Epoch 13/100\n",
            "\u001b[1m25/25\u001b[0m \u001b[32m━━━━━━━━━━━━━━━━━━━━\u001b[0m\u001b[37m\u001b[0m \u001b[1m1s\u001b[0m 24ms/step - loss: 0.4518 - val_loss: 0.4494\n",
            "Epoch 14/100\n",
            "\u001b[1m25/25\u001b[0m \u001b[32m━━━━━━━━━━━━━━━━━━━━\u001b[0m\u001b[37m\u001b[0m \u001b[1m1s\u001b[0m 23ms/step - loss: 0.4518 - val_loss: 0.4496\n",
            "Epoch 15/100\n",
            "\u001b[1m25/25\u001b[0m \u001b[32m━━━━━━━━━━━━━━━━━━━━\u001b[0m\u001b[37m\u001b[0m \u001b[1m1s\u001b[0m 22ms/step - loss: 0.4518 - val_loss: 0.4493\n",
            "Epoch 16/100\n",
            "\u001b[1m25/25\u001b[0m \u001b[32m━━━━━━━━━━━━━━━━━━━━\u001b[0m\u001b[37m\u001b[0m \u001b[1m1s\u001b[0m 22ms/step - loss: 0.4517 - val_loss: 0.4495\n",
            "Epoch 17/100\n",
            "\u001b[1m25/25\u001b[0m \u001b[32m━━━━━━━━━━━━━━━━━━━━\u001b[0m\u001b[37m\u001b[0m \u001b[1m1s\u001b[0m 22ms/step - loss: 0.4518 - val_loss: 0.4494\n",
            "Epoch 18/100\n",
            "\u001b[1m25/25\u001b[0m \u001b[32m━━━━━━━━━━━━━━━━━━━━\u001b[0m\u001b[37m\u001b[0m \u001b[1m1s\u001b[0m 22ms/step - loss: 0.4518 - val_loss: 0.4493\n",
            "Epoch 19/100\n",
            "\u001b[1m25/25\u001b[0m \u001b[32m━━━━━━━━━━━━━━━━━━━━\u001b[0m\u001b[37m\u001b[0m \u001b[1m1s\u001b[0m 23ms/step - loss: 0.4518 - val_loss: 0.4496\n",
            "Epoch 20/100\n",
            "\u001b[1m25/25\u001b[0m \u001b[32m━━━━━━━━━━━━━━━━━━━━\u001b[0m\u001b[37m\u001b[0m \u001b[1m1s\u001b[0m 23ms/step - loss: 0.4518 - val_loss: 0.4498\n",
            "Epoch 21/100\n",
            "\u001b[1m25/25\u001b[0m \u001b[32m━━━━━━━━━━━━━━━━━━━━\u001b[0m\u001b[37m\u001b[0m \u001b[1m1s\u001b[0m 23ms/step - loss: 0.4518 - val_loss: 0.4493\n",
            "Epoch 22/100\n",
            "\u001b[1m25/25\u001b[0m \u001b[32m━━━━━━━━━━━━━━━━━━━━\u001b[0m\u001b[37m\u001b[0m \u001b[1m1s\u001b[0m 23ms/step - loss: 0.4517 - val_loss: 0.4494\n",
            "Epoch 23/100\n",
            "\u001b[1m25/25\u001b[0m \u001b[32m━━━━━━━━━━━━━━━━━━━━\u001b[0m\u001b[37m\u001b[0m \u001b[1m1s\u001b[0m 22ms/step - loss: 0.4517 - val_loss: 0.4493\n",
            "Epoch 24/100\n",
            "\u001b[1m25/25\u001b[0m \u001b[32m━━━━━━━━━━━━━━━━━━━━\u001b[0m\u001b[37m\u001b[0m \u001b[1m1s\u001b[0m 22ms/step - loss: 0.4516 - val_loss: 0.4495\n",
            "Epoch 25/100\n",
            "\u001b[1m25/25\u001b[0m \u001b[32m━━━━━━━━━━━━━━━━━━━━\u001b[0m\u001b[37m\u001b[0m \u001b[1m1s\u001b[0m 22ms/step - loss: 0.4517 - val_loss: 0.4500\n",
            "Epoch 25: early stopping\n",
            "Restoring model weights from the end of the best epoch: 15.\n"
          ]
        }
      ],
      "source": [
        "# fit model\n",
        "history = model.fit(\n",
        "    normal_train_data_scaled_lstm, normal_train_data_scaled_lstm,\n",
        "    epochs=100,\n",
        "    batch_size=128,\n",
        "    validation_split=0.3,\n",
        "    callbacks=[early_stopping],\n",
        "    shuffle=False,\n",
        "    verbose=1)\n"
      ]
    },
    {
      "cell_type": "code",
      "execution_count": 11,
      "metadata": {
        "colab": {
          "base_uri": "https://localhost:8080/",
          "height": 447
        },
        "id": "IxPRm7cLZuSL",
        "outputId": "3b0ec3ba-0d30-4875-911c-547cf5954f15"
      },
      "outputs": [
        {
          "data": {
            "text/plain": [
              "<matplotlib.legend.Legend at 0x7d975ff7aa10>"
            ]
          },
          "execution_count": 11,
          "metadata": {},
          "output_type": "execute_result"
        },
        {
          "data": {
            "image/png": "[encoded data removed]",
            "text/plain": [
              "<Figure size 640x480 with 1 Axes>"
            ]
          },
          "metadata": {},
          "output_type": "display_data"
        }
      ],
      "source": [
        "plt.plot(history.history['loss'], label='Training loss')\n",
        "plt.plot(history.history['val_loss'], label='Validation loss')\n",
        "plt.legend()"
      ]
    },
    {
      "cell_type": "code",
      "execution_count": 12,
      "metadata": {
        "colab": {
          "base_uri": "https://localhost:8080/",
          "height": 742
        },
        "id": "bMzuzOQgbrm6",
        "outputId": "c878ffec-a13b-4107-b167-c1f8201c8129"
      },
      "outputs": [
        {
          "name": "stdout",
          "output_type": "stream",
          "text": [
            "\u001b[1m36/36\u001b[0m \u001b[32m━━━━━━━━━━━━━━━━━━━━\u001b[0m\u001b[37m\u001b[0m \u001b[1m2s\u001b[0m 32ms/step\n"
          ]
        },
        {
          "data": {
            "text/plain": [
              "(array([301.,  17.,  13.,  11.,   5.,   1.,   3.,   2.,   0.,   1.,   4.,\n",
              "         15.,  16.,  28.,  39.,  34.,  48.,  50.,  50.,  51.,  48.,  55.,\n",
              "         49.,  46.,  32.,  35.,  36.,  28.,  18.,  12.,  16.,  13.,  12.,\n",
              "          8.,   4.,   5.,   5.,   5.,   2.,   0.,   1.,   1.,   0.,   0.,\n",
              "          1.,   0.,   1.,   0.,   0.,   1.]),\n",
              " array([0.00855496, 0.03810525, 0.06765553, 0.09720583, 0.1267561 ,\n",
              "        0.1563064 , 0.18585669, 0.21540697, 0.24495725, 0.27450755,\n",
              "        0.30405784, 0.33360812, 0.3631584 , 0.39270869, 0.42225897,\n",
              "        0.45180926, 0.48135954, 0.5109098 , 0.54046011, 0.57001036,\n",
              "        0.59956068, 0.62911093, 0.65866125, 0.6882115 , 0.71776181,\n",
              "        0.74731207, 0.77686238, 0.80641264, 0.83596295, 0.86551321,\n",
              "        0.89506352, 0.92461377, 0.95416409, 0.9837144 , 1.01326466,\n",
              "        1.04281497, 1.07236528, 1.10191548, 1.13146579, 1.16101611,\n",
              "        1.19056642, 1.22011662, 1.24966693, 1.27921724, 1.30876756,\n",
              "        1.33831775, 1.36786807, 1.39741838, 1.42696869, 1.45651901,\n",
              "        1.4860692 ]),\n",
              " <BarContainer object of 50 artists>)"
            ]
          },
          "execution_count": 12,
          "metadata": {},
          "output_type": "execute_result"
        },
        {
          "data": {
            "image/png": "[encoded data removed]",
            "text/plain": [
              "<Figure size 640x480 with 1 Axes>"
            ]
          },
          "metadata": {},
          "output_type": "display_data"
        }
      ],
      "source": [
        "import tensorflow as tf #building model\n",
        "reconstruction_normal = model.predict(normal_test_data_scaled)    #output error between input and output\n",
        "train_loss = tf.keras.losses.mae(reconstruction_normal, normal_test_data_scaled)\n",
        "plt.hist(train_loss, bins=50)"
      ]
    },
    {
      "cell_type": "code",
      "execution_count": 13,
      "metadata": {
        "colab": {
          "base_uri": "https://localhost:8080/",
          "height": 708
        },
        "id": "zaL_sHmRKLZ1",
        "outputId": "273a9666-a325-44cc-aafd-ffb341ed2be9"
      },
      "outputs": [
        {
          "name": "stdout",
          "output_type": "stream",
          "text": [
            "\u001b[1m2/2\u001b[0m \u001b[32m━━━━━━━━━━━━━━━━━━━━\u001b[0m\u001b[37m\u001b[0m \u001b[1m0s\u001b[0m 23ms/step\n"
          ]
        },
        {
          "data": {
            "text/plain": [
              "(array([1., 0., 1., 0., 2., 0., 0., 2., 2., 1., 0., 0., 2., 1., 0., 4., 0.,\n",
              "        1., 1., 1., 0., 0., 0., 2., 1., 0., 2., 0., 1., 2., 2., 2., 1., 1.,\n",
              "        1., 0., 1., 2., 0., 0., 1., 2., 0., 0., 0., 1., 0., 0., 0., 1.]),\n",
              " array([0.98478872, 1.04711747, 1.10944617, 1.17177498, 1.23410368,\n",
              "        1.2964325 , 1.35876119, 1.42109001, 1.4834187 , 1.54574752,\n",
              "        1.60807621, 1.67040491, 1.73273373, 1.79506254, 1.85739124,\n",
              "        1.91971993, 1.98204875, 2.04437757, 2.10670614, 2.16903496,\n",
              "        2.23136377, 2.29369259, 2.35602117, 2.41834998, 2.4806788 ,\n",
              "        2.54300761, 2.60533619, 2.667665  , 2.72999382, 2.79232264,\n",
              "        2.85465121, 2.91698003, 2.97930884, 3.04163742, 3.10396624,\n",
              "        3.16629505, 3.22862363, 3.29095244, 3.35328126, 3.41561007,\n",
              "        3.47793865, 3.54026747, 3.60259628, 3.6649251 , 3.72725368,\n",
              "        3.78958249, 3.85191131, 3.91424012, 3.9765687 , 4.03889751,\n",
              "        4.10122633]),\n",
              " <BarContainer object of 50 artists>)"
            ]
          },
          "execution_count": 13,
          "metadata": {},
          "output_type": "execute_result"
        },
        {
          "data": {
            "image/png": "[encoded data removed]",
            "text/plain": [
              "<Figure size 640x480 with 1 Axes>"
            ]
          },
          "metadata": {},
          "output_type": "display_data"
        }
      ],
      "source": [
        "reconstruction_abnormal = model.predict(abnormal_test_data_scaled)\n",
        "train_loss_abnormal = tf.keras.losses.mae(reconstruction_abnormal, abnormal_test_data_scaled)\n",
        "plt.hist(train_loss_abnormal, bins=50)"
      ]
    },
    {
      "cell_type": "code",
      "execution_count": 14,
      "metadata": {
        "colab": {
          "base_uri": "https://localhost:8080/"
        },
        "id": "KeJ0Ndl1QH_o",
        "outputId": "7d053e03-be54-4d16-a69b-47af8d0c8c8e"
      },
      "outputs": [
        {
          "data": {
            "text/plain": [
              "np.float32(1.1020002)"
            ]
          },
          "execution_count": 14,
          "metadata": {},
          "output_type": "execute_result"
        }
      ],
      "source": [
        "# threshold auswählen nach business logic\n",
        "threshold = np.mean(train_loss) + 2*np.std(train_loss)\n",
        "threshold"
      ]
    },
    {
      "cell_type": "code",
      "execution_count": 15,
      "metadata": {
        "colab": {
          "base_uri": "https://localhost:8080/",
          "height": 435
        },
        "id": "u5zFWE9uQJ_4",
        "outputId": "6c172392-d02a-46c4-dbf2-c7f4b3c7a7a0"
      },
      "outputs": [
        {
          "data": {
            "image/png": "[encoded data removed]",
            "text/plain": [
              "<Figure size 640x480 with 1 Axes>"
            ]
          },
          "metadata": {},
          "output_type": "display_data"
        }
      ],
      "source": [
        "plt.hist(train_loss, bins=50, label='normal')\n",
        "plt.hist(train_loss_abnormal, bins=50, label='abnormal')\n",
        "plt.ylim(0, 60)\n",
        "plt.legend()\n",
        "plt.axvline(threshold, color='r', linestyle='dashed', linewidth=2,label = '{:0.3f}'.format(threshold))\n",
        "plt.show()"
      ]
    },
    {
      "cell_type": "code",
      "execution_count": 16,
      "metadata": {
        "colab": {
          "base_uri": "https://localhost:8080/"
        },
        "id": "Qd9lW1peQMbn",
        "outputId": "b81d5290-c955-43b7-b563-dd7d7635015c"
      },
      "outputs": [
        {
          "name": "stdout",
          "output_type": "stream",
          "text": [
            "Correct Predictions:  1111\n",
            "Accuracy:  0.9893143365983972\n",
            "False Predictions index:  [199, 208, 470, 641, 753, 837, 855, 900, 904, 944, 980, 1009]\n"
          ]
        }
      ],
      "source": [
        "preds_normal=tf.math.less(train_loss, threshold)\n",
        "correct = tf.math.count_nonzero(preds_normal)\n",
        "false_predictions_normal = [i for i, x in enumerate(preds_normal) if not x]\n",
        "print(\"Correct Predictions: \", correct.numpy())\n",
        "print(\"Accuracy: \", correct.numpy()/len(preds_normal))\n",
        "print(\"False Predictions index: \", false_predictions_normal)"
      ]
    },
    {
      "cell_type": "code",
      "execution_count": 17,
      "metadata": {
        "colab": {
          "base_uri": "https://localhost:8080/"
        },
        "id": "C-hd2PN_QY3P",
        "outputId": "68aa2354-f0c0-47e6-fbe4-f1db7462d915"
      },
      "outputs": [
        {
          "name": "stdout",
          "output_type": "stream",
          "text": [
            "Correct Predictions:  41\n",
            "Accuracy:  0.9761904761904762\n"
          ]
        }
      ],
      "source": [
        "preds_abnormal=tf.math.greater(train_loss_abnormal, threshold)\n",
        "correct = tf.math.count_nonzero(preds_abnormal)\n",
        "false_predictions_abnormal = [i for i, x in enumerate(preds_abnormal) if not x]\n",
        "print(\"Correct Predictions: \", correct.numpy())\n",
        "print(\"Accuracy: \", correct.numpy()/len(preds_abnormal))"
      ]
    },
    {
      "cell_type": "code",
      "execution_count": null,
      "metadata": {
        "id": "npkMg8dXQdUX"
      },
      "outputs": [],
      "source": []
    }
  ],
  "metadata": {
    "accelerator": "GPU",
    "colab": {
      "gpuType": "L4",
      "include_colab_link": true,
      "machine_shape": "hm",
      "provenance": []
    },
    "kernelspec": {
      "display_name": "Python 3",
      "name": "python3"
    },
    "language_info": {
      "codemirror_mode": {
        "name": "ipython",
        "version": 3
      },
      "file_extension": ".py",
      "mimetype": "text/x-python",
      "name": "python",
      "nbconvert_exporter": "python",
      "pygments_lexer": "ipython3",
      "version": "3.12.3"
    }
  },
  "nbformat": 4,
  "nbformat_minor": 0
}
