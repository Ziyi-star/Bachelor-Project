{
  "cells": [
    {
      "cell_type": "code",
      "execution_count": 17,
      "metadata": {
        "id": "cGwyEUT7ZuSH"
      },
      "outputs": [
        {
          "data": {
            "text/html": [
              "<div>\n",
              "<style scoped>\n",
              "    .dataframe tbody tr th:only-of-type {\n",
              "        vertical-align: middle;\n",
              "    }\n",
              "\n",
              "    .dataframe tbody tr th {\n",
              "        vertical-align: top;\n",
              "    }\n",
              "\n",
              "    .dataframe thead th {\n",
              "        text-align: right;\n",
              "    }\n",
              "</style>\n",
              "<table border=\"1\" class=\"dataframe\">\n",
              "  <thead>\n",
              "    <tr style=\"text-align: right;\">\n",
              "      <th></th>\n",
              "      <th>curb_scene</th>\n",
              "      <th>start_time</th>\n",
              "      <th>end_time</th>\n",
              "      <th>Acc-Z_1</th>\n",
              "      <th>Acc-Z_2</th>\n",
              "      <th>Acc-Z_3</th>\n",
              "      <th>Acc-Z_4</th>\n",
              "      <th>Acc-Z_5</th>\n",
              "      <th>Acc-Z_6</th>\n",
              "      <th>Acc-Z_7</th>\n",
              "      <th>...</th>\n",
              "      <th>Acc-Z_91</th>\n",
              "      <th>Acc-Z_92</th>\n",
              "      <th>Acc-Z_93</th>\n",
              "      <th>Acc-Z_94</th>\n",
              "      <th>Acc-Z_95</th>\n",
              "      <th>Acc-Z_96</th>\n",
              "      <th>Acc-Z_97</th>\n",
              "      <th>Acc-Z_98</th>\n",
              "      <th>Acc-Z_99</th>\n",
              "      <th>Acc-Z_100</th>\n",
              "    </tr>\n",
              "  </thead>\n",
              "  <tbody>\n",
              "    <tr>\n",
              "      <th>0</th>\n",
              "      <td>0.0</td>\n",
              "      <td>2024-07-24 10:26:02.003</td>\n",
              "      <td>2024-07-24 10:26:02.499</td>\n",
              "      <td>8.805878</td>\n",
              "      <td>8.796295</td>\n",
              "      <td>8.757996</td>\n",
              "      <td>8.781937</td>\n",
              "      <td>8.805878</td>\n",
              "      <td>8.796295</td>\n",
              "      <td>8.781937</td>\n",
              "      <td>...</td>\n",
              "      <td>8.757996</td>\n",
              "      <td>8.757996</td>\n",
              "      <td>8.762772</td>\n",
              "      <td>8.757996</td>\n",
              "      <td>8.762772</td>\n",
              "      <td>8.767563</td>\n",
              "      <td>8.738831</td>\n",
              "      <td>8.757996</td>\n",
              "      <td>8.743622</td>\n",
              "      <td>8.772354</td>\n",
              "    </tr>\n",
              "    <tr>\n",
              "      <th>1</th>\n",
              "      <td>0.0</td>\n",
              "      <td>2024-07-24 10:26:02.503</td>\n",
              "      <td>2024-07-24 10:26:02.995</td>\n",
              "      <td>8.767563</td>\n",
              "      <td>8.748413</td>\n",
              "      <td>8.753204</td>\n",
              "      <td>8.767563</td>\n",
              "      <td>8.777145</td>\n",
              "      <td>8.781937</td>\n",
              "      <td>8.748413</td>\n",
              "      <td>...</td>\n",
              "      <td>8.777145</td>\n",
              "      <td>8.767563</td>\n",
              "      <td>8.796295</td>\n",
              "      <td>8.810669</td>\n",
              "      <td>8.781937</td>\n",
              "      <td>8.781937</td>\n",
              "      <td>8.757996</td>\n",
              "      <td>8.801086</td>\n",
              "      <td>8.762772</td>\n",
              "      <td>8.757996</td>\n",
              "    </tr>\n",
              "    <tr>\n",
              "      <th>2</th>\n",
              "      <td>0.0</td>\n",
              "      <td>2024-07-24 10:26:03.002</td>\n",
              "      <td>2024-07-24 10:26:03.497</td>\n",
              "      <td>8.767563</td>\n",
              "      <td>8.767563</td>\n",
              "      <td>8.772354</td>\n",
              "      <td>8.757996</td>\n",
              "      <td>8.786728</td>\n",
              "      <td>8.777145</td>\n",
              "      <td>8.781937</td>\n",
              "      <td>...</td>\n",
              "      <td>8.777145</td>\n",
              "      <td>8.753204</td>\n",
              "      <td>8.777145</td>\n",
              "      <td>8.767563</td>\n",
              "      <td>8.762772</td>\n",
              "      <td>8.786728</td>\n",
              "      <td>8.734055</td>\n",
              "      <td>8.786728</td>\n",
              "      <td>8.753204</td>\n",
              "      <td>8.786728</td>\n",
              "    </tr>\n",
              "    <tr>\n",
              "      <th>3</th>\n",
              "      <td>0.0</td>\n",
              "      <td>2024-07-24 10:26:03.502</td>\n",
              "      <td>2024-07-24 10:26:03.999</td>\n",
              "      <td>8.748413</td>\n",
              "      <td>8.777145</td>\n",
              "      <td>8.767563</td>\n",
              "      <td>8.757996</td>\n",
              "      <td>8.757996</td>\n",
              "      <td>8.757996</td>\n",
              "      <td>8.767563</td>\n",
              "      <td>...</td>\n",
              "      <td>8.762772</td>\n",
              "      <td>8.767563</td>\n",
              "      <td>8.772354</td>\n",
              "      <td>8.801086</td>\n",
              "      <td>8.796295</td>\n",
              "      <td>8.791504</td>\n",
              "      <td>8.781937</td>\n",
              "      <td>8.796295</td>\n",
              "      <td>8.781937</td>\n",
              "      <td>8.781937</td>\n",
              "    </tr>\n",
              "    <tr>\n",
              "      <th>4</th>\n",
              "      <td>0.0</td>\n",
              "      <td>2024-07-24 10:26:04.004</td>\n",
              "      <td>2024-07-24 10:26:04.497</td>\n",
              "      <td>8.753204</td>\n",
              "      <td>8.767563</td>\n",
              "      <td>8.748413</td>\n",
              "      <td>8.767563</td>\n",
              "      <td>8.767563</td>\n",
              "      <td>8.772354</td>\n",
              "      <td>8.772354</td>\n",
              "      <td>...</td>\n",
              "      <td>8.786728</td>\n",
              "      <td>8.762772</td>\n",
              "      <td>8.762772</td>\n",
              "      <td>8.767563</td>\n",
              "      <td>8.743622</td>\n",
              "      <td>8.729263</td>\n",
              "      <td>8.743622</td>\n",
              "      <td>8.777145</td>\n",
              "      <td>8.781937</td>\n",
              "      <td>8.791504</td>\n",
              "    </tr>\n",
              "  </tbody>\n",
              "</table>\n",
              "<p>5 rows × 103 columns</p>\n",
              "</div>"
            ],
            "text/plain": [
              "   curb_scene               start_time                 end_time   Acc-Z_1  \\\n",
              "0         0.0  2024-07-24 10:26:02.003  2024-07-24 10:26:02.499  8.805878   \n",
              "1         0.0  2024-07-24 10:26:02.503  2024-07-24 10:26:02.995  8.767563   \n",
              "2         0.0  2024-07-24 10:26:03.002  2024-07-24 10:26:03.497  8.767563   \n",
              "3         0.0  2024-07-24 10:26:03.502  2024-07-24 10:26:03.999  8.748413   \n",
              "4         0.0  2024-07-24 10:26:04.004  2024-07-24 10:26:04.497  8.753204   \n",
              "\n",
              "    Acc-Z_2   Acc-Z_3   Acc-Z_4   Acc-Z_5   Acc-Z_6   Acc-Z_7  ...  Acc-Z_91  \\\n",
              "0  8.796295  8.757996  8.781937  8.805878  8.796295  8.781937  ...  8.757996   \n",
              "1  8.748413  8.753204  8.767563  8.777145  8.781937  8.748413  ...  8.777145   \n",
              "2  8.767563  8.772354  8.757996  8.786728  8.777145  8.781937  ...  8.777145   \n",
              "3  8.777145  8.767563  8.757996  8.757996  8.757996  8.767563  ...  8.762772   \n",
              "4  8.767563  8.748413  8.767563  8.767563  8.772354  8.772354  ...  8.786728   \n",
              "\n",
              "   Acc-Z_92  Acc-Z_93  Acc-Z_94  Acc-Z_95  Acc-Z_96  Acc-Z_97  Acc-Z_98  \\\n",
              "0  8.757996  8.762772  8.757996  8.762772  8.767563  8.738831  8.757996   \n",
              "1  8.767563  8.796295  8.810669  8.781937  8.781937  8.757996  8.801086   \n",
              "2  8.753204  8.777145  8.767563  8.762772  8.786728  8.734055  8.786728   \n",
              "3  8.767563  8.772354  8.801086  8.796295  8.791504  8.781937  8.796295   \n",
              "4  8.762772  8.762772  8.767563  8.743622  8.729263  8.743622  8.777145   \n",
              "\n",
              "   Acc-Z_99  Acc-Z_100  \n",
              "0  8.743622   8.772354  \n",
              "1  8.762772   8.757996  \n",
              "2  8.753204   8.786728  \n",
              "3  8.781937   8.781937  \n",
              "4  8.781937   8.791504  \n",
              "\n",
              "[5 rows x 103 columns]"
            ]
          },
          "execution_count": 17,
          "metadata": {},
          "output_type": "execute_result"
        }
      ],
      "source": [
        "# For Vscode\n",
        "import numpy as np\n",
        "import pandas as pd\n",
        "from tensorflow import keras\n",
        "from tensorflow.keras import layers\n",
        "from datetime import datetime\n",
        "from matplotlib import pyplot as plt\n",
        "from matplotlib import dates as md\n",
        "from sklearn.model_selection import train_test_split    #model selection and scaling data\n",
        "from sklearn.preprocessing import StandardScaler\n",
        "RANDOM_SEED = 42\n",
        "\n",
        "import sys\n",
        "sys.path.append('../../')   # Add parent directory to Python path\n",
        "from utils.Plots import *\n",
        "\n",
        "df = pd.read_csv('../../data/handlebar/Accelerometer_data_combined_segmented.csv') \n",
        "# 0 for normal, 1 for abnormal\n",
        "df['curb_scene'].value_counts()\n",
        "df.head()"
      ]
    },
    {
      "cell_type": "code",
      "execution_count": 18,
      "metadata": {
        "colab": {
          "base_uri": "https://localhost:8080/",
          "height": 224
        },
        "id": "i3NZMq4eZ1xZ",
        "outputId": "b9f1496a-3197-4d8b-82d4-27a23c22ed83"
      },
      "outputs": [
        {
          "ename": "ModuleNotFoundError",
          "evalue": "No module named 'google.colab'",
          "output_type": "error",
          "traceback": [
            "\u001b[1;31m---------------------------------------------------------------------------\u001b[0m",
            "\u001b[1;31mModuleNotFoundError\u001b[0m                       Traceback (most recent call last)",
            "Cell \u001b[1;32mIn[18], line 13\u001b[0m\n\u001b[0;32m      9\u001b[0m RANDOM_SEED \u001b[38;5;241m=\u001b[39m \u001b[38;5;241m42\u001b[39m\n\u001b[0;32m     12\u001b[0m \u001b[38;5;28;01mimport\u001b[39;00m\u001b[38;5;250m \u001b[39m\u001b[38;5;21;01mos\u001b[39;00m\n\u001b[1;32m---> 13\u001b[0m \u001b[38;5;28;01mfrom\u001b[39;00m\u001b[38;5;250m \u001b[39m\u001b[38;5;21;01mgoogle\u001b[39;00m\u001b[38;5;21;01m.\u001b[39;00m\u001b[38;5;21;01mcolab\u001b[39;00m\u001b[38;5;250m \u001b[39m\u001b[38;5;28;01mimport\u001b[39;00m drive\n\u001b[0;32m     14\u001b[0m drive\u001b[38;5;241m.\u001b[39mmount(\u001b[38;5;124m'\u001b[39m\u001b[38;5;124m/content/drive\u001b[39m\u001b[38;5;124m'\u001b[39m)\n\u001b[0;32m     15\u001b[0m df \u001b[38;5;241m=\u001b[39m pd\u001b[38;5;241m.\u001b[39mread_csv(\u001b[38;5;124m'\u001b[39m\u001b[38;5;124m/content/drive/MyDrive/Project/data/Accelerometer_data_combined_segmented.csv\u001b[39m\u001b[38;5;124m'\u001b[39m)\n",
            "\u001b[1;31mModuleNotFoundError\u001b[0m: No module named 'google.colab'"
          ]
        }
      ],
      "source": [
        "# For Colab\n",
        "import numpy as np\n",
        "import pandas as pd\n",
        "from tensorflow import keras\n",
        "from tensorflow.keras import layers\n",
        "from datetime import datetime\n",
        "from matplotlib import pyplot as plt\n",
        "from matplotlib import dates as md\n",
        "RANDOM_SEED = 42\n",
        "\n",
        "\n",
        "import os\n",
        "from google.colab import drive\n",
        "drive.mount('/content/drive')\n",
        "df = pd.read_csv('/content/drive/MyDrive/Project/data/Accelerometer_data_combined_segmented.csv')\n",
        "# # 0 for normal, 1 for abnormal\n",
        "df['curb_scene'].value_counts()\n",
        "df.drop('Unnamed: 0', axis=1, inplace=True)\n",
        "df.head()"
      ]
    },
    {
      "cell_type": "code",
      "execution_count": 19,
      "metadata": {},
      "outputs": [],
      "source": [
        "# Suppose df is your DataFrame, and df['curb_scene'] is your label column\n",
        "train_data, test_data, train_labels, test_labels = train_test_split(df, df['curb_scene'], \n",
        "                                                                    test_size=0.2, \n",
        "                                                                    random_state=RANDOM_SEED)"
      ]
    },
    {
      "cell_type": "code",
      "execution_count": 20,
      "metadata": {},
      "outputs": [],
      "source": [
        "#scaling data, because neural network works better with scaled data\n",
        "scaler = StandardScaler()\n",
        "data_scaled = scaler.fit(train_data.iloc[:, 3:])\n",
        "#transform data\n",
        "train_data_scaled = scaler.transform(train_data.iloc[:, 3:])\n",
        "test_data_scaled = scaler.transform(test_data.iloc[:, 3:])"
      ]
    },
    {
      "cell_type": "code",
      "execution_count": 21,
      "metadata": {},
      "outputs": [],
      "source": [
        "# Convert the scaled data back to DataFrames for further processing\n",
        "train_data_scaled_df = pd.DataFrame(train_data_scaled, columns=train_data.columns[3:])\n",
        "test_data_scaled_df = pd.DataFrame(test_data_scaled, columns=test_data.columns[3:])\n",
        "# Add the 'curb_scene', 'start_time', and 'end_time' columns back to the scaled DataFrames\n",
        "train_data_scaled_df['curb_scene'] = train_data['curb_scene'].values\n",
        "train_data_scaled_df['start_time'] = train_data['start_time'].values\n",
        "train_data_scaled_df['end_time'] = train_data['end_time'].values\n",
        "test_data_scaled_df['curb_scene'] = test_data['curb_scene'].values\n",
        "test_data_scaled_df['start_time'] = test_data['start_time'].values\n",
        "test_data_scaled_df['end_time'] = test_data['end_time'].values"
      ]
    },
    {
      "cell_type": "code",
      "execution_count": 22,
      "metadata": {},
      "outputs": [
        {
          "name": "stdout",
          "output_type": "stream",
          "text": [
            "Index([  0,   1,   2,   3,   4,   5,   6,   7,   8,   9,\n",
            "       ...\n",
            "       876, 877, 878, 879, 880, 881, 882, 883, 884, 885],\n",
            "      dtype='int64', length=875)\n",
            "Index([43, 62, 110, 229, 563, 577, 663, 668, 677, 787, 793], dtype='int64')\n"
          ]
        }
      ],
      "source": [
        "# Filter and slice the data\n",
        "normal_train_data_scaled = train_data_scaled_df[train_data_scaled_df['curb_scene'] == 0.0].iloc[:, :-3]\n",
        "abnormal_train_data_scaled = train_data_scaled_df[train_data_scaled_df['curb_scene'] == 1.0].iloc[:, :-3]\n",
        "normal_test_data_scaled = test_data_scaled_df[test_data_scaled_df['curb_scene'] == 0.0].iloc[:, :-3]\n",
        "abnormal_test_data_scaled = test_data_scaled_df[test_data_scaled_df['curb_scene'] == 1.0].iloc[:, :-3]\n",
        "# Example usage: Accessing the original index\n",
        "print(normal_test_data_scaled.index)\n",
        "print(abnormal_test_data_scaled.index)"
      ]
    },
    {
      "cell_type": "code",
      "execution_count": 23,
      "metadata": {},
      "outputs": [],
      "source": [
        "# Cast to float32\n",
        "normal_train_data_scaled = normal_train_data_scaled.astype(\"float32\")\n",
        "abnormal_train_data_scaled = abnormal_train_data_scaled.astype(\"float32\")\n",
        "normal_test_data_scaled = normal_test_data_scaled.astype(\"float32\")\n",
        "abnormal_test_data_scaled = abnormal_test_data_scaled.astype(\"float32\")"
      ]
    },
    {
      "cell_type": "code",
      "execution_count": 28,
      "metadata": {
        "colab": {
          "base_uri": "https://localhost:8080/"
        },
        "id": "O0bt0btyZuSK",
        "outputId": "785ef153-b6f8-44f6-ac78-a2d7cc6a4eca"
      },
      "outputs": [
        {
          "data": {
            "text/plain": [
              "((3476, 100, 1), (875, 100, 1), (11, 100, 1))"
            ]
          },
          "execution_count": 28,
          "metadata": {},
          "output_type": "execute_result"
        }
      ],
      "source": [
        "normal_train_data_scaled_lstm = np.expand_dims(normal_train_data_scaled, axis=2)\n",
        "normal_test_data_scaled_lstm = np.expand_dims(normal_test_data_scaled, axis=2)\n",
        "abnormal_test_data_scaled_lstm = np.expand_dims(abnormal_test_data_scaled, axis=2)\n",
        "normal_train_data_scaled_lstm.shape, normal_test_data_scaled_lstm.shape, abnormal_test_data_scaled_lstm.shape"
      ]
    },
    {
      "cell_type": "code",
      "execution_count": 36,
      "metadata": {
        "colab": {
          "base_uri": "https://localhost:8080/",
          "height": 395
        },
        "id": "jAws3-IRZuSK",
        "outputId": "60149ada-7e06-4530-94ea-54ebfa1818ca"
      },
      "outputs": [
        {
          "data": {
            "text/html": [
              "<pre style=\"white-space:pre;overflow-x:auto;line-height:normal;font-family:Menlo,'DejaVu Sans Mono',consolas,'Courier New',monospace\"><span style=\"font-weight: bold\">Model: \"sequential_1\"</span>\n",
              "</pre>\n"
            ],
            "text/plain": [
              "\u001b[1mModel: \"sequential_1\"\u001b[0m\n"
            ]
          },
          "metadata": {},
          "output_type": "display_data"
        },
        {
          "data": {
            "text/html": [
              "<pre style=\"white-space:pre;overflow-x:auto;line-height:normal;font-family:Menlo,'DejaVu Sans Mono',consolas,'Courier New',monospace\">┏━━━━━━━━━━━━━━━━━━━━━━━━━━━━━━━━━┳━━━━━━━━━━━━━━━━━━━━━━━━┳━━━━━━━━━━━━━━━┓\n",
              "┃<span style=\"font-weight: bold\"> Layer (type)                    </span>┃<span style=\"font-weight: bold\"> Output Shape           </span>┃<span style=\"font-weight: bold\">       Param # </span>┃\n",
              "┡━━━━━━━━━━━━━━━━━━━━━━━━━━━━━━━━━╇━━━━━━━━━━━━━━━━━━━━━━━━╇━━━━━━━━━━━━━━━┩\n",
              "│ lstm_14 (<span style=\"color: #0087ff; text-decoration-color: #0087ff\">LSTM</span>)                  │ (<span style=\"color: #00d7ff; text-decoration-color: #00d7ff\">None</span>, <span style=\"color: #00af00; text-decoration-color: #00af00\">64</span>)             │        <span style=\"color: #00af00; text-decoration-color: #00af00\">16,896</span> │\n",
              "├─────────────────────────────────┼────────────────────────┼───────────────┤\n",
              "│ dropout_14 (<span style=\"color: #0087ff; text-decoration-color: #0087ff\">Dropout</span>)            │ (<span style=\"color: #00d7ff; text-decoration-color: #00d7ff\">None</span>, <span style=\"color: #00af00; text-decoration-color: #00af00\">64</span>)             │             <span style=\"color: #00af00; text-decoration-color: #00af00\">0</span> │\n",
              "├─────────────────────────────────┼────────────────────────┼───────────────┤\n",
              "│ repeat_vector_7 (<span style=\"color: #0087ff; text-decoration-color: #0087ff\">RepeatVector</span>)  │ (<span style=\"color: #00d7ff; text-decoration-color: #00d7ff\">None</span>, <span style=\"color: #00af00; text-decoration-color: #00af00\">100</span>, <span style=\"color: #00af00; text-decoration-color: #00af00\">64</span>)        │             <span style=\"color: #00af00; text-decoration-color: #00af00\">0</span> │\n",
              "├─────────────────────────────────┼────────────────────────┼───────────────┤\n",
              "│ lstm_15 (<span style=\"color: #0087ff; text-decoration-color: #0087ff\">LSTM</span>)                  │ (<span style=\"color: #00d7ff; text-decoration-color: #00d7ff\">None</span>, <span style=\"color: #00af00; text-decoration-color: #00af00\">100</span>, <span style=\"color: #00af00; text-decoration-color: #00af00\">64</span>)        │        <span style=\"color: #00af00; text-decoration-color: #00af00\">33,024</span> │\n",
              "├─────────────────────────────────┼────────────────────────┼───────────────┤\n",
              "│ dropout_15 (<span style=\"color: #0087ff; text-decoration-color: #0087ff\">Dropout</span>)            │ (<span style=\"color: #00d7ff; text-decoration-color: #00d7ff\">None</span>, <span style=\"color: #00af00; text-decoration-color: #00af00\">100</span>, <span style=\"color: #00af00; text-decoration-color: #00af00\">64</span>)        │             <span style=\"color: #00af00; text-decoration-color: #00af00\">0</span> │\n",
              "├─────────────────────────────────┼────────────────────────┼───────────────┤\n",
              "│ time_distributed_7              │ (<span style=\"color: #00d7ff; text-decoration-color: #00d7ff\">None</span>, <span style=\"color: #00af00; text-decoration-color: #00af00\">100</span>, <span style=\"color: #00af00; text-decoration-color: #00af00\">1</span>)         │            <span style=\"color: #00af00; text-decoration-color: #00af00\">65</span> │\n",
              "│ (<span style=\"color: #0087ff; text-decoration-color: #0087ff\">TimeDistributed</span>)               │                        │               │\n",
              "└─────────────────────────────────┴────────────────────────┴───────────────┘\n",
              "</pre>\n"
            ],
            "text/plain": [
              "┏━━━━━━━━━━━━━━━━━━━━━━━━━━━━━━━━━┳━━━━━━━━━━━━━━━━━━━━━━━━┳━━━━━━━━━━━━━━━┓\n",
              "┃\u001b[1m \u001b[0m\u001b[1mLayer (type)                   \u001b[0m\u001b[1m \u001b[0m┃\u001b[1m \u001b[0m\u001b[1mOutput Shape          \u001b[0m\u001b[1m \u001b[0m┃\u001b[1m \u001b[0m\u001b[1m      Param #\u001b[0m\u001b[1m \u001b[0m┃\n",
              "┡━━━━━━━━━━━━━━━━━━━━━━━━━━━━━━━━━╇━━━━━━━━━━━━━━━━━━━━━━━━╇━━━━━━━━━━━━━━━┩\n",
              "│ lstm_14 (\u001b[38;5;33mLSTM\u001b[0m)                  │ (\u001b[38;5;45mNone\u001b[0m, \u001b[38;5;34m64\u001b[0m)             │        \u001b[38;5;34m16,896\u001b[0m │\n",
              "├─────────────────────────────────┼────────────────────────┼───────────────┤\n",
              "│ dropout_14 (\u001b[38;5;33mDropout\u001b[0m)            │ (\u001b[38;5;45mNone\u001b[0m, \u001b[38;5;34m64\u001b[0m)             │             \u001b[38;5;34m0\u001b[0m │\n",
              "├─────────────────────────────────┼────────────────────────┼───────────────┤\n",
              "│ repeat_vector_7 (\u001b[38;5;33mRepeatVector\u001b[0m)  │ (\u001b[38;5;45mNone\u001b[0m, \u001b[38;5;34m100\u001b[0m, \u001b[38;5;34m64\u001b[0m)        │             \u001b[38;5;34m0\u001b[0m │\n",
              "├─────────────────────────────────┼────────────────────────┼───────────────┤\n",
              "│ lstm_15 (\u001b[38;5;33mLSTM\u001b[0m)                  │ (\u001b[38;5;45mNone\u001b[0m, \u001b[38;5;34m100\u001b[0m, \u001b[38;5;34m64\u001b[0m)        │        \u001b[38;5;34m33,024\u001b[0m │\n",
              "├─────────────────────────────────┼────────────────────────┼───────────────┤\n",
              "│ dropout_15 (\u001b[38;5;33mDropout\u001b[0m)            │ (\u001b[38;5;45mNone\u001b[0m, \u001b[38;5;34m100\u001b[0m, \u001b[38;5;34m64\u001b[0m)        │             \u001b[38;5;34m0\u001b[0m │\n",
              "├─────────────────────────────────┼────────────────────────┼───────────────┤\n",
              "│ time_distributed_7              │ (\u001b[38;5;45mNone\u001b[0m, \u001b[38;5;34m100\u001b[0m, \u001b[38;5;34m1\u001b[0m)         │            \u001b[38;5;34m65\u001b[0m │\n",
              "│ (\u001b[38;5;33mTimeDistributed\u001b[0m)               │                        │               │\n",
              "└─────────────────────────────────┴────────────────────────┴───────────────┘\n"
            ]
          },
          "metadata": {},
          "output_type": "display_data"
        },
        {
          "data": {
            "text/html": [
              "<pre style=\"white-space:pre;overflow-x:auto;line-height:normal;font-family:Menlo,'DejaVu Sans Mono',consolas,'Courier New',monospace\"><span style=\"font-weight: bold\"> Total params: </span><span style=\"color: #00af00; text-decoration-color: #00af00\">49,985</span> (195.25 KB)\n",
              "</pre>\n"
            ],
            "text/plain": [
              "\u001b[1m Total params: \u001b[0m\u001b[38;5;34m49,985\u001b[0m (195.25 KB)\n"
            ]
          },
          "metadata": {},
          "output_type": "display_data"
        },
        {
          "data": {
            "text/html": [
              "<pre style=\"white-space:pre;overflow-x:auto;line-height:normal;font-family:Menlo,'DejaVu Sans Mono',consolas,'Courier New',monospace\"><span style=\"font-weight: bold\"> Trainable params: </span><span style=\"color: #00af00; text-decoration-color: #00af00\">49,985</span> (195.25 KB)\n",
              "</pre>\n"
            ],
            "text/plain": [
              "\u001b[1m Trainable params: \u001b[0m\u001b[38;5;34m49,985\u001b[0m (195.25 KB)\n"
            ]
          },
          "metadata": {},
          "output_type": "display_data"
        },
        {
          "data": {
            "text/html": [
              "<pre style=\"white-space:pre;overflow-x:auto;line-height:normal;font-family:Menlo,'DejaVu Sans Mono',consolas,'Courier New',monospace\"><span style=\"font-weight: bold\"> Non-trainable params: </span><span style=\"color: #00af00; text-decoration-color: #00af00\">0</span> (0.00 B)\n",
              "</pre>\n"
            ],
            "text/plain": [
              "\u001b[1m Non-trainable params: \u001b[0m\u001b[38;5;34m0\u001b[0m (0.00 B)\n"
            ]
          },
          "metadata": {},
          "output_type": "display_data"
        }
      ],
      "source": [
        "from keras.models import Sequential\n",
        "from keras.layers import LSTM, Input, Dropout\n",
        "from keras.layers import Dense\n",
        "from keras.layers import RepeatVector\n",
        "from keras.layers import TimeDistributed\n",
        "from keras.models import Model\n",
        "\n",
        "model = Sequential()\n",
        "# Encoder\n",
        "model.add(Input(shape=(normal_train_data_scaled_lstm.shape[1], normal_train_data_scaled_lstm.shape[2])))\n",
        "model.add(LSTM(64, activation='tanh', return_sequences=False))\n",
        "#not Overfitting\n",
        "model.add(Dropout(rate=0.1))\n",
        "\n",
        "model.add(RepeatVector(normal_train_data_scaled_lstm.shape[1]))\n",
        "\n",
        "model.add(LSTM(64, activation='tanh', return_sequences=True))\n",
        "model.add(Dropout(rate=0.1))\n",
        "model.add(TimeDistributed(Dense(normal_train_data_scaled_lstm.shape[2])))\n",
        "model.compile(optimizer='adam', loss='mae')\n",
        "model.summary()\n"
      ]
    },
    {
      "cell_type": "code",
      "execution_count": null,
      "metadata": {
        "colab": {
          "base_uri": "https://localhost:8080/"
        },
        "id": "Rms63bU1ZuSK",
        "outputId": "eeac02e7-f82e-4ff7-a5e5-be20dd867dc7"
      },
      "outputs": [
        {
          "name": "stdout",
          "output_type": "stream",
          "text": [
            "Epoch 1/100\n",
            "\u001b[1m19/20\u001b[0m \u001b[32m━━━━━━━━━━━━━━━━━━━\u001b[0m\u001b[37m━\u001b[0m \u001b[1m0s\u001b[0m 115ms/step - loss: 0.5414"
          ]
        }
      ],
      "source": [
        "# fit model\n",
        "history = model.fit(\n",
        "    normal_train_data_scaled_lstm, normal_train_data_scaled_lstm,\n",
        "    epochs=100,\n",
        "    batch_size=128,\n",
        "    validation_split=0.3,\n",
        "    shuffle=False,\n",
        "    verbose=1)\n"
      ]
    },
    {
      "cell_type": "code",
      "execution_count": 23,
      "metadata": {
        "colab": {
          "base_uri": "https://localhost:8080/",
          "height": 447
        },
        "id": "IxPRm7cLZuSL",
        "outputId": "64271bbd-f6e5-4d96-989c-3522d31d01a6"
      },
      "outputs": [
        {
          "data": {
            "text/plain": [
              "<matplotlib.legend.Legend at 0x7fd96cb85e90>"
            ]
          },
          "execution_count": 23,
          "metadata": {},
          "output_type": "execute_result"
        },
        {
          "data": {
            "image/png": "[encoded data removed]",
            "text/plain": [
              "<Figure size 640x480 with 1 Axes>"
            ]
          },
          "metadata": {},
          "output_type": "display_data"
        }
      ],
      "source": [
        "plt.plot(history.history['loss'], label='Training loss')\n",
        "plt.plot(history.history['val_loss'], label='Validation loss')\n",
        "plt.legend()"
      ]
    },
    {
      "cell_type": "code",
      "execution_count": null,
      "metadata": {
        "id": "bMzuzOQgbrm6"
      },
      "outputs": [],
      "source": []
    },
    {
      "cell_type": "code",
      "execution_count": null,
      "metadata": {},
      "outputs": [],
      "source": []
    }
  ],
  "metadata": {
    "accelerator": "GPU",
    "colab": {
      "gpuType": "T4",
      "provenance": []
    },
    "kernelspec": {
      "display_name": "Python 3",
      "name": "python3"
    },
    "language_info": {
      "codemirror_mode": {
        "name": "ipython",
        "version": 3
      },
      "file_extension": ".py",
      "mimetype": "text/x-python",
      "name": "python",
      "nbconvert_exporter": "python",
      "pygments_lexer": "ipython3",
      "version": "3.12.3"
    }
  },
  "nbformat": 4,
  "nbformat_minor": 0
}
