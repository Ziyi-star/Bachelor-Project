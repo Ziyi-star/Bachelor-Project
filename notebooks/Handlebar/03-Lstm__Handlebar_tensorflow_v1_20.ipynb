{
  "cells": [
    {
      "cell_type": "markdown",
      "metadata": {
        "id": "view-in-github",
        "colab_type": "text"
      },
      "source": [
        "<a href=\"https://colab.research.google.com/github/Ziyi-star/Bachelor-Project/blob/main/notebooks/Handlebar/03-Lstm__Handlebar_tensorflow_v1_20.ipynb\" target=\"_parent\"><img src=\"https://colab.research.google.com/assets/colab-badge.svg\" alt=\"Open In Colab\"/></a>"
      ]
    },
    {
      "cell_type": "code",
      "execution_count": 1,
      "metadata": {
        "id": "cGwyEUT7ZuSH",
        "outputId": "1e741b23-e15f-4fc5-ea69-8843b555366e",
        "colab": {
          "base_uri": "https://localhost:8080/",
          "height": 383
        }
      },
      "outputs": [
        {
          "output_type": "error",
          "ename": "ModuleNotFoundError",
          "evalue": "No module named 'utils'",
          "traceback": [
            "\u001b[0;31m---------------------------------------------------------------------------\u001b[0m",
            "\u001b[0;31mModuleNotFoundError\u001b[0m                       Traceback (most recent call last)",
            "\u001b[0;32m<ipython-input-1-2fd8cd09598a>\u001b[0m in \u001b[0;36m<cell line: 0>\u001b[0;34m()\u001b[0m\n\u001b[1;32m     13\u001b[0m \u001b[0;32mimport\u001b[0m \u001b[0msys\u001b[0m\u001b[0;34m\u001b[0m\u001b[0;34m\u001b[0m\u001b[0m\n\u001b[1;32m     14\u001b[0m \u001b[0msys\u001b[0m\u001b[0;34m.\u001b[0m\u001b[0mpath\u001b[0m\u001b[0;34m.\u001b[0m\u001b[0mappend\u001b[0m\u001b[0;34m(\u001b[0m\u001b[0;34m'../../'\u001b[0m\u001b[0;34m)\u001b[0m   \u001b[0;31m# Add parent directory to Python path\u001b[0m\u001b[0;34m\u001b[0m\u001b[0;34m\u001b[0m\u001b[0m\n\u001b[0;32m---> 15\u001b[0;31m \u001b[0;32mfrom\u001b[0m \u001b[0mutils\u001b[0m\u001b[0;34m.\u001b[0m\u001b[0mPlots\u001b[0m \u001b[0;32mimport\u001b[0m \u001b[0;34m*\u001b[0m\u001b[0;34m\u001b[0m\u001b[0;34m\u001b[0m\u001b[0m\n\u001b[0m\u001b[1;32m     16\u001b[0m \u001b[0;34m\u001b[0m\u001b[0m\n\u001b[1;32m     17\u001b[0m \u001b[0mdf\u001b[0m \u001b[0;34m=\u001b[0m \u001b[0mpd\u001b[0m\u001b[0;34m.\u001b[0m\u001b[0mread_csv\u001b[0m\u001b[0;34m(\u001b[0m\u001b[0;34m'../../data/handlebar/processed_segments_overlap_20.csv'\u001b[0m\u001b[0;34m)\u001b[0m\u001b[0;34m\u001b[0m\u001b[0;34m\u001b[0m\u001b[0m\n",
            "\u001b[0;31mModuleNotFoundError\u001b[0m: No module named 'utils'",
            "",
            "\u001b[0;31m---------------------------------------------------------------------------\u001b[0;32m\nNOTE: If your import is failing due to a missing package, you can\nmanually install dependencies using either !pip or !apt.\n\nTo view examples of installing some common dependencies, click the\n\"Open Examples\" button below.\n\u001b[0;31m---------------------------------------------------------------------------\u001b[0m\n"
          ],
          "errorDetails": {
            "actions": [
              {
                "action": "open_url",
                "actionText": "Open Examples",
                "url": "/notebooks/snippets/importing_libraries.ipynb"
              }
            ]
          }
        }
      ],
      "source": [
        "# For Vscode\n",
        "import numpy as np\n",
        "import pandas as pd\n",
        "from tensorflow import keras\n",
        "from tensorflow.keras import layers\n",
        "from datetime import datetime\n",
        "from matplotlib import pyplot as plt\n",
        "from matplotlib import dates as md\n",
        "from sklearn.model_selection import train_test_split    #model selection and scaling data\n",
        "from sklearn.preprocessing import StandardScaler\n",
        "RANDOM_SEED = 42\n",
        "\n",
        "import sys\n",
        "sys.path.append('../../')   # Add parent directory to Python path\n",
        "from utils.Plots import *\n",
        "\n",
        "df = pd.read_csv('../../data/handlebar/processed_segments_overlap_20.csv')\n",
        "# 0 for normal, 1 for abnormal\n",
        "df['curb_scene'].value_counts()\n",
        "df.drop('Unnamed: 0', axis=1, inplace=True)\n",
        "df.head()"
      ]
    },
    {
      "cell_type": "code",
      "execution_count": 2,
      "metadata": {
        "colab": {
          "base_uri": "https://localhost:8080/",
          "height": 253
        },
        "id": "i3NZMq4eZ1xZ",
        "outputId": "7f91701b-b8c1-4478-88de-3c5a04bc9232"
      },
      "outputs": [
        {
          "output_type": "stream",
          "name": "stdout",
          "text": [
            "Mounted at /content/drive\n"
          ]
        },
        {
          "output_type": "execute_result",
          "data": {
            "text/plain": [
              "   Unnamed: 0  curb_scene   Acc-Z_1   Acc-Z_2   Acc-Z_3   Acc-Z_4   Acc-Z_5  \\\n",
              "0           0         0.0  8.762772  8.753204  8.762772  8.781937  8.753204   \n",
              "1           0         0.0  8.757996  8.801086  8.815445  8.796295  8.791504   \n",
              "2           0         0.0  8.762772  8.767563  8.777145  8.777145  8.748413   \n",
              "3           0         0.0  8.805878  8.796295  8.781937  8.801086  8.810669   \n",
              "4           0         0.0  8.753204  8.777145  8.767563  8.762772  8.786728   \n",
              "\n",
              "    Acc-Z_6   Acc-Z_7   Acc-Z_8  ...  Acc-Z_91  Acc-Z_92  Acc-Z_93  Acc-Z_94  \\\n",
              "0  8.748413  8.738831  8.748413  ...  8.786728  8.801086  8.820236  8.786728   \n",
              "1  8.796295  8.805878  8.801086  ...  8.772354  8.757996  8.791504  8.781937   \n",
              "2  8.762772  8.805878  8.781937  ...  8.777145  8.767563  8.772354  8.777145   \n",
              "3  8.796295  8.805878  8.791504  ...  8.748413  8.777145  8.767563  8.757996   \n",
              "4  8.734055  8.786728  8.753204  ...  8.762772  8.762772  8.781937  8.781937   \n",
              "\n",
              "   Acc-Z_95  Acc-Z_96  Acc-Z_97  Acc-Z_98  Acc-Z_99  Acc-Z_100  \n",
              "0  8.777145  8.772354  8.781937  8.801086  8.781937   8.753204  \n",
              "1  8.753204  8.777145  8.810669  8.767563  8.815445   8.781937  \n",
              "2  8.796295  8.801086  8.805878  8.772354  8.796295   8.805878  \n",
              "3  8.757996  8.757996  8.767563  8.791504  8.786728   8.786728  \n",
              "4  8.805878  8.781937  8.762772  8.757996  8.762772   8.767563  \n",
              "\n",
              "[5 rows x 102 columns]"
            ],
            "text/html": [
              "\n",
              "  <div id=\"df-be255f17-ed86-41e2-b3c7-7d37e3874779\" class=\"colab-df-container\">\n",
              "    <div>\n",
              "<style scoped>\n",
              "    .dataframe tbody tr th:only-of-type {\n",
              "        vertical-align: middle;\n",
              "    }\n",
              "\n",
              "    .dataframe tbody tr th {\n",
              "        vertical-align: top;\n",
              "    }\n",
              "\n",
              "    .dataframe thead th {\n",
              "        text-align: right;\n",
              "    }\n",
              "</style>\n",
              "<table border=\"1\" class=\"dataframe\">\n",
              "  <thead>\n",
              "    <tr style=\"text-align: right;\">\n",
              "      <th></th>\n",
              "      <th>Unnamed: 0</th>\n",
              "      <th>curb_scene</th>\n",
              "      <th>Acc-Z_1</th>\n",
              "      <th>Acc-Z_2</th>\n",
              "      <th>Acc-Z_3</th>\n",
              "      <th>Acc-Z_4</th>\n",
              "      <th>Acc-Z_5</th>\n",
              "      <th>Acc-Z_6</th>\n",
              "      <th>Acc-Z_7</th>\n",
              "      <th>Acc-Z_8</th>\n",
              "      <th>...</th>\n",
              "      <th>Acc-Z_91</th>\n",
              "      <th>Acc-Z_92</th>\n",
              "      <th>Acc-Z_93</th>\n",
              "      <th>Acc-Z_94</th>\n",
              "      <th>Acc-Z_95</th>\n",
              "      <th>Acc-Z_96</th>\n",
              "      <th>Acc-Z_97</th>\n",
              "      <th>Acc-Z_98</th>\n",
              "      <th>Acc-Z_99</th>\n",
              "      <th>Acc-Z_100</th>\n",
              "    </tr>\n",
              "  </thead>\n",
              "  <tbody>\n",
              "    <tr>\n",
              "      <th>0</th>\n",
              "      <td>0</td>\n",
              "      <td>0.0</td>\n",
              "      <td>8.762772</td>\n",
              "      <td>8.753204</td>\n",
              "      <td>8.762772</td>\n",
              "      <td>8.781937</td>\n",
              "      <td>8.753204</td>\n",
              "      <td>8.748413</td>\n",
              "      <td>8.738831</td>\n",
              "      <td>8.748413</td>\n",
              "      <td>...</td>\n",
              "      <td>8.786728</td>\n",
              "      <td>8.801086</td>\n",
              "      <td>8.820236</td>\n",
              "      <td>8.786728</td>\n",
              "      <td>8.777145</td>\n",
              "      <td>8.772354</td>\n",
              "      <td>8.781937</td>\n",
              "      <td>8.801086</td>\n",
              "      <td>8.781937</td>\n",
              "      <td>8.753204</td>\n",
              "    </tr>\n",
              "    <tr>\n",
              "      <th>1</th>\n",
              "      <td>0</td>\n",
              "      <td>0.0</td>\n",
              "      <td>8.757996</td>\n",
              "      <td>8.801086</td>\n",
              "      <td>8.815445</td>\n",
              "      <td>8.796295</td>\n",
              "      <td>8.791504</td>\n",
              "      <td>8.796295</td>\n",
              "      <td>8.805878</td>\n",
              "      <td>8.801086</td>\n",
              "      <td>...</td>\n",
              "      <td>8.772354</td>\n",
              "      <td>8.757996</td>\n",
              "      <td>8.791504</td>\n",
              "      <td>8.781937</td>\n",
              "      <td>8.753204</td>\n",
              "      <td>8.777145</td>\n",
              "      <td>8.810669</td>\n",
              "      <td>8.767563</td>\n",
              "      <td>8.815445</td>\n",
              "      <td>8.781937</td>\n",
              "    </tr>\n",
              "    <tr>\n",
              "      <th>2</th>\n",
              "      <td>0</td>\n",
              "      <td>0.0</td>\n",
              "      <td>8.762772</td>\n",
              "      <td>8.767563</td>\n",
              "      <td>8.777145</td>\n",
              "      <td>8.777145</td>\n",
              "      <td>8.748413</td>\n",
              "      <td>8.762772</td>\n",
              "      <td>8.805878</td>\n",
              "      <td>8.781937</td>\n",
              "      <td>...</td>\n",
              "      <td>8.777145</td>\n",
              "      <td>8.767563</td>\n",
              "      <td>8.772354</td>\n",
              "      <td>8.777145</td>\n",
              "      <td>8.796295</td>\n",
              "      <td>8.801086</td>\n",
              "      <td>8.805878</td>\n",
              "      <td>8.772354</td>\n",
              "      <td>8.796295</td>\n",
              "      <td>8.805878</td>\n",
              "    </tr>\n",
              "    <tr>\n",
              "      <th>3</th>\n",
              "      <td>0</td>\n",
              "      <td>0.0</td>\n",
              "      <td>8.805878</td>\n",
              "      <td>8.796295</td>\n",
              "      <td>8.781937</td>\n",
              "      <td>8.801086</td>\n",
              "      <td>8.810669</td>\n",
              "      <td>8.796295</td>\n",
              "      <td>8.805878</td>\n",
              "      <td>8.791504</td>\n",
              "      <td>...</td>\n",
              "      <td>8.748413</td>\n",
              "      <td>8.777145</td>\n",
              "      <td>8.767563</td>\n",
              "      <td>8.757996</td>\n",
              "      <td>8.757996</td>\n",
              "      <td>8.757996</td>\n",
              "      <td>8.767563</td>\n",
              "      <td>8.791504</td>\n",
              "      <td>8.786728</td>\n",
              "      <td>8.786728</td>\n",
              "    </tr>\n",
              "    <tr>\n",
              "      <th>4</th>\n",
              "      <td>0</td>\n",
              "      <td>0.0</td>\n",
              "      <td>8.753204</td>\n",
              "      <td>8.777145</td>\n",
              "      <td>8.767563</td>\n",
              "      <td>8.762772</td>\n",
              "      <td>8.786728</td>\n",
              "      <td>8.734055</td>\n",
              "      <td>8.786728</td>\n",
              "      <td>8.753204</td>\n",
              "      <td>...</td>\n",
              "      <td>8.762772</td>\n",
              "      <td>8.762772</td>\n",
              "      <td>8.781937</td>\n",
              "      <td>8.781937</td>\n",
              "      <td>8.805878</td>\n",
              "      <td>8.781937</td>\n",
              "      <td>8.762772</td>\n",
              "      <td>8.757996</td>\n",
              "      <td>8.762772</td>\n",
              "      <td>8.767563</td>\n",
              "    </tr>\n",
              "  </tbody>\n",
              "</table>\n",
              "<p>5 rows × 102 columns</p>\n",
              "</div>\n",
              "    <div class=\"colab-df-buttons\">\n",
              "\n",
              "  <div class=\"colab-df-container\">\n",
              "    <button class=\"colab-df-convert\" onclick=\"convertToInteractive('df-be255f17-ed86-41e2-b3c7-7d37e3874779')\"\n",
              "            title=\"Convert this dataframe to an interactive table.\"\n",
              "            style=\"display:none;\">\n",
              "\n",
              "  <svg xmlns=\"http://www.w3.org/2000/svg\" height=\"24px\" viewBox=\"0 -960 960 960\">\n",
              "    <path d=\"M120-120v-720h720v720H120Zm60-500h600v-160H180v160Zm220 220h160v-160H400v160Zm0 220h160v-160H400v160ZM180-400h160v-160H180v160Zm440 0h160v-160H620v160ZM180-180h160v-160H180v160Zm440 0h160v-160H620v160Z\"/>\n",
              "  </svg>\n",
              "    </button>\n",
              "\n",
              "  <style>\n",
              "    .colab-df-container {\n",
              "      display:flex;\n",
              "      gap: 12px;\n",
              "    }\n",
              "\n",
              "    .colab-df-convert {\n",
              "      background-color: #E8F0FE;\n",
              "      border: none;\n",
              "      border-radius: 50%;\n",
              "      cursor: pointer;\n",
              "      display: none;\n",
              "      fill: #1967D2;\n",
              "      height: 32px;\n",
              "      padding: 0 0 0 0;\n",
              "      width: 32px;\n",
              "    }\n",
              "\n",
              "    .colab-df-convert:hover {\n",
              "      background-color: #E2EBFA;\n",
              "      box-shadow: 0px 1px 2px rgba(60, 64, 67, 0.3), 0px 1px 3px 1px rgba(60, 64, 67, 0.15);\n",
              "      fill: #174EA6;\n",
              "    }\n",
              "\n",
              "    .colab-df-buttons div {\n",
              "      margin-bottom: 4px;\n",
              "    }\n",
              "\n",
              "    [theme=dark] .colab-df-convert {\n",
              "      background-color: #3B4455;\n",
              "      fill: #D2E3FC;\n",
              "    }\n",
              "\n",
              "    [theme=dark] .colab-df-convert:hover {\n",
              "      background-color: #434B5C;\n",
              "      box-shadow: 0px 1px 3px 1px rgba(0, 0, 0, 0.15);\n",
              "      filter: drop-shadow(0px 1px 2px rgba(0, 0, 0, 0.3));\n",
              "      fill: #FFFFFF;\n",
              "    }\n",
              "  </style>\n",
              "\n",
              "    <script>\n",
              "      const buttonEl =\n",
              "        document.querySelector('#df-be255f17-ed86-41e2-b3c7-7d37e3874779 button.colab-df-convert');\n",
              "      buttonEl.style.display =\n",
              "        google.colab.kernel.accessAllowed ? 'block' : 'none';\n",
              "\n",
              "      async function convertToInteractive(key) {\n",
              "        const element = document.querySelector('#df-be255f17-ed86-41e2-b3c7-7d37e3874779');\n",
              "        const dataTable =\n",
              "          await google.colab.kernel.invokeFunction('convertToInteractive',\n",
              "                                                    [key], {});\n",
              "        if (!dataTable) return;\n",
              "\n",
              "        const docLinkHtml = 'Like what you see? Visit the ' +\n",
              "          '<a target=\"_blank\" href=https://colab.research.google.com/notebooks/data_table.ipynb>data table notebook</a>'\n",
              "          + ' to learn more about interactive tables.';\n",
              "        element.innerHTML = '';\n",
              "        dataTable['output_type'] = 'display_data';\n",
              "        await google.colab.output.renderOutput(dataTable, element);\n",
              "        const docLink = document.createElement('div');\n",
              "        docLink.innerHTML = docLinkHtml;\n",
              "        element.appendChild(docLink);\n",
              "      }\n",
              "    </script>\n",
              "  </div>\n",
              "\n",
              "\n",
              "<div id=\"df-1a697294-bbbd-4205-843e-1bf4e9a42f7e\">\n",
              "  <button class=\"colab-df-quickchart\" onclick=\"quickchart('df-1a697294-bbbd-4205-843e-1bf4e9a42f7e')\"\n",
              "            title=\"Suggest charts\"\n",
              "            style=\"display:none;\">\n",
              "\n",
              "<svg xmlns=\"http://www.w3.org/2000/svg\" height=\"24px\"viewBox=\"0 0 24 24\"\n",
              "     width=\"24px\">\n",
              "    <g>\n",
              "        <path d=\"M19 3H5c-1.1 0-2 .9-2 2v14c0 1.1.9 2 2 2h14c1.1 0 2-.9 2-2V5c0-1.1-.9-2-2-2zM9 17H7v-7h2v7zm4 0h-2V7h2v10zm4 0h-2v-4h2v4z\"/>\n",
              "    </g>\n",
              "</svg>\n",
              "  </button>\n",
              "\n",
              "<style>\n",
              "  .colab-df-quickchart {\n",
              "      --bg-color: #E8F0FE;\n",
              "      --fill-color: #1967D2;\n",
              "      --hover-bg-color: #E2EBFA;\n",
              "      --hover-fill-color: #174EA6;\n",
              "      --disabled-fill-color: #AAA;\n",
              "      --disabled-bg-color: #DDD;\n",
              "  }\n",
              "\n",
              "  [theme=dark] .colab-df-quickchart {\n",
              "      --bg-color: #3B4455;\n",
              "      --fill-color: #D2E3FC;\n",
              "      --hover-bg-color: #434B5C;\n",
              "      --hover-fill-color: #FFFFFF;\n",
              "      --disabled-bg-color: #3B4455;\n",
              "      --disabled-fill-color: #666;\n",
              "  }\n",
              "\n",
              "  .colab-df-quickchart {\n",
              "    background-color: var(--bg-color);\n",
              "    border: none;\n",
              "    border-radius: 50%;\n",
              "    cursor: pointer;\n",
              "    display: none;\n",
              "    fill: var(--fill-color);\n",
              "    height: 32px;\n",
              "    padding: 0;\n",
              "    width: 32px;\n",
              "  }\n",
              "\n",
              "  .colab-df-quickchart:hover {\n",
              "    background-color: var(--hover-bg-color);\n",
              "    box-shadow: 0 1px 2px rgba(60, 64, 67, 0.3), 0 1px 3px 1px rgba(60, 64, 67, 0.15);\n",
              "    fill: var(--button-hover-fill-color);\n",
              "  }\n",
              "\n",
              "  .colab-df-quickchart-complete:disabled,\n",
              "  .colab-df-quickchart-complete:disabled:hover {\n",
              "    background-color: var(--disabled-bg-color);\n",
              "    fill: var(--disabled-fill-color);\n",
              "    box-shadow: none;\n",
              "  }\n",
              "\n",
              "  .colab-df-spinner {\n",
              "    border: 2px solid var(--fill-color);\n",
              "    border-color: transparent;\n",
              "    border-bottom-color: var(--fill-color);\n",
              "    animation:\n",
              "      spin 1s steps(1) infinite;\n",
              "  }\n",
              "\n",
              "  @keyframes spin {\n",
              "    0% {\n",
              "      border-color: transparent;\n",
              "      border-bottom-color: var(--fill-color);\n",
              "      border-left-color: var(--fill-color);\n",
              "    }\n",
              "    20% {\n",
              "      border-color: transparent;\n",
              "      border-left-color: var(--fill-color);\n",
              "      border-top-color: var(--fill-color);\n",
              "    }\n",
              "    30% {\n",
              "      border-color: transparent;\n",
              "      border-left-color: var(--fill-color);\n",
              "      border-top-color: var(--fill-color);\n",
              "      border-right-color: var(--fill-color);\n",
              "    }\n",
              "    40% {\n",
              "      border-color: transparent;\n",
              "      border-right-color: var(--fill-color);\n",
              "      border-top-color: var(--fill-color);\n",
              "    }\n",
              "    60% {\n",
              "      border-color: transparent;\n",
              "      border-right-color: var(--fill-color);\n",
              "    }\n",
              "    80% {\n",
              "      border-color: transparent;\n",
              "      border-right-color: var(--fill-color);\n",
              "      border-bottom-color: var(--fill-color);\n",
              "    }\n",
              "    90% {\n",
              "      border-color: transparent;\n",
              "      border-bottom-color: var(--fill-color);\n",
              "    }\n",
              "  }\n",
              "</style>\n",
              "\n",
              "  <script>\n",
              "    async function quickchart(key) {\n",
              "      const quickchartButtonEl =\n",
              "        document.querySelector('#' + key + ' button');\n",
              "      quickchartButtonEl.disabled = true;  // To prevent multiple clicks.\n",
              "      quickchartButtonEl.classList.add('colab-df-spinner');\n",
              "      try {\n",
              "        const charts = await google.colab.kernel.invokeFunction(\n",
              "            'suggestCharts', [key], {});\n",
              "      } catch (error) {\n",
              "        console.error('Error during call to suggestCharts:', error);\n",
              "      }\n",
              "      quickchartButtonEl.classList.remove('colab-df-spinner');\n",
              "      quickchartButtonEl.classList.add('colab-df-quickchart-complete');\n",
              "    }\n",
              "    (() => {\n",
              "      let quickchartButtonEl =\n",
              "        document.querySelector('#df-1a697294-bbbd-4205-843e-1bf4e9a42f7e button');\n",
              "      quickchartButtonEl.style.display =\n",
              "        google.colab.kernel.accessAllowed ? 'block' : 'none';\n",
              "    })();\n",
              "  </script>\n",
              "</div>\n",
              "\n",
              "    </div>\n",
              "  </div>\n"
            ],
            "application/vnd.google.colaboratory.intrinsic+json": {
              "type": "dataframe",
              "variable_name": "df"
            }
          },
          "metadata": {},
          "execution_count": 2
        }
      ],
      "source": [
        "# For Colab\n",
        "import numpy as np\n",
        "import pandas as pd\n",
        "from tensorflow import keras\n",
        "from tensorflow.keras import layers\n",
        "from datetime import datetime\n",
        "from matplotlib import pyplot as plt\n",
        "from matplotlib import dates as md\n",
        "from sklearn.model_selection import train_test_split    #model selection and scaling data\n",
        "from sklearn.preprocessing import StandardScaler\n",
        "RANDOM_SEED = 42\n",
        "\n",
        "\n",
        "import os\n",
        "from google.colab import drive\n",
        "drive.mount('/content/drive')\n",
        "df = pd.read_csv('/content/drive/MyDrive/Project/data/processed_segments_overlap_20.csv')\n",
        "# # 0 for normal, 1 for abnormal\n",
        "df['curb_scene'].value_counts()\n",
        "df.head()"
      ]
    },
    {
      "cell_type": "code",
      "execution_count": 3,
      "metadata": {
        "id": "x1yKiG-4KLZ0"
      },
      "outputs": [],
      "source": [
        "# Suppose df is your DataFrame, and df['curb_scene'] is your label column\n",
        "train_data, test_data, train_labels, test_labels = train_test_split(df, df['curb_scene'],\n",
        "                                                                    test_size=0.2,\n",
        "                                                                    random_state=RANDOM_SEED)"
      ]
    },
    {
      "cell_type": "code",
      "execution_count": 4,
      "metadata": {
        "id": "65NJYMCIKLZ0"
      },
      "outputs": [],
      "source": [
        "#scaling data, because neural network works better with scaled data\n",
        "scaler = StandardScaler()\n",
        "data_scaled = scaler.fit(train_data.iloc[:, 3:])\n",
        "#transform data\n",
        "train_data_scaled = scaler.transform(train_data.iloc[:, 3:])\n",
        "test_data_scaled = scaler.transform(test_data.iloc[:, 3:])"
      ]
    },
    {
      "cell_type": "code",
      "execution_count": 5,
      "metadata": {
        "id": "jPeLMJUXKLZ0"
      },
      "outputs": [],
      "source": [
        "# Convert the scaled data back to DataFrames for further processing\n",
        "train_data_scaled_df = pd.DataFrame(train_data_scaled, columns=train_data.columns[3:])\n",
        "test_data_scaled_df = pd.DataFrame(test_data_scaled, columns=test_data.columns[3:])\n",
        "# Add the 'curb_scene', 'start_time', and 'end_time' columns back to the scaled DataFrames\n",
        "train_data_scaled_df['curb_scene'] = train_data['curb_scene'].values\n",
        "# train_data_scaled_df['start_time'] = train_data['start_time'].values\n",
        "# train_data_scaled_df['end_time'] = train_data['end_time'].values\n",
        "test_data_scaled_df['curb_scene'] = test_data['curb_scene'].values\n",
        "# test_data_scaled_df['start_time'] = test_data['start_time'].values\n",
        "# test_data_scaled_df['end_time'] = test_data['end_time'].values"
      ]
    },
    {
      "cell_type": "code",
      "execution_count": 6,
      "metadata": {
        "colab": {
          "base_uri": "https://localhost:8080/"
        },
        "id": "GkXODwMqKLZ0",
        "outputId": "c64d3fc8-c90a-40f4-950f-f49343b3ceef"
      },
      "outputs": [
        {
          "output_type": "stream",
          "name": "stdout",
          "text": [
            "Index([   0,    1,    2,    3,    4,    5,    6,    7,    8,    9,\n",
            "       ...\n",
            "       1154, 1155, 1156, 1157, 1158, 1160, 1161, 1162, 1163, 1164],\n",
            "      dtype='int64', length=1123)\n",
            "Index([  76,   83,   93,  107,  148,  192,  204,  218,  256,  283,  296,  312,\n",
            "        380,  413,  417,  451,  459,  498,  501,  502,  512,  616,  682,  705,\n",
            "        709,  713,  720,  726,  735,  808,  822,  927,  970, 1007, 1023, 1042,\n",
            "       1055, 1072, 1084, 1150, 1151, 1159],\n",
            "      dtype='int64')\n"
          ]
        }
      ],
      "source": [
        "# Filter and slice the data\n",
        "normal_train_data_scaled = train_data_scaled_df[train_data_scaled_df['curb_scene'] == 0.0].iloc[:, :-3]\n",
        "abnormal_train_data_scaled = train_data_scaled_df[train_data_scaled_df['curb_scene'] == 1.0].iloc[:, :-3]\n",
        "normal_test_data_scaled = test_data_scaled_df[test_data_scaled_df['curb_scene'] == 0.0].iloc[:, :-3]\n",
        "abnormal_test_data_scaled = test_data_scaled_df[test_data_scaled_df['curb_scene'] == 1.0].iloc[:, :-3]\n",
        "# Example usage: Accessing the original index\n",
        "print(normal_test_data_scaled.index)\n",
        "print(abnormal_test_data_scaled.index)"
      ]
    },
    {
      "cell_type": "code",
      "execution_count": 7,
      "metadata": {
        "id": "MDG05LdPKLZ0"
      },
      "outputs": [],
      "source": [
        "# Cast to float32\n",
        "normal_train_data_scaled = normal_train_data_scaled.astype(\"float32\")\n",
        "abnormal_train_data_scaled = abnormal_train_data_scaled.astype(\"float32\")\n",
        "normal_test_data_scaled = normal_test_data_scaled.astype(\"float32\")\n",
        "abnormal_test_data_scaled = abnormal_test_data_scaled.astype(\"float32\")"
      ]
    },
    {
      "cell_type": "code",
      "execution_count": 8,
      "metadata": {
        "colab": {
          "base_uri": "https://localhost:8080/"
        },
        "id": "O0bt0btyZuSK",
        "outputId": "f2c6e6b3-d80d-4514-8bb3-c7184ddeae56"
      },
      "outputs": [
        {
          "output_type": "execute_result",
          "data": {
            "text/plain": [
              "((4486, 97, 1), (1123, 97, 1), (42, 97, 1))"
            ]
          },
          "metadata": {},
          "execution_count": 8
        }
      ],
      "source": [
        "normal_train_data_scaled_lstm = np.expand_dims(normal_train_data_scaled, axis=2)\n",
        "normal_test_data_scaled_lstm = np.expand_dims(normal_test_data_scaled, axis=2)\n",
        "abnormal_test_data_scaled_lstm = np.expand_dims(abnormal_test_data_scaled, axis=2)\n",
        "normal_train_data_scaled_lstm.shape, normal_test_data_scaled_lstm.shape, abnormal_test_data_scaled_lstm.shape"
      ]
    },
    {
      "cell_type": "code",
      "execution_count": 10,
      "metadata": {
        "colab": {
          "base_uri": "https://localhost:8080/",
          "height": 340
        },
        "id": "jAws3-IRZuSK",
        "outputId": "b9052fb9-51a7-4113-9454-ace83dfb3335"
      },
      "outputs": [
        {
          "output_type": "display_data",
          "data": {
            "text/plain": [
              "\u001b[1mModel: \"sequential_1\"\u001b[0m\n"
            ],
            "text/html": [
              "<pre style=\"white-space:pre;overflow-x:auto;line-height:normal;font-family:Menlo,'DejaVu Sans Mono',consolas,'Courier New',monospace\"><span style=\"font-weight: bold\">Model: \"sequential_1\"</span>\n",
              "</pre>\n"
            ]
          },
          "metadata": {}
        },
        {
          "output_type": "display_data",
          "data": {
            "text/plain": [
              "┏━━━━━━━━━━━━━━━━━━━━━━━━━━━━━━━━━━━━━━┳━━━━━━━━━━━━━━━━━━━━━━━━━━━━━┳━━━━━━━━━━━━━━━━━┓\n",
              "┃\u001b[1m \u001b[0m\u001b[1mLayer (type)                        \u001b[0m\u001b[1m \u001b[0m┃\u001b[1m \u001b[0m\u001b[1mOutput Shape               \u001b[0m\u001b[1m \u001b[0m┃\u001b[1m \u001b[0m\u001b[1m        Param #\u001b[0m\u001b[1m \u001b[0m┃\n",
              "┡━━━━━━━━━━━━━━━━━━━━━━━━━━━━━━━━━━━━━━╇━━━━━━━━━━━━━━━━━━━━━━━━━━━━━╇━━━━━━━━━━━━━━━━━┩\n",
              "│ lstm_2 (\u001b[38;5;33mLSTM\u001b[0m)                        │ (\u001b[38;5;45mNone\u001b[0m, \u001b[38;5;34m64\u001b[0m)                  │          \u001b[38;5;34m16,896\u001b[0m │\n",
              "├──────────────────────────────────────┼─────────────────────────────┼─────────────────┤\n",
              "│ dropout_2 (\u001b[38;5;33mDropout\u001b[0m)                  │ (\u001b[38;5;45mNone\u001b[0m, \u001b[38;5;34m64\u001b[0m)                  │               \u001b[38;5;34m0\u001b[0m │\n",
              "├──────────────────────────────────────┼─────────────────────────────┼─────────────────┤\n",
              "│ repeat_vector_1 (\u001b[38;5;33mRepeatVector\u001b[0m)       │ (\u001b[38;5;45mNone\u001b[0m, \u001b[38;5;34m97\u001b[0m, \u001b[38;5;34m64\u001b[0m)              │               \u001b[38;5;34m0\u001b[0m │\n",
              "├──────────────────────────────────────┼─────────────────────────────┼─────────────────┤\n",
              "│ lstm_3 (\u001b[38;5;33mLSTM\u001b[0m)                        │ (\u001b[38;5;45mNone\u001b[0m, \u001b[38;5;34m97\u001b[0m, \u001b[38;5;34m64\u001b[0m)              │          \u001b[38;5;34m33,024\u001b[0m │\n",
              "├──────────────────────────────────────┼─────────────────────────────┼─────────────────┤\n",
              "│ dropout_3 (\u001b[38;5;33mDropout\u001b[0m)                  │ (\u001b[38;5;45mNone\u001b[0m, \u001b[38;5;34m97\u001b[0m, \u001b[38;5;34m64\u001b[0m)              │               \u001b[38;5;34m0\u001b[0m │\n",
              "├──────────────────────────────────────┼─────────────────────────────┼─────────────────┤\n",
              "│ time_distributed_1 (\u001b[38;5;33mTimeDistributed\u001b[0m) │ (\u001b[38;5;45mNone\u001b[0m, \u001b[38;5;34m97\u001b[0m, \u001b[38;5;34m1\u001b[0m)               │              \u001b[38;5;34m65\u001b[0m │\n",
              "└──────────────────────────────────────┴─────────────────────────────┴─────────────────┘\n"
            ],
            "text/html": [
              "<pre style=\"white-space:pre;overflow-x:auto;line-height:normal;font-family:Menlo,'DejaVu Sans Mono',consolas,'Courier New',monospace\">┏━━━━━━━━━━━━━━━━━━━━━━━━━━━━━━━━━━━━━━┳━━━━━━━━━━━━━━━━━━━━━━━━━━━━━┳━━━━━━━━━━━━━━━━━┓\n",
              "┃<span style=\"font-weight: bold\"> Layer (type)                         </span>┃<span style=\"font-weight: bold\"> Output Shape                </span>┃<span style=\"font-weight: bold\">         Param # </span>┃\n",
              "┡━━━━━━━━━━━━━━━━━━━━━━━━━━━━━━━━━━━━━━╇━━━━━━━━━━━━━━━━━━━━━━━━━━━━━╇━━━━━━━━━━━━━━━━━┩\n",
              "│ lstm_2 (<span style=\"color: #0087ff; text-decoration-color: #0087ff\">LSTM</span>)                        │ (<span style=\"color: #00d7ff; text-decoration-color: #00d7ff\">None</span>, <span style=\"color: #00af00; text-decoration-color: #00af00\">64</span>)                  │          <span style=\"color: #00af00; text-decoration-color: #00af00\">16,896</span> │\n",
              "├──────────────────────────────────────┼─────────────────────────────┼─────────────────┤\n",
              "│ dropout_2 (<span style=\"color: #0087ff; text-decoration-color: #0087ff\">Dropout</span>)                  │ (<span style=\"color: #00d7ff; text-decoration-color: #00d7ff\">None</span>, <span style=\"color: #00af00; text-decoration-color: #00af00\">64</span>)                  │               <span style=\"color: #00af00; text-decoration-color: #00af00\">0</span> │\n",
              "├──────────────────────────────────────┼─────────────────────────────┼─────────────────┤\n",
              "│ repeat_vector_1 (<span style=\"color: #0087ff; text-decoration-color: #0087ff\">RepeatVector</span>)       │ (<span style=\"color: #00d7ff; text-decoration-color: #00d7ff\">None</span>, <span style=\"color: #00af00; text-decoration-color: #00af00\">97</span>, <span style=\"color: #00af00; text-decoration-color: #00af00\">64</span>)              │               <span style=\"color: #00af00; text-decoration-color: #00af00\">0</span> │\n",
              "├──────────────────────────────────────┼─────────────────────────────┼─────────────────┤\n",
              "│ lstm_3 (<span style=\"color: #0087ff; text-decoration-color: #0087ff\">LSTM</span>)                        │ (<span style=\"color: #00d7ff; text-decoration-color: #00d7ff\">None</span>, <span style=\"color: #00af00; text-decoration-color: #00af00\">97</span>, <span style=\"color: #00af00; text-decoration-color: #00af00\">64</span>)              │          <span style=\"color: #00af00; text-decoration-color: #00af00\">33,024</span> │\n",
              "├──────────────────────────────────────┼─────────────────────────────┼─────────────────┤\n",
              "│ dropout_3 (<span style=\"color: #0087ff; text-decoration-color: #0087ff\">Dropout</span>)                  │ (<span style=\"color: #00d7ff; text-decoration-color: #00d7ff\">None</span>, <span style=\"color: #00af00; text-decoration-color: #00af00\">97</span>, <span style=\"color: #00af00; text-decoration-color: #00af00\">64</span>)              │               <span style=\"color: #00af00; text-decoration-color: #00af00\">0</span> │\n",
              "├──────────────────────────────────────┼─────────────────────────────┼─────────────────┤\n",
              "│ time_distributed_1 (<span style=\"color: #0087ff; text-decoration-color: #0087ff\">TimeDistributed</span>) │ (<span style=\"color: #00d7ff; text-decoration-color: #00d7ff\">None</span>, <span style=\"color: #00af00; text-decoration-color: #00af00\">97</span>, <span style=\"color: #00af00; text-decoration-color: #00af00\">1</span>)               │              <span style=\"color: #00af00; text-decoration-color: #00af00\">65</span> │\n",
              "└──────────────────────────────────────┴─────────────────────────────┴─────────────────┘\n",
              "</pre>\n"
            ]
          },
          "metadata": {}
        },
        {
          "output_type": "display_data",
          "data": {
            "text/plain": [
              "\u001b[1m Total params: \u001b[0m\u001b[38;5;34m49,985\u001b[0m (195.25 KB)\n"
            ],
            "text/html": [
              "<pre style=\"white-space:pre;overflow-x:auto;line-height:normal;font-family:Menlo,'DejaVu Sans Mono',consolas,'Courier New',monospace\"><span style=\"font-weight: bold\"> Total params: </span><span style=\"color: #00af00; text-decoration-color: #00af00\">49,985</span> (195.25 KB)\n",
              "</pre>\n"
            ]
          },
          "metadata": {}
        },
        {
          "output_type": "display_data",
          "data": {
            "text/plain": [
              "\u001b[1m Trainable params: \u001b[0m\u001b[38;5;34m49,985\u001b[0m (195.25 KB)\n"
            ],
            "text/html": [
              "<pre style=\"white-space:pre;overflow-x:auto;line-height:normal;font-family:Menlo,'DejaVu Sans Mono',consolas,'Courier New',monospace\"><span style=\"font-weight: bold\"> Trainable params: </span><span style=\"color: #00af00; text-decoration-color: #00af00\">49,985</span> (195.25 KB)\n",
              "</pre>\n"
            ]
          },
          "metadata": {}
        },
        {
          "output_type": "display_data",
          "data": {
            "text/plain": [
              "\u001b[1m Non-trainable params: \u001b[0m\u001b[38;5;34m0\u001b[0m (0.00 B)\n"
            ],
            "text/html": [
              "<pre style=\"white-space:pre;overflow-x:auto;line-height:normal;font-family:Menlo,'DejaVu Sans Mono',consolas,'Courier New',monospace\"><span style=\"font-weight: bold\"> Non-trainable params: </span><span style=\"color: #00af00; text-decoration-color: #00af00\">0</span> (0.00 B)\n",
              "</pre>\n"
            ]
          },
          "metadata": {}
        }
      ],
      "source": [
        "from keras.models import Sequential\n",
        "from keras.layers import LSTM, Input, Dropout\n",
        "from keras.layers import Dense\n",
        "from keras.layers import RepeatVector\n",
        "from keras.layers import TimeDistributed\n",
        "from keras.models import Model\n",
        "\n",
        "model = Sequential()\n",
        "# Encoder\n",
        "model.add(Input(shape=(normal_train_data_scaled_lstm.shape[1], normal_train_data_scaled_lstm.shape[2])))\n",
        "model.add(LSTM(64, activation='tanh', return_sequences=False))\n",
        "#not Overfitting\n",
        "model.add(Dropout(rate=0.1))\n",
        "\n",
        "model.add(RepeatVector(normal_train_data_scaled_lstm.shape[1]))\n",
        "\n",
        "model.add(LSTM(64, activation='tanh', return_sequences=True))\n",
        "model.add(Dropout(rate=0.1))\n",
        "model.add(TimeDistributed(Dense(normal_train_data_scaled_lstm.shape[2])))\n",
        "model.compile(optimizer='adam', loss='mae')\n",
        "model.summary()\n"
      ]
    },
    {
      "cell_type": "code",
      "execution_count": 11,
      "metadata": {
        "id": "InlfUN7XL_7-"
      },
      "outputs": [],
      "source": [
        "# define early stopping to prevent overfit\n",
        "early_stopping = keras.callbacks.EarlyStopping(monitor=\"val_loss\",\n",
        "                                               patience=10,\n",
        "                                               mode=\"min\",\n",
        "                                               verbose=1,\n",
        "                                               restore_best_weights=True)"
      ]
    },
    {
      "cell_type": "markdown",
      "metadata": {
        "id": "YmTo9WKUMIKy"
      },
      "source": []
    },
    {
      "cell_type": "code",
      "execution_count": 12,
      "metadata": {
        "colab": {
          "base_uri": "https://localhost:8080/"
        },
        "id": "Rms63bU1ZuSK",
        "outputId": "4c8ad157-631b-414a-a71f-d80b85c73683"
      },
      "outputs": [
        {
          "output_type": "stream",
          "name": "stdout",
          "text": [
            "Epoch 1/100\n",
            "\u001b[1m25/25\u001b[0m \u001b[32m━━━━━━━━━━━━━━━━━━━━\u001b[0m\u001b[37m\u001b[0m \u001b[1m9s\u001b[0m 75ms/step - loss: 0.4591 - val_loss: 0.4531\n",
            "Epoch 2/100\n",
            "\u001b[1m25/25\u001b[0m \u001b[32m━━━━━━━━━━━━━━━━━━━━\u001b[0m\u001b[37m\u001b[0m \u001b[1m1s\u001b[0m 21ms/step - loss: 0.4544 - val_loss: 0.4497\n",
            "Epoch 3/100\n",
            "\u001b[1m25/25\u001b[0m \u001b[32m━━━━━━━━━━━━━━━━━━━━\u001b[0m\u001b[37m\u001b[0m \u001b[1m1s\u001b[0m 21ms/step - loss: 0.4522 - val_loss: 0.4497\n",
            "Epoch 4/100\n",
            "\u001b[1m25/25\u001b[0m \u001b[32m━━━━━━━━━━━━━━━━━━━━\u001b[0m\u001b[37m\u001b[0m \u001b[1m1s\u001b[0m 21ms/step - loss: 0.4521 - val_loss: 0.4495\n",
            "Epoch 5/100\n",
            "\u001b[1m25/25\u001b[0m \u001b[32m━━━━━━━━━━━━━━━━━━━━\u001b[0m\u001b[37m\u001b[0m \u001b[1m1s\u001b[0m 21ms/step - loss: 0.4520 - val_loss: 0.4499\n",
            "Epoch 6/100\n",
            "\u001b[1m25/25\u001b[0m \u001b[32m━━━━━━━━━━━━━━━━━━━━\u001b[0m\u001b[37m\u001b[0m \u001b[1m1s\u001b[0m 21ms/step - loss: 0.4521 - val_loss: 0.4496\n",
            "Epoch 7/100\n",
            "\u001b[1m25/25\u001b[0m \u001b[32m━━━━━━━━━━━━━━━━━━━━\u001b[0m\u001b[37m\u001b[0m \u001b[1m1s\u001b[0m 21ms/step - loss: 0.4519 - val_loss: 0.4495\n",
            "Epoch 8/100\n",
            "\u001b[1m25/25\u001b[0m \u001b[32m━━━━━━━━━━━━━━━━━━━━\u001b[0m\u001b[37m\u001b[0m \u001b[1m1s\u001b[0m 22ms/step - loss: 0.4519 - val_loss: 0.4495\n",
            "Epoch 9/100\n",
            "\u001b[1m25/25\u001b[0m \u001b[32m━━━━━━━━━━━━━━━━━━━━\u001b[0m\u001b[37m\u001b[0m \u001b[1m1s\u001b[0m 22ms/step - loss: 0.4518 - val_loss: 0.4496\n",
            "Epoch 10/100\n",
            "\u001b[1m25/25\u001b[0m \u001b[32m━━━━━━━━━━━━━━━━━━━━\u001b[0m\u001b[37m\u001b[0m \u001b[1m1s\u001b[0m 22ms/step - loss: 0.4520 - val_loss: 0.4495\n",
            "Epoch 11/100\n",
            "\u001b[1m25/25\u001b[0m \u001b[32m━━━━━━━━━━━━━━━━━━━━\u001b[0m\u001b[37m\u001b[0m \u001b[1m1s\u001b[0m 22ms/step - loss: 0.4519 - val_loss: 0.4498\n",
            "Epoch 12/100\n",
            "\u001b[1m25/25\u001b[0m \u001b[32m━━━━━━━━━━━━━━━━━━━━\u001b[0m\u001b[37m\u001b[0m \u001b[1m1s\u001b[0m 21ms/step - loss: 0.4518 - val_loss: 0.4497\n",
            "Epoch 13/100\n",
            "\u001b[1m25/25\u001b[0m \u001b[32m━━━━━━━━━━━━━━━━━━━━\u001b[0m\u001b[37m\u001b[0m \u001b[1m1s\u001b[0m 21ms/step - loss: 0.4518 - val_loss: 0.4496\n",
            "Epoch 14/100\n",
            "\u001b[1m25/25\u001b[0m \u001b[32m━━━━━━━━━━━━━━━━━━━━\u001b[0m\u001b[37m\u001b[0m \u001b[1m1s\u001b[0m 21ms/step - loss: 0.4518 - val_loss: 0.4499\n",
            "Epoch 14: early stopping\n",
            "Restoring model weights from the end of the best epoch: 4.\n"
          ]
        }
      ],
      "source": [
        "# fit model\n",
        "history = model.fit(\n",
        "    normal_train_data_scaled_lstm, normal_train_data_scaled_lstm,\n",
        "    epochs=100,\n",
        "    batch_size=128,\n",
        "    validation_split=0.3,\n",
        "    callbacks=[early_stopping],\n",
        "    shuffle=False,\n",
        "    verbose=1)\n"
      ]
    },
    {
      "cell_type": "code",
      "execution_count": 13,
      "metadata": {
        "colab": {
          "base_uri": "https://localhost:8080/",
          "height": 447
        },
        "id": "IxPRm7cLZuSL",
        "outputId": "de0d67c9-5653-45e2-84d1-bd5e595d38ef"
      },
      "outputs": [
        {
          "output_type": "execute_result",
          "data": {
            "text/plain": [
              "<matplotlib.legend.Legend at 0x7bb7c01e2f90>"
            ]
          },
          "metadata": {},
          "execution_count": 13
        },
        {
          "output_type": "display_data",
          "data": {
            "text/plain": [
              "<Figure size 640x480 with 1 Axes>"
            ],
            "image/png": "[encoded data removed]"
          },
          "metadata": {}
        }
      ],
      "source": [
        "plt.plot(history.history['loss'], label='Training loss')\n",
        "plt.plot(history.history['val_loss'], label='Validation loss')\n",
        "plt.legend()"
      ]
    },
    {
      "cell_type": "code",
      "execution_count": 14,
      "metadata": {
        "colab": {
          "base_uri": "https://localhost:8080/",
          "height": 742
        },
        "id": "bMzuzOQgbrm6",
        "outputId": "d7457302-9fe5-41b1-cd5f-8752a32e6eb8"
      },
      "outputs": [
        {
          "output_type": "stream",
          "name": "stdout",
          "text": [
            "\u001b[1m36/36\u001b[0m \u001b[32m━━━━━━━━━━━━━━━━━━━━\u001b[0m\u001b[37m\u001b[0m \u001b[1m2s\u001b[0m 31ms/step\n"
          ]
        },
        {
          "output_type": "execute_result",
          "data": {
            "text/plain": [
              "(array([301.,  17.,  13.,  11.,   5.,   1.,   3.,   2.,   0.,   1.,   4.,\n",
              "         15.,  16.,  28.,  38.,  35.,  47.,  49.,  51.,  52.,  47.,  55.,\n",
              "         50.,  44.,  33.,  36.,  36.,  27.,  19.,  12.,  16.,  12.,  13.,\n",
              "          8.,   4.,   5.,   5.,   5.,   2.,   0.,   1.,   1.,   0.,   0.,\n",
              "          1.,   0.,   1.,   0.,   0.,   1.]),\n",
              " array([0.0087556 , 0.03828354, 0.06781148, 0.09733942, 0.12686737,\n",
              "        0.15639532, 0.18592325, 0.2154512 , 0.24497914, 0.27450708,\n",
              "        0.30403504, 0.33356297, 0.3630909 , 0.39261886, 0.4221468 ,\n",
              "        0.45167476, 0.48120269, 0.51073068, 0.54025859, 0.56978655,\n",
              "        0.59931451, 0.62884241, 0.65837038, 0.68789834, 0.71742624,\n",
              "        0.7469542 , 0.77648216, 0.80601013, 0.83553803, 0.86506599,\n",
              "        0.89459395, 0.92412186, 0.95364982, 0.98317778, 1.01270568,\n",
              "        1.04223359, 1.07176149, 1.10128951, 1.13081741, 1.16034532,\n",
              "        1.18987334, 1.21940124, 1.24892914, 1.27845716, 1.30798507,\n",
              "        1.33751297, 1.36704099, 1.39656889, 1.4260968 , 1.45562482,\n",
              "        1.48515272]),\n",
              " <BarContainer object of 50 artists>)"
            ]
          },
          "metadata": {},
          "execution_count": 14
        },
        {
          "output_type": "display_data",
          "data": {
            "text/plain": [
              "<Figure size 640x480 with 1 Axes>"
            ],
            "image/png": "[encoded data removed]"
          },
          "metadata": {}
        }
      ],
      "source": [
        "import tensorflow as tf #building model\n",
        "reconstruction_normal = model.predict(normal_test_data_scaled)    #output error between input and output\n",
        "train_loss = tf.keras.losses.mae(reconstruction_normal, normal_test_data_scaled)\n",
        "plt.hist(train_loss, bins=50)"
      ]
    },
    {
      "cell_type": "code",
      "execution_count": 15,
      "metadata": {
        "colab": {
          "base_uri": "https://localhost:8080/",
          "height": 708
        },
        "id": "zaL_sHmRKLZ1",
        "outputId": "f4a68c81-6b1a-4ae0-baab-c3b4c3ec8e73"
      },
      "outputs": [
        {
          "output_type": "stream",
          "name": "stdout",
          "text": [
            "\u001b[1m2/2\u001b[0m \u001b[32m━━━━━━━━━━━━━━━━━━━━\u001b[0m\u001b[37m\u001b[0m \u001b[1m0s\u001b[0m 22ms/step\n"
          ]
        },
        {
          "output_type": "execute_result",
          "data": {
            "text/plain": [
              "(array([1., 0., 1., 0., 2., 0., 0., 2., 2., 1., 0., 1., 1., 1., 0., 4., 0.,\n",
              "        1., 1., 1., 0., 0., 0., 2., 1., 0., 2., 1., 0., 2., 2., 2., 1., 1.,\n",
              "        1., 0., 1., 2., 0., 0., 2., 1., 0., 0., 0., 1., 0., 0., 0., 1.]),\n",
              " array([0.98441756, 1.04671597, 1.10901439, 1.17131281, 1.23361111,\n",
              "        1.29590964, 1.35820794, 1.42050636, 1.48280478, 1.54510319,\n",
              "        1.60740161, 1.66969991, 1.73199844, 1.79429674, 1.85659516,\n",
              "        1.91889358, 1.98119199, 2.04349041, 2.10578871, 2.16808724,\n",
              "        2.23038578, 2.29268408, 2.35498238, 2.41728067, 2.47957921,\n",
              "        2.54187775, 2.60417604, 2.66647434, 2.72877264, 2.79107118,\n",
              "        2.85336971, 2.91566801, 2.97796631, 3.04026461, 3.10256338,\n",
              "        3.16486168, 3.22715998, 3.28945827, 3.35175705, 3.41405535,\n",
              "        3.47635365, 3.53865194, 3.60095024, 3.66324902, 3.72554731,\n",
              "        3.78784561, 3.85014391, 3.91244268, 3.97474098, 4.03703928,\n",
              "        4.09933758]),\n",
              " <BarContainer object of 50 artists>)"
            ]
          },
          "metadata": {},
          "execution_count": 15
        },
        {
          "output_type": "display_data",
          "data": {
            "text/plain": [
              "<Figure size 640x480 with 1 Axes>"
            ],
            "image/png": "[encoded data removed]"
          },
          "metadata": {}
        }
      ],
      "source": [
        "reconstruction_abnormal = model.predict(abnormal_test_data_scaled)\n",
        "train_loss_abnormal = tf.keras.losses.mae(reconstruction_abnormal, abnormal_test_data_scaled)\n",
        "plt.hist(train_loss_abnormal, bins=50)"
      ]
    },
    {
      "cell_type": "code",
      "execution_count": 16,
      "metadata": {
        "colab": {
          "base_uri": "https://localhost:8080/"
        },
        "id": "KeJ0Ndl1QH_o",
        "outputId": "23e156ff-d7c4-4cb2-a33c-ccbd92011068"
      },
      "outputs": [
        {
          "output_type": "execute_result",
          "data": {
            "text/plain": [
              "np.float32(1.1020466)"
            ]
          },
          "metadata": {},
          "execution_count": 16
        }
      ],
      "source": [
        "# threshold auswählen nach business logic\n",
        "threshold = np.mean(train_loss) + 2*np.std(train_loss)\n",
        "threshold"
      ]
    },
    {
      "cell_type": "code",
      "execution_count": 17,
      "metadata": {
        "colab": {
          "base_uri": "https://localhost:8080/",
          "height": 435
        },
        "id": "u5zFWE9uQJ_4",
        "outputId": "374d49e4-b01b-4bcc-abd9-9fef341106b2"
      },
      "outputs": [
        {
          "output_type": "display_data",
          "data": {
            "text/plain": [
              "<Figure size 640x480 with 1 Axes>"
            ],
            "image/png": "[encoded data removed]"
          },
          "metadata": {}
        }
      ],
      "source": [
        "plt.hist(train_loss, bins=50, label='normal')\n",
        "plt.hist(train_loss_abnormal, bins=50, label='abnormal')\n",
        "plt.ylim(0, 60)\n",
        "plt.legend()\n",
        "plt.axvline(threshold, color='r', linestyle='dashed', linewidth=2,label = '{:0.3f}'.format(threshold))\n",
        "plt.show()"
      ]
    },
    {
      "cell_type": "code",
      "execution_count": 18,
      "metadata": {
        "colab": {
          "base_uri": "https://localhost:8080/"
        },
        "id": "Qd9lW1peQMbn",
        "outputId": "23b5e300-a28a-4857-b70a-9ba218397a73"
      },
      "outputs": [
        {
          "output_type": "stream",
          "name": "stdout",
          "text": [
            "Correct Predictions:  1111\n",
            "Accuracy:  0.9893143365983972\n",
            "False Predictions index:  [199, 208, 470, 641, 753, 837, 855, 900, 904, 944, 980, 1009]\n"
          ]
        }
      ],
      "source": [
        "preds_normal=tf.math.less(train_loss, threshold)\n",
        "correct = tf.math.count_nonzero(preds_normal)\n",
        "false_predictions_normal = [i for i, x in enumerate(preds_normal) if not x]\n",
        "print(\"Correct Predictions: \", correct.numpy())\n",
        "print(\"Accuracy: \", correct.numpy()/len(preds_normal))\n",
        "print(\"False Predictions index: \", false_predictions_normal)"
      ]
    },
    {
      "cell_type": "code",
      "execution_count": 19,
      "metadata": {
        "colab": {
          "base_uri": "https://localhost:8080/"
        },
        "id": "C-hd2PN_QY3P",
        "outputId": "74e79dcd-bdcc-43da-d6a7-ed60b4397264"
      },
      "outputs": [
        {
          "output_type": "stream",
          "name": "stdout",
          "text": [
            "Correct Predictions:  41\n",
            "Accuracy:  0.9761904761904762\n"
          ]
        }
      ],
      "source": [
        "preds_abnormal=tf.math.greater(train_loss_abnormal, threshold)\n",
        "correct = tf.math.count_nonzero(preds_abnormal)\n",
        "false_predictions_abnormal = [i for i, x in enumerate(preds_abnormal) if not x]\n",
        "print(\"Correct Predictions: \", correct.numpy())\n",
        "print(\"Accuracy: \", correct.numpy()/len(preds_abnormal))"
      ]
    },
    {
      "cell_type": "code",
      "execution_count": 20,
      "metadata": {
        "colab": {
          "base_uri": "https://localhost:8080/",
          "height": 733
        },
        "id": "Wu5XO9HxQbH4",
        "outputId": "3002997b-3a5a-4fdb-88eb-7a030eef0974"
      },
      "outputs": [
        {
          "output_type": "stream",
          "name": "stdout",
          "text": [
            "\u001b[1m37/37\u001b[0m \u001b[32m━━━━━━━━━━━━━━━━━━━━\u001b[0m\u001b[37m\u001b[0m \u001b[1m1s\u001b[0m 6ms/step\n"
          ]
        },
        {
          "output_type": "error",
          "ename": "IndexError",
          "evalue": "index 97 is out of bounds for axis 1 with size 97",
          "traceback": [
            "\u001b[0;31m---------------------------------------------------------------------------\u001b[0m",
            "\u001b[0;31mIndexError\u001b[0m                                Traceback (most recent call last)",
            "\u001b[0;32m<ipython-input-20-8f87dd6a2842>\u001b[0m in \u001b[0;36m<cell line: 0>\u001b[0;34m()\u001b[0m\n\u001b[1;32m     24\u001b[0m \u001b[0;31m# Plot reconstructed data\u001b[0m\u001b[0;34m\u001b[0m\u001b[0;34m\u001b[0m\u001b[0m\n\u001b[1;32m     25\u001b[0m \u001b[0;32mfor\u001b[0m \u001b[0mi\u001b[0m\u001b[0;34m,\u001b[0m \u001b[0mcol\u001b[0m \u001b[0;32min\u001b[0m \u001b[0menumerate\u001b[0m\u001b[0;34m(\u001b[0m\u001b[0msensor_cols\u001b[0m\u001b[0;34m)\u001b[0m\u001b[0;34m:\u001b[0m\u001b[0;34m\u001b[0m\u001b[0;34m\u001b[0m\u001b[0m\n\u001b[0;32m---> 26\u001b[0;31m     \u001b[0mplt\u001b[0m\u001b[0;34m.\u001b[0m\u001b[0mplot\u001b[0m\u001b[0;34m(\u001b[0m\u001b[0mtest_data_scaled_df\u001b[0m\u001b[0;34m.\u001b[0m\u001b[0mindex\u001b[0m\u001b[0;34m,\u001b[0m \u001b[0mreconstructed_data\u001b[0m\u001b[0;34m[\u001b[0m\u001b[0;34m:\u001b[0m\u001b[0;34m,\u001b[0m \u001b[0mi\u001b[0m\u001b[0;34m]\u001b[0m\u001b[0;34m,\u001b[0m \u001b[0mcolor\u001b[0m\u001b[0;34m=\u001b[0m\u001b[0;34m'orange'\u001b[0m\u001b[0;34m,\u001b[0m \u001b[0malpha\u001b[0m\u001b[0;34m=\u001b[0m\u001b[0;36m0.5\u001b[0m\u001b[0;34m)\u001b[0m\u001b[0;34m\u001b[0m\u001b[0;34m\u001b[0m\u001b[0m\n\u001b[0m\u001b[1;32m     27\u001b[0m \u001b[0;34m\u001b[0m\u001b[0m\n\u001b[1;32m     28\u001b[0m \u001b[0;31m# Highlight false predictions with a vertical scatter\u001b[0m\u001b[0;34m\u001b[0m\u001b[0;34m\u001b[0m\u001b[0m\n",
            "\u001b[0;31mIndexError\u001b[0m: index 97 is out of bounds for axis 1 with size 97"
          ]
        },
        {
          "output_type": "display_data",
          "data": {
            "text/plain": [
              "<Figure size 1200x600 with 1 Axes>"
            ],
            "image/png": "[encoded data removed]"
          },
          "metadata": {}
        }
      ],
      "source": [
        "# reconstruct test data using autoencoder\n",
        "\n",
        "import matplotlib.pyplot as plt\n",
        "import numpy as np\n",
        "\n",
        "# Assuming you have your autoencoder model and combined_df ready\n",
        "\n",
        "# 1. Select columns to plot (e.g., \"Acc-Z_1\" to \"Acc-Z_100\")\n",
        "sensor_cols = [col for col in test_data_scaled_df.columns if col.startswith(\"Acc-Z_\")]\n",
        "\n",
        "# 2. Extract the sensor data from combined_df\n",
        "sensor_data = test_data_scaled_df[sensor_cols].values\n",
        "\n",
        "# 3. Reconstruct the data using the autoencoder\n",
        "reconstructed_data = model.predict(sensor_data)\n",
        "\n",
        "# 4. Plot the original and reconstructed data points\n",
        "plt.figure(figsize=(12, 6))\n",
        "\n",
        "# Plot original data\n",
        "for i, col in enumerate(sensor_cols):\n",
        "    plt.plot(test_data_scaled_df.index, sensor_data[:, i], color='green', alpha=0.5)\n",
        "\n",
        "# Plot reconstructed data\n",
        "for i, col in enumerate(sensor_cols):\n",
        "    plt.plot(test_data_scaled_df.index, reconstructed_data[:, i], color='orange', alpha=0.5)\n",
        "\n",
        "# Highlight false predictions with a vertical scatter\n",
        "for row_i in false_predictions_normal:\n",
        "    y_values = sensor_data[row_i, :]\n",
        "    x_values = [test_data_scaled_df.index[row_i]] * len(y_values)\n",
        "    plt.scatter(x_values, y_values, color='red', alpha=1.0, zorder=3, linewidths=0.1)\n",
        "for row_i in false_predictions_abnormal:\n",
        "    y_values = sensor_data[row_i, :]\n",
        "    x_values = [test_data_scaled_df.index[row_i]] * len(y_values)\n",
        "    plt.scatter(x_values, y_values, color='red', alpha=1.0, zorder=3)\n",
        "\n",
        "plt.title(\"Original and Reconstructed Sensor Data by Row Index of Handlebar\")\n",
        "plt.xlabel(\"Time Index\")\n",
        "plt.ylabel(\"Sensor Value for Acc-Z\")\n",
        "plt.tight_layout()\n",
        "plt.show()"
      ]
    },
    {
      "cell_type": "code",
      "execution_count": null,
      "metadata": {
        "id": "npkMg8dXQdUX"
      },
      "outputs": [],
      "source": []
    }
  ],
  "metadata": {
    "accelerator": "GPU",
    "colab": {
      "gpuType": "L4",
      "machine_shape": "hm",
      "provenance": [],
      "include_colab_link": true
    },
    "kernelspec": {
      "display_name": "Python 3",
      "name": "python3"
    },
    "language_info": {
      "codemirror_mode": {
        "name": "ipython",
        "version": 3
      },
      "file_extension": ".py",
      "mimetype": "text/x-python",
      "name": "python",
      "nbconvert_exporter": "python",
      "pygments_lexer": "ipython3",
      "version": "3.12.3"
    }
  },
  "nbformat": 4,
  "nbformat_minor": 0
}