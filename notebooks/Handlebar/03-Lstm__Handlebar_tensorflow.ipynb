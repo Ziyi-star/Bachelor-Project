{
 "cells": [
  {
   "cell_type": "code",
   "execution_count": null,
   "metadata": {},
   "outputs": [],
   "source": [
    "import torch\n",
    "import numpy as np\n",
    "import pandas as pd\n",
    "from pylab import rcParams\n",
    "import matplotlib.pyplot as plt\n",
    "from matplotlib import rc\n",
    "from sklearn.model_selection import train_test_split\n",
    "\n",
    "device = torch.device(\"cuda\" if torch.cuda.is_available() else \"cpu\")\n",
    "\n",
    "RANDOM_SEED = 42"
   ]
  },
  {
   "cell_type": "code",
   "execution_count": 3,
   "metadata": {},
   "outputs": [
    {
     "data": {
      "text/plain": [
       "curb_scene\n",
       "0.0    4351\n",
       "1.0      76\n",
       "Name: count, dtype: int64"
      ]
     },
     "execution_count": 3,
     "metadata": {},
     "output_type": "execute_result"
    }
   ],
   "source": [
    "df = pd.read_csv('../../data/handlebar/Accelerometer_data_combined_segmented.csv') \n",
    "# 0 for normal, 1 for abnormal\n",
    "df['curb_scene'].value_counts()"
   ]
  },
  {
   "cell_type": "code",
   "execution_count": 4,
   "metadata": {},
   "outputs": [],
   "source": [
    "# Suppose df is your DataFrame, and df['curb_scene'] is your label column\n",
    "train_data, test_data, train_labels, test_labels = train_test_split(df, df['curb_scene'], \n",
    "                                                                    test_size=0.2, \n",
    "                                                                    random_state=RANDOM_SEED)\n",
    "\n",
    "# Now split the (train_data, train_labels) again into train and validation\n",
    "train_data, val_data, train_labels, val_labels = train_test_split(train_data, train_labels, \n",
    "                                                                  test_size=0.25, \n",
    "                                                                  random_state=RANDOM_SEED)"
   ]
  },
  {
   "cell_type": "code",
   "execution_count": 16,
   "metadata": {},
   "outputs": [
    {
     "name": "stdout",
     "output_type": "stream",
     "text": [
      "(2655, 100)\n",
      "(886, 100)\n",
      "(886, 100)\n"
     ]
    }
   ],
   "source": [
    "from sklearn.preprocessing import MinMaxScaler, StandardScaler\n",
    "#scaling data, because neural network works better with scaled data\n",
    "scaler = StandardScaler()\n",
    "data_scaled = scaler.fit(train_data.iloc[:, 3:])\n",
    "#transform data\n",
    "train_data_scaled = scaler.transform(train_data.iloc[:, 3:])\n",
    "val_data_scaled = scaler.transform(val_data.iloc[:, 3:])\n",
    "test_data_scaled = scaler.transform(test_data.iloc[:, 3:])\n",
    "print(train_data_scaled.shape)\n",
    "print(val_data_scaled.shape)\n",
    "print(test_data_scaled.shape)"
   ]
  },
  {
   "cell_type": "code",
   "execution_count": 14,
   "metadata": {},
   "outputs": [],
   "source": [
    "# Convert the scaled data back to DataFrames for further processing\n",
    "train_data_scaled_df = pd.DataFrame(train_data_scaled, columns=train_data.columns[3:])\n",
    "test_data_scaled_df = pd.DataFrame(test_data_scaled, columns=test_data.columns[3:])\n",
    "val_data_scaled_df = pd.DataFrame(val_data_scaled, columns=val_data.columns[3:])\n",
    "# Add the 'curb_scene', 'start_time', and 'end_time' columns back to the scaled DataFrames\n",
    "train_data_scaled_df['curb_scene'] = train_data['curb_scene'].values\n",
    "train_data_scaled_df['start_time'] = train_data['start_time'].values\n",
    "train_data_scaled_df['end_time'] = train_data['end_time'].values\n",
    "test_data_scaled_df['curb_scene'] = test_data['curb_scene'].values\n",
    "test_data_scaled_df['start_time'] = test_data['start_time'].values\n",
    "test_data_scaled_df['end_time'] = test_data['end_time'].values\n",
    "val_data_scaled_df['curb_scene'] = val_data['curb_scene'].values\n",
    "val_data_scaled_df['start_time'] = val_data['start_time'].values\n",
    "val_data_scaled_df['end_time'] = val_data['end_time'].values"
   ]
  },
  {
   "cell_type": "code",
   "execution_count": 7,
   "metadata": {},
   "outputs": [],
   "source": [
    "# Filter and slice the data in numpy.ndarray format\n",
    "normal_train_data_scaled = train_data_scaled_df[train_data_scaled_df['curb_scene'] == 0.0].values[:, :-3]\n",
    "abnormal_train_data_scaled = train_data_scaled_df[train_data_scaled_df['curb_scene'] == 1.0].values[:, :-3]\n",
    "normal_val_data_scaled = val_data_scaled_df[val_data_scaled_df['curb_scene'] == 0.0].values[:, :-3]\n",
    "abnormal_val_data_scaled = val_data_scaled_df[val_data_scaled_df['curb_scene'] == 1.0].values[:, :-3]\n",
    "val_data_scaled = val_data_scaled_df.values[:, :-3]\n",
    "normal_test_data_scaled = test_data_scaled_df[test_data_scaled_df['curb_scene'] == 0.0].values[:, :-3]\n",
    "abnormal_test_data_scaled = test_data_scaled_df[test_data_scaled_df['curb_scene'] == 1.0].values[:, :-3]"
   ]
  }
 ],
 "metadata": {
  "kernelspec": {
   "display_name": "Python 3",
   "language": "python",
   "name": "python3"
  },
  "language_info": {
   "codemirror_mode": {
    "name": "ipython",
    "version": 3
   },
   "file_extension": ".py",
   "mimetype": "text/x-python",
   "name": "python",
   "nbconvert_exporter": "python",
   "pygments_lexer": "ipython3",
   "version": "3.12.3"
  }
 },
 "nbformat": 4,
 "nbformat_minor": 2
}
