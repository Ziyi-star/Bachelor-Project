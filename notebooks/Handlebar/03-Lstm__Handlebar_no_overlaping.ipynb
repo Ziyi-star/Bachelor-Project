{
 "cells": [
  {
   "cell_type": "code",
   "execution_count": null,
   "metadata": {},
   "outputs": [],
   "source": [
    "import torch\n",
    "import numpy as np\n",
    "import pandas as pd\n",
    "from pylab import rcParams\n",
    "import matplotlib.pyplot as plt\n",
    "from matplotlib import rc\n",
    "from sklearn.model_selection import train_test_split\n",
    "from torch import nn, optim\n",
    "import torch.nn.functional as F\n",
    "\n",
    "device = torch.device(\"cuda\" if torch.cuda.is_available() else \"cpu\")\n",
    "\n",
    "RANDOM_SEED = 42"
   ]
  },
  {
   "cell_type": "code",
   "execution_count": 2,
   "metadata": {},
   "outputs": [
    {
     "data": {
      "text/plain": [
       "curb_scene\n",
       "0.0    4351\n",
       "1.0      76\n",
       "Name: count, dtype: int64"
      ]
     },
     "execution_count": 2,
     "metadata": {},
     "output_type": "execute_result"
    }
   ],
   "source": [
    "df = pd.read_csv('../../data/handlebar/Accelerometer_data_combined_segmented.csv') \n",
    "# 0 for normal, 1 for abnormal\n",
    "df['curb_scene'].value_counts()"
   ]
  },
  {
   "cell_type": "code",
   "execution_count": 3,
   "metadata": {},
   "outputs": [],
   "source": [
    "# Suppose df is your DataFrame, and df['curb_scene'] is your label column\n",
    "train_data, test_data, train_labels, test_labels = train_test_split(df, df['curb_scene'], \n",
    "                                                                    test_size=0.2, \n",
    "                                                                    random_state=RANDOM_SEED)\n",
    "\n",
    "# Now split the (train_data, train_labels) again into train and validation\n",
    "train_data, val_data, train_labels, val_labels = train_test_split(train_data, train_labels, \n",
    "                                                                  test_size=0.25, \n",
    "                                                                  random_state=RANDOM_SEED)"
   ]
  },
  {
   "cell_type": "code",
   "execution_count": 4,
   "metadata": {},
   "outputs": [
    {
     "name": "stdout",
     "output_type": "stream",
     "text": [
      "(2655, 100)\n",
      "(886, 100)\n",
      "(886, 100)\n"
     ]
    }
   ],
   "source": [
    "from sklearn.preprocessing import MinMaxScaler, StandardScaler\n",
    "#scaling data, because neural network works better with scaled data\n",
    "scaler = StandardScaler()\n",
    "data_scaled = scaler.fit(train_data.iloc[:, 3:])\n",
    "#transform data\n",
    "train_data_scaled = scaler.transform(train_data.iloc[:, 3:])\n",
    "val_data_scaled = scaler.transform(val_data.iloc[:, 3:])\n",
    "test_data_scaled = scaler.transform(test_data.iloc[:, 3:])\n",
    "print(train_data_scaled.shape)\n",
    "print(val_data_scaled.shape)\n",
    "print(test_data_scaled.shape)"
   ]
  },
  {
   "cell_type": "code",
   "execution_count": 5,
   "metadata": {},
   "outputs": [],
   "source": [
    "# Convert the scaled data back to DataFrames for further processing\n",
    "train_data_scaled_df = pd.DataFrame(train_data_scaled, columns=train_data.columns[3:])\n",
    "test_data_scaled_df = pd.DataFrame(test_data_scaled, columns=test_data.columns[3:])\n",
    "val_data_scaled_df = pd.DataFrame(val_data_scaled, columns=val_data.columns[3:])\n",
    "# Add the 'curb_scene', 'start_time', and 'end_time' columns back to the scaled DataFrames\n",
    "train_data_scaled_df['curb_scene'] = train_data['curb_scene'].values\n",
    "train_data_scaled_df['start_time'] = train_data['start_time'].values\n",
    "train_data_scaled_df['end_time'] = train_data['end_time'].values\n",
    "test_data_scaled_df['curb_scene'] = test_data['curb_scene'].values\n",
    "test_data_scaled_df['start_time'] = test_data['start_time'].values\n",
    "test_data_scaled_df['end_time'] = test_data['end_time'].values\n",
    "val_data_scaled_df['curb_scene'] = val_data['curb_scene'].values\n",
    "val_data_scaled_df['start_time'] = val_data['start_time'].values\n",
    "val_data_scaled_df['end_time'] = val_data['end_time'].values"
   ]
  },
  {
   "cell_type": "code",
   "execution_count": 6,
   "metadata": {},
   "outputs": [],
   "source": [
    "# Filter and slice the data in numpy.ndarray format\n",
    "normal_train_data_scaled = train_data_scaled_df[train_data_scaled_df['curb_scene'] == 0.0].values[:, :-3]\n",
    "abnormal_train_data_scaled = train_data_scaled_df[train_data_scaled_df['curb_scene'] == 1.0].values[:, :-3]\n",
    "normal_val_data_scaled = val_data_scaled_df[val_data_scaled_df['curb_scene'] == 0.0].values[:, :-3]\n",
    "abnormal_val_data_scaled = val_data_scaled_df[val_data_scaled_df['curb_scene'] == 1.0].values[:, :-3]\n",
    "val_data_scaled = val_data_scaled_df.values[:, :-3]\n",
    "normal_test_data_scaled = test_data_scaled_df[test_data_scaled_df['curb_scene'] == 0.0].values[:, :-3]\n",
    "abnormal_test_data_scaled = test_data_scaled_df[test_data_scaled_df['curb_scene'] == 1.0].values[:, :-3]"
   ]
  },
  {
   "cell_type": "code",
   "execution_count": 7,
   "metadata": {},
   "outputs": [],
   "source": [
    "def create_dataset(df):\n",
    "  #Cast to float32 and list\n",
    "  sequences = df.astype(np.float32).tolist()\n",
    "  # Convert each sequence to a PyTorch tensor, add a new dimension, and cast to float\n",
    "  dataset = [torch.tensor(s).unsqueeze(1).float() for s in sequences]\n",
    "  # Stack the tensors to get the shape of number of sequences, sequence length, number of features\n",
    "  number_sequence, sequence_length, number_features = torch.stack(dataset).shape\n",
    "  return dataset, sequence_length, number_features"
   ]
  },
  {
   "cell_type": "code",
   "execution_count": 8,
   "metadata": {},
   "outputs": [],
   "source": [
    "#Cast to float32 and list then tensor\n",
    "normal_train_data_scaled_tensor, sequence_length, number_features = create_dataset(normal_train_data_scaled)\n",
    "normal_val_data_scaled_tensor, _, _ = create_dataset(normal_val_data_scaled)\n",
    "normal_test_data_scaled_tensor, _, _ = create_dataset(normal_test_data_scaled)\n",
    "abnormal_test_data_scaled_tensor, _, _ = create_dataset(abnormal_test_data_scaled)"
   ]
  },
  {
   "cell_type": "code",
   "execution_count": null,
   "metadata": {},
   "outputs": [],
   "source": [
    "#print(normal_val_data_scaled_tensor[0], sequence_length,number_features)\n",
    "#tensor, 100, 1, 33:19"
   ]
  },
  {
   "cell_type": "code",
   "execution_count": 11,
   "metadata": {},
   "outputs": [],
   "source": [
    "#LSTM Autoencoder\n",
    "#Based on https://github.com/shobrook/sequitur\n",
    "\n",
    "class Encoder(nn.Module):\n",
    "  \"\"\"\n",
    "    An LSTM-based Encoder for the Recurrent Autoencoder.\n",
    "    Parameters\n",
    "    ----------\n",
    "    seq_len : int\n",
    "        The length of the input sequences.\n",
    "    n_features : int\n",
    "        The number of features in the input sequences.\n",
    "    embedding_dim : int, optional\n",
    "        The number of features in the bottleneck layer.\n",
    "    \"\"\"\n",
    "  def __init__(self, seq_len, n_features, embedding_dim=32):\n",
    "    super(Encoder, self).__init__()\n",
    "    self.seq_len, self.n_features = seq_len, n_features\n",
    "    self.embedding_dim, self.hidden_dim = embedding_dim, 2 * embedding_dim\n",
    "    # First LSTM layer\n",
    "    self.rnn1 = nn.LSTM(\n",
    "      input_size=n_features,\n",
    "      hidden_size=self.hidden_dim,\n",
    "      num_layers=1,\n",
    "      batch_first=True\n",
    "    )\n",
    "    # Second LSTM layer\n",
    "    self.rnn2 = nn.LSTM(\n",
    "      input_size=self.hidden_dim,\n",
    "      hidden_size=embedding_dim,\n",
    "      num_layers=1,\n",
    "      batch_first=True\n",
    "    )\n",
    "  def forward(self, x):\n",
    "    # Reshape input to (batch_size=1, seq_len, n_features)\n",
    "    x = x.reshape((1, self.seq_len, self.n_features))\n",
    "    # Pass through the first LSTM layer\n",
    "    x, (_, _) = self.rnn1(x)\n",
    "    # Pass through the second LSTM layer\n",
    "    x, (hidden_n, _) = self.rnn2(x)\n",
    "    # Reshape the hidden state to (n_features, embedding_dim)\n",
    "    return hidden_n.reshape((self.n_features, self.embedding_dim))"
   ]
  },
  {
   "cell_type": "code",
   "execution_count": 12,
   "metadata": {},
   "outputs": [],
   "source": [
    "class Decoder(nn.Module):\n",
    "    \"\"\"\n",
    "    An LSTM-based Decoder for the Recurrent Autoencoder.\n",
    "\n",
    "    Parameters\n",
    "    ----------\n",
    "    seq_len : int\n",
    "        The length of the input sequences.\n",
    "    input_dim : int, optional\n",
    "        The number of features in the input sequences (default is 32).\n",
    "    n_features : int, optional\n",
    "        The number of features in the output sequences (default is 1).\n",
    "    \"\"\"\n",
    "    def __init__(self, seq_len, input_dim=32, n_features=1):\n",
    "      super(Decoder, self).__init__()\n",
    "      self.seq_len, self.input_dim = seq_len, input_dim\n",
    "      self.hidden_dim, self.n_features = 2 * input_dim, n_features\n",
    "      # First LSTM layer\n",
    "      self.rnn1 = nn.LSTM(\n",
    "        input_size=input_dim,\n",
    "        hidden_size=input_dim,\n",
    "        num_layers=1,\n",
    "        batch_first=True\n",
    "      )\n",
    "      # Second LSTM layer\n",
    "      self.rnn2 = nn.LSTM(\n",
    "        input_size=input_dim,\n",
    "        hidden_size=self.hidden_dim,\n",
    "        num_layers=1,\n",
    "        batch_first=True\n",
    "      )\n",
    "      # Output layer to map the hidden state to the desired number of features\n",
    "      self.output_layer = nn.Linear(self.hidden_dim, n_features)\n",
    "\n",
    "\n",
    "    def forward(self, x):\n",
    "        x = x.repeat(self.seq_len, self.n_features)\n",
    "        x = x.reshape((self.n_features, self.seq_len, self.input_dim))\n",
    "        x, (hidden_n, cell_n) = self.rnn1(x)\n",
    "        x, (hidden_n, cell_n) = self.rnn2(x)\n",
    "        x = x.reshape((self.seq_len, self.hidden_dim))\n",
    "        return self.output_layer(x)"
   ]
  },
  {
   "cell_type": "code",
   "execution_count": 13,
   "metadata": {},
   "outputs": [],
   "source": [
    "class RecurrentAutoencoder(nn.Module):\n",
    "    def __init__(self, seq_len, n_features, embedding_dim=32):\n",
    "        super(RecurrentAutoencoder, self).__init__()\n",
    "        # Initialize the encoder \n",
    "        self.encoder = Encoder(seq_len, n_features, embedding_dim).to(device)\n",
    "        # Initialize the decoder \n",
    "        self.decoder = Decoder(seq_len, embedding_dim, n_features).to(device)\n",
    "\n",
    "    def forward(self, x):\n",
    "        x = self.encoder(x)\n",
    "        x = self.decoder(x)\n",
    "        return x"
   ]
  },
  {
   "cell_type": "code",
   "execution_count": 14,
   "metadata": {},
   "outputs": [],
   "source": [
    "model = RecurrentAutoencoder(sequence_length, number_features, embedding_dim=64)\n",
    "model = model.to(device)"
   ]
  },
  {
   "cell_type": "code",
   "execution_count": null,
   "metadata": {},
   "outputs": [],
   "source": [
    "def train_model(model, train_dataset, val_dataset, n_epochs):\n",
    "  optimizer = torch.optim.Adam(model.parameters(), lr=1e-3)\n",
    "  #mean absolut error\n",
    "  criterion = nn.L1Loss(reduction='sum').to(device)\n",
    "  #record history for lossed\n",
    "  history = dict(train=[], val=[])\n",
    "  best_model_wts = copy.deepcopy(model.state_dict())\n",
    "  best_loss = 10000.0\n",
    "  for epoch in range(1, n_epochs + 1):\n",
    "    model = model.train()\n",
    "    train_losses = []\n",
    "    #iterate over each sequence\n",
    "    for seq_true in train_dataset:\n",
    "      optimizer.zero_grad()\n",
    "      seq_true = seq_true.to(device)\n",
    "      seq_pred = model(seq_true)\n",
    "      loss = criterion(seq_pred, seq_true)\n",
    "      loss.backward()\n",
    "      optimizer.step()\n",
    "      train_losses.append(loss.item())\n",
    "    val_losses = []\n",
    "    model = model.eval()\n",
    "    with torch.no_grad():\n",
    "      for seq_true in val_dataset:\n",
    "        seq_true = seq_true.to(device)\n",
    "        seq_pred = model(seq_true)\n",
    "        loss = criterion(seq_pred, seq_true)\n",
    "        val_losses.append(loss.item())\n",
    "    train_loss = np.mean(train_losses)\n",
    "    val_loss = np.mean(val_losses)\n",
    "    history['train'].append(train_loss)\n",
    "    history['val'].append(val_loss)\n",
    "    if val_loss < best_loss:\n",
    "      best_loss = val_loss\n",
    "      best_model_wts = copy.deepcopy(model.state_dict())\n",
    "    print(f'Epoch {epoch}: train loss {train_loss} val loss {val_loss}')\n",
    "  model.load_state_dict(best_model_wts)\n",
    "  return model.eval(), history"
   ]
  }
 ],
 "metadata": {
  "kernelspec": {
   "display_name": "Python 3",
   "language": "python",
   "name": "python3"
  },
  "language_info": {
   "codemirror_mode": {
    "name": "ipython",
    "version": 3
   },
   "file_extension": ".py",
   "mimetype": "text/x-python",
   "name": "python",
   "nbconvert_exporter": "python",
   "pygments_lexer": "ipython3",
   "version": "3.12.3"
  }
 },
 "nbformat": 4,
 "nbformat_minor": 2
}
