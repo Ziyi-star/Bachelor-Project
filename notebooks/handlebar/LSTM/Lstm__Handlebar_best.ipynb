{
  "cells": [
    {
      "cell_type": "markdown",
      "metadata": {
        "colab_type": "text",
        "id": "view-in-github"
      },
      "source": [
        "<a href=\"https://colab.research.google.com/github/Ziyi-star/Bachelor-Project/blob/main/notebooks/Handlebar/03-Lstm__Handlebar_tensorflow_v1_50.ipynb\" target=\"_parent\"><img src=\"https://colab.research.google.com/assets/colab-badge.svg\" alt=\"Open In Colab\"/></a>"
      ]
    },
    {
      "cell_type": "code",
      "execution_count": 1,
      "metadata": {
        "colab": {
          "base_uri": "https://localhost:8080/",
          "height": 383
        },
        "id": "cGwyEUT7ZuSH",
        "outputId": "1e741b23-e15f-4fc5-ea69-8843b555366e"
      },
      "outputs": [
        {
          "data": {
            "text/html": [
              "<div>\n",
              "<style scoped>\n",
              "    .dataframe tbody tr th:only-of-type {\n",
              "        vertical-align: middle;\n",
              "    }\n",
              "\n",
              "    .dataframe tbody tr th {\n",
              "        vertical-align: top;\n",
              "    }\n",
              "\n",
              "    .dataframe thead th {\n",
              "        text-align: right;\n",
              "    }\n",
              "</style>\n",
              "<table border=\"1\" class=\"dataframe\">\n",
              "  <thead>\n",
              "    <tr style=\"text-align: right;\">\n",
              "      <th></th>\n",
              "      <th>curb_scene</th>\n",
              "      <th>Acc-Z_1</th>\n",
              "      <th>Acc-Z_2</th>\n",
              "      <th>Acc-Z_3</th>\n",
              "      <th>Acc-Z_4</th>\n",
              "      <th>Acc-Z_5</th>\n",
              "      <th>Acc-Z_6</th>\n",
              "      <th>Acc-Z_7</th>\n",
              "      <th>Acc-Z_8</th>\n",
              "      <th>Acc-Z_9</th>\n",
              "      <th>...</th>\n",
              "      <th>Acc-Z_91</th>\n",
              "      <th>Acc-Z_92</th>\n",
              "      <th>Acc-Z_93</th>\n",
              "      <th>Acc-Z_94</th>\n",
              "      <th>Acc-Z_95</th>\n",
              "      <th>Acc-Z_96</th>\n",
              "      <th>Acc-Z_97</th>\n",
              "      <th>Acc-Z_98</th>\n",
              "      <th>Acc-Z_99</th>\n",
              "      <th>Acc-Z_100</th>\n",
              "    </tr>\n",
              "  </thead>\n",
              "  <tbody>\n",
              "    <tr>\n",
              "      <th>0</th>\n",
              "      <td>0.0</td>\n",
              "      <td>8.762772</td>\n",
              "      <td>8.753204</td>\n",
              "      <td>8.762772</td>\n",
              "      <td>8.781937</td>\n",
              "      <td>8.753204</td>\n",
              "      <td>8.748413</td>\n",
              "      <td>8.738831</td>\n",
              "      <td>8.748413</td>\n",
              "      <td>8.743622</td>\n",
              "      <td>...</td>\n",
              "      <td>8.786728</td>\n",
              "      <td>8.801086</td>\n",
              "      <td>8.820236</td>\n",
              "      <td>8.786728</td>\n",
              "      <td>8.777145</td>\n",
              "      <td>8.772354</td>\n",
              "      <td>8.781937</td>\n",
              "      <td>8.801086</td>\n",
              "      <td>8.781937</td>\n",
              "      <td>8.753204</td>\n",
              "    </tr>\n",
              "    <tr>\n",
              "      <th>1</th>\n",
              "      <td>0.0</td>\n",
              "      <td>8.762772</td>\n",
              "      <td>8.762772</td>\n",
              "      <td>8.748413</td>\n",
              "      <td>8.767563</td>\n",
              "      <td>8.729263</td>\n",
              "      <td>8.695740</td>\n",
              "      <td>8.724472</td>\n",
              "      <td>8.767563</td>\n",
              "      <td>8.767563</td>\n",
              "      <td>...</td>\n",
              "      <td>8.753204</td>\n",
              "      <td>8.772354</td>\n",
              "      <td>8.786728</td>\n",
              "      <td>8.781937</td>\n",
              "      <td>8.786728</td>\n",
              "      <td>8.777145</td>\n",
              "      <td>8.738831</td>\n",
              "      <td>8.820236</td>\n",
              "      <td>8.738831</td>\n",
              "      <td>8.757996</td>\n",
              "    </tr>\n",
              "    <tr>\n",
              "      <th>2</th>\n",
              "      <td>0.0</td>\n",
              "      <td>8.781937</td>\n",
              "      <td>8.796295</td>\n",
              "      <td>8.772354</td>\n",
              "      <td>8.772354</td>\n",
              "      <td>8.772354</td>\n",
              "      <td>8.786728</td>\n",
              "      <td>8.781937</td>\n",
              "      <td>8.801086</td>\n",
              "      <td>8.767563</td>\n",
              "      <td>...</td>\n",
              "      <td>8.777145</td>\n",
              "      <td>8.753204</td>\n",
              "      <td>8.767563</td>\n",
              "      <td>8.762772</td>\n",
              "      <td>8.762772</td>\n",
              "      <td>8.753204</td>\n",
              "      <td>8.748413</td>\n",
              "      <td>8.762772</td>\n",
              "      <td>8.772354</td>\n",
              "      <td>8.767563</td>\n",
              "    </tr>\n",
              "    <tr>\n",
              "      <th>3</th>\n",
              "      <td>0.0</td>\n",
              "      <td>8.781937</td>\n",
              "      <td>8.753204</td>\n",
              "      <td>8.801086</td>\n",
              "      <td>8.753204</td>\n",
              "      <td>8.829819</td>\n",
              "      <td>8.753204</td>\n",
              "      <td>8.786728</td>\n",
              "      <td>8.815445</td>\n",
              "      <td>8.762772</td>\n",
              "      <td>...</td>\n",
              "      <td>8.805878</td>\n",
              "      <td>8.796295</td>\n",
              "      <td>8.781937</td>\n",
              "      <td>8.801086</td>\n",
              "      <td>8.810669</td>\n",
              "      <td>8.796295</td>\n",
              "      <td>8.805878</td>\n",
              "      <td>8.791504</td>\n",
              "      <td>8.791504</td>\n",
              "      <td>8.772354</td>\n",
              "    </tr>\n",
              "    <tr>\n",
              "      <th>4</th>\n",
              "      <td>0.0</td>\n",
              "      <td>8.757996</td>\n",
              "      <td>8.762772</td>\n",
              "      <td>8.777145</td>\n",
              "      <td>8.767563</td>\n",
              "      <td>8.786728</td>\n",
              "      <td>8.777145</td>\n",
              "      <td>8.753204</td>\n",
              "      <td>8.757996</td>\n",
              "      <td>8.777145</td>\n",
              "      <td>...</td>\n",
              "      <td>8.757996</td>\n",
              "      <td>8.757996</td>\n",
              "      <td>8.772354</td>\n",
              "      <td>8.767563</td>\n",
              "      <td>8.757996</td>\n",
              "      <td>8.743622</td>\n",
              "      <td>8.777145</td>\n",
              "      <td>8.743622</td>\n",
              "      <td>8.786728</td>\n",
              "      <td>8.796295</td>\n",
              "    </tr>\n",
              "  </tbody>\n",
              "</table>\n",
              "<p>5 rows × 101 columns</p>\n",
              "</div>"
            ],
            "text/plain": [
              "   curb_scene   Acc-Z_1   Acc-Z_2   Acc-Z_3   Acc-Z_4   Acc-Z_5   Acc-Z_6  \\\n",
              "0         0.0  8.762772  8.753204  8.762772  8.781937  8.753204  8.748413   \n",
              "1         0.0  8.762772  8.762772  8.748413  8.767563  8.729263  8.695740   \n",
              "2         0.0  8.781937  8.796295  8.772354  8.772354  8.772354  8.786728   \n",
              "3         0.0  8.781937  8.753204  8.801086  8.753204  8.829819  8.753204   \n",
              "4         0.0  8.757996  8.762772  8.777145  8.767563  8.786728  8.777145   \n",
              "\n",
              "    Acc-Z_7   Acc-Z_8   Acc-Z_9  ...  Acc-Z_91  Acc-Z_92  Acc-Z_93  Acc-Z_94  \\\n",
              "0  8.738831  8.748413  8.743622  ...  8.786728  8.801086  8.820236  8.786728   \n",
              "1  8.724472  8.767563  8.767563  ...  8.753204  8.772354  8.786728  8.781937   \n",
              "2  8.781937  8.801086  8.767563  ...  8.777145  8.753204  8.767563  8.762772   \n",
              "3  8.786728  8.815445  8.762772  ...  8.805878  8.796295  8.781937  8.801086   \n",
              "4  8.753204  8.757996  8.777145  ...  8.757996  8.757996  8.772354  8.767563   \n",
              "\n",
              "   Acc-Z_95  Acc-Z_96  Acc-Z_97  Acc-Z_98  Acc-Z_99  Acc-Z_100  \n",
              "0  8.777145  8.772354  8.781937  8.801086  8.781937   8.753204  \n",
              "1  8.786728  8.777145  8.738831  8.820236  8.738831   8.757996  \n",
              "2  8.762772  8.753204  8.748413  8.762772  8.772354   8.767563  \n",
              "3  8.810669  8.796295  8.805878  8.791504  8.791504   8.772354  \n",
              "4  8.757996  8.743622  8.777145  8.743622  8.786728   8.796295  \n",
              "\n",
              "[5 rows x 101 columns]"
            ]
          },
          "execution_count": 1,
          "metadata": {},
          "output_type": "execute_result"
        }
      ],
      "source": [
        "# For Vscode\n",
        "import numpy as np\n",
        "import pandas as pd\n",
        "from tensorflow import keras\n",
        "from tensorflow.keras import layers\n",
        "from datetime import datetime\n",
        "from matplotlib import pyplot as plt\n",
        "from matplotlib import dates as md\n",
        "from sklearn.model_selection import train_test_split    #model selection and scaling data\n",
        "from sklearn.preprocessing import StandardScaler\n",
        "import tensorflow as tf #building model\n",
        "RANDOM_SEED = 42\n",
        "\n",
        "import sys\n",
        "sys.path.append('../../../')   # Add parent directory to Python path\n",
        "from utils.Plots import *\n",
        "\n",
        "df = pd.read_csv('../../../data/handlebar/processed_segments_overlap_50.csv')\n",
        "# 0 for normal, 1 for abnormal\n",
        "df['curb_scene'].value_counts()\n",
        "df.drop('Unnamed: 0', axis=1, inplace=True)\n",
        "df.head()"
      ]
    },
    {
      "cell_type": "code",
      "execution_count": null,
      "metadata": {
        "colab": {
          "base_uri": "https://localhost:8080/",
          "height": 253
        },
        "id": "i3NZMq4eZ1xZ",
        "outputId": "c654d233-2d3e-42c8-e0d2-61993cdcd237"
      },
      "outputs": [
        {
          "ename": "ModuleNotFoundError",
          "evalue": "No module named 'google.colab'",
          "output_type": "error",
          "traceback": [
            "\u001b[1;31m---------------------------------------------------------------------------\u001b[0m",
            "\u001b[1;31mModuleNotFoundError\u001b[0m                       Traceback (most recent call last)",
            "Cell \u001b[1;32mIn[31], line 15\u001b[0m\n\u001b[0;32m     11\u001b[0m RANDOM_SEED \u001b[38;5;241m=\u001b[39m \u001b[38;5;241m42\u001b[39m\n\u001b[0;32m     14\u001b[0m \u001b[38;5;28;01mimport\u001b[39;00m\u001b[38;5;250m \u001b[39m\u001b[38;5;21;01mos\u001b[39;00m\n\u001b[1;32m---> 15\u001b[0m \u001b[38;5;28;01mfrom\u001b[39;00m\u001b[38;5;250m \u001b[39m\u001b[38;5;21;01mgoogle\u001b[39;00m\u001b[38;5;21;01m.\u001b[39;00m\u001b[38;5;21;01mcolab\u001b[39;00m\u001b[38;5;250m \u001b[39m\u001b[38;5;28;01mimport\u001b[39;00m drive\n\u001b[0;32m     16\u001b[0m drive\u001b[38;5;241m.\u001b[39mmount(\u001b[38;5;124m'\u001b[39m\u001b[38;5;124m/content/drive\u001b[39m\u001b[38;5;124m'\u001b[39m)\n\u001b[0;32m     17\u001b[0m df \u001b[38;5;241m=\u001b[39m pd\u001b[38;5;241m.\u001b[39mread_csv(\u001b[38;5;124m'\u001b[39m\u001b[38;5;124m/content/drive/MyDrive/Project/data/processed_segments_overlap_50.csv\u001b[39m\u001b[38;5;124m'\u001b[39m)\n",
            "\u001b[1;31mModuleNotFoundError\u001b[0m: No module named 'google.colab'"
          ]
        }
      ],
      "source": [
        "# For Colab\n",
        "import numpy as np\n",
        "import pandas as pd\n",
        "from tensorflow import keras\n",
        "from tensorflow.keras import layers\n",
        "from datetime import datetime\n",
        "from matplotlib import pyplot as plt\n",
        "from matplotlib import dates as md\n",
        "from sklearn.model_selection import train_test_split    #model selection and scaling data\n",
        "from sklearn.preprocessing import StandardScaler\n",
        "import tensorflow as tf #building model\n",
        "RANDOM_SEED = 42\n",
        "\n",
        "\n",
        "import os\n",
        "from google.colab import drive\n",
        "drive.mount('/content/drive')\n",
        "df = pd.read_csv('/content/drive/MyDrive/Project/data/processed_segments_overlap_50.csv')\n",
        "# # 0 for normal, 1 for abnormal\n",
        "df['curb_scene'].value_counts()\n",
        "df.head()"
      ]
    },
    {
      "cell_type": "code",
      "execution_count": 2,
      "metadata": {
        "id": "x1yKiG-4KLZ0"
      },
      "outputs": [],
      "source": [
        "# Suppose df is your DataFrame, and df['curb_scene'] is your label column\n",
        "train_data, test_data, train_labels, test_labels = train_test_split(df, df['curb_scene'],\n",
        "                                                                    test_size=0.2,\n",
        "                                                                    random_state=RANDOM_SEED)"
      ]
    },
    {
      "cell_type": "code",
      "execution_count": 3,
      "metadata": {
        "id": "65NJYMCIKLZ0"
      },
      "outputs": [
        {
          "data": {
            "text/plain": [
              "(7453, 100)"
            ]
          },
          "execution_count": 3,
          "metadata": {},
          "output_type": "execute_result"
        }
      ],
      "source": [
        "#scaling data, because neural network works better with scaled data\n",
        "scaler = StandardScaler()\n",
        "data_scaled = scaler.fit(train_data.iloc[:, 1:])\n",
        "#transform data\n",
        "train_data_scaled = scaler.transform(train_data.iloc[:, 1:])\n",
        "test_data_scaled = scaler.transform(test_data.iloc[:, 1:])\n",
        "train_data_scaled.shape\n"
      ]
    },
    {
      "cell_type": "code",
      "execution_count": 4,
      "metadata": {
        "id": "jPeLMJUXKLZ0"
      },
      "outputs": [
        {
          "data": {
            "text/html": [
              "<div>\n",
              "<style scoped>\n",
              "    .dataframe tbody tr th:only-of-type {\n",
              "        vertical-align: middle;\n",
              "    }\n",
              "\n",
              "    .dataframe tbody tr th {\n",
              "        vertical-align: top;\n",
              "    }\n",
              "\n",
              "    .dataframe thead th {\n",
              "        text-align: right;\n",
              "    }\n",
              "</style>\n",
              "<table border=\"1\" class=\"dataframe\">\n",
              "  <thead>\n",
              "    <tr style=\"text-align: right;\">\n",
              "      <th></th>\n",
              "      <th>Acc-Z_1</th>\n",
              "      <th>Acc-Z_2</th>\n",
              "      <th>Acc-Z_3</th>\n",
              "      <th>Acc-Z_4</th>\n",
              "      <th>Acc-Z_5</th>\n",
              "      <th>Acc-Z_6</th>\n",
              "      <th>Acc-Z_7</th>\n",
              "      <th>Acc-Z_8</th>\n",
              "      <th>Acc-Z_9</th>\n",
              "      <th>Acc-Z_10</th>\n",
              "      <th>...</th>\n",
              "      <th>Acc-Z_92</th>\n",
              "      <th>Acc-Z_93</th>\n",
              "      <th>Acc-Z_94</th>\n",
              "      <th>Acc-Z_95</th>\n",
              "      <th>Acc-Z_96</th>\n",
              "      <th>Acc-Z_97</th>\n",
              "      <th>Acc-Z_98</th>\n",
              "      <th>Acc-Z_99</th>\n",
              "      <th>Acc-Z_100</th>\n",
              "      <th>curb_scene</th>\n",
              "    </tr>\n",
              "  </thead>\n",
              "  <tbody>\n",
              "    <tr>\n",
              "      <th>0</th>\n",
              "      <td>0.099842</td>\n",
              "      <td>0.367573</td>\n",
              "      <td>-0.760735</td>\n",
              "      <td>-0.741110</td>\n",
              "      <td>-0.643996</td>\n",
              "      <td>1.478013</td>\n",
              "      <td>1.460586</td>\n",
              "      <td>0.377973</td>\n",
              "      <td>-1.298170</td>\n",
              "      <td>-2.613329</td>\n",
              "      <td>...</td>\n",
              "      <td>-0.582613</td>\n",
              "      <td>-1.255213</td>\n",
              "      <td>-0.701392</td>\n",
              "      <td>0.471675</td>\n",
              "      <td>0.901263</td>\n",
              "      <td>0.321502</td>\n",
              "      <td>-0.614684</td>\n",
              "      <td>0.125772</td>\n",
              "      <td>0.418495</td>\n",
              "      <td>0.0</td>\n",
              "    </tr>\n",
              "    <tr>\n",
              "      <th>1</th>\n",
              "      <td>0.287473</td>\n",
              "      <td>-0.438213</td>\n",
              "      <td>-0.262225</td>\n",
              "      <td>-0.632199</td>\n",
              "      <td>0.733360</td>\n",
              "      <td>0.425447</td>\n",
              "      <td>0.325230</td>\n",
              "      <td>0.411709</td>\n",
              "      <td>-0.423649</td>\n",
              "      <td>0.776224</td>\n",
              "      <td>...</td>\n",
              "      <td>-0.527615</td>\n",
              "      <td>0.937265</td>\n",
              "      <td>1.770801</td>\n",
              "      <td>1.560933</td>\n",
              "      <td>-0.131658</td>\n",
              "      <td>-1.879847</td>\n",
              "      <td>-1.206281</td>\n",
              "      <td>-0.206123</td>\n",
              "      <td>0.528233</td>\n",
              "      <td>0.0</td>\n",
              "    </tr>\n",
              "    <tr>\n",
              "      <th>2</th>\n",
              "      <td>-0.889006</td>\n",
              "      <td>-0.240796</td>\n",
              "      <td>0.149586</td>\n",
              "      <td>0.175351</td>\n",
              "      <td>-0.117633</td>\n",
              "      <td>-0.764769</td>\n",
              "      <td>-1.020560</td>\n",
              "      <td>-0.874950</td>\n",
              "      <td>-0.199176</td>\n",
              "      <td>0.381914</td>\n",
              "      <td>...</td>\n",
              "      <td>-0.216459</td>\n",
              "      <td>-0.520273</td>\n",
              "      <td>-0.635812</td>\n",
              "      <td>-0.342957</td>\n",
              "      <td>0.028676</td>\n",
              "      <td>1.100680</td>\n",
              "      <td>0.824921</td>\n",
              "      <td>-0.265390</td>\n",
              "      <td>-0.858003</td>\n",
              "      <td>0.0</td>\n",
              "    </tr>\n",
              "    <tr>\n",
              "      <th>3</th>\n",
              "      <td>1.466225</td>\n",
              "      <td>1.286168</td>\n",
              "      <td>-0.577708</td>\n",
              "      <td>-1.422806</td>\n",
              "      <td>-0.696546</td>\n",
              "      <td>0.911753</td>\n",
              "      <td>0.885006</td>\n",
              "      <td>-0.045683</td>\n",
              "      <td>-1.041988</td>\n",
              "      <td>-0.455054</td>\n",
              "      <td>...</td>\n",
              "      <td>-3.053017</td>\n",
              "      <td>1.231087</td>\n",
              "      <td>2.014817</td>\n",
              "      <td>-2.399102</td>\n",
              "      <td>-6.967440</td>\n",
              "      <td>-6.682476</td>\n",
              "      <td>-0.651555</td>\n",
              "      <td>0.426846</td>\n",
              "      <td>-4.315520</td>\n",
              "      <td>0.0</td>\n",
              "    </tr>\n",
              "    <tr>\n",
              "      <th>4</th>\n",
              "      <td>-0.690028</td>\n",
              "      <td>-0.464805</td>\n",
              "      <td>1.045457</td>\n",
              "      <td>0.830425</td>\n",
              "      <td>0.002728</td>\n",
              "      <td>-1.053255</td>\n",
              "      <td>-0.338514</td>\n",
              "      <td>0.800059</td>\n",
              "      <td>0.798846</td>\n",
              "      <td>0.158502</td>\n",
              "      <td>...</td>\n",
              "      <td>-0.794318</td>\n",
              "      <td>-1.508160</td>\n",
              "      <td>-1.290846</td>\n",
              "      <td>0.791125</td>\n",
              "      <td>2.443709</td>\n",
              "      <td>1.781598</td>\n",
              "      <td>-0.239281</td>\n",
              "      <td>-0.758489</td>\n",
              "      <td>-0.189899</td>\n",
              "      <td>0.0</td>\n",
              "    </tr>\n",
              "  </tbody>\n",
              "</table>\n",
              "<p>5 rows × 101 columns</p>\n",
              "</div>"
            ],
            "text/plain": [
              "    Acc-Z_1   Acc-Z_2   Acc-Z_3   Acc-Z_4   Acc-Z_5   Acc-Z_6   Acc-Z_7  \\\n",
              "0  0.099842  0.367573 -0.760735 -0.741110 -0.643996  1.478013  1.460586   \n",
              "1  0.287473 -0.438213 -0.262225 -0.632199  0.733360  0.425447  0.325230   \n",
              "2 -0.889006 -0.240796  0.149586  0.175351 -0.117633 -0.764769 -1.020560   \n",
              "3  1.466225  1.286168 -0.577708 -1.422806 -0.696546  0.911753  0.885006   \n",
              "4 -0.690028 -0.464805  1.045457  0.830425  0.002728 -1.053255 -0.338514   \n",
              "\n",
              "    Acc-Z_8   Acc-Z_9  Acc-Z_10  ...  Acc-Z_92  Acc-Z_93  Acc-Z_94  Acc-Z_95  \\\n",
              "0  0.377973 -1.298170 -2.613329  ... -0.582613 -1.255213 -0.701392  0.471675   \n",
              "1  0.411709 -0.423649  0.776224  ... -0.527615  0.937265  1.770801  1.560933   \n",
              "2 -0.874950 -0.199176  0.381914  ... -0.216459 -0.520273 -0.635812 -0.342957   \n",
              "3 -0.045683 -1.041988 -0.455054  ... -3.053017  1.231087  2.014817 -2.399102   \n",
              "4  0.800059  0.798846  0.158502  ... -0.794318 -1.508160 -1.290846  0.791125   \n",
              "\n",
              "   Acc-Z_96  Acc-Z_97  Acc-Z_98  Acc-Z_99  Acc-Z_100  curb_scene  \n",
              "0  0.901263  0.321502 -0.614684  0.125772   0.418495         0.0  \n",
              "1 -0.131658 -1.879847 -1.206281 -0.206123   0.528233         0.0  \n",
              "2  0.028676  1.100680  0.824921 -0.265390  -0.858003         0.0  \n",
              "3 -6.967440 -6.682476 -0.651555  0.426846  -4.315520         0.0  \n",
              "4  2.443709  1.781598 -0.239281 -0.758489  -0.189899         0.0  \n",
              "\n",
              "[5 rows x 101 columns]"
            ]
          },
          "execution_count": 4,
          "metadata": {},
          "output_type": "execute_result"
        }
      ],
      "source": [
        "# Convert the scaled data back to DataFrames for further processing\n",
        "train_data_scaled_df = pd.DataFrame(train_data_scaled, columns=train_data.columns[1:])\n",
        "test_data_scaled_df = pd.DataFrame(test_data_scaled, columns=test_data.columns[1:])\n",
        "# Add the 'curb_scene', 'start_time', and 'end_time' columns back to the scaled DataFrames\n",
        "train_data_scaled_df['curb_scene'] = train_data['curb_scene'].values\n",
        "test_data_scaled_df['curb_scene'] = test_data['curb_scene'].values\n",
        "train_data_scaled_df.head()"
      ]
    },
    {
      "cell_type": "code",
      "execution_count": 5,
      "metadata": {
        "colab": {
          "base_uri": "https://localhost:8080/"
        },
        "id": "GkXODwMqKLZ0",
        "outputId": "51a69ae6-a0b6-4a0d-8015-2b3961cdec25"
      },
      "outputs": [],
      "source": [
        "# Filter and slice the data\n",
        "normal_train_data_scaled = train_data_scaled_df[train_data_scaled_df['curb_scene'] == 0.0].iloc[:, :-1]\n",
        "abnormal_train_data_scaled = train_data_scaled_df[train_data_scaled_df['curb_scene'] == 1.0].iloc[:, :-1]\n",
        "normal_test_data_scaled = test_data_scaled_df[test_data_scaled_df['curb_scene'] == 0.0].iloc[:, :-1]\n",
        "abnormal_test_data_scaled = test_data_scaled_df[test_data_scaled_df['curb_scene'] == 1.0].iloc[:, :-1]"
      ]
    },
    {
      "cell_type": "code",
      "execution_count": 6,
      "metadata": {
        "id": "MDG05LdPKLZ0"
      },
      "outputs": [],
      "source": [
        "# Cast to float32\n",
        "normal_train_data_scaled = normal_train_data_scaled.astype(\"float32\")\n",
        "abnormal_train_data_scaled = abnormal_train_data_scaled.astype(\"float32\")\n",
        "normal_test_data_scaled = normal_test_data_scaled.astype(\"float32\")\n",
        "abnormal_test_data_scaled = abnormal_test_data_scaled.astype(\"float32\")"
      ]
    },
    {
      "cell_type": "code",
      "execution_count": 7,
      "metadata": {
        "colab": {
          "base_uri": "https://localhost:8080/"
        },
        "id": "O0bt0btyZuSK",
        "outputId": "959c1e88-6ec9-41ab-aabd-28b77e696069"
      },
      "outputs": [
        {
          "data": {
            "text/plain": [
              "((7178, 1, 100), (1796, 1, 100), (68, 1, 100))"
            ]
          },
          "execution_count": 7,
          "metadata": {},
          "output_type": "execute_result"
        }
      ],
      "source": [
        "# Reshape the data for LSTM input((samples, timesteps, features))\n",
        "normal_train_data_scaled_lstm = np.expand_dims(normal_train_data_scaled, axis=1)\n",
        "normal_test_data_scaled_lstm = np.expand_dims(normal_test_data_scaled, axis=1)\n",
        "abnormal_test_data_scaled_lstm = np.expand_dims(abnormal_test_data_scaled, axis=1)\n",
        "normal_train_data_scaled_lstm.shape, normal_test_data_scaled_lstm.shape, abnormal_test_data_scaled_lstm.shape"
      ]
    },
    {
      "cell_type": "code",
      "execution_count": 8,
      "metadata": {},
      "outputs": [
        {
          "name": "stdout",
          "output_type": "stream",
          "text": [
            "Requirement already satisfied: keras-tuner in c:\\users\\liuzi\\miniconda3\\lib\\site-packages (1.4.7)\n",
            "Requirement already satisfied: keras in c:\\users\\liuzi\\miniconda3\\lib\\site-packages (from keras-tuner) (3.8.0)\n",
            "Requirement already satisfied: packaging in c:\\users\\liuzi\\appdata\\roaming\\python\\python312\\site-packages (from keras-tuner) (24.2)\n",
            "Requirement already satisfied: requests in c:\\users\\liuzi\\appdata\\roaming\\python\\python312\\site-packages (from keras-tuner) (2.32.3)\n",
            "Requirement already satisfied: kt-legacy in c:\\users\\liuzi\\miniconda3\\lib\\site-packages (from keras-tuner) (1.0.5)\n",
            "Requirement already satisfied: absl-py in c:\\users\\liuzi\\miniconda3\\lib\\site-packages (from keras->keras-tuner) (2.1.0)\n",
            "Requirement already satisfied: numpy in c:\\users\\liuzi\\miniconda3\\lib\\site-packages (from keras->keras-tuner) (2.0.2)\n",
            "Requirement already satisfied: rich in c:\\users\\liuzi\\miniconda3\\lib\\site-packages (from keras->keras-tuner) (13.9.4)\n",
            "Requirement already satisfied: namex in c:\\users\\liuzi\\miniconda3\\lib\\site-packages (from keras->keras-tuner) (0.0.8)\n",
            "Requirement already satisfied: h5py in c:\\users\\liuzi\\miniconda3\\lib\\site-packages (from keras->keras-tuner) (3.12.1)\n",
            "Requirement already satisfied: optree in c:\\users\\liuzi\\miniconda3\\lib\\site-packages (from keras->keras-tuner) (0.14.0)\n",
            "Requirement already satisfied: ml-dtypes in c:\\users\\liuzi\\miniconda3\\lib\\site-packages (from keras->keras-tuner) (0.4.1)\n",
            "Requirement already satisfied: charset-normalizer<4,>=2 in c:\\users\\liuzi\\appdata\\roaming\\python\\python312\\site-packages (from requests->keras-tuner) (3.4.1)\n",
            "Requirement already satisfied: idna<4,>=2.5 in c:\\users\\liuzi\\appdata\\roaming\\python\\python312\\site-packages (from requests->keras-tuner) (3.10)\n",
            "Requirement already satisfied: urllib3<3,>=1.21.1 in c:\\users\\liuzi\\appdata\\roaming\\python\\python312\\site-packages (from requests->keras-tuner) (2.3.0)\n",
            "Requirement already satisfied: certifi>=2017.4.17 in c:\\users\\liuzi\\appdata\\roaming\\python\\python312\\site-packages (from requests->keras-tuner) (2024.12.14)\n",
            "Requirement already satisfied: typing-extensions>=4.5.0 in c:\\users\\liuzi\\miniconda3\\lib\\site-packages (from optree->keras->keras-tuner) (4.12.2)\n",
            "Requirement already satisfied: markdown-it-py>=2.2.0 in c:\\users\\liuzi\\miniconda3\\lib\\site-packages (from rich->keras->keras-tuner) (3.0.0)\n",
            "Requirement already satisfied: pygments<3.0.0,>=2.13.0 in c:\\users\\liuzi\\miniconda3\\lib\\site-packages (from rich->keras->keras-tuner) (2.19.1)\n",
            "Requirement already satisfied: mdurl~=0.1 in c:\\users\\liuzi\\miniconda3\\lib\\site-packages (from markdown-it-py>=2.2.0->rich->keras->keras-tuner) (0.1.2)\n"
          ]
        }
      ],
      "source": [
        "!pip install keras-tuner"
      ]
    },
    {
      "cell_type": "code",
      "execution_count": 10,
      "metadata": {
        "colab": {
          "base_uri": "https://localhost:8080/",
          "height": 340
        },
        "id": "jAws3-IRZuSK",
        "outputId": "6cb602bd-fc81-4ac0-f577-3d9a555a16f8"
      },
      "outputs": [
        {
          "data": {
            "text/html": [
              "<pre style=\"white-space:pre;overflow-x:auto;line-height:normal;font-family:Menlo,'DejaVu Sans Mono',consolas,'Courier New',monospace\"><span style=\"font-weight: bold\">Model: \"sequential_1\"</span>\n",
              "</pre>\n"
            ],
            "text/plain": [
              "\u001b[1mModel: \"sequential_1\"\u001b[0m\n"
            ]
          },
          "metadata": {},
          "output_type": "display_data"
        },
        {
          "data": {
            "text/html": [
              "<pre style=\"white-space:pre;overflow-x:auto;line-height:normal;font-family:Menlo,'DejaVu Sans Mono',consolas,'Courier New',monospace\">┏━━━━━━━━━━━━━━━━━━━━━━━━━━━━━━━━━┳━━━━━━━━━━━━━━━━━━━━━━━━┳━━━━━━━━━━━━━━━┓\n",
              "┃<span style=\"font-weight: bold\"> Layer (type)                    </span>┃<span style=\"font-weight: bold\"> Output Shape           </span>┃<span style=\"font-weight: bold\">       Param # </span>┃\n",
              "┡━━━━━━━━━━━━━━━━━━━━━━━━━━━━━━━━━╇━━━━━━━━━━━━━━━━━━━━━━━━╇━━━━━━━━━━━━━━━┩\n",
              "│ lstm_2 (<span style=\"color: #0087ff; text-decoration-color: #0087ff\">LSTM</span>)                   │ (<span style=\"color: #00d7ff; text-decoration-color: #00d7ff\">None</span>, <span style=\"color: #00af00; text-decoration-color: #00af00\">1</span>, <span style=\"color: #00af00; text-decoration-color: #00af00\">256</span>)         │       <span style=\"color: #00af00; text-decoration-color: #00af00\">365,568</span> │\n",
              "├─────────────────────────────────┼────────────────────────┼───────────────┤\n",
              "│ lstm_3 (<span style=\"color: #0087ff; text-decoration-color: #0087ff\">LSTM</span>)                   │ (<span style=\"color: #00d7ff; text-decoration-color: #00d7ff\">None</span>, <span style=\"color: #00af00; text-decoration-color: #00af00\">1</span>, <span style=\"color: #00af00; text-decoration-color: #00af00\">256</span>)         │       <span style=\"color: #00af00; text-decoration-color: #00af00\">525,312</span> │\n",
              "├─────────────────────────────────┼────────────────────────┼───────────────┤\n",
              "│ lstm_4 (<span style=\"color: #0087ff; text-decoration-color: #0087ff\">LSTM</span>)                   │ (<span style=\"color: #00d7ff; text-decoration-color: #00d7ff\">None</span>, <span style=\"color: #00af00; text-decoration-color: #00af00\">1</span>, <span style=\"color: #00af00; text-decoration-color: #00af00\">256</span>)         │       <span style=\"color: #00af00; text-decoration-color: #00af00\">525,312</span> │\n",
              "├─────────────────────────────────┼────────────────────────┼───────────────┤\n",
              "│ lstm_5 (<span style=\"color: #0087ff; text-decoration-color: #0087ff\">LSTM</span>)                   │ (<span style=\"color: #00d7ff; text-decoration-color: #00d7ff\">None</span>, <span style=\"color: #00af00; text-decoration-color: #00af00\">1</span>, <span style=\"color: #00af00; text-decoration-color: #00af00\">256</span>)         │       <span style=\"color: #00af00; text-decoration-color: #00af00\">525,312</span> │\n",
              "├─────────────────────────────────┼────────────────────────┼───────────────┤\n",
              "│ time_distributed                │ (<span style=\"color: #00d7ff; text-decoration-color: #00d7ff\">None</span>, <span style=\"color: #00af00; text-decoration-color: #00af00\">1</span>, <span style=\"color: #00af00; text-decoration-color: #00af00\">100</span>)         │        <span style=\"color: #00af00; text-decoration-color: #00af00\">25,700</span> │\n",
              "│ (<span style=\"color: #0087ff; text-decoration-color: #0087ff\">TimeDistributed</span>)               │                        │               │\n",
              "└─────────────────────────────────┴────────────────────────┴───────────────┘\n",
              "</pre>\n"
            ],
            "text/plain": [
              "┏━━━━━━━━━━━━━━━━━━━━━━━━━━━━━━━━━┳━━━━━━━━━━━━━━━━━━━━━━━━┳━━━━━━━━━━━━━━━┓\n",
              "┃\u001b[1m \u001b[0m\u001b[1mLayer (type)                   \u001b[0m\u001b[1m \u001b[0m┃\u001b[1m \u001b[0m\u001b[1mOutput Shape          \u001b[0m\u001b[1m \u001b[0m┃\u001b[1m \u001b[0m\u001b[1m      Param #\u001b[0m\u001b[1m \u001b[0m┃\n",
              "┡━━━━━━━━━━━━━━━━━━━━━━━━━━━━━━━━━╇━━━━━━━━━━━━━━━━━━━━━━━━╇━━━━━━━━━━━━━━━┩\n",
              "│ lstm_2 (\u001b[38;5;33mLSTM\u001b[0m)                   │ (\u001b[38;5;45mNone\u001b[0m, \u001b[38;5;34m1\u001b[0m, \u001b[38;5;34m256\u001b[0m)         │       \u001b[38;5;34m365,568\u001b[0m │\n",
              "├─────────────────────────────────┼────────────────────────┼───────────────┤\n",
              "│ lstm_3 (\u001b[38;5;33mLSTM\u001b[0m)                   │ (\u001b[38;5;45mNone\u001b[0m, \u001b[38;5;34m1\u001b[0m, \u001b[38;5;34m256\u001b[0m)         │       \u001b[38;5;34m525,312\u001b[0m │\n",
              "├─────────────────────────────────┼────────────────────────┼───────────────┤\n",
              "│ lstm_4 (\u001b[38;5;33mLSTM\u001b[0m)                   │ (\u001b[38;5;45mNone\u001b[0m, \u001b[38;5;34m1\u001b[0m, \u001b[38;5;34m256\u001b[0m)         │       \u001b[38;5;34m525,312\u001b[0m │\n",
              "├─────────────────────────────────┼────────────────────────┼───────────────┤\n",
              "│ lstm_5 (\u001b[38;5;33mLSTM\u001b[0m)                   │ (\u001b[38;5;45mNone\u001b[0m, \u001b[38;5;34m1\u001b[0m, \u001b[38;5;34m256\u001b[0m)         │       \u001b[38;5;34m525,312\u001b[0m │\n",
              "├─────────────────────────────────┼────────────────────────┼───────────────┤\n",
              "│ time_distributed                │ (\u001b[38;5;45mNone\u001b[0m, \u001b[38;5;34m1\u001b[0m, \u001b[38;5;34m100\u001b[0m)         │        \u001b[38;5;34m25,700\u001b[0m │\n",
              "│ (\u001b[38;5;33mTimeDistributed\u001b[0m)               │                        │               │\n",
              "└─────────────────────────────────┴────────────────────────┴───────────────┘\n"
            ]
          },
          "metadata": {},
          "output_type": "display_data"
        },
        {
          "data": {
            "text/html": [
              "<pre style=\"white-space:pre;overflow-x:auto;line-height:normal;font-family:Menlo,'DejaVu Sans Mono',consolas,'Courier New',monospace\"><span style=\"font-weight: bold\"> Total params: </span><span style=\"color: #00af00; text-decoration-color: #00af00\">1,967,204</span> (7.50 MB)\n",
              "</pre>\n"
            ],
            "text/plain": [
              "\u001b[1m Total params: \u001b[0m\u001b[38;5;34m1,967,204\u001b[0m (7.50 MB)\n"
            ]
          },
          "metadata": {},
          "output_type": "display_data"
        },
        {
          "data": {
            "text/html": [
              "<pre style=\"white-space:pre;overflow-x:auto;line-height:normal;font-family:Menlo,'DejaVu Sans Mono',consolas,'Courier New',monospace\"><span style=\"font-weight: bold\"> Trainable params: </span><span style=\"color: #00af00; text-decoration-color: #00af00\">1,967,204</span> (7.50 MB)\n",
              "</pre>\n"
            ],
            "text/plain": [
              "\u001b[1m Trainable params: \u001b[0m\u001b[38;5;34m1,967,204\u001b[0m (7.50 MB)\n"
            ]
          },
          "metadata": {},
          "output_type": "display_data"
        },
        {
          "data": {
            "text/html": [
              "<pre style=\"white-space:pre;overflow-x:auto;line-height:normal;font-family:Menlo,'DejaVu Sans Mono',consolas,'Courier New',monospace\"><span style=\"font-weight: bold\"> Non-trainable params: </span><span style=\"color: #00af00; text-decoration-color: #00af00\">0</span> (0.00 B)\n",
              "</pre>\n"
            ],
            "text/plain": [
              "\u001b[1m Non-trainable params: \u001b[0m\u001b[38;5;34m0\u001b[0m (0.00 B)\n"
            ]
          },
          "metadata": {},
          "output_type": "display_data"
        }
      ],
      "source": [
        "from keras.models import Sequential\n",
        "from keras.layers import LSTM, Input, Dropout\n",
        "from keras.layers import Dense\n",
        "from keras.layers import RepeatVector\n",
        "from keras.layers import TimeDistributed\n",
        "from keras.models import Model\n",
        "\n",
        "model = Sequential()\n",
        "# Encoder\n",
        "model.add(Input(shape=(normal_train_data_scaled_lstm.shape[1], normal_train_data_scaled_lstm.shape[2])))\n",
        "model.add(LSTM(256, activation='tanh', return_sequences=True))\n",
        "#not Overfitting\n",
        "model.add(LSTM(256, activation='tanh', return_sequences=True))\n",
        "\n",
        "#decoder\n",
        "model.add(LSTM(256, activation='tanh', return_sequences=True))\n",
        "model.add(LSTM(256, activation='tanh', return_sequences=True))\n",
        "model.add(TimeDistributed(Dense(normal_train_data_scaled_lstm.shape[2])))\n",
        "model.compile(optimizer='adam', loss='mae')\n",
        "model.summary()"
      ]
    },
    {
      "cell_type": "code",
      "execution_count": 11,
      "metadata": {},
      "outputs": [],
      "source": [
        "# define early stopping to prevent overfit\n",
        "early_stopping = keras.callbacks.EarlyStopping(monitor=\"val_loss\",\n",
        "                                               patience=10,\n",
        "                                               mode=\"min\",\n",
        "                                               verbose=1,\n",
        "                                               restore_best_weights=True)"
      ]
    },
    {
      "cell_type": "code",
      "execution_count": null,
      "metadata": {},
      "outputs": [],
      "source": [
        "# fit model\n",
        "history = model.fit(\n",
        "    normal_train_data_scaled_lstm, normal_train_data_scaled_lstm,\n",
        "    epochs=100,\n",
        "    batch_size=128,\n",
        "    validation_split=0.3,\n",
        "    callbacks=[early_stopping],\n",
        "    shuffle=False,\n",
        "    verbose=1)"
      ]
    },
    {
      "cell_type": "code",
      "execution_count": null,
      "metadata": {},
      "outputs": [],
      "source": [
        "plt.plot(history.history['loss'], label='Training loss')\n",
        "plt.plot(history.history['val_loss'], label='Validation loss')\n",
        "plt.legend()"
      ]
    },
    {
      "cell_type": "markdown",
      "metadata": {
        "id": "YmTo9WKUMIKy"
      },
      "source": []
    }
  ],
  "metadata": {
    "accelerator": "GPU",
    "colab": {
      "gpuType": "L4",
      "include_colab_link": true,
      "machine_shape": "hm",
      "provenance": []
    },
    "kernelspec": {
      "display_name": "Python 3",
      "name": "python3"
    },
    "language_info": {
      "codemirror_mode": {
        "name": "ipython",
        "version": 3
      },
      "file_extension": ".py",
      "mimetype": "text/x-python",
      "name": "python",
      "nbconvert_exporter": "python",
      "pygments_lexer": "ipython3",
      "version": "3.12.3"
    }
  },
  "nbformat": 4,
  "nbformat_minor": 0
}
