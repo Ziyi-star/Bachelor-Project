{
 "cells": [
  {
   "cell_type": "code",
   "execution_count": 2,
   "metadata": {},
   "outputs": [],
   "source": [
    "import pandas as pd #reading dataset\n",
    "import matplotlib as mpl    #plotting, visualization\n",
    "import matplotlib.pyplot as plt\n",
    "import tensorflow as tf #building model\n",
    "from tensorflow.keras.models import Model\n",
    "import numpy as np  #playing output with model\n",
    "from sklearn.model_selection import train_test_split    #model selection and scaling data\n",
    "from sklearn.preprocessing import StandardScaler\n",
    "from sklearn.metrics import confusion_matrix, classification_report\n",
    "\n",
    "import sys\n",
    "sys.path.append('../../../')   # Add parent directory to Python path\n",
    "from utils.Plots import *\n",
    "RANDOM_SEED = 42\n"
   ]
  },
  {
   "cell_type": "code",
   "execution_count": 3,
   "metadata": {},
   "outputs": [
    {
     "data": {
      "text/html": [
       "<div>\n",
       "<style scoped>\n",
       "    .dataframe tbody tr th:only-of-type {\n",
       "        vertical-align: middle;\n",
       "    }\n",
       "\n",
       "    .dataframe tbody tr th {\n",
       "        vertical-align: top;\n",
       "    }\n",
       "\n",
       "    .dataframe thead th {\n",
       "        text-align: right;\n",
       "    }\n",
       "</style>\n",
       "<table border=\"1\" class=\"dataframe\">\n",
       "  <thead>\n",
       "    <tr style=\"text-align: right;\">\n",
       "      <th></th>\n",
       "      <th>curb_height</th>\n",
       "      <th>Acc-Z_1</th>\n",
       "      <th>Acc-Z_2</th>\n",
       "      <th>Acc-Z_3</th>\n",
       "      <th>Acc-Z_4</th>\n",
       "      <th>Acc-Z_5</th>\n",
       "      <th>Acc-Z_6</th>\n",
       "      <th>Acc-Z_7</th>\n",
       "      <th>Acc-Z_8</th>\n",
       "      <th>Acc-Z_9</th>\n",
       "      <th>...</th>\n",
       "      <th>Acc-Z_91</th>\n",
       "      <th>Acc-Z_92</th>\n",
       "      <th>Acc-Z_93</th>\n",
       "      <th>Acc-Z_94</th>\n",
       "      <th>Acc-Z_95</th>\n",
       "      <th>Acc-Z_96</th>\n",
       "      <th>Acc-Z_97</th>\n",
       "      <th>Acc-Z_98</th>\n",
       "      <th>Acc-Z_99</th>\n",
       "      <th>Acc-Z_100</th>\n",
       "    </tr>\n",
       "  </thead>\n",
       "  <tbody>\n",
       "    <tr>\n",
       "      <th>0</th>\n",
       "      <td>0.0</td>\n",
       "      <td>8.762772</td>\n",
       "      <td>8.753204</td>\n",
       "      <td>8.762772</td>\n",
       "      <td>8.781937</td>\n",
       "      <td>8.753204</td>\n",
       "      <td>8.748413</td>\n",
       "      <td>8.738831</td>\n",
       "      <td>8.748413</td>\n",
       "      <td>8.743622</td>\n",
       "      <td>...</td>\n",
       "      <td>8.786728</td>\n",
       "      <td>8.801086</td>\n",
       "      <td>8.820236</td>\n",
       "      <td>8.786728</td>\n",
       "      <td>8.777145</td>\n",
       "      <td>8.772354</td>\n",
       "      <td>8.781937</td>\n",
       "      <td>8.801086</td>\n",
       "      <td>8.781937</td>\n",
       "      <td>8.753204</td>\n",
       "    </tr>\n",
       "    <tr>\n",
       "      <th>1</th>\n",
       "      <td>0.0</td>\n",
       "      <td>8.762772</td>\n",
       "      <td>8.762772</td>\n",
       "      <td>8.748413</td>\n",
       "      <td>8.767563</td>\n",
       "      <td>8.729263</td>\n",
       "      <td>8.695740</td>\n",
       "      <td>8.724472</td>\n",
       "      <td>8.767563</td>\n",
       "      <td>8.767563</td>\n",
       "      <td>...</td>\n",
       "      <td>8.753204</td>\n",
       "      <td>8.772354</td>\n",
       "      <td>8.786728</td>\n",
       "      <td>8.781937</td>\n",
       "      <td>8.786728</td>\n",
       "      <td>8.777145</td>\n",
       "      <td>8.738831</td>\n",
       "      <td>8.820236</td>\n",
       "      <td>8.738831</td>\n",
       "      <td>8.757996</td>\n",
       "    </tr>\n",
       "    <tr>\n",
       "      <th>2</th>\n",
       "      <td>0.0</td>\n",
       "      <td>8.781937</td>\n",
       "      <td>8.796295</td>\n",
       "      <td>8.772354</td>\n",
       "      <td>8.772354</td>\n",
       "      <td>8.772354</td>\n",
       "      <td>8.786728</td>\n",
       "      <td>8.781937</td>\n",
       "      <td>8.801086</td>\n",
       "      <td>8.767563</td>\n",
       "      <td>...</td>\n",
       "      <td>8.777145</td>\n",
       "      <td>8.753204</td>\n",
       "      <td>8.767563</td>\n",
       "      <td>8.762772</td>\n",
       "      <td>8.762772</td>\n",
       "      <td>8.753204</td>\n",
       "      <td>8.748413</td>\n",
       "      <td>8.762772</td>\n",
       "      <td>8.772354</td>\n",
       "      <td>8.767563</td>\n",
       "    </tr>\n",
       "    <tr>\n",
       "      <th>3</th>\n",
       "      <td>0.0</td>\n",
       "      <td>8.781937</td>\n",
       "      <td>8.753204</td>\n",
       "      <td>8.801086</td>\n",
       "      <td>8.753204</td>\n",
       "      <td>8.829819</td>\n",
       "      <td>8.753204</td>\n",
       "      <td>8.786728</td>\n",
       "      <td>8.815445</td>\n",
       "      <td>8.762772</td>\n",
       "      <td>...</td>\n",
       "      <td>8.805878</td>\n",
       "      <td>8.796295</td>\n",
       "      <td>8.781937</td>\n",
       "      <td>8.801086</td>\n",
       "      <td>8.810669</td>\n",
       "      <td>8.796295</td>\n",
       "      <td>8.805878</td>\n",
       "      <td>8.791504</td>\n",
       "      <td>8.791504</td>\n",
       "      <td>8.772354</td>\n",
       "    </tr>\n",
       "    <tr>\n",
       "      <th>4</th>\n",
       "      <td>0.0</td>\n",
       "      <td>8.757996</td>\n",
       "      <td>8.762772</td>\n",
       "      <td>8.777145</td>\n",
       "      <td>8.767563</td>\n",
       "      <td>8.786728</td>\n",
       "      <td>8.777145</td>\n",
       "      <td>8.753204</td>\n",
       "      <td>8.757996</td>\n",
       "      <td>8.777145</td>\n",
       "      <td>...</td>\n",
       "      <td>8.757996</td>\n",
       "      <td>8.757996</td>\n",
       "      <td>8.772354</td>\n",
       "      <td>8.767563</td>\n",
       "      <td>8.757996</td>\n",
       "      <td>8.743622</td>\n",
       "      <td>8.777145</td>\n",
       "      <td>8.743622</td>\n",
       "      <td>8.786728</td>\n",
       "      <td>8.796295</td>\n",
       "    </tr>\n",
       "    <tr>\n",
       "      <th>...</th>\n",
       "      <td>...</td>\n",
       "      <td>...</td>\n",
       "      <td>...</td>\n",
       "      <td>...</td>\n",
       "      <td>...</td>\n",
       "      <td>...</td>\n",
       "      <td>...</td>\n",
       "      <td>...</td>\n",
       "      <td>...</td>\n",
       "      <td>...</td>\n",
       "      <td>...</td>\n",
       "      <td>...</td>\n",
       "      <td>...</td>\n",
       "      <td>...</td>\n",
       "      <td>...</td>\n",
       "      <td>...</td>\n",
       "      <td>...</td>\n",
       "      <td>...</td>\n",
       "      <td>...</td>\n",
       "      <td>...</td>\n",
       "      <td>...</td>\n",
       "    </tr>\n",
       "    <tr>\n",
       "      <th>3723</th>\n",
       "      <td>3.0</td>\n",
       "      <td>17.290924</td>\n",
       "      <td>12.038040</td>\n",
       "      <td>19.139252</td>\n",
       "      <td>13.776230</td>\n",
       "      <td>14.676453</td>\n",
       "      <td>14.676453</td>\n",
       "      <td>7.584824</td>\n",
       "      <td>-7.819458</td>\n",
       "      <td>-16.127350</td>\n",
       "      <td>...</td>\n",
       "      <td>0.344772</td>\n",
       "      <td>2.432510</td>\n",
       "      <td>18.722656</td>\n",
       "      <td>16.965317</td>\n",
       "      <td>6.119583</td>\n",
       "      <td>2.796432</td>\n",
       "      <td>-2.858673</td>\n",
       "      <td>5.803543</td>\n",
       "      <td>11.769897</td>\n",
       "      <td>7.738068</td>\n",
       "    </tr>\n",
       "    <tr>\n",
       "      <th>3724</th>\n",
       "      <td>3.0</td>\n",
       "      <td>10.697296</td>\n",
       "      <td>15.682022</td>\n",
       "      <td>8.916000</td>\n",
       "      <td>3.371033</td>\n",
       "      <td>3.371033</td>\n",
       "      <td>-0.584183</td>\n",
       "      <td>12.555191</td>\n",
       "      <td>15.629349</td>\n",
       "      <td>11.851303</td>\n",
       "      <td>...</td>\n",
       "      <td>17.769760</td>\n",
       "      <td>16.610977</td>\n",
       "      <td>13.584702</td>\n",
       "      <td>10.773910</td>\n",
       "      <td>-0.019150</td>\n",
       "      <td>0.584183</td>\n",
       "      <td>-6.746857</td>\n",
       "      <td>-2.638412</td>\n",
       "      <td>9.390060</td>\n",
       "      <td>6.876144</td>\n",
       "    </tr>\n",
       "    <tr>\n",
       "      <th>3725</th>\n",
       "      <td>3.0</td>\n",
       "      <td>8.834610</td>\n",
       "      <td>6.995865</td>\n",
       "      <td>9.155426</td>\n",
       "      <td>15.145721</td>\n",
       "      <td>13.752289</td>\n",
       "      <td>1.455673</td>\n",
       "      <td>6.268021</td>\n",
       "      <td>19.474442</td>\n",
       "      <td>17.611755</td>\n",
       "      <td>...</td>\n",
       "      <td>2.758118</td>\n",
       "      <td>2.758118</td>\n",
       "      <td>3.347092</td>\n",
       "      <td>8.872910</td>\n",
       "      <td>8.350983</td>\n",
       "      <td>9.490616</td>\n",
       "      <td>-0.986404</td>\n",
       "      <td>6.153091</td>\n",
       "      <td>15.998062</td>\n",
       "      <td>23.324310</td>\n",
       "    </tr>\n",
       "    <tr>\n",
       "      <th>3726</th>\n",
       "      <td>3.0</td>\n",
       "      <td>15.078690</td>\n",
       "      <td>15.078690</td>\n",
       "      <td>7.762009</td>\n",
       "      <td>10.433929</td>\n",
       "      <td>11.362884</td>\n",
       "      <td>11.501739</td>\n",
       "      <td>11.501739</td>\n",
       "      <td>10.500977</td>\n",
       "      <td>-0.569824</td>\n",
       "      <td>...</td>\n",
       "      <td>-8.413223</td>\n",
       "      <td>-13.129807</td>\n",
       "      <td>5.305557</td>\n",
       "      <td>-2.557007</td>\n",
       "      <td>-21.064194</td>\n",
       "      <td>-25.613174</td>\n",
       "      <td>-10.055649</td>\n",
       "      <td>13.192047</td>\n",
       "      <td>29.079971</td>\n",
       "      <td>28.222855</td>\n",
       "    </tr>\n",
       "    <tr>\n",
       "      <th>3727</th>\n",
       "      <td>3.0</td>\n",
       "      <td>14.547165</td>\n",
       "      <td>12.928696</td>\n",
       "      <td>9.595963</td>\n",
       "      <td>10.505753</td>\n",
       "      <td>10.831375</td>\n",
       "      <td>6.464340</td>\n",
       "      <td>3.624817</td>\n",
       "      <td>6.660675</td>\n",
       "      <td>13.565552</td>\n",
       "      <td>...</td>\n",
       "      <td>25.335450</td>\n",
       "      <td>18.444931</td>\n",
       "      <td>6.464340</td>\n",
       "      <td>-11.549637</td>\n",
       "      <td>-23.142350</td>\n",
       "      <td>-7.795517</td>\n",
       "      <td>22.227768</td>\n",
       "      <td>39.446870</td>\n",
       "      <td>30.928299</td>\n",
       "      <td>7.326263</td>\n",
       "    </tr>\n",
       "  </tbody>\n",
       "</table>\n",
       "<p>3728 rows × 101 columns</p>\n",
       "</div>"
      ],
      "text/plain": [
       "      curb_height    Acc-Z_1    Acc-Z_2    Acc-Z_3    Acc-Z_4    Acc-Z_5  \\\n",
       "0             0.0   8.762772   8.753204   8.762772   8.781937   8.753204   \n",
       "1             0.0   8.762772   8.762772   8.748413   8.767563   8.729263   \n",
       "2             0.0   8.781937   8.796295   8.772354   8.772354   8.772354   \n",
       "3             0.0   8.781937   8.753204   8.801086   8.753204   8.829819   \n",
       "4             0.0   8.757996   8.762772   8.777145   8.767563   8.786728   \n",
       "...           ...        ...        ...        ...        ...        ...   \n",
       "3723          3.0  17.290924  12.038040  19.139252  13.776230  14.676453   \n",
       "3724          3.0  10.697296  15.682022   8.916000   3.371033   3.371033   \n",
       "3725          3.0   8.834610   6.995865   9.155426  15.145721  13.752289   \n",
       "3726          3.0  15.078690  15.078690   7.762009  10.433929  11.362884   \n",
       "3727          3.0  14.547165  12.928696   9.595963  10.505753  10.831375   \n",
       "\n",
       "        Acc-Z_6    Acc-Z_7    Acc-Z_8    Acc-Z_9  ...   Acc-Z_91   Acc-Z_92  \\\n",
       "0      8.748413   8.738831   8.748413   8.743622  ...   8.786728   8.801086   \n",
       "1      8.695740   8.724472   8.767563   8.767563  ...   8.753204   8.772354   \n",
       "2      8.786728   8.781937   8.801086   8.767563  ...   8.777145   8.753204   \n",
       "3      8.753204   8.786728   8.815445   8.762772  ...   8.805878   8.796295   \n",
       "4      8.777145   8.753204   8.757996   8.777145  ...   8.757996   8.757996   \n",
       "...         ...        ...        ...        ...  ...        ...        ...   \n",
       "3723  14.676453   7.584824  -7.819458 -16.127350  ...   0.344772   2.432510   \n",
       "3724  -0.584183  12.555191  15.629349  11.851303  ...  17.769760  16.610977   \n",
       "3725   1.455673   6.268021  19.474442  17.611755  ...   2.758118   2.758118   \n",
       "3726  11.501739  11.501739  10.500977  -0.569824  ...  -8.413223 -13.129807   \n",
       "3727   6.464340   3.624817   6.660675  13.565552  ...  25.335450  18.444931   \n",
       "\n",
       "       Acc-Z_93   Acc-Z_94   Acc-Z_95   Acc-Z_96   Acc-Z_97   Acc-Z_98  \\\n",
       "0      8.820236   8.786728   8.777145   8.772354   8.781937   8.801086   \n",
       "1      8.786728   8.781937   8.786728   8.777145   8.738831   8.820236   \n",
       "2      8.767563   8.762772   8.762772   8.753204   8.748413   8.762772   \n",
       "3      8.781937   8.801086   8.810669   8.796295   8.805878   8.791504   \n",
       "4      8.772354   8.767563   8.757996   8.743622   8.777145   8.743622   \n",
       "...         ...        ...        ...        ...        ...        ...   \n",
       "3723  18.722656  16.965317   6.119583   2.796432  -2.858673   5.803543   \n",
       "3724  13.584702  10.773910  -0.019150   0.584183  -6.746857  -2.638412   \n",
       "3725   3.347092   8.872910   8.350983   9.490616  -0.986404   6.153091   \n",
       "3726   5.305557  -2.557007 -21.064194 -25.613174 -10.055649  13.192047   \n",
       "3727   6.464340 -11.549637 -23.142350  -7.795517  22.227768  39.446870   \n",
       "\n",
       "       Acc-Z_99  Acc-Z_100  \n",
       "0      8.781937   8.753204  \n",
       "1      8.738831   8.757996  \n",
       "2      8.772354   8.767563  \n",
       "3      8.791504   8.772354  \n",
       "4      8.786728   8.796295  \n",
       "...         ...        ...  \n",
       "3723  11.769897   7.738068  \n",
       "3724   9.390060   6.876144  \n",
       "3725  15.998062  23.324310  \n",
       "3726  29.079971  28.222855  \n",
       "3727  30.928299   7.326263  \n",
       "\n",
       "[3728 rows x 101 columns]"
      ]
     },
     "execution_count": 3,
     "metadata": {},
     "output_type": "execute_result"
    }
   ],
   "source": [
    "df = pd.read_csv('../../../data/handlebar/Accelerometer_data_combined_segmented_curb_height_overlap_50.csv') \n",
    "#df.drop('Unnamed: 0', axis=1, inplace=True)\n",
    "df\n"
   ]
  },
  {
   "cell_type": "code",
   "execution_count": 4,
   "metadata": {},
   "outputs": [],
   "source": [
    "#scaling data, because neural network works better with scaled data\n",
    "scaler = StandardScaler()\n",
    "data_scaled = scaler.fit_transform(df.iloc[:, 1:])"
   ]
  },
  {
   "cell_type": "code",
   "execution_count": 5,
   "metadata": {},
   "outputs": [
    {
     "data": {
      "text/plain": [
       "(3728, 101)"
      ]
     },
     "execution_count": 5,
     "metadata": {},
     "output_type": "execute_result"
    }
   ],
   "source": [
    "# Convert the scaled data back to DataFrames for further processing\n",
    "train_data_scaled_df = pd.DataFrame(data_scaled, columns=df.iloc[:, 1:].columns)\n",
    "# Add the curb_height column back\n",
    "train_data_scaled_df['curb_height'] = df['curb_height']\n",
    "train_data_scaled_df.shape"
   ]
  },
  {
   "cell_type": "code",
   "execution_count": 6,
   "metadata": {},
   "outputs": [],
   "source": [
    "# Filter and slice the data\n",
    "normal_train_data_scaled = train_data_scaled_df[train_data_scaled_df['curb_height'] == 0.0].iloc[:, :-1]\n",
    "abnormal_train_data_scaled_one = train_data_scaled_df[train_data_scaled_df['curb_height'] == 1.0].iloc[:, :-1]\n",
    "abnormal_train_data_scaled_two = train_data_scaled_df[train_data_scaled_df['curb_height'] == 2.0].iloc[:, :-1]\n",
    "abnormal_train_data_scaled_three = train_data_scaled_df[train_data_scaled_df['curb_height'] == 3.0].iloc[:, :-1]"
   ]
  },
  {
   "cell_type": "code",
   "execution_count": 7,
   "metadata": {},
   "outputs": [],
   "source": [
    "# Cast to float32\n",
    "normal_train_data_scaled = normal_train_data_scaled.astype(\"float32\")\n",
    "abnormal_train_data_scaled_one = abnormal_train_data_scaled_one.astype(\"float32\")\n",
    "abnormal_train_data_scaled_two = abnormal_train_data_scaled_two.astype(\"float32\")\n",
    "abnormal_train_data_scaled_three = abnormal_train_data_scaled_three.astype(\"float32\")"
   ]
  },
  {
   "cell_type": "code",
   "execution_count": 8,
   "metadata": {},
   "outputs": [],
   "source": [
    "load_model = tf.keras.models.load_model('../../../models/autoencoder_best.keras')"
   ]
  },
  {
   "cell_type": "code",
   "execution_count": 9,
   "metadata": {},
   "outputs": [
    {
     "name": "stdout",
     "output_type": "stream",
     "text": [
      "\u001b[1m111/111\u001b[0m \u001b[32m━━━━━━━━━━━━━━━━━━━━\u001b[0m\u001b[37m\u001b[0m \u001b[1m0s\u001b[0m 2ms/step\n"
     ]
    },
    {
     "data": {
      "image/png": "[encoded data removed]",
      "text/plain": [
       "<Figure size 640x480 with 1 Axes>"
      ]
     },
     "metadata": {},
     "output_type": "display_data"
    }
   ],
   "source": [
    "#Plot the reconstruction error on normal data from the training set\n",
    "reconstructions_normal = load_model.predict(normal_train_data_scaled)\n",
    "train_loss_normal = tf.keras.losses.mae(reconstructions_normal, normal_train_data_scaled)\n",
    "\n",
    "plt.hist(train_loss_normal[None,:], bins=50)\n",
    "plt.xlabel(\"Train loss of normal data\")\n",
    "plt.ylabel(\"No of examples\")\n",
    "plt.show()"
   ]
  },
  {
   "cell_type": "code",
   "execution_count": 10,
   "metadata": {},
   "outputs": [
    {
     "name": "stdout",
     "output_type": "stream",
     "text": [
      "\u001b[1m2/2\u001b[0m \u001b[32m━━━━━━━━━━━━━━━━━━━━\u001b[0m\u001b[37m\u001b[0m \u001b[1m0s\u001b[0m 24ms/step\n"
     ]
    },
    {
     "data": {
      "image/png": "[encoded data removed]",
      "text/plain": [
       "<Figure size 640x480 with 1 Axes>"
      ]
     },
     "metadata": {},
     "output_type": "display_data"
    }
   ],
   "source": [
    "#Plot the reconstruction error on abnormal data from the training set\n",
    "reconstructions_abnormal_one = load_model.predict(abnormal_train_data_scaled_one)\n",
    "train_loss_abnormal_one = tf.keras.losses.mae(reconstructions_abnormal_one, abnormal_train_data_scaled_one)\n",
    "\n",
    "plt.hist(train_loss_abnormal_one[None,:], bins=50)\n",
    "plt.xlabel(\"Train loss\")\n",
    "plt.ylabel(\"No of examples\")\n",
    "plt.show()"
   ]
  },
  {
   "cell_type": "code",
   "execution_count": 11,
   "metadata": {},
   "outputs": [
    {
     "name": "stdout",
     "output_type": "stream",
     "text": [
      "\u001b[1m2/2\u001b[0m \u001b[32m━━━━━━━━━━━━━━━━━━━━\u001b[0m\u001b[37m\u001b[0m \u001b[1m0s\u001b[0m 21ms/step\n"
     ]
    },
    {
     "data": {
      "image/png": "[encoded data removed]",
      "text/plain": [
       "<Figure size 640x480 with 1 Axes>"
      ]
     },
     "metadata": {},
     "output_type": "display_data"
    }
   ],
   "source": [
    "#Plot the reconstruction error on abnormal data from the training set\n",
    "reconstructions_abnormal_two = load_model.predict(abnormal_train_data_scaled_two)\n",
    "train_loss_abnormal_two = tf.keras.losses.mae(reconstructions_abnormal_two, abnormal_train_data_scaled_two)\n",
    "\n",
    "plt.hist(train_loss_abnormal_two[None,:], bins=50)\n",
    "plt.xlabel(\"Train loss\")\n",
    "plt.ylabel(\"No of examples\")\n",
    "plt.show()"
   ]
  },
  {
   "cell_type": "code",
   "execution_count": 12,
   "metadata": {},
   "outputs": [
    {
     "name": "stdout",
     "output_type": "stream",
     "text": [
      "\u001b[1m4/4\u001b[0m \u001b[32m━━━━━━━━━━━━━━━━━━━━\u001b[0m\u001b[37m\u001b[0m \u001b[1m0s\u001b[0m 7ms/step \n"
     ]
    },
    {
     "data": {
      "image/png": "[encoded data removed]",
      "text/plain": [
       "<Figure size 640x480 with 1 Axes>"
      ]
     },
     "metadata": {},
     "output_type": "display_data"
    }
   ],
   "source": [
    "#Plot the reconstruction error on abnormal data from the training set\n",
    "reconstructions_abnormal_three = load_model.predict(abnormal_train_data_scaled_three)\n",
    "train_loss_abnormal_three = tf.keras.losses.mae(reconstructions_abnormal_three, abnormal_train_data_scaled_three)\n",
    "\n",
    "plt.hist(train_loss_abnormal_three[None,:], bins=50)\n",
    "plt.xlabel(\"Train loss\")\n",
    "plt.ylabel(\"No of examples\")\n",
    "plt.show()"
   ]
  },
  {
   "cell_type": "code",
   "execution_count": 14,
   "metadata": {},
   "outputs": [
    {
     "data": {
      "image/png": "[encoded data removed]",
      "text/plain": [
       "<Figure size 1200x600 with 1 Axes>"
      ]
     },
     "metadata": {},
     "output_type": "display_data"
    }
   ],
   "source": [
    "# Create figure with specified size\n",
    "plt.figure(figsize=(12, 6))\n",
    "\n",
    "# Plot histograms for each type of data\n",
    "plt.hist(train_loss_normal[None,:], bins=50, alpha=0.5, label='Normal (0cm)', color='blue')\n",
    "plt.hist(train_loss_abnormal_one[None,:], bins=50, alpha=0.5, label='Abnormal (1cm)', color='red')\n",
    "plt.hist(train_loss_abnormal_two[None,:], bins=50, alpha=0.5, label='Abnormal (2cm)', color='green')\n",
    "plt.hist(train_loss_abnormal_three[None,:], bins=50, alpha=0.5, label='Abnormal (3cm)', color='orange')\n",
    "\n",
    "# Customize the plot\n",
    "plt.xlabel('Reconstruction Loss (MAE)', fontsize=12)\n",
    "plt.ylabel('Number of Examples', fontsize=12)\n",
    "plt.ylim(0, 60)\n",
    "plt.grid(True, linestyle='--', alpha=0.7)\n",
    "plt.legend(fontsize=10)\n",
    "\n",
    "# Make axis labels more readable\n",
    "plt.xticks(fontsize=10)\n",
    "plt.yticks(fontsize=10)\n",
    "\n",
    "# Adjust layout to prevent label cutoff\n",
    "plt.tight_layout()\n",
    "\n",
    "plt.show()"
   ]
  },
  {
   "cell_type": "markdown",
   "metadata": {},
   "source": []
  },
  {
   "cell_type": "code",
   "execution_count": null,
   "metadata": {},
   "outputs": [],
   "source": []
  }
 ],
 "metadata": {
  "kernelspec": {
   "display_name": "Python 3",
   "language": "python",
   "name": "python3"
  },
  "language_info": {
   "codemirror_mode": {
    "name": "ipython",
    "version": 3
   },
   "file_extension": ".py",
   "mimetype": "text/x-python",
   "name": "python",
   "nbconvert_exporter": "python",
   "pygments_lexer": "ipython3",
   "version": "3.12.3"
  }
 },
 "nbformat": 4,
 "nbformat_minor": 2
}
