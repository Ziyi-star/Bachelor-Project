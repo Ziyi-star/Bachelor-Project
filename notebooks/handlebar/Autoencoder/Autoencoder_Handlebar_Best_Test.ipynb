{
 "cells": [
  {
   "cell_type": "code",
   "execution_count": 19,
   "metadata": {},
   "outputs": [],
   "source": [
    "import pandas as pd #reading dataset\n",
    "import matplotlib as mpl    #plotting, visualization\n",
    "import matplotlib.pyplot as plt\n",
    "import tensorflow as tf #building model\n",
    "from tensorflow.keras.models import Model\n",
    "import numpy as np  #playing output with model\n",
    "from sklearn.preprocessing import StandardScaler\n",
    "from sklearn.metrics import confusion_matrix, classification_report\n",
    "import json\n",
    "\n",
    "import sys\n",
    "sys.path.append('../../../')   # Add parent directory to Python path\n",
    "from utils.Plots import *\n"
   ]
  },
  {
   "cell_type": "code",
   "execution_count": 20,
   "metadata": {},
   "outputs": [
    {
     "data": {
      "text/plain": [
       "(1864, 101)"
      ]
     },
     "execution_count": 20,
     "metadata": {},
     "output_type": "execute_result"
    }
   ],
   "source": [
    "df = pd.read_csv('../../../data/handlebar/test_data.csv') \n",
    "#df.drop('Unnamed: 0', axis=1, inplace=True)\n",
    "df.shape\n"
   ]
  },
  {
   "cell_type": "code",
   "execution_count": 21,
   "metadata": {},
   "outputs": [],
   "source": [
    "#scaling data, because neural network works better with scaled data\n",
    "scaler = StandardScaler()\n",
    "test_data_scaled = scaler.fit_transform(df.iloc[:, 1:])\n"
   ]
  },
  {
   "cell_type": "code",
   "execution_count": 22,
   "metadata": {},
   "outputs": [
    {
     "data": {
      "text/plain": [
       "(1864, 101)"
      ]
     },
     "execution_count": 22,
     "metadata": {},
     "output_type": "execute_result"
    }
   ],
   "source": [
    "# Convert the scaled data back to DataFrames for further processing\n",
    "test_data_scaled_df = pd.DataFrame(test_data_scaled, columns=df.columns[1:])\n",
    "test_data_scaled_df['curb_scene'] = df['curb_scene'].values  # Use original DataFrame's curb_scene values\n",
    "test_data_scaled_df.shape"
   ]
  },
  {
   "cell_type": "code",
   "execution_count": 23,
   "metadata": {},
   "outputs": [
    {
     "data": {
      "text/plain": [
       "((1796, 100), (68, 100))"
      ]
     },
     "execution_count": 23,
     "metadata": {},
     "output_type": "execute_result"
    }
   ],
   "source": [
    "# Filter and slice the data\n",
    "normal_test_data_scaled = test_data_scaled_df[test_data_scaled_df['curb_scene'] == 0.0].iloc[:, :-1]\n",
    "abnormal_test_data_scaled = test_data_scaled_df[test_data_scaled_df['curb_scene'] == 1.0].iloc[:, :-1]\n",
    "normal_test_data_scaled.shape, abnormal_test_data_scaled.shape"
   ]
  },
  {
   "cell_type": "code",
   "execution_count": 24,
   "metadata": {},
   "outputs": [
    {
     "data": {
      "text/plain": [
       "((1796, 100), (68, 100))"
      ]
     },
     "execution_count": 24,
     "metadata": {},
     "output_type": "execute_result"
    }
   ],
   "source": [
    "# Cast to float32\n",
    "normal_test_data_scaled = normal_test_data_scaled.astype(\"float32\")\n",
    "abnormal_test_data_scaled = abnormal_test_data_scaled.astype(\"float32\")\n",
    "normal_test_data_scaled.shape, abnormal_test_data_scaled.shape"
   ]
  },
  {
   "cell_type": "code",
   "execution_count": 25,
   "metadata": {},
   "outputs": [],
   "source": [
    "load_model = tf.keras.models.load_model('../../../models/autoencoder_best.keras')"
   ]
  },
  {
   "cell_type": "markdown",
   "metadata": {},
   "source": []
  },
  {
   "cell_type": "code",
   "execution_count": 26,
   "metadata": {},
   "outputs": [
    {
     "name": "stdout",
     "output_type": "stream",
     "text": [
      "Saved thresholds: {'low_threshold': 0.39, 'middle_threshold': 0.81, 'high_threshold': 1.27}\n"
     ]
    }
   ],
   "source": [
    "# Verify the saved data\n",
    "with open('../../../models/autoencoder_thresholds.json', 'r') as f:\n",
    "    loaded_thresholds = json.load(f)\n",
    "print(\"Saved thresholds:\", loaded_thresholds)"
   ]
  },
  {
   "cell_type": "code",
   "execution_count": 27,
   "metadata": {},
   "outputs": [
    {
     "name": "stdout",
     "output_type": "stream",
     "text": [
      "\u001b[1m57/57\u001b[0m \u001b[32m━━━━━━━━━━━━━━━━━━━━\u001b[0m\u001b[37m\u001b[0m \u001b[1m0s\u001b[0m 4ms/step\n",
      "\u001b[1m3/3\u001b[0m \u001b[32m━━━━━━━━━━━━━━━━━━━━\u001b[0m\u001b[37m\u001b[0m \u001b[1m0s\u001b[0m 24ms/step\n"
     ]
    }
   ],
   "source": [
    "# Get reconstruction errors for test data\n",
    "reconstructions_normal_test = load_model.predict(normal_test_data_scaled)\n",
    "reconstructions_abnormal_test = load_model.predict(abnormal_test_data_scaled)\n",
    "# Calculate MAE losses\n",
    "test_loss_normal = tf.keras.losses.mae(reconstructions_normal_test, normal_test_data_scaled)\n",
    "test_loss_abnormal = tf.keras.losses.mae(reconstructions_abnormal_test, abnormal_test_data_scaled)"
   ]
  },
  {
   "cell_type": "code",
   "execution_count": 28,
   "metadata": {},
   "outputs": [
    {
     "data": {
      "text/plain": [
       "<tf.Tensor: shape=(), dtype=float32, numpy=0.3907053470611572>"
      ]
     },
     "execution_count": 28,
     "metadata": {},
     "output_type": "execute_result"
    }
   ],
   "source": [
    "min_test_loss = min(test_loss_abnormal)\n",
    "min_test_loss"
   ]
  },
  {
   "cell_type": "code",
   "execution_count": 35,
   "metadata": {},
   "outputs": [],
   "source": [
    "# Function to create and display confusion matrix\n",
    "def plot_confusion_matrix(y_true, y_pred, title):\n",
    "    cm = confusion_matrix(y_true, y_pred)\n",
    "    \n",
    "    plt.imshow(cm, interpolation='nearest', cmap=plt.cm.Blues)\n",
    "    plt.colorbar()\n",
    "    \n",
    "    # Add labels with binary classes\n",
    "    labels = ['0', '1']\n",
    "    plt.xticks([0, 1], labels)\n",
    "    plt.yticks([0, 1], labels)\n",
    "    plt.ylabel('True Label')\n",
    "    plt.xlabel('Predicted Label')\n",
    "    \n",
    "    # Add numbers to cells\n",
    "    thresh = cm.max() / 2.\n",
    "    for i in range(2):\n",
    "        for j in range(2):\n",
    "            plt.text(j, i, format(cm[i, j], 'd'),\n",
    "                    ha=\"center\", va=\"center\",\n",
    "                    color=\"white\" if cm[i, j] > thresh else \"black\")\n",
    "    \n",
    "    plt.tight_layout()\n",
    "    plt.show()\n",
    "    \n",
    "    # Print classification report with binary labels\n",
    "    print(\"\\nClassification Report:\")\n",
    "    print(classification_report(y_true, y_pred, \n",
    "                              target_names=['Normal (0)', 'Abnormal (1)'],\n",
    "                              digits=3))  # Limit decimal places to 3"
   ]
  },
  {
   "cell_type": "code",
   "execution_count": 36,
   "metadata": {},
   "outputs": [],
   "source": [
    "# Combine test losses and create true labels\n",
    "all_test_losses = np.concatenate([test_loss_normal.numpy(), test_loss_abnormal.numpy()])\n",
    "true_labels = np.concatenate([np.zeros(len(test_loss_normal)), np.ones(len(test_loss_abnormal))])"
   ]
  },
  {
   "cell_type": "code",
   "execution_count": 37,
   "metadata": {},
   "outputs": [
    {
     "name": "stdout",
     "output_type": "stream",
     "text": [
      "\n",
      "=== Results for low_threshold (0.3900) ===\n"
     ]
    },
    {
     "data": {
      "image/png": "[encoded data removed]",
      "text/plain": [
       "<Figure size 640x480 with 2 Axes>"
      ]
     },
     "metadata": {},
     "output_type": "display_data"
    },
    {
     "name": "stdout",
     "output_type": "stream",
     "text": [
      "\n",
      "Classification Report:\n",
      "              precision    recall  f1-score   support\n",
      "\n",
      "  Normal (0)      1.000     0.939     0.969      1796\n",
      "Abnormal (1)      0.384     1.000     0.555        68\n",
      "\n",
      "    accuracy                          0.942      1864\n",
      "   macro avg      0.692     0.970     0.762      1864\n",
      "weighted avg      0.978     0.942     0.954      1864\n",
      "\n",
      "\n",
      "=== Results for middle_threshold (0.8100) ===\n"
     ]
    },
    {
     "data": {
      "image/png": "[encoded data removed]",
      "text/plain": [
       "<Figure size 640x480 with 2 Axes>"
      ]
     },
     "metadata": {},
     "output_type": "display_data"
    },
    {
     "name": "stdout",
     "output_type": "stream",
     "text": [
      "\n",
      "Classification Report:\n",
      "              precision    recall  f1-score   support\n",
      "\n",
      "  Normal (0)      0.998     0.997     0.997      1796\n",
      "Abnormal (1)      0.915     0.956     0.935        68\n",
      "\n",
      "    accuracy                          0.995      1864\n",
      "   macro avg      0.957     0.976     0.966      1864\n",
      "weighted avg      0.995     0.995     0.995      1864\n",
      "\n",
      "\n",
      "=== Results for high_threshold (1.2700) ===\n"
     ]
    },
    {
     "data": {
      "image/png": "[encoded data removed]",
      "text/plain": [
       "<Figure size 640x480 with 2 Axes>"
      ]
     },
     "metadata": {},
     "output_type": "display_data"
    },
    {
     "name": "stdout",
     "output_type": "stream",
     "text": [
      "\n",
      "Classification Report:\n",
      "              precision    recall  f1-score   support\n",
      "\n",
      "  Normal (0)      0.995     1.000     0.998      1796\n",
      "Abnormal (1)      1.000     0.868     0.929        68\n",
      "\n",
      "    accuracy                          0.995      1864\n",
      "   macro avg      0.998     0.934     0.963      1864\n",
      "weighted avg      0.995     0.995     0.995      1864\n",
      "\n"
     ]
    }
   ],
   "source": [
    "# Make predictions using each threshold\n",
    "for threshold_name, threshold_value in loaded_thresholds.items():\n",
    "    print(f\"\\n=== Results for {threshold_name} ({threshold_value:.4f}) ===\")\n",
    "    predictions = (all_test_losses > threshold_value).astype(int)\n",
    "    plot_confusion_matrix(true_labels, predictions, f'Confusion Matrix - {threshold_name}')"
   ]
  },
  {
   "cell_type": "code",
   "execution_count": null,
   "metadata": {},
   "outputs": [],
   "source": []
  }
 ],
 "metadata": {
  "kernelspec": {
   "display_name": "Python 3",
   "language": "python",
   "name": "python3"
  },
  "language_info": {
   "codemirror_mode": {
    "name": "ipython",
    "version": 3
   },
   "file_extension": ".py",
   "mimetype": "text/x-python",
   "name": "python",
   "nbconvert_exporter": "python",
   "pygments_lexer": "ipython3",
   "version": "3.12.3"
  }
 },
 "nbformat": 4,
 "nbformat_minor": 2
}
