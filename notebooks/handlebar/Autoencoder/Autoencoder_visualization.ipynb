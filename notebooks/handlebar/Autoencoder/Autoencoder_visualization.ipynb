{
 "cells": [
  {
   "cell_type": "markdown",
   "id": "8a63d45a",
   "metadata": {},
   "source": [
    "# Autoencoder Architecture Visualization\n",
    "\n",
    "This notebook provides various approaches to visualize the architecture of an autoencoder model, helping to better understand the model structure, data flow, and layer relationships."
   ]
  },
  {
   "cell_type": "code",
   "execution_count": 2,
   "id": "ee7fdb0a",
   "metadata": {},
   "outputs": [],
   "source": [
    "# Import Required Libraries\n",
    "import tensorflow as tf\n",
    "import matplotlib.pyplot as plt\n",
    "import numpy as np\n",
    "import pandas as pd\n",
    "from tensorflow.keras.models import Model\n",
    "from tensorflow.keras.layers import Input, Dense\n",
    "from IPython.display import Image, display\n",
    "import matplotlib.patches as patches"
   ]
  },
  {
   "cell_type": "code",
   "execution_count": 3,
   "id": "a04f76a8",
   "metadata": {},
   "outputs": [],
   "source": [
    "# Install visualization libraries if needed\n",
    "# Uncomment the following if you need to install these packages\n",
    "# !pip install pydot\n",
    "# !pip install graphviz"
   ]
  },
  {
   "cell_type": "code",
   "execution_count": null,
   "id": "fe3ca19b",
   "metadata": {},
   "outputs": [],
   "source": [
    "def create_detailed_architecture(figsize=(12, 8)):\n",
    "    \"\"\"Create a detailed visualization of the autoencoder architecture\"\"\"\n",
    "    fig, ax = plt.subplots(figsize=figsize)\n",
    "    \n",
    "    # Define layer dimensions\n",
    "    layers = [\n",
    "        {\"name\": \"Input\", \"neurons\": 100},\n",
    "        {\"name\": \"Encoder-1\", \"neurons\": 256},\n",
    "        {\"name\": \"Encoder-2\", \"neurons\": 224},\n",
    "        {\"name\": \"Bottleneck\", \"neurons\": 160},\n",
    "        {\"name\": \"Decoder-1\", \"neurons\": 224},\n",
    "        {\"name\": \"Decoder-2\", \"neurons\": 256},\n",
    "        {\"name\": \"Output\", \"neurons\": 100}\n",
    "    ]\n",
    "    \n",
    "    # Calculate positions\n",
    "    horizontal_spacing = 1.5\n",
    "    max_neurons = max([layer[\"neurons\"] for layer in layers])\n",
    "    neuron_spacing = 0.8 / max_neurons\n",
    "    \n",
    "    # Draw layers\n",
    "    for i, layer in enumerate(layers):\n",
    "        x_pos = i * horizontal_spacing\n",
    "        num_neurons = layer[\"neurons\"]\n",
    "        \n",
    "        # Scale the height of the box based on the number of neurons\n",
    "        height = num_neurons * neuron_spacing\n",
    "        # Center the box vertically\n",
    "        y_pos = (0.8 - height) / 2\n",
    "        \n",
    "        # Draw the layer box\n",
    "        color = 'skyblue'\n",
    "        if layer[\"name\"] == \"Bottleneck\":\n",
    "            color = 'tomato'\n",
    "        elif \"Encoder\" in layer[\"name\"]:\n",
    "            color = 'lightgreen'\n",
    "        elif \"Decoder\" in layer[\"name\"]:\n",
    "            color = 'lightsalmon'\n",
    "            \n",
    "        rect = patches.Rectangle((x_pos, y_pos), 0.8, height, linewidth=1, \n",
    "                                edgecolor='black', facecolor=color, alpha=0.7)\n",
    "        ax.add_patch(rect)\n",
    "        \n",
    "        # Add layer name and neuron count\n",
    "        plt.text(x_pos + 0.4, 0.9, f\"{layer['name']}\\n({layer['neurons']} units)\", \n",
    "                ha='center', va='center', fontsize=10, fontweight='bold')\n",
    "        \n",
    "        # Draw connections to the next layer\n",
    "        if i < len(layers) - 1:\n",
    "            next_layer = layers[i + 1]\n",
    "            next_height = next_layer[\"neurons\"] * neuron_spacing\n",
    "            next_y_pos = (0.8 - next_height) / 2\n",
    "            \n",
    "            # Draw connections (simplified)\n",
    "            plt.plot([x_pos + 0.8, (i+1) * horizontal_spacing], \n",
    "                    [y_pos + height/2, next_y_pos + next_height/2], \n",
    "                    'k-', alpha=0.3)\n",
    "\n",
    "    # Remove axes\n",
    "    ax.set_xlim(-0.5, horizontal_spacing * (len(layers) - 1) + 1.5)\n",
    "    ax.set_ylim(0, 1)\n",
    "    ax.axis('off')\n",
    "\n",
    "     # Add layer name and neuron count with larger font size\n",
    "    plt.text(x_pos + 0.4, 0.9, f\"{layer['name']}\\n({layer['neurons']} units)\", \n",
    "        ha='center', va='center', fontsize=14, fontweight='bold')  # Changed fontsize from 10 to 14\n",
    "    \n",
    "    plt.show()\n"
   ]
  },
  {
   "cell_type": "code",
   "execution_count": 7,
   "id": "510ae56c",
   "metadata": {},
   "outputs": [
    {
     "data": {
      "image/png": "[encoded data removed]",
      "text/plain": [
       "<Figure size 1200x800 with 1 Axes>"
      ]
     },
     "metadata": {},
     "output_type": "display_data"
    }
   ],
   "source": [
    "create_detailed_architecture()"
   ]
  },
  {
   "cell_type": "code",
   "execution_count": null,
   "id": "c7ee20e1",
   "metadata": {},
   "outputs": [],
   "source": []
  }
 ],
 "metadata": {
  "kernelspec": {
   "display_name": "Python 3",
   "language": "python",
   "name": "python3"
  },
  "language_info": {
   "codemirror_mode": {
    "name": "ipython",
    "version": 3
   },
   "file_extension": ".py",
   "mimetype": "text/x-python",
   "name": "python",
   "nbconvert_exporter": "python",
   "pygments_lexer": "ipython3",
   "version": "3.12.3"
  }
 },
 "nbformat": 4,
 "nbformat_minor": 5
}
