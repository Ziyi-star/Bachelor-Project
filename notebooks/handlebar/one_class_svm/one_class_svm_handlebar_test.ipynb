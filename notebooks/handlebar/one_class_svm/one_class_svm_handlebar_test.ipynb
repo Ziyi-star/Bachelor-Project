{
  "cells": [
    {
      "cell_type": "markdown",
      "metadata": {
        "colab_type": "text",
        "id": "view-in-github"
      },
      "source": [
        "<a href=\"https://colab.research.google.com/github/Ziyi-star/Bachelor-Project/blob/main/notebooks/handlebar/LSTM/Lstm__Handlebar_best.ipynb\" target=\"_parent\"><img src=\"https://colab.research.google.com/assets/colab-badge.svg\" alt=\"Open In Colab\"/></a>"
      ]
    },
    {
      "cell_type": "code",
      "execution_count": 2,
      "metadata": {
        "colab": {
          "base_uri": "https://localhost:8080/",
          "height": 383
        },
        "id": "cGwyEUT7ZuSH",
        "outputId": "d30e9cc6-acb3-4d20-d13c-d603ecf96022"
      },
      "outputs": [],
      "source": [
        "# For Vscode\n",
        "import numpy as np\n",
        "import pandas as pd\n",
        "from matplotlib import pyplot as plt\n",
        "from matplotlib import dates as md\n",
        "from sklearn.preprocessing import StandardScaler\n",
        "from sklearn.svm import OneClassSVM\n",
        "from sklearn.metrics import classification_report, confusion_matrix\n",
        "import seaborn as sns\n",
        "\n",
        "import sys\n",
        "sys.path.append('../../../')   # Add parent directory to Python path\n",
        "from utils.plots import *\n",
        "\n"
      ]
    },
    {
      "cell_type": "code",
      "execution_count": 3,
      "metadata": {},
      "outputs": [
        {
          "data": {
            "text/html": [
              "<div>\n",
              "<style scoped>\n",
              "    .dataframe tbody tr th:only-of-type {\n",
              "        vertical-align: middle;\n",
              "    }\n",
              "\n",
              "    .dataframe tbody tr th {\n",
              "        vertical-align: top;\n",
              "    }\n",
              "\n",
              "    .dataframe thead th {\n",
              "        text-align: right;\n",
              "    }\n",
              "</style>\n",
              "<table border=\"1\" class=\"dataframe\">\n",
              "  <thead>\n",
              "    <tr style=\"text-align: right;\">\n",
              "      <th></th>\n",
              "      <th>curb_scene</th>\n",
              "      <th>Acc-Z_1</th>\n",
              "      <th>Acc-Z_2</th>\n",
              "      <th>Acc-Z_3</th>\n",
              "      <th>Acc-Z_4</th>\n",
              "      <th>Acc-Z_5</th>\n",
              "      <th>Acc-Z_6</th>\n",
              "      <th>Acc-Z_7</th>\n",
              "      <th>Acc-Z_8</th>\n",
              "      <th>Acc-Z_9</th>\n",
              "      <th>...</th>\n",
              "      <th>Acc-Z_91</th>\n",
              "      <th>Acc-Z_92</th>\n",
              "      <th>Acc-Z_93</th>\n",
              "      <th>Acc-Z_94</th>\n",
              "      <th>Acc-Z_95</th>\n",
              "      <th>Acc-Z_96</th>\n",
              "      <th>Acc-Z_97</th>\n",
              "      <th>Acc-Z_98</th>\n",
              "      <th>Acc-Z_99</th>\n",
              "      <th>Acc-Z_100</th>\n",
              "    </tr>\n",
              "  </thead>\n",
              "  <tbody>\n",
              "    <tr>\n",
              "      <th>0</th>\n",
              "      <td>0.0</td>\n",
              "      <td>6.014236</td>\n",
              "      <td>6.574478</td>\n",
              "      <td>8.231262</td>\n",
              "      <td>2.489975</td>\n",
              "      <td>10.520126</td>\n",
              "      <td>13.761871</td>\n",
              "      <td>20.930115</td>\n",
              "      <td>14.719559</td>\n",
              "      <td>8.082825</td>\n",
              "      <td>...</td>\n",
              "      <td>12.943054</td>\n",
              "      <td>6.157883</td>\n",
              "      <td>3.739746</td>\n",
              "      <td>5.161896</td>\n",
              "      <td>14.901504</td>\n",
              "      <td>7.862564</td>\n",
              "      <td>7.503433</td>\n",
              "      <td>6.938400</td>\n",
              "      <td>7.805099</td>\n",
              "      <td>14.020447</td>\n",
              "    </tr>\n",
              "    <tr>\n",
              "      <th>1</th>\n",
              "      <td>0.0</td>\n",
              "      <td>10.625473</td>\n",
              "      <td>11.286270</td>\n",
              "      <td>9.720459</td>\n",
              "      <td>9.725250</td>\n",
              "      <td>16.768997</td>\n",
              "      <td>18.435349</td>\n",
              "      <td>4.319138</td>\n",
              "      <td>4.965576</td>\n",
              "      <td>3.998321</td>\n",
              "      <td>...</td>\n",
              "      <td>11.310211</td>\n",
              "      <td>9.979034</td>\n",
              "      <td>9.888046</td>\n",
              "      <td>15.418655</td>\n",
              "      <td>10.007767</td>\n",
              "      <td>13.421890</td>\n",
              "      <td>10.184937</td>\n",
              "      <td>14.628571</td>\n",
              "      <td>13.886368</td>\n",
              "      <td>8.542511</td>\n",
              "    </tr>\n",
              "    <tr>\n",
              "      <th>2</th>\n",
              "      <td>0.0</td>\n",
              "      <td>8.628708</td>\n",
              "      <td>8.638275</td>\n",
              "      <td>8.628708</td>\n",
              "      <td>8.633499</td>\n",
              "      <td>8.623917</td>\n",
              "      <td>8.614334</td>\n",
              "      <td>8.619125</td>\n",
              "      <td>8.623917</td>\n",
              "      <td>8.638275</td>\n",
              "      <td>...</td>\n",
              "      <td>8.623917</td>\n",
              "      <td>8.633499</td>\n",
              "      <td>8.633499</td>\n",
              "      <td>8.619125</td>\n",
              "      <td>8.614334</td>\n",
              "      <td>8.619125</td>\n",
              "      <td>8.633499</td>\n",
              "      <td>8.623917</td>\n",
              "      <td>8.628708</td>\n",
              "      <td>8.623917</td>\n",
              "    </tr>\n",
              "    <tr>\n",
              "      <th>3</th>\n",
              "      <td>0.0</td>\n",
              "      <td>14.681244</td>\n",
              "      <td>19.019547</td>\n",
              "      <td>12.038040</td>\n",
              "      <td>3.150772</td>\n",
              "      <td>3.960007</td>\n",
              "      <td>12.191269</td>\n",
              "      <td>15.318100</td>\n",
              "      <td>10.496185</td>\n",
              "      <td>2.442093</td>\n",
              "      <td>...</td>\n",
              "      <td>3.912125</td>\n",
              "      <td>5.554550</td>\n",
              "      <td>17.520767</td>\n",
              "      <td>18.612518</td>\n",
              "      <td>13.019669</td>\n",
              "      <td>7.402878</td>\n",
              "      <td>6.976700</td>\n",
              "      <td>8.781937</td>\n",
              "      <td>13.589493</td>\n",
              "      <td>10.295074</td>\n",
              "    </tr>\n",
              "    <tr>\n",
              "      <th>4</th>\n",
              "      <td>0.0</td>\n",
              "      <td>8.236053</td>\n",
              "      <td>9.227249</td>\n",
              "      <td>8.930374</td>\n",
              "      <td>9.342178</td>\n",
              "      <td>9.251190</td>\n",
              "      <td>8.978256</td>\n",
              "      <td>9.332596</td>\n",
              "      <td>9.131485</td>\n",
              "      <td>9.447525</td>\n",
              "      <td>...</td>\n",
              "      <td>8.322250</td>\n",
              "      <td>8.188171</td>\n",
              "      <td>8.327026</td>\n",
              "      <td>8.264786</td>\n",
              "      <td>8.245636</td>\n",
              "      <td>8.283936</td>\n",
              "      <td>8.360550</td>\n",
              "      <td>8.480270</td>\n",
              "      <td>8.370132</td>\n",
              "      <td>8.374924</td>\n",
              "    </tr>\n",
              "  </tbody>\n",
              "</table>\n",
              "<p>5 rows × 101 columns</p>\n",
              "</div>"
            ],
            "text/plain": [
              "   curb_scene    Acc-Z_1    Acc-Z_2    Acc-Z_3   Acc-Z_4    Acc-Z_5  \\\n",
              "0         0.0   6.014236   6.574478   8.231262  2.489975  10.520126   \n",
              "1         0.0  10.625473  11.286270   9.720459  9.725250  16.768997   \n",
              "2         0.0   8.628708   8.638275   8.628708  8.633499   8.623917   \n",
              "3         0.0  14.681244  19.019547  12.038040  3.150772   3.960007   \n",
              "4         0.0   8.236053   9.227249   8.930374  9.342178   9.251190   \n",
              "\n",
              "     Acc-Z_6    Acc-Z_7    Acc-Z_8   Acc-Z_9  ...   Acc-Z_91  Acc-Z_92  \\\n",
              "0  13.761871  20.930115  14.719559  8.082825  ...  12.943054  6.157883   \n",
              "1  18.435349   4.319138   4.965576  3.998321  ...  11.310211  9.979034   \n",
              "2   8.614334   8.619125   8.623917  8.638275  ...   8.623917  8.633499   \n",
              "3  12.191269  15.318100  10.496185  2.442093  ...   3.912125  5.554550   \n",
              "4   8.978256   9.332596   9.131485  9.447525  ...   8.322250  8.188171   \n",
              "\n",
              "    Acc-Z_93   Acc-Z_94   Acc-Z_95   Acc-Z_96   Acc-Z_97   Acc-Z_98  \\\n",
              "0   3.739746   5.161896  14.901504   7.862564   7.503433   6.938400   \n",
              "1   9.888046  15.418655  10.007767  13.421890  10.184937  14.628571   \n",
              "2   8.633499   8.619125   8.614334   8.619125   8.633499   8.623917   \n",
              "3  17.520767  18.612518  13.019669   7.402878   6.976700   8.781937   \n",
              "4   8.327026   8.264786   8.245636   8.283936   8.360550   8.480270   \n",
              "\n",
              "    Acc-Z_99  Acc-Z_100  \n",
              "0   7.805099  14.020447  \n",
              "1  13.886368   8.542511  \n",
              "2   8.628708   8.623917  \n",
              "3  13.589493  10.295074  \n",
              "4   8.370132   8.374924  \n",
              "\n",
              "[5 rows x 101 columns]"
            ]
          },
          "execution_count": 3,
          "metadata": {},
          "output_type": "execute_result"
        }
      ],
      "source": [
        "df = pd.read_csv('../../../data/handlebar/test_data.csv')\n",
        "# 0 for normal, 1 for abnormal\n",
        "df['curb_scene'].value_counts()\n",
        "#df.drop('Unnamed: 0', axis=1, inplace=True)\n",
        "df.head()"
      ]
    },
    {
      "cell_type": "code",
      "execution_count": 4,
      "metadata": {
        "colab": {
          "base_uri": "https://localhost:8080/"
        },
        "id": "65NJYMCIKLZ0",
        "outputId": "e537b241-4566-468d-ed47-86c369034a43"
      },
      "outputs": [
        {
          "data": {
            "text/plain": [
              "(1864, 100)"
            ]
          },
          "execution_count": 4,
          "metadata": {},
          "output_type": "execute_result"
        }
      ],
      "source": [
        "#scaling data, because neural network works better with scaled data\n",
        "scaler = StandardScaler()\n",
        "test_data_scaled = scaler.fit_transform(df.iloc[:, 1:])\n",
        "test_data_scaled.shape\n"
      ]
    },
    {
      "cell_type": "code",
      "execution_count": 5,
      "metadata": {
        "colab": {
          "base_uri": "https://localhost:8080/",
          "height": 236
        },
        "id": "jPeLMJUXKLZ0",
        "outputId": "088062a5-86a2-4b0c-c375-90b18db8d7d4"
      },
      "outputs": [
        {
          "data": {
            "text/plain": [
              "(1864, 101)"
            ]
          },
          "execution_count": 5,
          "metadata": {},
          "output_type": "execute_result"
        }
      ],
      "source": [
        "# Convert the scaled data back to DataFrames for further processing\n",
        "test_data_scaled_df = pd.DataFrame(test_data_scaled, columns=df.columns[1:])\n",
        "# Add the 'curb_scene', 'start_time', and 'end_time' columns back to the scaled DataFrames\n",
        "test_data_scaled_df['curb_scene'] = df['curb_scene'].values\n",
        "test_data_scaled_df.shape"
      ]
    },
    {
      "cell_type": "code",
      "execution_count": 6,
      "metadata": {
        "id": "GkXODwMqKLZ0"
      },
      "outputs": [
        {
          "data": {
            "text/plain": [
              "((1796, 100), (68, 100))"
            ]
          },
          "execution_count": 6,
          "metadata": {},
          "output_type": "execute_result"
        }
      ],
      "source": [
        "# Filter and slice the data\n",
        "normal_test_data_scaled = test_data_scaled_df[test_data_scaled_df['curb_scene'] == 0.0].iloc[:, :-1]\n",
        "abnormal_test_data_scaled = test_data_scaled_df[test_data_scaled_df['curb_scene'] == 1.0].iloc[:, :-1]\n",
        "normal_test_data_scaled.shape, abnormal_test_data_scaled.shape"
      ]
    },
    {
      "cell_type": "code",
      "execution_count": 7,
      "metadata": {
        "id": "MDG05LdPKLZ0"
      },
      "outputs": [
        {
          "data": {
            "text/plain": [
              "((1796, 100), (68, 100))"
            ]
          },
          "execution_count": 7,
          "metadata": {},
          "output_type": "execute_result"
        }
      ],
      "source": [
        "# Cast to float32\n",
        "normal_test_data_scaled = normal_test_data_scaled.astype(\"float32\")\n",
        "abnormal_test_data_scaled = abnormal_test_data_scaled.astype(\"float32\")\n",
        "normal_test_data_scaled.shape, abnormal_test_data_scaled.shape"
      ]
    },
    {
      "cell_type": "code",
      "execution_count": 8,
      "metadata": {},
      "outputs": [],
      "source": [
        "import joblib\n",
        "# Using joblib\n",
        "loaded_model = joblib.load('../../../models/ocsvm_best.joblib')"
      ]
    },
    {
      "cell_type": "code",
      "execution_count": 9,
      "metadata": {},
      "outputs": [
        {
          "name": "stdout",
          "output_type": "stream",
          "text": [
            "[ 1  1  1 ... -1  1  1]\n",
            "[-1 -1 -1 -1 -1 -1 -1 -1 -1 -1 -1 -1 -1 -1 -1 -1 -1 -1 -1 -1 -1 -1 -1 -1\n",
            " -1 -1 -1 -1 -1 -1 -1 -1 -1 -1 -1 -1 -1 -1 -1 -1 -1 -1 -1 -1 -1 -1 -1 -1\n",
            " -1 -1 -1 -1 -1 -1 -1 -1 -1 -1 -1 -1 -1 -1 -1 -1 -1 -1 -1 -1]\n"
          ]
        }
      ],
      "source": [
        "# Predict on test dataneClassSVM returns 1 for inliers (normal) and -1 for outliers (abnormal)\n",
        "# Note: O\n",
        "# We'll convert these to 0 for normal and 1 for abnormal to match our original labels\n",
        "normal_pred = loaded_model.predict(normal_test_data_scaled)\n",
        "abnormal_pred = loaded_model.predict(abnormal_test_data_scaled)\n",
        "print(normal_pred)\n",
        "print(abnormal_pred)"
      ]
    },
    {
      "cell_type": "code",
      "execution_count": 10,
      "metadata": {},
      "outputs": [
        {
          "name": "stdout",
          "output_type": "stream",
          "text": [
            "[0 0 0 ... 1 0 0]\n",
            "[1 1 1 1 1 1 1 1 1 1 1 1 1 1 1 1 1 1 1 1 1 1 1 1 1 1 1 1 1 1 1 1 1 1 1 1 1\n",
            " 1 1 1 1 1 1 1 1 1 1 1 1 1 1 1 1 1 1 1 1 1 1 1 1 1 1 1 1 1 1 1]\n"
          ]
        }
      ],
      "source": [
        "# Convert predictions from 1/-1 to 0/1\n",
        "# np.where(condition, x, y), x if condition is True, else y\n",
        "normal_pred = np.where(normal_pred == 1, 0, 1)\n",
        "abnormal_pred = np.where(abnormal_pred == -1, 1, 0)\n",
        "print(normal_pred)\n",
        "print(abnormal_pred)"
      ]
    },
    {
      "cell_type": "code",
      "execution_count": 11,
      "metadata": {},
      "outputs": [],
      "source": [
        "# Combine predictions and create true labels\n",
        "y_pred = np.concatenate([normal_pred, abnormal_pred])\n",
        "y_true = np.concatenate([np.zeros(len(normal_test_data_scaled)), \n",
        "                        np.ones(len(abnormal_test_data_scaled))])"
      ]
    },
    {
      "cell_type": "code",
      "execution_count": 15,
      "metadata": {},
      "outputs": [
        {
          "name": "stdout",
          "output_type": "stream",
          "text": [
            "Classification Report:\n",
            "              precision    recall  f1-score   support\n",
            "\n",
            "         0.0       1.00      0.92      0.96      1796\n",
            "         1.0       0.33      1.00      0.50        68\n",
            "\n",
            "    accuracy                           0.93      1864\n",
            "   macro avg       0.67      0.96      0.73      1864\n",
            "weighted avg       0.98      0.93      0.94      1864\n",
            "\n"
          ]
        }
      ],
      "source": [
        "# Print classification report\n",
        "print(\"Classification Report:\")\n",
        "print(classification_report(y_true, y_pred))"
      ]
    },
    {
      "cell_type": "code",
      "execution_count": 30,
      "metadata": {},
      "outputs": [
        {
          "data": {
            "image/png": "[encoded data removed]",
            "text/plain": [
              "<Figure size 800x600 with 2 Axes>"
            ]
          },
          "metadata": {},
          "output_type": "display_data"
        }
      ],
      "source": [
        "# Create confusion matrix with percentages\n",
        "cm = confusion_matrix(y_true, y_pred)\n",
        "cm_percentage = cm.astype('float') / cm.sum(axis=1)[:, np.newaxis] * 100\n",
        "\n",
        "plt.figure(figsize=(8, 6))\n",
        "sns.heatmap(cm_percentage, \n",
        "            annot=False,  # Set annot to False to avoid double annotations\n",
        "            cmap='Blues')\n",
        "\n",
        "# Add percentage signs to annotations\n",
        "for i in range(len(cm)):\n",
        "    for j in range(len(cm)):\n",
        "        if i == j: \n",
        "            text = plt.text(j + 0.5, i + 0.5,\n",
        "                        f'{cm_percentage[i, j]:.2f}%',\n",
        "                        ha='center',\n",
        "                        va='center',\n",
        "                        color='white')\n",
        "        else:\n",
        "            text = plt.text(j + 0.5, i + 0.5,\n",
        "                        f'{cm_percentage[i, j]:.2f}%',\n",
        "                        ha='center',\n",
        "                        va='center',\n",
        "                        color='black')\n",
        "\n",
        "plt.ylabel('True Label')\n",
        "plt.xlabel('Predicted Label')\n",
        "plt.show()"
      ]
    },
    {
      "cell_type": "markdown",
      "metadata": {
        "id": "YmTo9WKUMIKy"
      },
      "source": []
    }
  ],
  "metadata": {
    "accelerator": "GPU",
    "colab": {
      "gpuType": "L4",
      "include_colab_link": true,
      "machine_shape": "hm",
      "provenance": []
    },
    "kernelspec": {
      "display_name": "Python 3",
      "name": "python3"
    },
    "language_info": {
      "codemirror_mode": {
        "name": "ipython",
        "version": 3
      },
      "file_extension": ".py",
      "mimetype": "text/x-python",
      "name": "python",
      "nbconvert_exporter": "python",
      "pygments_lexer": "ipython3",
      "version": "3.12.3"
    }
  },
  "nbformat": 4,
  "nbformat_minor": 0
}
