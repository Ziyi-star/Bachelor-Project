{
 "cells": [
  {
   "cell_type": "code",
   "execution_count": 4,
   "metadata": {},
   "outputs": [],
   "source": [
    "import pandas as pd  \n",
    "import matplotlib.pyplot as plt\n",
    "import numpy as np\n",
    "import matplotlib.dates as mdates"
   ]
  },
  {
   "cell_type": "code",
   "execution_count": 11,
   "metadata": {},
   "outputs": [
    {
     "name": "stdout",
     "output_type": "stream",
     "text": [
      "Index values: [     0      1      2 ... 549232 549233 549234]\n"
     ]
    }
   ],
   "source": [
    "# Load the CSV Data\n",
    "df= pd.read_csv('../data/handlebar/Accelerometer_data_merged_ESP1.csv')  # Load the CSV data using pandas\n",
    "print(\"Index values:\", df.index.values)\n"
   ]
  },
  {
   "cell_type": "code",
   "execution_count": 16,
   "metadata": {},
   "outputs": [
    {
     "data": {
      "text/html": [
       "<div>\n",
       "<style scoped>\n",
       "    .dataframe tbody tr th:only-of-type {\n",
       "        vertical-align: middle;\n",
       "    }\n",
       "\n",
       "    .dataframe tbody tr th {\n",
       "        vertical-align: top;\n",
       "    }\n",
       "\n",
       "    .dataframe thead th {\n",
       "        text-align: right;\n",
       "    }\n",
       "</style>\n",
       "<table border=\"1\" class=\"dataframe\">\n",
       "  <thead>\n",
       "    <tr style=\"text-align: right;\">\n",
       "      <th></th>\n",
       "      <th>NTP</th>\n",
       "      <th>Acc-Z</th>\n",
       "    </tr>\n",
       "  </thead>\n",
       "  <tbody>\n",
       "    <tr>\n",
       "      <th>0</th>\n",
       "      <td>2024-07-24 10:26:01.863</td>\n",
       "      <td>8.762772</td>\n",
       "    </tr>\n",
       "    <tr>\n",
       "      <th>1</th>\n",
       "      <td>2024-07-24 10:26:01.867</td>\n",
       "      <td>8.753204</td>\n",
       "    </tr>\n",
       "    <tr>\n",
       "      <th>2</th>\n",
       "      <td>2024-07-24 10:26:01.872</td>\n",
       "      <td>8.762772</td>\n",
       "    </tr>\n",
       "    <tr>\n",
       "      <th>3</th>\n",
       "      <td>2024-07-24 10:26:01.877</td>\n",
       "      <td>8.781937</td>\n",
       "    </tr>\n",
       "    <tr>\n",
       "      <th>4</th>\n",
       "      <td>2024-07-24 10:26:01.884</td>\n",
       "      <td>8.753204</td>\n",
       "    </tr>\n",
       "  </tbody>\n",
       "</table>\n",
       "</div>"
      ],
      "text/plain": [
       "                       NTP     Acc-Z\n",
       "0  2024-07-24 10:26:01.863  8.762772\n",
       "1  2024-07-24 10:26:01.867  8.753204\n",
       "2  2024-07-24 10:26:01.872  8.762772\n",
       "3  2024-07-24 10:26:01.877  8.781937\n",
       "4  2024-07-24 10:26:01.884  8.753204"
      ]
     },
     "execution_count": 16,
     "metadata": {},
     "output_type": "execute_result"
    }
   ],
   "source": [
    "# Filter the DataFrame to include only the necessary columns\n",
    "df_filtered = df[['NTP','Acc-Z']]\n",
    "df_filtered.head()"
   ]
  },
  {
   "cell_type": "markdown",
   "metadata": {},
   "source": []
  },
  {
   "cell_type": "code",
   "execution_count": null,
   "metadata": {},
   "outputs": [],
   "source": [
    "def handle_missing_values_length(df_filtered):\n",
    "    # Handle missing values length\n",
    "    missing_info = {}  # List to store (start_index, current_count)\n",
    "    current_count = 0\n",
    "    start_index = None  # To store the start time of missing values\n",
    "    for index, row in df_filtered.iterrows():\n",
    "        if np.isnan(row['Acc-Z']):\n",
    "            if start_index is None:\n",
    "                start_index = index\n",
    "                current_count += 1\n",
    "            if start_index is not None:\n",
    "                current_count += 1\n",
    "        # If the value is not NaN, continue sequence broke\n",
    "        else:\n",
    "            if start_index is not None:\n",
    "                missing_info[start_index] = current_count\n",
    "                start_index = None\n",
    "                current_count = 0\n",
    "\n",
    "    # Handle case where the last segment has missing values\n",
    "    if current_count > 0:\n",
    "        missing_info[start_index] = current_count\n",
    "\n",
    "    for key, value in missing_info.items():\n",
    "        #print(key, value)\n",
    "        if value > 100:\n",
    "            print(\"Start Index:\", key, \"Count:\", value)  \n",
    "    print(\"No missing value longer than half a second\")\n",
    "    \n",
    "    return missing_info\n"
   ]
  },
  {
   "cell_type": "code",
   "execution_count": null,
   "metadata": {},
   "outputs": [
    {
     "name": "stdout",
     "output_type": "stream",
     "text": [
      "No missing value longer than half a second\n"
     ]
    }
   ],
   "source": [
    "missing_info = handle_missing_values_length(df_filtered)\n"
   ]
  },
  {
   "cell_type": "code",
   "execution_count": null,
   "metadata": {},
   "outputs": [],
   "source": []
  }
 ],
 "metadata": {
  "kernelspec": {
   "display_name": "Python 3",
   "language": "python",
   "name": "python3"
  },
  "language_info": {
   "codemirror_mode": {
    "name": "ipython",
    "version": 3
   },
   "file_extension": ".py",
   "mimetype": "text/x-python",
   "name": "python",
   "nbconvert_exporter": "python",
   "pygments_lexer": "ipython3",
   "version": "3.12.3"
  }
 },
 "nbformat": 4,
 "nbformat_minor": 2
}
