{
 "cells": [
  {
   "cell_type": "code",
   "execution_count": 87,
   "metadata": {},
   "outputs": [],
   "source": [
    "import pandas as pd  \n",
    "import matplotlib.pyplot as plt\n",
    "import numpy as np\n",
    "import matplotlib.dates as mdates"
   ]
  },
  {
   "cell_type": "code",
   "execution_count": 105,
   "metadata": {},
   "outputs": [
    {
     "data": {
      "text/html": [
       "<div>\n",
       "<style scoped>\n",
       "    .dataframe tbody tr th:only-of-type {\n",
       "        vertical-align: middle;\n",
       "    }\n",
       "\n",
       "    .dataframe tbody tr th {\n",
       "        vertical-align: top;\n",
       "    }\n",
       "\n",
       "    .dataframe thead th {\n",
       "        text-align: right;\n",
       "    }\n",
       "</style>\n",
       "<table border=\"1\" class=\"dataframe\">\n",
       "  <thead>\n",
       "    <tr style=\"text-align: right;\">\n",
       "      <th></th>\n",
       "      <th>NTP</th>\n",
       "      <th>Acc-Z</th>\n",
       "      <th>curb_scene</th>\n",
       "    </tr>\n",
       "  </thead>\n",
       "  <tbody>\n",
       "    <tr>\n",
       "      <th>0</th>\n",
       "      <td>2024-07-24 10:26:01.863</td>\n",
       "      <td>8.762772</td>\n",
       "      <td>0.0</td>\n",
       "    </tr>\n",
       "    <tr>\n",
       "      <th>1</th>\n",
       "      <td>2024-07-24 10:26:01.867</td>\n",
       "      <td>8.753204</td>\n",
       "      <td>0.0</td>\n",
       "    </tr>\n",
       "    <tr>\n",
       "      <th>2</th>\n",
       "      <td>2024-07-24 10:26:01.872</td>\n",
       "      <td>8.762772</td>\n",
       "      <td>0.0</td>\n",
       "    </tr>\n",
       "    <tr>\n",
       "      <th>3</th>\n",
       "      <td>2024-07-24 10:26:01.877</td>\n",
       "      <td>8.781937</td>\n",
       "      <td>0.0</td>\n",
       "    </tr>\n",
       "    <tr>\n",
       "      <th>4</th>\n",
       "      <td>2024-07-24 10:26:01.884</td>\n",
       "      <td>8.753204</td>\n",
       "      <td>0.0</td>\n",
       "    </tr>\n",
       "  </tbody>\n",
       "</table>\n",
       "</div>"
      ],
      "text/plain": [
       "                      NTP     Acc-Z  curb_scene\n",
       "0 2024-07-24 10:26:01.863  8.762772         0.0\n",
       "1 2024-07-24 10:26:01.867  8.753204         0.0\n",
       "2 2024-07-24 10:26:01.872  8.762772         0.0\n",
       "3 2024-07-24 10:26:01.877  8.781937         0.0\n",
       "4 2024-07-24 10:26:01.884  8.753204         0.0"
      ]
     },
     "execution_count": 105,
     "metadata": {},
     "output_type": "execute_result"
    }
   ],
   "source": [
    "# Load the CSV Data\n",
    "df= pd.read_csv('../data/handlebar/Accelerometer_data_merged_ESP1.csv')  # Load the CSV data using pandas\n",
    "df['NTP'] = pd.to_datetime(df['NTP'])\n",
    "# Filter the DataFrame to include only the necessary columns\n",
    "df_filtered = df[['NTP','Acc-Z','curb_scene']]\n",
    "df_filtered.head()"
   ]
  },
  {
   "cell_type": "markdown",
   "metadata": {},
   "source": []
  },
  {
   "cell_type": "code",
   "execution_count": 106,
   "metadata": {},
   "outputs": [],
   "source": [
    "def handle_missing_values_length(df_filtered):\n",
    "    # Handle missing values length\n",
    "    missing_info = {}  # List to store (start_index, current_count)\n",
    "    current_count = 0\n",
    "    start_index = None  # To store the start time of missing values\n",
    "    for index, row in df_filtered.iterrows():\n",
    "        if np.isnan(row['Acc-Z']):\n",
    "            if start_index is None:\n",
    "                start_index = index\n",
    "                current_count += 1\n",
    "            if start_index is not None:\n",
    "                current_count += 1\n",
    "        # If the value is not NaN, continue sequence broke\n",
    "        else:\n",
    "            if start_index is not None:\n",
    "                missing_info[start_index] = current_count\n",
    "                start_index = None\n",
    "                current_count = 0\n",
    "\n",
    "    # Handle case where the last segment has missing values\n",
    "    if current_count > 0:\n",
    "        missing_info[start_index] = current_count\n",
    "\n",
    "    for key, value in missing_info.items():\n",
    "        print(key, value)\n",
    "        if value > 100:\n",
    "            print(\"Start Index:\", key, \"Count:\", value)  \n",
    "    print(\"No missing value longer than half a second\")\n",
    "\n",
    "    return missing_info\n"
   ]
  },
  {
   "cell_type": "code",
   "execution_count": 109,
   "metadata": {},
   "outputs": [],
   "source": [
    "# Function to fill missing values based on the specified conditions\n",
    "def fill_missing_values(df):\n",
    "    for index in range(1, len(df)):\n",
    "        if pd.isnull(df['Acc-Z'].iloc[index]):\n",
    "            if df['curb_scene'].iloc[index - 1] == df['curb_scene'].iloc[index]:\n",
    "                df.at[index, 'Acc-Z'] = df['Acc-Z'].iloc[index - 1]\n",
    "                df.at[index, 'NTP'] = df['NTP'].iloc[index - 1] + pd.Timedelta(milliseconds=1)\n",
    "            else:\n",
    "                # Find the next non-NaN value below\n",
    "                for j in range(index + 1, len(df)):\n",
    "                    if not pd.isnull(df['Acc-Z'].iloc[j]):\n",
    "                        df.at[index, 'Acc-Z'] = df['Acc-Z'].iloc[j]\n",
    "                        df.at[index, 'NTP'] = df['NTP'].iloc[j] - pd.Timedelta(milliseconds=1)\n",
    "                        break\n",
    "    return df"
   ]
  },
  {
   "cell_type": "code",
   "execution_count": null,
   "metadata": {},
   "outputs": [],
   "source": [
    "#check for missing values longer than 0.5 seconds\n",
    "#missing_info = handle_missing_values_length(df_filtered)"
   ]
  },
  {
   "cell_type": "code",
   "execution_count": null,
   "metadata": {},
   "outputs": [
    {
     "data": {
      "text/html": [
       "<div>\n",
       "<style scoped>\n",
       "    .dataframe tbody tr th:only-of-type {\n",
       "        vertical-align: middle;\n",
       "    }\n",
       "\n",
       "    .dataframe tbody tr th {\n",
       "        vertical-align: top;\n",
       "    }\n",
       "\n",
       "    .dataframe thead th {\n",
       "        text-align: right;\n",
       "    }\n",
       "</style>\n",
       "<table border=\"1\" class=\"dataframe\">\n",
       "  <thead>\n",
       "    <tr style=\"text-align: right;\">\n",
       "      <th></th>\n",
       "      <th>NTP</th>\n",
       "      <th>Acc-Z</th>\n",
       "      <th>curb_scene</th>\n",
       "    </tr>\n",
       "  </thead>\n",
       "  <tbody>\n",
       "    <tr>\n",
       "      <th>0</th>\n",
       "      <td>2024-07-24 10:26:01.863</td>\n",
       "      <td>8.762772</td>\n",
       "      <td>0.0</td>\n",
       "    </tr>\n",
       "    <tr>\n",
       "      <th>1</th>\n",
       "      <td>2024-07-24 10:26:01.867</td>\n",
       "      <td>8.753204</td>\n",
       "      <td>0.0</td>\n",
       "    </tr>\n",
       "    <tr>\n",
       "      <th>2</th>\n",
       "      <td>2024-07-24 10:26:01.872</td>\n",
       "      <td>8.762772</td>\n",
       "      <td>0.0</td>\n",
       "    </tr>\n",
       "    <tr>\n",
       "      <th>3</th>\n",
       "      <td>2024-07-24 10:26:01.877</td>\n",
       "      <td>8.781937</td>\n",
       "      <td>0.0</td>\n",
       "    </tr>\n",
       "    <tr>\n",
       "      <th>4</th>\n",
       "      <td>2024-07-24 10:26:01.884</td>\n",
       "      <td>8.753204</td>\n",
       "      <td>0.0</td>\n",
       "    </tr>\n",
       "    <tr>\n",
       "      <th>...</th>\n",
       "      <td>...</td>\n",
       "      <td>...</td>\n",
       "      <td>...</td>\n",
       "    </tr>\n",
       "    <tr>\n",
       "      <th>549230</th>\n",
       "      <td>2024-07-24 11:11:20.851</td>\n",
       "      <td>8.777145</td>\n",
       "      <td>0.0</td>\n",
       "    </tr>\n",
       "    <tr>\n",
       "      <th>549231</th>\n",
       "      <td>2024-07-24 11:11:20.857</td>\n",
       "      <td>8.681381</td>\n",
       "      <td>0.0</td>\n",
       "    </tr>\n",
       "    <tr>\n",
       "      <th>549232</th>\n",
       "      <td>2024-07-24 11:11:20.866</td>\n",
       "      <td>8.370132</td>\n",
       "      <td>0.0</td>\n",
       "    </tr>\n",
       "    <tr>\n",
       "      <th>549233</th>\n",
       "      <td>2024-07-24 11:11:20.870</td>\n",
       "      <td>8.307877</td>\n",
       "      <td>0.0</td>\n",
       "    </tr>\n",
       "    <tr>\n",
       "      <th>549234</th>\n",
       "      <td>2024-07-24 11:11:20.871</td>\n",
       "      <td>8.571243</td>\n",
       "      <td>0.0</td>\n",
       "    </tr>\n",
       "  </tbody>\n",
       "</table>\n",
       "<p>549235 rows × 3 columns</p>\n",
       "</div>"
      ],
      "text/plain": [
       "                           NTP     Acc-Z  curb_scene\n",
       "0      2024-07-24 10:26:01.863  8.762772         0.0\n",
       "1      2024-07-24 10:26:01.867  8.753204         0.0\n",
       "2      2024-07-24 10:26:01.872  8.762772         0.0\n",
       "3      2024-07-24 10:26:01.877  8.781937         0.0\n",
       "4      2024-07-24 10:26:01.884  8.753204         0.0\n",
       "...                        ...       ...         ...\n",
       "549230 2024-07-24 11:11:20.851  8.777145         0.0\n",
       "549231 2024-07-24 11:11:20.857  8.681381         0.0\n",
       "549232 2024-07-24 11:11:20.866  8.370132         0.0\n",
       "549233 2024-07-24 11:11:20.870  8.307877         0.0\n",
       "549234 2024-07-24 11:11:20.871  8.571243         0.0\n",
       "\n",
       "[549235 rows x 3 columns]"
      ]
     },
     "execution_count": 111,
     "metadata": {},
     "output_type": "execute_result"
    }
   ],
   "source": [
    "#fill missing values\n",
    "fill_missing_values(df_filtered)"
   ]
  },
  {
   "cell_type": "code",
   "execution_count": null,
   "metadata": {},
   "outputs": [
    {
     "name": "stdout",
     "output_type": "stream",
     "text": [
      "No missing value longer than half a second\n"
     ]
    }
   ],
   "source": [
    "# Check if there are any missing values\n",
    "#missing_info= handle_missing_values_length(df_filtered)"
   ]
  },
  {
   "cell_type": "code",
   "execution_count": 114,
   "metadata": {},
   "outputs": [],
   "source": [
    "# #check some random numbers:\n",
    "# print(df_filtered.loc[21827 -10:21827 +5])\n",
    "# print(df_filtered.loc[41417 -10:41417 +5]) \n",
    "# print(df_filtered.loc[41458 -10:41458 +5])\n"
   ]
  },
  {
   "cell_type": "code",
   "execution_count": null,
   "metadata": {},
   "outputs": [],
   "source": []
  },
  {
   "cell_type": "code",
   "execution_count": null,
   "metadata": {},
   "outputs": [],
   "source": [
    "# slicing the data to get the curb scene in 0.5 seconds\n",
    "# 1. check if they have the same curb scene\n",
    "# 2. I want for each curb scene to have 100 samples\n",
    "# 3. if the last curb scene is too short, i want to what before until it reaches 100 samples\n"
   ]
  }
 ],
 "metadata": {
  "kernelspec": {
   "display_name": "Python 3",
   "language": "python",
   "name": "python3"
  },
  "language_info": {
   "codemirror_mode": {
    "name": "ipython",
    "version": 3
   },
   "file_extension": ".py",
   "mimetype": "text/x-python",
   "name": "python",
   "nbconvert_exporter": "python",
   "pygments_lexer": "ipython3",
   "version": "3.12.3"
  }
 },
 "nbformat": 4,
 "nbformat_minor": 2
}
