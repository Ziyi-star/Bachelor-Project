{
 "cells": [
  {
   "cell_type": "code",
   "execution_count": 2,
   "metadata": {},
   "outputs": [],
   "source": [
    "import pandas as pd #reading dataset\n",
    "import matplotlib as mpl    #plotting, visualization\n",
    "import matplotlib.pyplot as plt\n",
    "import tensorflow as tf #building model\n",
    "from tensorflow.keras.models import Model\n",
    "import numpy as np  #playing output with model\n",
    "from sklearn.model_selection import train_test_split    #model selection and scaling data\n",
    "from sklearn.preprocessing import MinMaxScaler, StandardScaler\n",
    "\n",
    "import sys\n",
    "sys.path.append('../../')   # Add parent directory to Python path\n",
    "from utils.Plots import *\n",
    "RANDOM_SEED = 42\n"
   ]
  },
  {
   "cell_type": "code",
   "execution_count": 3,
   "metadata": {},
   "outputs": [
    {
     "data": {
      "text/html": [
       "<div>\n",
       "<style scoped>\n",
       "    .dataframe tbody tr th:only-of-type {\n",
       "        vertical-align: middle;\n",
       "    }\n",
       "\n",
       "    .dataframe tbody tr th {\n",
       "        vertical-align: top;\n",
       "    }\n",
       "\n",
       "    .dataframe thead th {\n",
       "        text-align: right;\n",
       "    }\n",
       "</style>\n",
       "<table border=\"1\" class=\"dataframe\">\n",
       "  <thead>\n",
       "    <tr style=\"text-align: right;\">\n",
       "      <th></th>\n",
       "      <th>curb_scene</th>\n",
       "      <th>start_time</th>\n",
       "      <th>end_time</th>\n",
       "      <th>Acc-Z_1</th>\n",
       "      <th>Acc-Z_2</th>\n",
       "      <th>Acc-Z_3</th>\n",
       "      <th>Acc-Z_4</th>\n",
       "      <th>Acc-Z_5</th>\n",
       "      <th>Acc-Z_6</th>\n",
       "      <th>Acc-Z_7</th>\n",
       "      <th>...</th>\n",
       "      <th>Acc-Z_91</th>\n",
       "      <th>Acc-Z_92</th>\n",
       "      <th>Acc-Z_93</th>\n",
       "      <th>Acc-Z_94</th>\n",
       "      <th>Acc-Z_95</th>\n",
       "      <th>Acc-Z_96</th>\n",
       "      <th>Acc-Z_97</th>\n",
       "      <th>Acc-Z_98</th>\n",
       "      <th>Acc-Z_99</th>\n",
       "      <th>Acc-Z_100</th>\n",
       "    </tr>\n",
       "  </thead>\n",
       "  <tbody>\n",
       "    <tr>\n",
       "      <th>0</th>\n",
       "      <td>0.0</td>\n",
       "      <td>2024-07-24 10:22:06.503</td>\n",
       "      <td>2024-07-24 10:22:06.998</td>\n",
       "      <td>10.065231</td>\n",
       "      <td>10.055649</td>\n",
       "      <td>9.964661</td>\n",
       "      <td>9.849747</td>\n",
       "      <td>9.806656</td>\n",
       "      <td>9.682159</td>\n",
       "      <td>9.576813</td>\n",
       "      <td>...</td>\n",
       "      <td>8.853760</td>\n",
       "      <td>8.762772</td>\n",
       "      <td>8.695740</td>\n",
       "      <td>8.652649</td>\n",
       "      <td>8.595184</td>\n",
       "      <td>8.547302</td>\n",
       "      <td>8.499420</td>\n",
       "      <td>8.437164</td>\n",
       "      <td>8.398865</td>\n",
       "      <td>8.408432</td>\n",
       "    </tr>\n",
       "    <tr>\n",
       "      <th>1</th>\n",
       "      <td>0.0</td>\n",
       "      <td>2024-07-24 10:22:07.002</td>\n",
       "      <td>2024-07-24 10:22:07.495</td>\n",
       "      <td>8.456314</td>\n",
       "      <td>8.513779</td>\n",
       "      <td>8.590393</td>\n",
       "      <td>8.662216</td>\n",
       "      <td>8.734055</td>\n",
       "      <td>8.786728</td>\n",
       "      <td>8.825027</td>\n",
       "      <td>...</td>\n",
       "      <td>9.179367</td>\n",
       "      <td>9.203308</td>\n",
       "      <td>9.236832</td>\n",
       "      <td>9.246414</td>\n",
       "      <td>9.255981</td>\n",
       "      <td>9.255981</td>\n",
       "      <td>9.246414</td>\n",
       "      <td>9.203308</td>\n",
       "      <td>9.145843</td>\n",
       "      <td>9.145843</td>\n",
       "    </tr>\n",
       "    <tr>\n",
       "      <th>2</th>\n",
       "      <td>0.0</td>\n",
       "      <td>2024-07-24 10:22:07.501</td>\n",
       "      <td>2024-07-24 10:22:07.999</td>\n",
       "      <td>9.045288</td>\n",
       "      <td>8.925583</td>\n",
       "      <td>8.825027</td>\n",
       "      <td>8.757996</td>\n",
       "      <td>8.695740</td>\n",
       "      <td>8.609543</td>\n",
       "      <td>8.647858</td>\n",
       "      <td>...</td>\n",
       "      <td>8.767563</td>\n",
       "      <td>8.801086</td>\n",
       "      <td>8.829819</td>\n",
       "      <td>8.844177</td>\n",
       "      <td>8.858551</td>\n",
       "      <td>8.954315</td>\n",
       "      <td>9.078812</td>\n",
       "      <td>9.160217</td>\n",
       "      <td>9.150635</td>\n",
       "      <td>9.145843</td>\n",
       "    </tr>\n",
       "    <tr>\n",
       "      <th>3</th>\n",
       "      <td>0.0</td>\n",
       "      <td>2024-07-24 10:22:08.004</td>\n",
       "      <td>2024-07-24 10:22:08.496</td>\n",
       "      <td>9.279922</td>\n",
       "      <td>9.414001</td>\n",
       "      <td>9.370911</td>\n",
       "      <td>9.327805</td>\n",
       "      <td>9.337387</td>\n",
       "      <td>9.399643</td>\n",
       "      <td>9.394852</td>\n",
       "      <td>...</td>\n",
       "      <td>9.859329</td>\n",
       "      <td>9.485825</td>\n",
       "      <td>9.222458</td>\n",
       "      <td>8.939957</td>\n",
       "      <td>8.647858</td>\n",
       "      <td>8.298309</td>\n",
       "      <td>7.972687</td>\n",
       "      <td>7.948746</td>\n",
       "      <td>8.159439</td>\n",
       "      <td>8.159439</td>\n",
       "    </tr>\n",
       "    <tr>\n",
       "      <th>4</th>\n",
       "      <td>0.0</td>\n",
       "      <td>2024-07-24 10:22:08.501</td>\n",
       "      <td>2024-07-24 10:22:08.998</td>\n",
       "      <td>8.346191</td>\n",
       "      <td>8.580826</td>\n",
       "      <td>8.896851</td>\n",
       "      <td>9.265564</td>\n",
       "      <td>9.543289</td>\n",
       "      <td>9.682159</td>\n",
       "      <td>9.773132</td>\n",
       "      <td>...</td>\n",
       "      <td>6.354217</td>\n",
       "      <td>6.363785</td>\n",
       "      <td>6.335052</td>\n",
       "      <td>6.363785</td>\n",
       "      <td>6.363785</td>\n",
       "      <td>6.306320</td>\n",
       "      <td>6.330277</td>\n",
       "      <td>6.512222</td>\n",
       "      <td>6.813904</td>\n",
       "      <td>7.187393</td>\n",
       "    </tr>\n",
       "    <tr>\n",
       "      <th>...</th>\n",
       "      <td>...</td>\n",
       "      <td>...</td>\n",
       "      <td>...</td>\n",
       "      <td>...</td>\n",
       "      <td>...</td>\n",
       "      <td>...</td>\n",
       "      <td>...</td>\n",
       "      <td>...</td>\n",
       "      <td>...</td>\n",
       "      <td>...</td>\n",
       "      <td>...</td>\n",
       "      <td>...</td>\n",
       "      <td>...</td>\n",
       "      <td>...</td>\n",
       "      <td>...</td>\n",
       "      <td>...</td>\n",
       "      <td>...</td>\n",
       "      <td>...</td>\n",
       "      <td>...</td>\n",
       "      <td>...</td>\n",
       "      <td>...</td>\n",
       "    </tr>\n",
       "    <tr>\n",
       "      <th>4955</th>\n",
       "      <td>1.0</td>\n",
       "      <td>2024-07-24 11:07:59.130</td>\n",
       "      <td>2024-07-24 11:07:59.496</td>\n",
       "      <td>-9.117126</td>\n",
       "      <td>-9.117126</td>\n",
       "      <td>-9.107544</td>\n",
       "      <td>-9.107544</td>\n",
       "      <td>-9.165009</td>\n",
       "      <td>-9.141068</td>\n",
       "      <td>-9.615112</td>\n",
       "      <td>...</td>\n",
       "      <td>-6.775589</td>\n",
       "      <td>-6.775589</td>\n",
       "      <td>-6.775589</td>\n",
       "      <td>-6.775589</td>\n",
       "      <td>-6.775589</td>\n",
       "      <td>-6.775589</td>\n",
       "      <td>-6.775589</td>\n",
       "      <td>-6.775589</td>\n",
       "      <td>-6.775589</td>\n",
       "      <td>-6.775589</td>\n",
       "    </tr>\n",
       "    <tr>\n",
       "      <th>4956</th>\n",
       "      <td>1.0</td>\n",
       "      <td>2024-07-24 11:08:33.626</td>\n",
       "      <td>2024-07-24 11:08:33.998</td>\n",
       "      <td>-8.355759</td>\n",
       "      <td>-8.355759</td>\n",
       "      <td>-9.701309</td>\n",
       "      <td>-9.701309</td>\n",
       "      <td>-11.444290</td>\n",
       "      <td>-12.215210</td>\n",
       "      <td>-11.587936</td>\n",
       "      <td>...</td>\n",
       "      <td>-3.811569</td>\n",
       "      <td>-3.811569</td>\n",
       "      <td>-3.811569</td>\n",
       "      <td>-3.811569</td>\n",
       "      <td>-3.811569</td>\n",
       "      <td>-3.811569</td>\n",
       "      <td>-3.811569</td>\n",
       "      <td>-3.811569</td>\n",
       "      <td>-3.811569</td>\n",
       "      <td>-3.811569</td>\n",
       "    </tr>\n",
       "    <tr>\n",
       "      <th>4957</th>\n",
       "      <td>1.0</td>\n",
       "      <td>2024-07-24 11:08:51.505</td>\n",
       "      <td>2024-07-24 11:08:51.935</td>\n",
       "      <td>-6.244080</td>\n",
       "      <td>-6.555328</td>\n",
       "      <td>-6.742065</td>\n",
       "      <td>-6.861786</td>\n",
       "      <td>-6.804321</td>\n",
       "      <td>-6.698975</td>\n",
       "      <td>-6.655884</td>\n",
       "      <td>...</td>\n",
       "      <td>-3.988739</td>\n",
       "      <td>-4.065353</td>\n",
       "      <td>-3.960007</td>\n",
       "      <td>-3.960007</td>\n",
       "      <td>-3.801987</td>\n",
       "      <td>-3.634399</td>\n",
       "      <td>-3.634399</td>\n",
       "      <td>-3.634399</td>\n",
       "      <td>-3.634399</td>\n",
       "      <td>-3.634399</td>\n",
       "    </tr>\n",
       "    <tr>\n",
       "      <th>4958</th>\n",
       "      <td>1.0</td>\n",
       "      <td>2024-07-24 11:09:36.076</td>\n",
       "      <td>2024-07-24 11:09:36.498</td>\n",
       "      <td>-6.531387</td>\n",
       "      <td>-6.531387</td>\n",
       "      <td>-6.215347</td>\n",
       "      <td>-6.363785</td>\n",
       "      <td>-6.737289</td>\n",
       "      <td>-6.780380</td>\n",
       "      <td>-7.139511</td>\n",
       "      <td>...</td>\n",
       "      <td>-5.056549</td>\n",
       "      <td>-5.056549</td>\n",
       "      <td>-5.056549</td>\n",
       "      <td>-5.056549</td>\n",
       "      <td>-5.056549</td>\n",
       "      <td>-5.056549</td>\n",
       "      <td>-5.056549</td>\n",
       "      <td>-5.056549</td>\n",
       "      <td>-5.056549</td>\n",
       "      <td>-5.056549</td>\n",
       "    </tr>\n",
       "    <tr>\n",
       "      <th>4959</th>\n",
       "      <td>1.0</td>\n",
       "      <td>2024-07-24 11:10:11.002</td>\n",
       "      <td>2024-07-24 11:10:11.381</td>\n",
       "      <td>-1.776504</td>\n",
       "      <td>-1.000778</td>\n",
       "      <td>-0.421387</td>\n",
       "      <td>0.057465</td>\n",
       "      <td>0.627274</td>\n",
       "      <td>1.043869</td>\n",
       "      <td>1.043869</td>\n",
       "      <td>...</td>\n",
       "      <td>-7.489059</td>\n",
       "      <td>-7.489059</td>\n",
       "      <td>-7.489059</td>\n",
       "      <td>-7.489059</td>\n",
       "      <td>-7.489059</td>\n",
       "      <td>-7.489059</td>\n",
       "      <td>-7.489059</td>\n",
       "      <td>-7.489059</td>\n",
       "      <td>-7.489059</td>\n",
       "      <td>-7.489059</td>\n",
       "    </tr>\n",
       "  </tbody>\n",
       "</table>\n",
       "<p>4960 rows × 103 columns</p>\n",
       "</div>"
      ],
      "text/plain": [
       "      curb_scene               start_time                 end_time    Acc-Z_1  \\\n",
       "0            0.0  2024-07-24 10:22:06.503  2024-07-24 10:22:06.998  10.065231   \n",
       "1            0.0  2024-07-24 10:22:07.002  2024-07-24 10:22:07.495   8.456314   \n",
       "2            0.0  2024-07-24 10:22:07.501  2024-07-24 10:22:07.999   9.045288   \n",
       "3            0.0  2024-07-24 10:22:08.004  2024-07-24 10:22:08.496   9.279922   \n",
       "4            0.0  2024-07-24 10:22:08.501  2024-07-24 10:22:08.998   8.346191   \n",
       "...          ...                      ...                      ...        ...   \n",
       "4955         1.0  2024-07-24 11:07:59.130  2024-07-24 11:07:59.496  -9.117126   \n",
       "4956         1.0  2024-07-24 11:08:33.626  2024-07-24 11:08:33.998  -8.355759   \n",
       "4957         1.0  2024-07-24 11:08:51.505  2024-07-24 11:08:51.935  -6.244080   \n",
       "4958         1.0  2024-07-24 11:09:36.076  2024-07-24 11:09:36.498  -6.531387   \n",
       "4959         1.0  2024-07-24 11:10:11.002  2024-07-24 11:10:11.381  -1.776504   \n",
       "\n",
       "        Acc-Z_2   Acc-Z_3   Acc-Z_4    Acc-Z_5    Acc-Z_6    Acc-Z_7  ...  \\\n",
       "0     10.055649  9.964661  9.849747   9.806656   9.682159   9.576813  ...   \n",
       "1      8.513779  8.590393  8.662216   8.734055   8.786728   8.825027  ...   \n",
       "2      8.925583  8.825027  8.757996   8.695740   8.609543   8.647858  ...   \n",
       "3      9.414001  9.370911  9.327805   9.337387   9.399643   9.394852  ...   \n",
       "4      8.580826  8.896851  9.265564   9.543289   9.682159   9.773132  ...   \n",
       "...         ...       ...       ...        ...        ...        ...  ...   \n",
       "4955  -9.117126 -9.107544 -9.107544  -9.165009  -9.141068  -9.615112  ...   \n",
       "4956  -8.355759 -9.701309 -9.701309 -11.444290 -12.215210 -11.587936  ...   \n",
       "4957  -6.555328 -6.742065 -6.861786  -6.804321  -6.698975  -6.655884  ...   \n",
       "4958  -6.531387 -6.215347 -6.363785  -6.737289  -6.780380  -7.139511  ...   \n",
       "4959  -1.000778 -0.421387  0.057465   0.627274   1.043869   1.043869  ...   \n",
       "\n",
       "      Acc-Z_91  Acc-Z_92  Acc-Z_93  Acc-Z_94  Acc-Z_95  Acc-Z_96  Acc-Z_97  \\\n",
       "0     8.853760  8.762772  8.695740  8.652649  8.595184  8.547302  8.499420   \n",
       "1     9.179367  9.203308  9.236832  9.246414  9.255981  9.255981  9.246414   \n",
       "2     8.767563  8.801086  8.829819  8.844177  8.858551  8.954315  9.078812   \n",
       "3     9.859329  9.485825  9.222458  8.939957  8.647858  8.298309  7.972687   \n",
       "4     6.354217  6.363785  6.335052  6.363785  6.363785  6.306320  6.330277   \n",
       "...        ...       ...       ...       ...       ...       ...       ...   \n",
       "4955 -6.775589 -6.775589 -6.775589 -6.775589 -6.775589 -6.775589 -6.775589   \n",
       "4956 -3.811569 -3.811569 -3.811569 -3.811569 -3.811569 -3.811569 -3.811569   \n",
       "4957 -3.988739 -4.065353 -3.960007 -3.960007 -3.801987 -3.634399 -3.634399   \n",
       "4958 -5.056549 -5.056549 -5.056549 -5.056549 -5.056549 -5.056549 -5.056549   \n",
       "4959 -7.489059 -7.489059 -7.489059 -7.489059 -7.489059 -7.489059 -7.489059   \n",
       "\n",
       "      Acc-Z_98  Acc-Z_99  Acc-Z_100  \n",
       "0     8.437164  8.398865   8.408432  \n",
       "1     9.203308  9.145843   9.145843  \n",
       "2     9.160217  9.150635   9.145843  \n",
       "3     7.948746  8.159439   8.159439  \n",
       "4     6.512222  6.813904   7.187393  \n",
       "...        ...       ...        ...  \n",
       "4955 -6.775589 -6.775589  -6.775589  \n",
       "4956 -3.811569 -3.811569  -3.811569  \n",
       "4957 -3.634399 -3.634399  -3.634399  \n",
       "4958 -5.056549 -5.056549  -5.056549  \n",
       "4959 -7.489059 -7.489059  -7.489059  \n",
       "\n",
       "[4960 rows x 103 columns]"
      ]
     },
     "execution_count": 3,
     "metadata": {},
     "output_type": "execute_result"
    }
   ],
   "source": [
    "df = pd.read_csv('../../data/jacketpocket/Accelerometer_data_combined_segmented.csv') \n",
    "# df.drop('Unnamed: 0', axis=1, inplace=True)\n",
    "df"
   ]
  },
  {
   "cell_type": "code",
   "execution_count": 4,
   "metadata": {},
   "outputs": [
    {
     "data": {
      "text/plain": [
       "curb_scene\n",
       "0.0    4883\n",
       "1.0      77\n",
       "Name: count, dtype: int64"
      ]
     },
     "execution_count": 4,
     "metadata": {},
     "output_type": "execute_result"
    }
   ],
   "source": [
    "# 0 for normal, 1 for abnormal\n",
    "df['curb_scene'].value_counts()"
   ]
  },
  {
   "cell_type": "code",
   "execution_count": 5,
   "metadata": {},
   "outputs": [],
   "source": [
    "# Suppose df is your DataFrame, and df['curb_scene'] is your label column\n",
    "train_data, test_data, train_labels, test_labels = train_test_split(df, df['curb_scene'], \n",
    "                                                                    test_size=0.2, \n",
    "                                                                    random_state=RANDOM_SEED)\n",
    "\n",
    "# Now split the (train_data, train_labels) again into train and validation\n",
    "train_data, val_data, train_labels, val_labels = train_test_split(train_data, train_labels, \n",
    "                                                                  test_size=0.25, \n",
    "                                                                  random_state=RANDOM_SEED)\n"
   ]
  },
  {
   "cell_type": "code",
   "execution_count": 6,
   "metadata": {},
   "outputs": [
    {
     "name": "stdout",
     "output_type": "stream",
     "text": [
      "(2976, 100)\n",
      "(992, 100)\n",
      "(992, 100)\n"
     ]
    }
   ],
   "source": [
    "#scaling data, because neural network works better with scaled data\n",
    "scaler = StandardScaler()\n",
    "data_scaled = scaler.fit(train_data.iloc[:, 3:])\n",
    "#transform data\n",
    "train_data_scaled = scaler.transform(train_data.iloc[:, 3:])\n",
    "val_data_scaled = scaler.transform(val_data.iloc[:, 3:])\n",
    "test_data_scaled = scaler.transform(test_data.iloc[:, 3:])\n",
    "print(train_data_scaled.shape)\n",
    "print(val_data_scaled.shape)\n",
    "print(test_data_scaled.shape)\n"
   ]
  },
  {
   "cell_type": "code",
   "execution_count": 7,
   "metadata": {},
   "outputs": [],
   "source": [
    "# Convert the scaled data back to DataFrames for further processing\n",
    "train_data_scaled_df = pd.DataFrame(train_data_scaled, columns=train_data.columns[3:])\n",
    "test_data_scaled_df = pd.DataFrame(test_data_scaled, columns=test_data.columns[3:])\n",
    "val_data_scaled_df = pd.DataFrame(val_data_scaled, columns=val_data.columns[3:])\n",
    "# Add the 'curb_scene', 'start_time', and 'end_time' columns back to the scaled DataFrames\n",
    "train_data_scaled_df['curb_scene'] = train_data['curb_scene'].values\n",
    "train_data_scaled_df['start_time'] = train_data['start_time'].values\n",
    "train_data_scaled_df['end_time'] = train_data['end_time'].values\n",
    "test_data_scaled_df['curb_scene'] = test_data['curb_scene'].values\n",
    "test_data_scaled_df['start_time'] = test_data['start_time'].values\n",
    "test_data_scaled_df['end_time'] = test_data['end_time'].values\n",
    "val_data_scaled_df['curb_scene'] = val_data['curb_scene'].values\n",
    "val_data_scaled_df['start_time'] = val_data['start_time'].values\n",
    "val_data_scaled_df['end_time'] = val_data['end_time'].values"
   ]
  },
  {
   "cell_type": "code",
   "execution_count": 8,
   "metadata": {},
   "outputs": [],
   "source": [
    "# Filter and slice the data\n",
    "normal_train_data_scaled = train_data_scaled_df[train_data_scaled_df['curb_scene'] == 0.0].values[:, :-3]\n",
    "abnormal_train_data_scaled = train_data_scaled_df[train_data_scaled_df['curb_scene'] == 1.0].values[:, :-3]\n",
    "normal_val_data_scaled = val_data_scaled_df[val_data_scaled_df['curb_scene'] == 0.0].values[:, :-3]\n",
    "abnormal_val_data_scaled = val_data_scaled_df[val_data_scaled_df['curb_scene'] == 1.0].values[:, :-3]\n",
    "val_data_scaled = val_data_scaled_df.values[:, :-3]\n",
    "normal_test_data_scaled = test_data_scaled_df[test_data_scaled_df['curb_scene'] == 0.0].values[:, :-3]\n",
    "abnormal_test_data_scaled = test_data_scaled_df[test_data_scaled_df['curb_scene'] == 1.0].values[:, :-3]"
   ]
  },
  {
   "cell_type": "code",
   "execution_count": 9,
   "metadata": {},
   "outputs": [
    {
     "name": "stdout",
     "output_type": "stream",
     "text": [
      "float32\n"
     ]
    }
   ],
   "source": [
    "# Cast to float32\n",
    "normal_train_data_scaled = normal_train_data_scaled.astype(\"float32\")\n",
    "abnormal_train_data_scaled = abnormal_train_data_scaled.astype(\"float32\")\n",
    "normal_val_data_scaled = normal_val_data_scaled.astype(\"float32\")\n",
    "abnormal_val_data_scaled = abnormal_val_data_scaled.astype(\"float32\")\n",
    "val_data_scaled = val_data_scaled.astype(\"float32\")\n",
    "normal_test_data_scaled = normal_test_data_scaled.astype(\"float32\")\n",
    "abnormal_test_data_scaled = abnormal_test_data_scaled.astype(\"float32\")\n",
    "print(normal_train_data_scaled.dtype)"
   ]
  },
  {
   "cell_type": "code",
   "execution_count": 10,
   "metadata": {},
   "outputs": [
    {
     "data": {
      "text/plain": [
       "[<matplotlib.lines.Line2D at 0x192285d73b0>]"
      ]
     },
     "execution_count": 10,
     "metadata": {},
     "output_type": "execute_result"
    },
    {
     "data": {
      "image/png": "[encoded data removed]",
      "text/plain": [
       "<Figure size 640x480 with 1 Axes>"
      ]
     },
     "metadata": {},
     "output_type": "display_data"
    }
   ],
   "source": [
    "#See normal data ecg\n",
    "plt.plot(normal_train_data_scaled[0])\n",
    "plt.plot(normal_train_data_scaled[500])\n",
    "plt.plot(normal_train_data_scaled[600])"
   ]
  },
  {
   "cell_type": "code",
   "execution_count": 11,
   "metadata": {},
   "outputs": [
    {
     "data": {
      "text/plain": [
       "[<matplotlib.lines.Line2D at 0x19229f0cfb0>]"
      ]
     },
     "execution_count": 11,
     "metadata": {},
     "output_type": "execute_result"
    },
    {
     "data": {
      "image/png": "[encoded data removed]",
      "text/plain": [
       "<Figure size 640x480 with 1 Axes>"
      ]
     },
     "metadata": {},
     "output_type": "display_data"
    }
   ],
   "source": [
    "# #see abnormal data\n",
    "plt.plot(abnormal_train_data_scaled[10])\n",
    "plt.plot(abnormal_train_data_scaled[20])\n",
    "plt.plot(abnormal_train_data_scaled[30])"
   ]
  },
  {
   "cell_type": "code",
   "execution_count": 12,
   "metadata": {},
   "outputs": [],
   "source": [
    "#Allow me to use data in different ways\n",
    "class AutoEncoder(Model):\n",
    "    def __init__(self):\n",
    "        super(AutoEncoder, self).__init__()\n",
    "        self.encoder = tf.keras.Sequential([\n",
    "            tf.keras.layers.Dense(64, activation='relu'),\n",
    "            tf.keras.layers.Dense(32, activation='relu'),\n",
    "            tf.keras.layers.Dense(16, activation='relu'),\n",
    "            tf.keras.layers.Dense(8, activation='relu')\n",
    "        ])\n",
    "        self.decoder = tf.keras.Sequential([\n",
    "            tf.keras.layers.Dense(16, activation='relu'),\n",
    "            tf.keras.layers.Dense(32, activation='relu'),\n",
    "            tf.keras.layers.Dense(64, activation='relu'),\n",
    "            tf.keras.layers.Dense(100, activation='sigmoid')\n",
    "        ])\n",
    "    def call(self, x):\n",
    "        encoded = self.encoder(x)\n",
    "        decoded = self.decoder(encoded)\n",
    "        #returns me a decoder object\n",
    "        return decoded"
   ]
  },
  {
   "cell_type": "code",
   "execution_count": 13,
   "metadata": {},
   "outputs": [],
   "source": [
    "#define model\n",
    "model = AutoEncoder()\n",
    "#if in 2 Epochs, loss is not decreasing, stop the training\n",
    "early_stopping = tf.keras.callbacks.EarlyStopping(monitor='val_loss', patience=2, mode='min')\n",
    "model.compile(optimizer='adam', loss='mae')"
   ]
  },
  {
   "cell_type": "code",
   "execution_count": 14,
   "metadata": {},
   "outputs": [
    {
     "name": "stdout",
     "output_type": "stream",
     "text": [
      "Epoch 1/100\n",
      "\u001b[1m23/23\u001b[0m \u001b[32m━━━━━━━━━━━━━━━━━━━━\u001b[0m\u001b[37m\u001b[0m \u001b[1m4s\u001b[0m 25ms/step - loss: 0.9031 - val_loss: 0.8232\n",
      "Epoch 2/100\n",
      "\u001b[1m23/23\u001b[0m \u001b[32m━━━━━━━━━━━━━━━━━━━━\u001b[0m\u001b[37m\u001b[0m \u001b[1m0s\u001b[0m 8ms/step - loss: 0.7478 - val_loss: 0.6186\n",
      "Epoch 3/100\n",
      "\u001b[1m23/23\u001b[0m \u001b[32m━━━━━━━━━━━━━━━━━━━━\u001b[0m\u001b[37m\u001b[0m \u001b[1m0s\u001b[0m 8ms/step - loss: 0.5816 - val_loss: 0.5672\n",
      "Epoch 4/100\n",
      "\u001b[1m23/23\u001b[0m \u001b[32m━━━━━━━━━━━━━━━━━━━━\u001b[0m\u001b[37m\u001b[0m \u001b[1m0s\u001b[0m 10ms/step - loss: 0.5635 - val_loss: 0.5603\n",
      "Epoch 5/100\n",
      "\u001b[1m23/23\u001b[0m \u001b[32m━━━━━━━━━━━━━━━━━━━━\u001b[0m\u001b[37m\u001b[0m \u001b[1m0s\u001b[0m 7ms/step - loss: 0.5444 - val_loss: 0.5588\n",
      "Epoch 6/100\n",
      "\u001b[1m23/23\u001b[0m \u001b[32m━━━━━━━━━━━━━━━━━━━━\u001b[0m\u001b[37m\u001b[0m \u001b[1m0s\u001b[0m 10ms/step - loss: 0.5580 - val_loss: 0.5581\n",
      "Epoch 7/100\n",
      "\u001b[1m23/23\u001b[0m \u001b[32m━━━━━━━━━━━━━━━━━━━━\u001b[0m\u001b[37m\u001b[0m \u001b[1m0s\u001b[0m 8ms/step - loss: 0.5411 - val_loss: 0.5589\n",
      "Epoch 8/100\n",
      "\u001b[1m23/23\u001b[0m \u001b[32m━━━━━━━━━━━━━━━━━━━━\u001b[0m\u001b[37m\u001b[0m \u001b[1m0s\u001b[0m 9ms/step - loss: 0.5410 - val_loss: 0.5570\n",
      "Epoch 9/100\n",
      "\u001b[1m23/23\u001b[0m \u001b[32m━━━━━━━━━━━━━━━━━━━━\u001b[0m\u001b[37m\u001b[0m \u001b[1m0s\u001b[0m 9ms/step - loss: 0.5393 - val_loss: 0.5565\n",
      "Epoch 10/100\n",
      "\u001b[1m23/23\u001b[0m \u001b[32m━━━━━━━━━━━━━━━━━━━━\u001b[0m\u001b[37m\u001b[0m \u001b[1m0s\u001b[0m 8ms/step - loss: 0.5401 - val_loss: 0.5561\n",
      "Epoch 11/100\n",
      "\u001b[1m23/23\u001b[0m \u001b[32m━━━━━━━━━━━━━━━━━━━━\u001b[0m\u001b[37m\u001b[0m \u001b[1m0s\u001b[0m 10ms/step - loss: 0.5457 - val_loss: 0.5558\n",
      "Epoch 12/100\n",
      "\u001b[1m23/23\u001b[0m \u001b[32m━━━━━━━━━━━━━━━━━━━━\u001b[0m\u001b[37m\u001b[0m \u001b[1m0s\u001b[0m 8ms/step - loss: 0.5549 - val_loss: 0.5556\n",
      "Epoch 13/100\n",
      "\u001b[1m23/23\u001b[0m \u001b[32m━━━━━━━━━━━━━━━━━━━━\u001b[0m\u001b[37m\u001b[0m \u001b[1m0s\u001b[0m 8ms/step - loss: 0.5410 - val_loss: 0.5552\n",
      "Epoch 14/100\n",
      "\u001b[1m23/23\u001b[0m \u001b[32m━━━━━━━━━━━━━━━━━━━━\u001b[0m\u001b[37m\u001b[0m \u001b[1m0s\u001b[0m 9ms/step - loss: 0.5458 - val_loss: 0.5557\n",
      "Epoch 15/100\n",
      "\u001b[1m23/23\u001b[0m \u001b[32m━━━━━━━━━━━━━━━━━━━━\u001b[0m\u001b[37m\u001b[0m \u001b[1m0s\u001b[0m 9ms/step - loss: 0.5342 - val_loss: 0.5554\n"
     ]
    },
    {
     "name": "stderr",
     "output_type": "stream",
     "text": [
      "WARNING:absl:You are saving your model as an HDF5 file via `model.save()` or `keras.saving.save_model(model)`. This file format is considered legacy. We recommend using instead the native Keras format, e.g. `model.save('my_model.keras')` or `keras.saving.save_model(model, 'my_model.keras')`. \n"
     ]
    }
   ],
   "source": [
    "# seprate class as well for normal and abnormal data invalidation data\n",
    "history = model.fit(normal_train_data_scaled, normal_train_data_scaled,epochs=100, batch_size=128,\n",
    "                    validation_data=(val_data_scaled, val_data_scaled), \n",
    "                    shuffle=True, callbacks=[early_stopping])\n",
    "\n",
    "# Save the entire model to a file\n",
    "model.save(\"../../models/autoencoder_jacketpocket.h5\")\n",
    "\n",
    "# load später\n",
    "# from tensorflow.keras.models import load_model\n",
    "# model = load_model(\"../../models/autoencoder_handlebar.h5\")"
   ]
  },
  {
   "cell_type": "code",
   "execution_count": 15,
   "metadata": {},
   "outputs": [
    {
     "data": {
      "text/plain": [
       "[<matplotlib.lines.Line2D at 0x1922933bf20>]"
      ]
     },
     "execution_count": 15,
     "metadata": {},
     "output_type": "execute_result"
    },
    {
     "data": {
      "image/png": "[encoded data removed]",
      "text/plain": [
       "<Figure size 640x480 with 1 Axes>"
      ]
     },
     "metadata": {},
     "output_type": "display_data"
    }
   ],
   "source": [
    "#normal data\n",
    "#Encoder is bottleneck of 8 Units, decoder is reconstructed output of 100 units\n",
    "encoder_out = model.encoder(normal_test_data_scaled).numpy()\n",
    "decoder_out = model.decoder(encoder_out).numpy()\n",
    "plt.plot(normal_test_data_scaled[0], 'blue')\n",
    "plt.plot(decoder_out[0], 'red')"
   ]
  },
  {
   "cell_type": "code",
   "execution_count": 16,
   "metadata": {},
   "outputs": [
    {
     "data": {
      "text/plain": [
       "[<matplotlib.lines.Line2D at 0x19228e04ce0>]"
      ]
     },
     "execution_count": 16,
     "metadata": {},
     "output_type": "execute_result"
    },
    {
     "data": {
      "image/png": "[encoded data removed]",
      "text/plain": [
       "<Figure size 640x480 with 1 Axes>"
      ]
     },
     "metadata": {},
     "output_type": "display_data"
    }
   ],
   "source": [
    "# abnormal data\n",
    "encoder_out_abnormal = model.encoder(abnormal_test_data_scaled).numpy()\n",
    "decoder_out_abnormal = model.decoder(encoder_out_abnormal).numpy()\n",
    "plt.plot(abnormal_test_data_scaled[2], 'blue')\n",
    "plt.plot(decoder_out_abnormal[2], 'red')"
   ]
  },
  {
   "cell_type": "code",
   "execution_count": 17,
   "metadata": {},
   "outputs": [
    {
     "name": "stdout",
     "output_type": "stream",
     "text": [
      "\u001b[1m31/31\u001b[0m \u001b[32m━━━━━━━━━━━━━━━━━━━━\u001b[0m\u001b[37m\u001b[0m \u001b[1m1s\u001b[0m 6ms/step\n"
     ]
    },
    {
     "data": {
      "text/plain": [
       "(array([72., 52., 62., 71., 48., 40., 39., 49., 30., 40., 22., 28., 19.,\n",
       "        14., 19., 21., 22., 12., 31., 32., 22.,  8., 10., 15.,  4.,  5.,\n",
       "         5.,  5.,  4.,  4.,  6., 10.,  8.,  9.,  8., 12.,  5.,  5., 10.,\n",
       "        10., 12., 15., 12., 20., 13., 10.,  0.,  4.,  1.,  2.]),\n",
       " array([0.00740914, 0.04345165, 0.07949416, 0.11553666, 0.15157917,\n",
       "        0.18762168, 0.22366418, 0.25970671, 0.29574922, 0.33179173,\n",
       "        0.36783424, 0.40387675, 0.43991923, 0.47596174, 0.51200426,\n",
       "        0.54804677, 0.58408928, 0.62013179, 0.6561743 , 0.69221681,\n",
       "        0.72825933, 0.76430184, 0.80034435, 0.83638686, 0.87242931,\n",
       "        0.90847182, 0.94451433, 0.98055685, 1.0165993 , 1.05264187,\n",
       "        1.08868432, 1.12472689, 1.16076934, 1.1968118 , 1.23285437,\n",
       "        1.26889682, 1.30493939, 1.34098184, 1.37702441, 1.41306686,\n",
       "        1.44910944, 1.48515189, 1.52119446, 1.55723691, 1.59327948,\n",
       "        1.62932193, 1.6653645 , 1.70140696, 1.73744941, 1.77349198,\n",
       "        1.80953455]),\n",
       " <BarContainer object of 50 artists>)"
      ]
     },
     "execution_count": 17,
     "metadata": {},
     "output_type": "execute_result"
    },
    {
     "data": {
      "image/png": "[encoded data removed]",
      "text/plain": [
       "<Figure size 640x480 with 1 Axes>"
      ]
     },
     "metadata": {},
     "output_type": "display_data"
    }
   ],
   "source": [
    "reconstruction = model.predict(normal_test_data_scaled)    #output error between input and output\n",
    "train_loss = tf.keras.losses.mae(reconstruction, normal_test_data_scaled)\n",
    "plt.hist(train_loss, bins=50)"
   ]
  },
  {
   "cell_type": "code",
   "execution_count": 18,
   "metadata": {},
   "outputs": [
    {
     "name": "stdout",
     "output_type": "stream",
     "text": [
      "\u001b[1m1/1\u001b[0m \u001b[32m━━━━━━━━━━━━━━━━━━━━\u001b[0m\u001b[37m\u001b[0m \u001b[1m0s\u001b[0m 62ms/step\n"
     ]
    },
    {
     "data": {
      "text/plain": [
       "(array([1., 2., 1., 0., 0., 0., 1., 0., 0., 1., 0., 1., 0., 1., 0., 0., 0.,\n",
       "        1., 0., 0., 0., 0., 0., 1., 0., 0., 1., 0., 0., 0., 0., 0., 0., 0.,\n",
       "        0., 1., 0., 0., 0., 0., 0., 0., 0., 2., 0., 0., 0., 0., 0., 1.]),\n",
       " array([0.40366822, 0.43101153, 0.45835483, 0.48569816, 0.51304144,\n",
       "        0.54038477, 0.56772804, 0.59507138, 0.62241471, 0.64975798,\n",
       "        0.67710125, 0.70444459, 0.73178792, 0.75913119, 0.78647453,\n",
       "        0.81381786, 0.84116113, 0.86850441, 0.89584774, 0.92319107,\n",
       "        0.95053434, 0.97787768, 1.00522089, 1.03256428, 1.05990767,\n",
       "        1.08725095, 1.11459422, 1.14193749, 1.16928077, 1.19662404,\n",
       "        1.22396743, 1.25131071, 1.2786541 , 1.30599737, 1.33334064,\n",
       "        1.36068392, 1.38802719, 1.41537046, 1.44271398, 1.47005725,\n",
       "        1.49740052, 1.5247438 , 1.55208707, 1.57943034, 1.60677361,\n",
       "        1.63411713, 1.6614604 , 1.68880367, 1.71614695, 1.74349022,\n",
       "        1.77083361]),\n",
       " <BarContainer object of 50 artists>)"
      ]
     },
     "execution_count": 18,
     "metadata": {},
     "output_type": "execute_result"
    },
    {
     "data": {
      "image/png": "[encoded data removed]",
      "text/plain": [
       "<Figure size 640x480 with 1 Axes>"
      ]
     },
     "metadata": {},
     "output_type": "display_data"
    }
   ],
   "source": [
    "reconstruction_abnormal = model.predict(abnormal_test_data_scaled)\n",
    "train_loss_abnormal = tf.keras.losses.mae(reconstruction_abnormal, abnormal_test_data_scaled)\n",
    "plt.hist(train_loss_abnormal, bins=50)"
   ]
  },
  {
   "cell_type": "code",
   "execution_count": 20,
   "metadata": {},
   "outputs": [
    {
     "data": {
      "image/png": "[encoded data removed]",
      "text/plain": [
       "<Figure size 640x480 with 1 Axes>"
      ]
     },
     "metadata": {},
     "output_type": "display_data"
    }
   ],
   "source": [
    "threadshold = 1\n",
    "plt.hist(train_loss, bins=50, label='normal')\n",
    "plt.hist(train_loss_abnormal, bins=50, label='abnormal')\n",
    "plt.ylim(0, 60)\n",
    "plt.legend()\n",
    "plt.axvline(threadshold, color='r', linestyle='dashed', linewidth=2,label = '{:0.3f}'.format(threadshold))\n",
    "plt.show()"
   ]
  },
  {
   "cell_type": "code",
   "execution_count": 21,
   "metadata": {},
   "outputs": [
    {
     "name": "stdout",
     "output_type": "stream",
     "text": [
      "Correct Predictions:  794\n",
      "Accuracy:  0.812691914022518\n"
     ]
    }
   ],
   "source": [
    "preds=tf.math.less(train_loss, threadshold)\n",
    "correct = tf.math.count_nonzero(preds)\n",
    "print(\"Correct Predictions: \", correct.numpy())\n",
    "print(\"Accuracy: \", correct.numpy()/len(preds))"
   ]
  },
  {
   "cell_type": "code",
   "execution_count": 22,
   "metadata": {},
   "outputs": [
    {
     "name": "stdout",
     "output_type": "stream",
     "text": [
      "Correct Predictions:  6\n",
      "Accuracy:  0.4\n"
     ]
    }
   ],
   "source": [
    "preds_abnormal=tf.math.greater(train_loss_abnormal, threadshold)\n",
    "correct = tf.math.count_nonzero(preds_abnormal)\n",
    "print(\"Correct Predictions: \", correct.numpy())\n",
    "print(\"Accuracy: \", correct.numpy()/len(preds_abnormal))"
   ]
  },
  {
   "cell_type": "code",
   "execution_count": null,
   "metadata": {},
   "outputs": [],
   "source": []
  }
 ],
 "metadata": {
  "kernelspec": {
   "display_name": "Python 3",
   "language": "python",
   "name": "python3"
  },
  "language_info": {
   "codemirror_mode": {
    "name": "ipython",
    "version": 3
   },
   "file_extension": ".py",
   "mimetype": "text/x-python",
   "name": "python",
   "nbconvert_exporter": "python",
   "pygments_lexer": "ipython3",
   "version": "3.12.3"
  }
 },
 "nbformat": 4,
 "nbformat_minor": 2
}
