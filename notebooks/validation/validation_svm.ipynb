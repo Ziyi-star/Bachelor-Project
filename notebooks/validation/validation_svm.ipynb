{
 "cells": [
  {
   "cell_type": "markdown",
   "id": "a7457253",
   "metadata": {},
   "source": [
    "# Field Validation"
   ]
  },
  {
   "cell_type": "code",
   "execution_count": 1,
   "id": "ddb65534",
   "metadata": {},
   "outputs": [],
   "source": [
    "\n",
    "import pandas as pd #reading dataset\n",
    "import matplotlib as mpl    #plotting, visualization\n",
    "import matplotlib.pyplot as plt\n",
    "import tensorflow as tf #building model\n",
    "from tensorflow.keras.models import Model\n",
    "import numpy as np  #playing output with model\n",
    "from sklearn.preprocessing import StandardScaler\n",
    "from sklearn.metrics import confusion_matrix, classification_report\n",
    "import joblib  \n",
    "import json\n",
    "\n",
    "import sys\n",
    "sys.path.append('../../')   # Add parent directory to Python path\n",
    "from utils.preprocessing import *\n",
    "from utils.segmentation import *\n",
    "from utils.plots import *\n"
   ]
  },
  {
   "cell_type": "code",
   "execution_count": 2,
   "id": "66913129",
   "metadata": {},
   "outputs": [
    {
     "data": {
      "text/plain": [
       "(2686, 103)"
      ]
     },
     "execution_count": 2,
     "metadata": {},
     "output_type": "execute_result"
    }
   ],
   "source": [
    "#load processed data\n",
    "df = pd.read_csv('../../data/test/Accelerometer_ziyi_with_curb_segmented_abnormal_gereinigt.csv')\n",
    "df.shape"
   ]
  },
  {
   "cell_type": "code",
   "execution_count": 3,
   "id": "f31cc29c",
   "metadata": {},
   "outputs": [],
   "source": [
    "# prepare data for model\n",
    "# standardize data\n",
    "scaler = StandardScaler()\n",
    "test_data_scaled = scaler.fit_transform(df.iloc[:, 3:])\n",
    "# Convert the scaled data back to DataFrames for further processing\n",
    "test_data_scaled = pd.DataFrame(test_data_scaled, columns=df.columns[3:])\n",
    "# Add the 'curb_scene', 'start_time', and 'end_time' columns back to the scaled DataFrames\n",
    "test_data_scaled['curb_scene'] = df['curb_scene']\n",
    "test_data_scaled['start_time'] = df['start_time']\n",
    "test_data_scaled['end_time'] = df['end_time']\n",
    "# Extract features (remove curb_scene, start_time, and end_time columns)\n",
    "x_test = test_data_scaled.iloc[:, :-3]\n",
    "y_true = test_data_scaled['curb_scene'].values\n",
    "# Filter and slice the data\n",
    "test_data_scaled_normal = test_data_scaled[test_data_scaled['curb_scene'] == 0].iloc[:, :-3]\n",
    "test_data_scaled_abnormal = test_data_scaled[test_data_scaled['curb_scene'] == 1].iloc[:, :-3]\n",
    "# Cast to float32\n",
    "test_data_scaled_normal = test_data_scaled_normal.astype(np.float32)\n",
    "test_data_scaled_abnormal = test_data_scaled_abnormal.astype(np.float32)\n",
    "\n"
   ]
  },
  {
   "cell_type": "code",
   "execution_count": 4,
   "id": "591a3f6a",
   "metadata": {},
   "outputs": [
    {
     "data": {
      "image/png": "[encoded data removed]",
      "text/plain": [
       "<Figure size 640x480 with 2 Axes>"
      ]
     },
     "metadata": {},
     "output_type": "display_data"
    },
    {
     "name": "stdout",
     "output_type": "stream",
     "text": [
      "              precision    recall  f1-score   support\n",
      "\n",
      "  Normal (0)      0.981     0.906     0.942      2427\n",
      "Abnormal (1)      0.486     0.834     0.615       259\n",
      "\n",
      "    accuracy                          0.899      2686\n",
      "   macro avg      0.734     0.870     0.778      2686\n",
      "weighted avg      0.933     0.899     0.910      2686\n",
      "\n"
     ]
    }
   ],
   "source": [
    "# Make predictions using one-class SVM\n",
    "one_class_svm = joblib.load('../../models/ocsvm_best.joblib')\n",
    "y_pred = one_class_svm.predict(x_test)\n",
    "# Convert predictions to binary (1 for anomaly, 0 for normal)\n",
    "y_pred = np.where(y_pred == -1, 1, 0)\n",
    "# Evaluate results\n",
    "metrics = plot_confusion_matrix(y_true, y_pred)\n",
    "\n"
   ]
  },
  {
   "cell_type": "code",
   "execution_count": null,
   "id": "116103d7",
   "metadata": {},
   "outputs": [],
   "source": []
  }
 ],
 "metadata": {
  "kernelspec": {
   "display_name": "Python 3",
   "language": "python",
   "name": "python3"
  },
  "language_info": {
   "codemirror_mode": {
    "name": "ipython",
    "version": 3
   },
   "file_extension": ".py",
   "mimetype": "text/x-python",
   "name": "python",
   "nbconvert_exporter": "python",
   "pygments_lexer": "ipython3",
   "version": "3.12.3"
  }
 },
 "nbformat": 4,
 "nbformat_minor": 5
}
