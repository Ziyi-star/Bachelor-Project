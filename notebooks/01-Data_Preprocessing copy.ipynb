{
 "cells": [
  {
   "cell_type": "code",
   "execution_count": 10,
   "metadata": {},
   "outputs": [],
   "source": [
    "import pandas as pd  \n",
    "import matplotlib.pyplot as plt\n",
    "import numpy as np\n",
    "import matplotlib.dates as mdates\n",
    "\n",
    "import sys\n",
    "sys.path.append('..')  # Add parent directory to Python path\n",
    "from utils.Preprocessing import *"
   ]
  },
  {
   "cell_type": "code",
   "execution_count": null,
   "metadata": {},
   "outputs": [],
   "source": []
  },
  {
   "cell_type": "code",
   "execution_count": null,
   "metadata": {},
   "outputs": [
    {
     "name": "stdout",
     "output_type": "stream",
     "text": [
      "No missing values longer than 100\n"
     ]
    }
   ],
   "source": [
    "# # Load the CSV Data\n",
    "df_one= pd.read_csv('../data/handlebar/Accelerometer_data_merged_ESP1.csv')  # Load the CSV data using pandas\n",
    "df_two= pd.read_csv('../data/handlebar/Accelerometer_data_merged_ESP2.csv')  # Load the CSV data using pandas\n",
    "#handle missing value for each file, and delete if too long\n",
    "missing_info_df_one = handle_missing_values_length_index(df_one)\n",
    "\n",
    "\n",
    "# missing_info_df_two = handle_missing_values_length(df_two)\n",
    "\n",
    "\n"
   ]
  },
  {
   "cell_type": "code",
   "execution_count": null,
   "metadata": {},
   "outputs": [],
   "source": [
    "# add new value\n",
    "#combine"
   ]
  },
  {
   "cell_type": "code",
   "execution_count": null,
   "metadata": {},
   "outputs": [],
   "source": [
    "\n",
    "# # Convert the NTP column to a datetime object\n",
    "# df_one['NTP'] = pd.to_datetime(df_one['NTP'])\n",
    "# df_two['NTP'] = pd.to_datetime(df_two['NTP'])"
   ]
  },
  {
   "cell_type": "code",
   "execution_count": null,
   "metadata": {},
   "outputs": [],
   "source": []
  },
  {
   "cell_type": "code",
   "execution_count": 3,
   "metadata": {},
   "outputs": [],
   "source": [
    "# Use the function\n",
    "# output_path = '../data/handlebar/handlebar_processed.csv'\n",
    "# df_combined = combine_activities(df_one, df_two,output_path)\n",
    "# df_combined.head()"
   ]
  },
  {
   "cell_type": "markdown",
   "metadata": {},
   "source": []
  },
  {
   "cell_type": "code",
   "execution_count": 4,
   "metadata": {},
   "outputs": [
    {
     "name": "stdout",
     "output_type": "stream",
     "text": [
      "167501 1022\n",
      "Start Index: 167501 Count: 1022\n",
      "No missing value longer than half a second\n"
     ]
    }
   ],
   "source": [
    "df_combined = pd.read_csv('../data/handlebar/handlebar_processed.csv')\n",
    "missing_data = handle_missing_values_length(df_combined)"
   ]
  },
  {
   "cell_type": "code",
   "execution_count": null,
   "metadata": {},
   "outputs": [],
   "source": []
  }
 ],
 "metadata": {
  "kernelspec": {
   "display_name": "Python 3",
   "language": "python",
   "name": "python3"
  },
  "language_info": {
   "codemirror_mode": {
    "name": "ipython",
    "version": 3
   },
   "file_extension": ".py",
   "mimetype": "text/x-python",
   "name": "python",
   "nbconvert_exporter": "python",
   "pygments_lexer": "ipython3",
   "version": "3.12.3"
  }
 },
 "nbformat": 4,
 "nbformat_minor": 2
}
